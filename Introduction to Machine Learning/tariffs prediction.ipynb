{
 "cells": [
  {
   "cell_type": "markdown",
   "metadata": {},
   "source": [
    "## 1. Изучение данных"
   ]
  },
  {
   "cell_type": "markdown",
   "metadata": {},
   "source": [
    "Импорт требуемых библиотек."
   ]
  },
  {
   "cell_type": "code",
   "execution_count": 1,
   "metadata": {},
   "outputs": [],
   "source": [
    "#processing\n",
    "import pandas as pd\n",
    "import numpy as np\n",
    "\n",
    "#prediction\n",
    "from sklearn.tree import DecisionTreeClassifier\n",
    "from sklearn.tree import DecisionTreeRegressor\n",
    "from sklearn.ensemble import RandomForestClassifier\n",
    "from sklearn.ensemble import RandomForestRegressor\n",
    "from sklearn.linear_model import LogisticRegression\n",
    "from sklearn.linear_model import LinearRegression\n",
    "\n",
    "from sklearn.metrics import mean_squared_error, mean_absolute_error\n",
    "from sklearn.model_selection import train_test_split\n",
    "from sklearn.metrics import accuracy_score\n",
    "import joblib\n",
    "\n",
    "#warning\n",
    "import warnings\n",
    "warnings.simplefilter('ignore')"
   ]
  },
  {
   "cell_type": "markdown",
   "metadata": {},
   "source": [
    "Импорт и анализ данных.\n",
    "\n",
    "Создаем dataframe 'tariffs', импортируем в него требуемый датасет и анализируем исходные данные."
   ]
  },
  {
   "cell_type": "code",
   "execution_count": 2,
   "metadata": {},
   "outputs": [],
   "source": [
    "tariffs = pd.read_csv('/datasets/users_behavior.csv')"
   ]
  },
  {
   "cell_type": "code",
   "execution_count": 3,
   "metadata": {},
   "outputs": [
    {
     "name": "stdout",
     "output_type": "stream",
     "text": [
      "<class 'pandas.core.frame.DataFrame'>\n",
      "RangeIndex: 3214 entries, 0 to 3213\n",
      "Data columns (total 5 columns):\n",
      "calls       3214 non-null float64\n",
      "minutes     3214 non-null float64\n",
      "messages    3214 non-null float64\n",
      "mb_used     3214 non-null float64\n",
      "is_ultra    3214 non-null int64\n",
      "dtypes: float64(4), int64(1)\n",
      "memory usage: 125.7 KB\n"
     ]
    },
    {
     "data": {
      "text/plain": [
       "None"
      ]
     },
     "metadata": {},
     "output_type": "display_data"
    },
    {
     "data": {
      "text/plain": [
       "(3214, 5)"
      ]
     },
     "metadata": {},
     "output_type": "display_data"
    },
    {
     "data": {
      "text/html": [
       "<div>\n",
       "<style scoped>\n",
       "    .dataframe tbody tr th:only-of-type {\n",
       "        vertical-align: middle;\n",
       "    }\n",
       "\n",
       "    .dataframe tbody tr th {\n",
       "        vertical-align: top;\n",
       "    }\n",
       "\n",
       "    .dataframe thead th {\n",
       "        text-align: right;\n",
       "    }\n",
       "</style>\n",
       "<table border=\"1\" class=\"dataframe\">\n",
       "  <thead>\n",
       "    <tr style=\"text-align: right;\">\n",
       "      <th></th>\n",
       "      <th>calls</th>\n",
       "      <th>minutes</th>\n",
       "      <th>messages</th>\n",
       "      <th>mb_used</th>\n",
       "      <th>is_ultra</th>\n",
       "    </tr>\n",
       "  </thead>\n",
       "  <tbody>\n",
       "    <tr>\n",
       "      <td>0</td>\n",
       "      <td>40.0</td>\n",
       "      <td>311.90</td>\n",
       "      <td>83.0</td>\n",
       "      <td>19915.42</td>\n",
       "      <td>0</td>\n",
       "    </tr>\n",
       "    <tr>\n",
       "      <td>1</td>\n",
       "      <td>85.0</td>\n",
       "      <td>516.75</td>\n",
       "      <td>56.0</td>\n",
       "      <td>22696.96</td>\n",
       "      <td>0</td>\n",
       "    </tr>\n",
       "    <tr>\n",
       "      <td>2</td>\n",
       "      <td>77.0</td>\n",
       "      <td>467.66</td>\n",
       "      <td>86.0</td>\n",
       "      <td>21060.45</td>\n",
       "      <td>0</td>\n",
       "    </tr>\n",
       "    <tr>\n",
       "      <td>3</td>\n",
       "      <td>106.0</td>\n",
       "      <td>745.53</td>\n",
       "      <td>81.0</td>\n",
       "      <td>8437.39</td>\n",
       "      <td>1</td>\n",
       "    </tr>\n",
       "    <tr>\n",
       "      <td>4</td>\n",
       "      <td>66.0</td>\n",
       "      <td>418.74</td>\n",
       "      <td>1.0</td>\n",
       "      <td>14502.75</td>\n",
       "      <td>0</td>\n",
       "    </tr>\n",
       "  </tbody>\n",
       "</table>\n",
       "</div>"
      ],
      "text/plain": [
       "   calls  minutes  messages   mb_used  is_ultra\n",
       "0   40.0   311.90      83.0  19915.42         0\n",
       "1   85.0   516.75      56.0  22696.96         0\n",
       "2   77.0   467.66      86.0  21060.45         0\n",
       "3  106.0   745.53      81.0   8437.39         1\n",
       "4   66.0   418.74       1.0  14502.75         0"
      ]
     },
     "metadata": {},
     "output_type": "display_data"
    }
   ],
   "source": [
    "display(tariffs.info())\n",
    "display(tariffs.shape)\n",
    "display(tariffs.head())"
   ]
  },
  {
   "cell_type": "markdown",
   "metadata": {},
   "source": [
    "Несмотря на утверждение, что предобработка данных не требуется, я предлагаю перевести количество звонков и смс в значение 'int', не может быть \"неполных\" звонков."
   ]
  },
  {
   "cell_type": "code",
   "execution_count": 4,
   "metadata": {},
   "outputs": [
    {
     "name": "stdout",
     "output_type": "stream",
     "text": [
      "<class 'pandas.core.frame.DataFrame'>\n",
      "RangeIndex: 3214 entries, 0 to 3213\n",
      "Data columns (total 5 columns):\n",
      "calls       3214 non-null int64\n",
      "minutes     3214 non-null float64\n",
      "messages    3214 non-null int64\n",
      "mb_used     3214 non-null float64\n",
      "is_ultra    3214 non-null int64\n",
      "dtypes: float64(2), int64(3)\n",
      "memory usage: 125.7 KB\n"
     ]
    }
   ],
   "source": [
    "tariffs['calls'] = tariffs['calls'].astype('int')\n",
    "tariffs['messages'] = tariffs['messages'].astype('int')\n",
    "\n",
    "tariffs.info()"
   ]
  },
  {
   "cell_type": "markdown",
   "metadata": {},
   "source": [
    "### Вывод\n",
    "Исходный датасет состоит из 3214 строк и 5 столбцов, не содержит пропущенных значений.  \n",
    "В процессе предобработки данные приведены к более удобноми типу, переходим к дальнейшему исследованию.\n",
    "\n",
    "---"
   ]
  },
  {
   "cell_type": "markdown",
   "metadata": {},
   "source": [
    "## 2. Разбитие данных на выборки"
   ]
  },
  {
   "cell_type": "markdown",
   "metadata": {},
   "source": [
    "При отсутствии наличия спятанной тестововой выборки, используя метод train_test_split, разобъем исходный датасет на 3 выборки, train, valid и test, в соотношении 60/20/20 % от общих данных, соответственно."
   ]
  },
  {
   "cell_type": "code",
   "execution_count": 5,
   "metadata": {},
   "outputs": [],
   "source": [
    "df_train, df_temp = train_test_split(tariffs, test_size=0.4, random_state=555)\n",
    "\n",
    "df_valid, df_test = train_test_split(df_temp, test_size=0.5, random_state=555)"
   ]
  },
  {
   "cell_type": "code",
   "execution_count": 6,
   "metadata": {},
   "outputs": [
    {
     "data": {
      "text/plain": [
       "(1928, 643, 643)"
      ]
     },
     "execution_count": 6,
     "metadata": {},
     "output_type": "execute_result"
    }
   ],
   "source": [
    "df_train.shape[0], df_valid.shape[0], df_test.shape[0]"
   ]
  },
  {
   "cell_type": "markdown",
   "metadata": {},
   "source": [
    "Проверка выборок завершилась успешно.  \n",
    "\n",
    "---\n",
    "\n",
    "Выделяем признаки (features) и целевой признак(target) в каждой выборке.  \n",
    "Целевым признаком становятся значения столбца 'is_ultra', признаками - значения всех остальных столбцов."
   ]
  },
  {
   "cell_type": "code",
   "execution_count": 7,
   "metadata": {},
   "outputs": [],
   "source": [
    "features_train = df_train.drop(['is_ultra'], axis=1)\n",
    "target_train = df_train['is_ultra']\n",
    "\n",
    "features_valid = df_valid.drop(['is_ultra'], axis=1)\n",
    "target_valid = df_valid['is_ultra']\n",
    "\n",
    "features_test = df_test.drop(['is_ultra'], axis=1)\n",
    "target_test = df_test['is_ultra']"
   ]
  },
  {
   "cell_type": "markdown",
   "metadata": {},
   "source": [
    "В нашем кейсе необходимо решить задачу бинарной классификации - определить какой из двух тарифов {'smart' : 0, 'ultra' : 1} необходимо предложить клиентам на основании их текущего потребления услуг.  \n",
    "Определив требуемый вид моделей переходим к исследованиям."
   ]
  },
  {
   "cell_type": "markdown",
   "metadata": {},
   "source": [
    "### Вывод\n",
    "\n",
    "На втором этапе произведена разбивка датасета на выборки, определен требуемый тип моделей - классификация.\n",
    "\n",
    "---"
   ]
  },
  {
   "cell_type": "markdown",
   "metadata": {},
   "source": [
    "## 3. Исследование моделей"
   ]
  },
  {
   "cell_type": "markdown",
   "metadata": {},
   "source": [
    "#### 1. Дерево решений (Decision Tree Classifier)\n",
    "\n",
    "Создадим функцию для проверки различного значения глубины деревьев в диапазоне от 1 до 10. Выберем наилучшее значение accuracy из получившегося списка. Значения accuracy проверяем на валидационной выборке."
   ]
  },
  {
   "cell_type": "code",
   "execution_count": 8,
   "metadata": {},
   "outputs": [
    {
     "name": "stdout",
     "output_type": "stream",
     "text": [
      "max_depth = 1, accuracy = 0.7511664074650077\n",
      "max_depth = 2, accuracy = 0.7651632970451011\n",
      "max_depth = 3, accuracy = 0.776049766718507\n",
      "max_depth = 4, accuracy = 0.7651632970451011\n",
      "max_depth = 5, accuracy = 0.7216174183514774\n",
      "max_depth = 6, accuracy = 0.776049766718507\n",
      "max_depth = 7, accuracy = 0.776049766718507\n",
      "max_depth = 8, accuracy = 0.776049766718507\n",
      "max_depth = 9, accuracy = 0.7744945567651633\n",
      "max_depth = 10, accuracy = 0.7729393468118196\n"
     ]
    }
   ],
   "source": [
    "for depth in range(1,11):    \n",
    "    \n",
    "    model_dtc = DecisionTreeClassifier(random_state=555, max_depth=depth)\n",
    "    model_dtc.fit(features_train, target_train)\n",
    "\n",
    "    prediction_valid = model_dtc.predict(features_valid)\n",
    "    \n",
    "    print('max_depth =', depth, end=', ')\n",
    "    print('accuracy =', accuracy_score(target_valid, prediction_valid))"
   ]
  },
  {
   "cell_type": "markdown",
   "metadata": {},
   "source": [
    "Наилучшее значение показали модели с \"глубиной деревьев\" = 3 и [6:8] (accuracy ~0.776). Для ускорения вычислений принимаем параметр max_depth = 3 за наилучший.\n",
    "\n",
    "---"
   ]
  },
  {
   "cell_type": "markdown",
   "metadata": {},
   "source": [
    "#### 2. Случайный лес (Random Forest Classifier)\n",
    "\n",
    "Напишем функцию для проверки значений accuracy при увеличении числа деревьев  1 до 10). "
   ]
  },
  {
   "cell_type": "code",
   "execution_count": 9,
   "metadata": {
    "scrolled": true
   },
   "outputs": [
    {
     "name": "stdout",
     "output_type": "stream",
     "text": [
      "n_estimators = 1, accuracy = 0.713841368584759\n",
      "n_estimators = 6, accuracy = 0.76049766718507\n",
      "n_estimators = 11, accuracy = 0.7636080870917574\n",
      "n_estimators = 16, accuracy = 0.7791601866251944\n",
      "n_estimators = 21, accuracy = 0.7667185069984448\n",
      "n_estimators = 26, accuracy = 0.7838258164852255\n",
      "n_estimators = 31, accuracy = 0.776049766718507\n",
      "n_estimators = 36, accuracy = 0.7838258164852255\n",
      "n_estimators = 41, accuracy = 0.776049766718507\n",
      "n_estimators = 46, accuracy = 0.7791601866251944\n",
      "n_estimators = 51, accuracy = 0.7713841368584758\n",
      "n_estimators = 56, accuracy = 0.7744945567651633\n",
      "n_estimators = 61, accuracy = 0.7682737169517885\n",
      "n_estimators = 66, accuracy = 0.776049766718507\n",
      "n_estimators = 71, accuracy = 0.776049766718507\n",
      "n_estimators = 76, accuracy = 0.7776049766718507\n",
      "n_estimators = 81, accuracy = 0.776049766718507\n",
      "n_estimators = 86, accuracy = 0.7807153965785381\n",
      "n_estimators = 91, accuracy = 0.776049766718507\n",
      "n_estimators = 96, accuracy = 0.7776049766718507\n"
     ]
    }
   ],
   "source": [
    "for es in range(1, 101, 5):\n",
    "    \n",
    "        model_rfs = RandomForestClassifier(random_state=555, n_estimators=es)\n",
    "    \n",
    "        model_rfs.fit(features_train, target_train)\n",
    "\n",
    "        prediction_valid = model_rfs.predict(features_valid)\n",
    "    \n",
    "        print('n_estimators =', es, end=', ')\n",
    "        print('accuracy =', accuracy_score(target_valid, prediction_valid))"
   ]
  },
  {
   "cell_type": "markdown",
   "metadata": {},
   "source": [
    "Наилучший показатель accuracy достигается при количестве деревьев = 30 (accuracy ~0.784). Посмотрим, изменятся ли значения при увеличении \"глубины деревьев\".\n",
    "\n",
    "* На данном шаге я тестировал различные варианты, самые качественные получились при значениях 26 и 30. Решено было оставить вариант 30, который показывал лучшие значения при тестировании значений глубины деревьев."
   ]
  },
  {
   "cell_type": "code",
   "execution_count": 10,
   "metadata": {},
   "outputs": [
    {
     "name": "stdout",
     "output_type": "stream",
     "text": [
      "max_depth = 1, accuracy = 0.7216174183514774\n",
      "max_depth = 2, accuracy = 0.7620528771384136\n",
      "max_depth = 3, accuracy = 0.776049766718507\n",
      "max_depth = 4, accuracy = 0.7822706065318819\n",
      "max_depth = 5, accuracy = 0.7900466562986003\n",
      "max_depth = 6, accuracy = 0.7931570762052877\n",
      "max_depth = 7, accuracy = 0.7916018662519441\n",
      "max_depth = 8, accuracy = 0.7916018662519441\n",
      "max_depth = 9, accuracy = 0.7838258164852255\n",
      "max_depth = 10, accuracy = 0.7869362363919129\n"
     ]
    }
   ],
   "source": [
    "for depth in range(1,11):\n",
    "    \n",
    "    model_rfs = RandomForestClassifier(random_state=555, n_estimators=30, max_depth=depth)\n",
    "    \n",
    "    model_rfs.fit(features_train, target_train)\n",
    "\n",
    "    prediction_valid = model_rfs.predict(features_valid)\n",
    "    \n",
    "    print('max_depth =', depth, end=', ')\n",
    "    print('accuracy =', accuracy_score(target_valid, prediction_valid))\n",
    "   "
   ]
  },
  {
   "cell_type": "markdown",
   "metadata": {},
   "source": [
    "В ходе представленного анализа выявлены лучшие гиперпараметры для модели случайного леса: n_estimators=30, max_depth=8 (accuracy ~0.792). Принимаем их, как основные в финальной модели.\n",
    "\n",
    "---"
   ]
  },
  {
   "cell_type": "markdown",
   "metadata": {},
   "source": [
    "#### На момент текущего проекта не знал про возможноcти пайплайнов и пойсков параметров кросс-валидацией.\n",
    "\n",
    "1. Про вложенный список думал в процессе работы над проектом, но не хотел выдавать длинные списки. Думал, как решить задачу, но ничего в голову не приходило.   \n",
    "2. В итоге - решил создать dataframe под именем temp, в который будут добавляться полученные значения и в конце выводиться строка с наилучшим показанием accuracy score на валидационной выборке.  \n",
    "3. В качестве еще одного доп. параметра вложил в функцию перебор значений min_samples_split в диапазоне 2-4, для отработки навыка и для улучшения модели.\n",
    "\n",
    "Посмотрим как будет работать."
   ]
  },
  {
   "cell_type": "code",
   "execution_count": 11,
   "metadata": {},
   "outputs": [
    {
     "name": "stdout",
     "output_type": "stream",
     "text": [
      "CPU times: user 47.5 s, sys: 300 ms, total: 47.8 s\n",
      "Wall time: 47.8 s\n"
     ]
    },
    {
     "data": {
      "text/html": [
       "<div>\n",
       "<style scoped>\n",
       "    .dataframe tbody tr th:only-of-type {\n",
       "        vertical-align: middle;\n",
       "    }\n",
       "\n",
       "    .dataframe tbody tr th {\n",
       "        vertical-align: top;\n",
       "    }\n",
       "\n",
       "    .dataframe thead th {\n",
       "        text-align: right;\n",
       "    }\n",
       "</style>\n",
       "<table border=\"1\" class=\"dataframe\">\n",
       "  <thead>\n",
       "    <tr style=\"text-align: right;\">\n",
       "      <th></th>\n",
       "      <th>n_est</th>\n",
       "      <th>max_d</th>\n",
       "      <th>acc_tr</th>\n",
       "      <th>min_s_s</th>\n",
       "      <th>acc_val</th>\n",
       "    </tr>\n",
       "  </thead>\n",
       "  <tbody>\n",
       "    <tr>\n",
       "      <td>152</td>\n",
       "      <td>51.0</td>\n",
       "      <td>6.0</td>\n",
       "      <td>0.841805</td>\n",
       "      <td>4.0</td>\n",
       "      <td>0.797823</td>\n",
       "    </tr>\n",
       "  </tbody>\n",
       "</table>\n",
       "</div>"
      ],
      "text/plain": [
       "     n_est  max_d    acc_tr  min_s_s   acc_val\n",
       "152   51.0    6.0  0.841805      4.0  0.797823"
      ]
     },
     "execution_count": 11,
     "metadata": {},
     "output_type": "execute_result"
    }
   ],
   "source": [
    "%%time\n",
    "\n",
    "d = {'n_est':[], \n",
    "     'max_d':[], \n",
    "     'acc_tr':[], \n",
    "     'min_s_s':[],\n",
    "     'acc_val':[]\n",
    "    }\n",
    "\n",
    "temp = pd.DataFrame(d)\n",
    "\n",
    "a = -1\n",
    "\n",
    "for es in range(1, 101, 10):\n",
    "    for depth in range(1,10):\n",
    "        for samp_split in range(2, 5):\n",
    "        \n",
    "            a+=1\n",
    "        \n",
    "            model_rfs = (\n",
    "                RandomForestClassifier\n",
    "                (random_state=555, n_estimators=es, max_depth=depth, min_samples_split=samp_split)\n",
    "            )\n",
    "    \n",
    "            model_rfs.fit(features_train, target_train)\n",
    "\n",
    "            prediction_train = model_rfs.predict(features_train)\n",
    "            prediction_valid = model_rfs.predict(features_valid)\n",
    "    \n",
    "            #print('n_estimators =', es, end=', ')\n",
    "            #print('max_depth =', depth, end=', ')\n",
    "            #print('accuracy train =', accuracy_score(target_train, prediction_train), end=', ')\n",
    "            #print('accuracy valid =', accuracy_score(target_valid, prediction_valid))\n",
    "            temp.loc[a, 'n_est'] = es\n",
    "            temp.loc[a, 'max_d'] = depth\n",
    "            temp.loc[a, 'min_s_s'] = samp_split\n",
    "            temp.loc[a, 'acc_tr'] = accuracy_score(target_train, prediction_train)\n",
    "            temp.loc[a, 'acc_val'] = accuracy_score(target_valid, prediction_valid)\n",
    "        \n",
    "temp.sort_values(by='acc_val', ascending=False).head(1)"
   ]
  },
  {
   "cell_type": "markdown",
   "metadata": {},
   "source": [
    "42 секунды ожидания показали, что удалось достичь значения accuracy на валидационной выборке ~0.798, против ~0.792 с предыдущими параметрами.\n",
    "\n",
    "Как итог - в обновленную модель внесем гиперпараметры, представленные выше.\n",
    "\n",
    "---"
   ]
  },
  {
   "cell_type": "markdown",
   "metadata": {},
   "source": [
    "#### 3. Логистическая регрессия (Logistic Regression)\n",
    "\n",
    "Рассчитаем значение accuracy модели логистической регрессии на валидационной выборке, указав параметр алгоритма регрессии (solver) = 'lbfgs'."
   ]
  },
  {
   "cell_type": "code",
   "execution_count": 12,
   "metadata": {},
   "outputs": [
    {
     "name": "stdout",
     "output_type": "stream",
     "text": [
      "accuracy = 0.7309486780715396\n"
     ]
    }
   ],
   "source": [
    "model_lr = LogisticRegression(random_state=555, solver='lbfgs')\n",
    "\n",
    "model_lr.fit(features_train, target_train)\n",
    "\n",
    "#prediction_valid = model_lr.predict(features_valid)\n",
    "\n",
    "print('accuracy =', model_lr.score(features_valid, target_valid))"
   ]
  },
  {
   "cell_type": "markdown",
   "metadata": {},
   "source": [
    "Данная модель демонстрирует наименьшие значение accuracy из всех представленных моделей (~0.73).\n",
    "\n",
    "---"
   ]
  },
  {
   "cell_type": "markdown",
   "metadata": {},
   "source": [
    "#### 4. Выбор наилучшей модели\n",
    "\n",
    "Полученные в предыдущих шагах данные позволяют создать модель с наибольшим показателем \"правильности\" (accuracy).  \n",
    "Ниже привожу все параметры выбранной модели.\n",
    "\n",
    "1. Тип модели - Random Forest Classifier\n",
    "2. Значение n-estimates = 30  \n",
    "3. Значение max_depth = 6  \n",
    "\n",
    "Создаем рабочую модель и обучаем ее на всем исходном датасете.  \n",
    "Для этого выделяем значения параметров и целевого параметра непосредственно из фрейма tariffs."
   ]
  },
  {
   "cell_type": "code",
   "execution_count": 13,
   "metadata": {},
   "outputs": [],
   "source": [
    "features_final = tariffs.drop(['is_ultra'], axis=1)\n",
    "target_final = tariffs['is_ultra']"
   ]
  },
  {
   "cell_type": "code",
   "execution_count": 14,
   "metadata": {
    "scrolled": true
   },
   "outputs": [
    {
     "data": {
      "text/plain": [
       "RandomForestClassifier(bootstrap=True, class_weight=None, criterion='gini',\n",
       "                       max_depth=8, max_features='auto', max_leaf_nodes=None,\n",
       "                       min_impurity_decrease=0.0, min_impurity_split=None,\n",
       "                       min_samples_leaf=1, min_samples_split=2,\n",
       "                       min_weight_fraction_leaf=0.0, n_estimators=30,\n",
       "                       n_jobs=None, oob_score=False, random_state=555,\n",
       "                       verbose=0, warm_start=False)"
      ]
     },
     "execution_count": 14,
     "metadata": {},
     "output_type": "execute_result"
    }
   ],
   "source": [
    "model_final = RandomForestClassifier(random_state=555, n_estimators=30, max_depth=8)\n",
    "model_final.fit(features_train, target_train)"
   ]
  },
  {
   "cell_type": "code",
   "execution_count": 15,
   "metadata": {},
   "outputs": [
    {
     "data": {
      "text/plain": [
       "RandomForestClassifier(bootstrap=True, class_weight=None, criterion='gini',\n",
       "                       max_depth=6, max_features='auto', max_leaf_nodes=None,\n",
       "                       min_impurity_decrease=0.0, min_impurity_split=None,\n",
       "                       min_samples_leaf=1, min_samples_split=4,\n",
       "                       min_weight_fraction_leaf=0.0, n_estimators=51,\n",
       "                       n_jobs=None, oob_score=False, random_state=555,\n",
       "                       verbose=0, warm_start=False)"
      ]
     },
     "execution_count": 15,
     "metadata": {},
     "output_type": "execute_result"
    }
   ],
   "source": [
    "model_final_upd = RandomForestClassifier(random_state=555, n_estimators=51, max_depth=6, min_samples_split=4)\n",
    "model_final_upd.fit(features_train, target_train)"
   ]
  },
  {
   "cell_type": "markdown",
   "metadata": {},
   "source": [
    "### Вывод\n",
    "\n",
    "На данном шаге были протестированы три возможные модели классификации.  \n",
    "Сравнение лучших значений accuracy и гиперпараметров, полученных на валидационной выборке, представленно ниже:\n",
    "\n",
    "1. Decision Tree Classifier : accuracy ~0.776, max_depth = 3  \n",
    "2. Random Forest Classifier : accuracy ~0.798, n_estimators = 51, max_depth = 6, min_sample_split=4  \n",
    "3. Logistic Regression : accuracy ~0.73\n",
    "\n",
    "На основании полученных результатов выявлена и построена самая удачная модель: Random Forest Classifier, обученная на полном датасете tariffs.\n",
    "\n",
    "---"
   ]
  },
  {
   "cell_type": "markdown",
   "metadata": {},
   "source": [
    "## 4. Проверка модели на тестовой выборке"
   ]
  },
  {
   "cell_type": "markdown",
   "metadata": {},
   "source": [
    "Проверяем модель, обученную на полном датасете, на тестовой выборке."
   ]
  },
  {
   "cell_type": "code",
   "execution_count": 16,
   "metadata": {},
   "outputs": [
    {
     "data": {
      "text/plain": [
       "0.8304821150855366"
      ]
     },
     "execution_count": 16,
     "metadata": {},
     "output_type": "execute_result"
    }
   ],
   "source": [
    "model_final.score(features_test, target_test)"
   ]
  },
  {
   "cell_type": "code",
   "execution_count": 17,
   "metadata": {},
   "outputs": [
    {
     "data": {
      "text/plain": [
       "0.8258164852255054"
      ]
     },
     "execution_count": 17,
     "metadata": {},
     "output_type": "execute_result"
    }
   ],
   "source": [
    "model_final_upd.score(features_test, target_test)"
   ]
  },
  {
   "cell_type": "markdown",
   "metadata": {},
   "source": [
    "Достаточно высокий показатель accuracy (~0.87).  -- ~0.83 на обновленной модели \n",
    "Однако проверим, какой результат покажет модель, обученная только на выборке train. "
   ]
  },
  {
   "cell_type": "markdown",
   "metadata": {},
   "source": [
    "Проверим модель на точность и полноту на тестовой выборке.  \n",
    "Импортируем требуемые библиотеки."
   ]
  },
  {
   "cell_type": "code",
   "execution_count": 18,
   "metadata": {},
   "outputs": [],
   "source": [
    "from sklearn.metrics import precision_score\n",
    "from sklearn.metrics import recall_score"
   ]
  },
  {
   "cell_type": "markdown",
   "metadata": {},
   "source": [
    "Выводим предсказанные значения тарифов на тестовой выборке."
   ]
  },
  {
   "cell_type": "code",
   "execution_count": 19,
   "metadata": {},
   "outputs": [],
   "source": [
    "prediction_test = model_final_upd.predict(features_test)"
   ]
  },
  {
   "cell_type": "markdown",
   "metadata": {},
   "source": [
    "Проверяем точность модели"
   ]
  },
  {
   "cell_type": "code",
   "execution_count": 20,
   "metadata": {},
   "outputs": [
    {
     "name": "stdout",
     "output_type": "stream",
     "text": [
      "Точность модели (precision score): 0.74\n"
     ]
    }
   ],
   "source": [
    "print('Точность модели (precision score): {0:0.2f}'.format(precision_score(prediction_test, target_test, average='macro')))"
   ]
  },
  {
   "cell_type": "markdown",
   "metadata": {},
   "source": [
    "Проверяем полноту моделей"
   ]
  },
  {
   "cell_type": "code",
   "execution_count": 21,
   "metadata": {},
   "outputs": [
    {
     "name": "stdout",
     "output_type": "stream",
     "text": [
      "Полнота модели (recall score): 0.82\n"
     ]
    }
   ],
   "source": [
    "print('Полнота модели (recall score): {0:0.2f}'.format(recall_score(prediction_test, target_test, average='macro')))"
   ]
  },
  {
   "cell_type": "code",
   "execution_count": 33,
   "metadata": {},
   "outputs": [],
   "source": [
    "from sklearn.metrics import confusion_matrix\n",
    "from sklearn.metrics import classification_report"
   ]
  },
  {
   "cell_type": "code",
   "execution_count": 34,
   "metadata": {},
   "outputs": [
    {
     "name": "stdout",
     "output_type": "stream",
     "text": [
      "[[433  24]\n",
      " [ 88  98]]\n"
     ]
    }
   ],
   "source": [
    "confusion_matrix = confusion_matrix(target_test, prediction_test)\n",
    "print(confusion_matrix)"
   ]
  },
  {
   "cell_type": "code",
   "execution_count": 38,
   "metadata": {},
   "outputs": [
    {
     "name": "stdout",
     "output_type": "stream",
     "text": [
      "              precision    recall  f1-score   support\n",
      "\n",
      "           0       0.83      0.95      0.89       457\n",
      "           1       0.80      0.53      0.64       186\n",
      "\n",
      "    accuracy                           0.83       643\n",
      "   macro avg       0.82      0.74      0.76       643\n",
      "weighted avg       0.82      0.83      0.81       643\n",
      "\n"
     ]
    }
   ],
   "source": [
    "print(classification_report(target_test, prediction_test))"
   ]
  },
  {
   "cell_type": "code",
   "execution_count": 41,
   "metadata": {},
   "outputs": [],
   "source": [
    "import matplotlib.pyplot as plt"
   ]
  },
  {
   "cell_type": "code",
   "execution_count": 42,
   "metadata": {},
   "outputs": [
    {
     "data": {
      "image/png": "[encoded data removed]",
      "text/plain": [
       "<Figure size 432x288 with 1 Axes>"
      ]
     },
     "metadata": {
      "needs_background": "light"
     },
     "output_type": "display_data"
    }
   ],
   "source": [
    "from sklearn.metrics import roc_auc_score\n",
    "from sklearn.metrics import roc_curve\n",
    "logit_roc_auc = roc_auc_score(target_test, model_final_upd.predict(features_test))\n",
    "fpr, tpr, thresholds = roc_curve(target_test, model_final_upd.predict_proba(features_test)[:,1])\n",
    "plt.figure()\n",
    "plt.plot(fpr, tpr, label='Logistic Regression (area = %0.2f)' % logit_roc_auc)\n",
    "plt.plot([0, 1], [0, 1],'r--')\n",
    "plt.xlim([0.0, 1.0])\n",
    "plt.ylim([0.0, 1.05])\n",
    "plt.xlabel('False Positive Rate')\n",
    "plt.ylabel('True Positive Rate')\n",
    "plt.title('Receiver operating characteristic')\n",
    "plt.legend(loc=\"lower right\")\n",
    "plt.savefig('Log_ROC')\n",
    "plt.show()"
   ]
  },
  {
   "cell_type": "markdown",
   "metadata": {},
   "source": [
    "### Вывод  \n",
    "\n",
    "Полученная модель продемонстрировала значение accuracy ~ 0.85, что является достаточно хорошим показателем и означает, что доля правильных прогнозов тарифа равняется 85%. Дополнительно стоит отметить, что показатели точности и полноты приведенной модели составляют 79 и 90 пунктов соответственно, что говорит о достаточно высокой способности предсказывать действительно верные показатели.\n",
    "\n",
    "---"
   ]
  },
  {
   "cell_type": "markdown",
   "metadata": {},
   "source": [
    "## 5. (бонус) Проверка модели на адекватность"
   ]
  },
  {
   "cell_type": "markdown",
   "metadata": {},
   "source": [
    "С этим вопросом пока непонятно, из курса статистики на stepike узнал, что чем меньше значение R-sqr - тем модель лучше / адекванее. Хотя там дело касалось регрессии, возможно, можно данный метод применить и в классификации."
   ]
  },
  {
   "cell_type": "code",
   "execution_count": 22,
   "metadata": {},
   "outputs": [],
   "source": [
    "import statsmodels.formula.api as smf"
   ]
  },
  {
   "cell_type": "code",
   "execution_count": 23,
   "metadata": {
    "scrolled": false
   },
   "outputs": [
    {
     "data": {
      "text/html": [
       "<table class=\"simpletable\">\n",
       "<caption>OLS Regression Results</caption>\n",
       "<tr>\n",
       "  <th>Dep. Variable:</th>        <td>is_ultra</td>     <th>  R-squared:         </th> <td>   0.087</td>\n",
       "</tr>\n",
       "<tr>\n",
       "  <th>Model:</th>                   <td>OLS</td>       <th>  Adj. R-squared:    </th> <td>   0.086</td>\n",
       "</tr>\n",
       "<tr>\n",
       "  <th>Method:</th>             <td>Least Squares</td>  <th>  F-statistic:       </th> <td>   76.14</td>\n",
       "</tr>\n",
       "<tr>\n",
       "  <th>Date:</th>             <td>Sun, 22 Mar 2020</td> <th>  Prob (F-statistic):</th> <td>9.19e-62</td>\n",
       "</tr>\n",
       "<tr>\n",
       "  <th>Time:</th>                 <td>13:00:02</td>     <th>  Log-Likelihood:    </th> <td> -1926.2</td>\n",
       "</tr>\n",
       "<tr>\n",
       "  <th>No. Observations:</th>      <td>  3214</td>      <th>  AIC:               </th> <td>   3862.</td>\n",
       "</tr>\n",
       "<tr>\n",
       "  <th>Df Residuals:</th>          <td>  3209</td>      <th>  BIC:               </th> <td>   3893.</td>\n",
       "</tr>\n",
       "<tr>\n",
       "  <th>Df Model:</th>              <td>     4</td>      <th>                     </th>     <td> </td>   \n",
       "</tr>\n",
       "<tr>\n",
       "  <th>Covariance Type:</th>      <td>nonrobust</td>    <th>                     </th>     <td> </td>   \n",
       "</tr>\n",
       "</table>\n",
       "<table class=\"simpletable\">\n",
       "<tr>\n",
       "      <td></td>         <th>coef</th>     <th>std err</th>      <th>t</th>      <th>P>|t|</th>  <th>[0.025</th>    <th>0.975]</th>  \n",
       "</tr>\n",
       "<tr>\n",
       "  <th>Intercept</th> <td>   -0.0278</td> <td>    0.022</td> <td>   -1.256</td> <td> 0.209</td> <td>   -0.071</td> <td>    0.016</td>\n",
       "</tr>\n",
       "<tr>\n",
       "  <th>calls</th>     <td>    0.0005</td> <td>    0.001</td> <td>    0.440</td> <td> 0.660</td> <td>   -0.002</td> <td>    0.003</td>\n",
       "</tr>\n",
       "<tr>\n",
       "  <th>minutes</th>   <td>    0.0002</td> <td>    0.000</td> <td>    1.181</td> <td> 0.238</td> <td>   -0.000</td> <td>    0.001</td>\n",
       "</tr>\n",
       "<tr>\n",
       "  <th>messages</th>  <td>    0.0020</td> <td>    0.000</td> <td>    8.852</td> <td> 0.000</td> <td>    0.002</td> <td>    0.002</td>\n",
       "</tr>\n",
       "<tr>\n",
       "  <th>mb_used</th>   <td> 7.764e-06</td> <td> 1.09e-06</td> <td>    7.154</td> <td> 0.000</td> <td> 5.64e-06</td> <td> 9.89e-06</td>\n",
       "</tr>\n",
       "</table>\n",
       "<table class=\"simpletable\">\n",
       "<tr>\n",
       "  <th>Omnibus:</th>       <td>765.682</td> <th>  Durbin-Watson:     </th> <td>   1.950</td> \n",
       "</tr>\n",
       "<tr>\n",
       "  <th>Prob(Omnibus):</th> <td> 0.000</td>  <th>  Jarque-Bera (JB):  </th> <td> 498.325</td> \n",
       "</tr>\n",
       "<tr>\n",
       "  <th>Skew:</th>          <td> 0.849</td>  <th>  Prob(JB):          </th> <td>6.17e-109</td>\n",
       "</tr>\n",
       "<tr>\n",
       "  <th>Kurtosis:</th>      <td> 2.085</td>  <th>  Cond. No.          </th> <td>5.34e+04</td> \n",
       "</tr>\n",
       "</table><br/><br/>Warnings:<br/>[1] Standard Errors assume that the covariance matrix of the errors is correctly specified.<br/>[2] The condition number is large, 5.34e+04. This might indicate that there are<br/>strong multicollinearity or other numerical problems."
      ],
      "text/plain": [
       "<class 'statsmodels.iolib.summary.Summary'>\n",
       "\"\"\"\n",
       "                            OLS Regression Results                            \n",
       "==============================================================================\n",
       "Dep. Variable:               is_ultra   R-squared:                       0.087\n",
       "Model:                            OLS   Adj. R-squared:                  0.086\n",
       "Method:                 Least Squares   F-statistic:                     76.14\n",
       "Date:                Sun, 22 Mar 2020   Prob (F-statistic):           9.19e-62\n",
       "Time:                        13:00:02   Log-Likelihood:                -1926.2\n",
       "No. Observations:                3214   AIC:                             3862.\n",
       "Df Residuals:                    3209   BIC:                             3893.\n",
       "Df Model:                           4                                         \n",
       "Covariance Type:            nonrobust                                         \n",
       "==============================================================================\n",
       "                 coef    std err          t      P>|t|      [0.025      0.975]\n",
       "------------------------------------------------------------------------------\n",
       "Intercept     -0.0278      0.022     -1.256      0.209      -0.071       0.016\n",
       "calls          0.0005      0.001      0.440      0.660      -0.002       0.003\n",
       "minutes        0.0002      0.000      1.181      0.238      -0.000       0.001\n",
       "messages       0.0020      0.000      8.852      0.000       0.002       0.002\n",
       "mb_used     7.764e-06   1.09e-06      7.154      0.000    5.64e-06    9.89e-06\n",
       "==============================================================================\n",
       "Omnibus:                      765.682   Durbin-Watson:                   1.950\n",
       "Prob(Omnibus):                  0.000   Jarque-Bera (JB):              498.325\n",
       "Skew:                           0.849   Prob(JB):                    6.17e-109\n",
       "Kurtosis:                       2.085   Cond. No.                     5.34e+04\n",
       "==============================================================================\n",
       "\n",
       "Warnings:\n",
       "[1] Standard Errors assume that the covariance matrix of the errors is correctly specified.\n",
       "[2] The condition number is large, 5.34e+04. This might indicate that there are\n",
       "strong multicollinearity or other numerical problems.\n",
       "\"\"\""
      ]
     },
     "execution_count": 23,
     "metadata": {},
     "output_type": "execute_result"
    }
   ],
   "source": [
    "lm = smf.ols(formula='is_ultra ~ calls + minutes + messages + mb_used', data=tariffs).fit()\n",
    "\n",
    "lm.summary() "
   ]
  },
  {
   "cell_type": "markdown",
   "metadata": {},
   "source": [
    "Как видно - значение R-square очень близко к нулю, а это значит, что модель рабочая (наверное)"
   ]
  },
  {
   "cell_type": "markdown",
   "metadata": {},
   "source": [
    "Еще, как вариант, вычитал про проверку MAE - чем ближе к нулю - тем лучше модель"
   ]
  },
  {
   "cell_type": "code",
   "execution_count": 24,
   "metadata": {},
   "outputs": [],
   "source": [
    "from sklearn.metrics import mean_absolute_error"
   ]
  },
  {
   "cell_type": "code",
   "execution_count": 25,
   "metadata": {},
   "outputs": [
    {
     "data": {
      "text/plain": [
       "0.17418351477449456"
      ]
     },
     "execution_count": 25,
     "metadata": {},
     "output_type": "execute_result"
    }
   ],
   "source": [
    "mean_absolute_error(target_test, prediction_test)"
   ]
  },
  {
   "cell_type": "markdown",
   "metadata": {},
   "source": [
    "Среднее абсолютной погрешности ~0.17, что является показателем высокого качества моделя\n",
    "\n",
    "---\n",
    "\n",
    "Если выводы не верны - прошу не кидаться шапками, я пока только познаю статистику."
   ]
  },
  {
   "cell_type": "markdown",
   "metadata": {},
   "source": [
    "### Вывод\n",
    "\n",
    "Несмотря на неуверенность в приведенных методах проверки адекватности выборки, полученные показатели демонстрируют высокое качество и адекватность модели.\n",
    "\n",
    "---"
   ]
  },
  {
   "cell_type": "markdown",
   "metadata": {},
   "source": [
    "#### Исправлено\n",
    "\n",
    "1. Насколько я понял, модель, всегда предсказывающая тариф ультра должна обучиться на данных, где target = 1.  \n",
    "Тогда проводим следующие преобразования:"
   ]
  },
  {
   "cell_type": "code",
   "execution_count": 26,
   "metadata": {},
   "outputs": [
    {
     "data": {
      "text/plain": [
       "array([1])"
      ]
     },
     "execution_count": 26,
     "metadata": {},
     "output_type": "execute_result"
    }
   ],
   "source": [
    "target_train_upd = target_train.replace(0,1)\n",
    "target_train_upd.unique()"
   ]
  },
  {
   "cell_type": "code",
   "execution_count": 27,
   "metadata": {},
   "outputs": [],
   "source": [
    "model_test = RandomForestClassifier(random_state=555, n_estimators=51, max_depth=6, min_samples_split=4)\n",
    "\n",
    "model_test.fit(features_train, target_train_upd)\n",
    "\n",
    "prediction_test_1 = model_test.predict(features_test)"
   ]
  },
  {
   "cell_type": "code",
   "execution_count": 31,
   "metadata": {},
   "outputs": [
    {
     "name": "stdout",
     "output_type": "stream",
     "text": [
      "Правильность тестовой модели: 0.29\n",
      "Точность тестовой модели: 0.50\n",
      "Полнота модели: 0.14\n"
     ]
    }
   ],
   "source": [
    "print('Правильность тестовой модели: {0:0.2f}'.format(model_test.score(features_test, target_test)))\n",
    "print('Точность тестовой модели: {0:0.2f}'.format(precision_score(prediction_test_1, target_test, average='macro')))\n",
    "print('Полнота модели: {0:0.2f}'.format(recall_score(prediction_test_1, target_test, average='macro')))"
   ]
  },
  {
   "cell_type": "markdown",
   "metadata": {},
   "source": [
    "Как видно, ультра-модель демонтстрирует очень плохие показатели.\n",
    "\n",
    "---\n",
    "\n",
    "2. Dummy Classifier\n",
    "\n",
    "Импортируем \"подставное лицо\""
   ]
  },
  {
   "cell_type": "code",
   "execution_count": 28,
   "metadata": {},
   "outputs": [],
   "source": [
    "from sklearn.dummy import DummyClassifier"
   ]
  },
  {
   "cell_type": "markdown",
   "metadata": {},
   "source": [
    "Обучаем новые модели"
   ]
  },
  {
   "cell_type": "code",
   "execution_count": 29,
   "metadata": {},
   "outputs": [
    {
     "data": {
      "text/plain": [
       "DummyClassifier(constant=1, random_state=555, strategy='constant')"
      ]
     },
     "execution_count": 29,
     "metadata": {},
     "output_type": "execute_result"
    }
   ],
   "source": [
    "dummy_model_1 = DummyClassifier(strategy=\"most_frequent\", random_state=555)\n",
    "dummy_model_2 = DummyClassifier(strategy=\"constant\", constant=1, random_state=555)\n",
    "\n",
    "dummy_model_1.fit(features_train, target_train)\n",
    "dummy_model_2.fit(features_train, target_train)"
   ]
  },
  {
   "cell_type": "markdown",
   "metadata": {},
   "source": [
    "Тестируем подставные модели."
   ]
  },
  {
   "cell_type": "code",
   "execution_count": 30,
   "metadata": {},
   "outputs": [
    {
     "name": "stdout",
     "output_type": "stream",
     "text": [
      "Accuracy модели со стратегией \"most_frequent\" = 0.71\n",
      "Accuracy модели со стратегией \"constant\" со значением 1 = 0.29\n"
     ]
    }
   ],
   "source": [
    "print('Accuracy модели со стратегией \"most_frequent\" = {0:0.2f}'.format(dummy_model_1.score(features_test, target_test)))\n",
    "print('Accuracy модели со стратегией \"constant\" со значением 1 = {0:0.2f}'.format(dummy_model_2.score(features_test, target_test)))"
   ]
  },
  {
   "cell_type": "markdown",
   "metadata": {},
   "source": [
    "А первая стратегия могла бы сойти на нормальную модель. Но модель со значениями только \"1\" - продемонстрирвала адекватность настоящей модели."
   ]
  },
  {
   "cell_type": "markdown",
   "metadata": {},
   "source": [
    "### Вывод обновленный"
   ]
  },
  {
   "cell_type": "markdown",
   "metadata": {},
   "source": [
    "Удалось доказать, что первая построенная модель работает адекватно.\n",
    "\n",
    "---"
   ]
  },
  {
   "cell_type": "markdown",
   "metadata": {},
   "source": [
    "## Общий вывод\n",
    "\n",
    "В процессе исследования моделей, предсказывающих предложение определенного тарифа для конечного пользователя по имеющимся данным, были выявлены следующие особенности:\n",
    "\n",
    "1. В данном проекте необходимо было решить задачу классификации;\n",
    "2. Для обучения моделей первичный датасет был разбит на три выборки (60/20/20%);\n",
    "3. Значение метода accuracy рассчитывалось по валидационной выборке;\n",
    "4. Наилучшие результаты показателя accuracy продемонтсрировала модель Random Fortress Classifier;\n",
    "5. Наихудшие результаты accuracy у модели Logistic Regression;\n",
    "6. За основную модель была принята модель \"случайного леса\" со значениями n_estimators=51, max_depth=6, min_samples_split=4;\n",
    "7. Обученная на полном датасете тестовая модель продемонстрировала accuracy ~0.83. В обоих случаях выведена \"правильность\" больше, чем минимальная требуемая в проекте.  \n",
    "8. Показатели точности и полноты финальной модели составляют 74 и 82 пунктов соответственно.  \n",
    "9. Проведена оценка модели на вменяемость, исследован метод DummyClassifier\n",
    "\n",
    "*Целью проекта* было создание рабочей модели.  \n",
    "Пункты 7 и 8 позволяют утверждать, что обученная модель удовлетворят требованиям проекта и может быть применена при прогнозировании предложения тарифа связи для определенного пользователя.\n",
    "\n",
    "*Задачами проекта* выступали отработка построения различных моделей.  \n",
    "С моделями классификации все вопросы были решены. Регрессионные модели, вероятно, будут применяться в следующих проектах.\n",
    "\n",
    "Итог - цели и задачи текущего проекта выполнены.\n",
    "\n",
    "---"
   ]
  }
 ],
 "metadata": {
  "kernelspec": {
   "display_name": "Python 3",
   "language": "python",
   "name": "python3"
  },
  "language_info": {
   "codemirror_mode": {
    "name": "ipython",
    "version": 3
   },
   "file_extension": ".py",
   "mimetype": "text/x-python",
   "name": "python",
   "nbconvert_exporter": "python",
   "pygments_lexer": "ipython3",
   "version": "3.7.4"
  }
 },
 "nbformat": 4,
 "nbformat_minor": 2
}
