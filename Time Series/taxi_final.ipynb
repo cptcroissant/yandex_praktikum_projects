{
 "cells": [
  {
   "cell_type": "markdown",
   "metadata": {},
   "source": [
    "## Шаг 0. Описание проекта"
   ]
  },
  {
   "cell_type": "markdown",
   "metadata": {},
   "source": [
    "#### Вводные данные\n",
    "\n",
    "Компания «Чётенькое такси» собрала исторические данные о заказах такси в аэропортах. Чтобы привлекать больше водителей в период пиковой нагрузки, нужно спрогнозировать количество заказов такси на следующий час. \n",
    "\n",
    "#### Цель исследования \n",
    "\n",
    "Построить модель для прогнозирования заказов на следующий час.  \n",
    "\n",
    "#### Задачи исследования  \n",
    "\n",
    "Отработать методы и приемы действий с временными рядами.\n",
    "\n",
    "#### Обязательное условие\n",
    "\n",
    "Значение метрики *RMSE* на тестовой выборке должно быть не больше 48.\n",
    "\n",
    "#### Примерный план проекта\n",
    "\n",
    "1. Загрузить данные и выполнить ресемплирование по одному часу.\n",
    "2. Анализ данных.\n",
    "3. Обучить несколько моделей с различными гиперпараметрами. Тестовую выборку подготовить в размере 10% от общего объема данных.\n",
    "4. Проверить данные на тестовой выборке и составить выводы.\n",
    "\n",
    "#### Описание данных\n",
    "\n",
    "*num_orders* - число заказов  \n",
    "\n",
    "\n",
    "---\n",
    "\n",
    "### Вывод\n",
    "Вводные данные получены, переходим непосредственно к исследованию.  \n",
    "\n",
    "---"
   ]
  },
  {
   "cell_type": "markdown",
   "metadata": {},
   "source": [
    "## Шаг 1. Импорт и предобработка данных"
   ]
  },
  {
   "cell_type": "markdown",
   "metadata": {},
   "source": [
    "Загружаем требуемые библиотеки"
   ]
  },
  {
   "cell_type": "code",
   "execution_count": 1,
   "metadata": {},
   "outputs": [],
   "source": [
    "#common\n",
    "import numpy as np\n",
    "import pandas as pd \n",
    "import IPython\n",
    "from IPython.display import display\n",
    "import warnings\n",
    "warnings.simplefilter('ignore')\n",
    "\n",
    "#visualisation\n",
    "import seaborn as sns\n",
    "import matplotlib.pyplot as plt\n",
    "import matplotlib.style as style\n",
    "\n",
    "from statsmodels.tsa.seasonal import seasonal_decompose\n",
    "\n",
    "# ML\n",
    "from sklearn.metrics import mean_squared_error, mean_absolute_error\n",
    "from sklearn.model_selection import train_test_split, cross_validate, cross_val_score, GridSearchCV, RandomizedSearchCV\n",
    "from sklearn.preprocessing import StandardScaler, MinMaxScaler\n",
    "#\n",
    "from sklearn.dummy import DummyRegressor\n",
    "from sklearn.linear_model import LinearRegression\n",
    "from sklearn.ensemble import GradientBoostingRegressor\n",
    "from sklearn.neighbors import KNeighborsRegressor\n",
    "from sklearn.svm import LinearSVR\n",
    "from catboost import CatBoostRegressor, Pool\n",
    "import xgboost as xgb"
   ]
  },
  {
   "cell_type": "markdown",
   "metadata": {},
   "source": [
    "Загружаем данные"
   ]
  },
  {
   "cell_type": "code",
   "execution_count": 2,
   "metadata": {},
   "outputs": [],
   "source": [
    "taxi = pd.read_csv('/datasets/taxi.csv', index_col=[0], parse_dates=[0])"
   ]
  },
  {
   "cell_type": "code",
   "execution_count": 3,
   "metadata": {},
   "outputs": [
    {
     "data": {
      "text/html": [
       "<div>\n",
       "<style scoped>\n",
       "    .dataframe tbody tr th:only-of-type {\n",
       "        vertical-align: middle;\n",
       "    }\n",
       "\n",
       "    .dataframe tbody tr th {\n",
       "        vertical-align: top;\n",
       "    }\n",
       "\n",
       "    .dataframe thead th {\n",
       "        text-align: right;\n",
       "    }\n",
       "</style>\n",
       "<table border=\"1\" class=\"dataframe\">\n",
       "  <thead>\n",
       "    <tr style=\"text-align: right;\">\n",
       "      <th></th>\n",
       "      <th>num_orders</th>\n",
       "    </tr>\n",
       "    <tr>\n",
       "      <th>datetime</th>\n",
       "      <th></th>\n",
       "    </tr>\n",
       "  </thead>\n",
       "  <tbody>\n",
       "    <tr>\n",
       "      <td>2018-03-01 00:00:00</td>\n",
       "      <td>9</td>\n",
       "    </tr>\n",
       "    <tr>\n",
       "      <td>2018-03-01 00:10:00</td>\n",
       "      <td>14</td>\n",
       "    </tr>\n",
       "    <tr>\n",
       "      <td>2018-03-01 00:20:00</td>\n",
       "      <td>28</td>\n",
       "    </tr>\n",
       "    <tr>\n",
       "      <td>2018-03-01 00:30:00</td>\n",
       "      <td>20</td>\n",
       "    </tr>\n",
       "    <tr>\n",
       "      <td>2018-03-01 00:40:00</td>\n",
       "      <td>32</td>\n",
       "    </tr>\n",
       "  </tbody>\n",
       "</table>\n",
       "</div>"
      ],
      "text/plain": [
       "                     num_orders\n",
       "datetime                       \n",
       "2018-03-01 00:00:00           9\n",
       "2018-03-01 00:10:00          14\n",
       "2018-03-01 00:20:00          28\n",
       "2018-03-01 00:30:00          20\n",
       "2018-03-01 00:40:00          32"
      ]
     },
     "execution_count": 3,
     "metadata": {},
     "output_type": "execute_result"
    }
   ],
   "source": [
    "taxi.head()"
   ]
  },
  {
   "cell_type": "code",
   "execution_count": 4,
   "metadata": {},
   "outputs": [
    {
     "name": "stdout",
     "output_type": "stream",
     "text": [
      "<class 'pandas.core.frame.DataFrame'>\n",
      "DatetimeIndex: 26496 entries, 2018-03-01 00:00:00 to 2018-08-31 23:50:00\n",
      "Data columns (total 1 columns):\n",
      "num_orders    26496 non-null int64\n",
      "dtypes: int64(1)\n",
      "memory usage: 414.0 KB\n"
     ]
    }
   ],
   "source": [
    "taxi.info()"
   ]
  },
  {
   "cell_type": "markdown",
   "metadata": {},
   "source": [
    "Исходный датасет содержит 26496 наблюдений, временной интревал наблюдений составляет 10 минут.  \n",
    "Пропущенных значений нет.  \n",
    "При первичном анализе установлено, что временной промежуток данных длится с 1 марта 2018 года по 31 августа 2018 года. Проверим монотонность даты (индекса)."
   ]
  },
  {
   "cell_type": "code",
   "execution_count": 5,
   "metadata": {},
   "outputs": [
    {
     "name": "stdout",
     "output_type": "stream",
     "text": [
      "Даты расположены в хронологическом порядке\n"
     ]
    }
   ],
   "source": [
    "if taxi.index.is_monotonic == True :\n",
    "    print('Даты расположены в хронологическом порядке')\n",
    "else:\n",
    "    print('Требуется предобработка')"
   ]
  },
  {
   "cell_type": "markdown",
   "metadata": {},
   "source": [
    "Хорошо, проблем с датами пока не обнаружено.  \n",
    "Необходимо ресемплировать данные по 1 часу."
   ]
  },
  {
   "cell_type": "code",
   "execution_count": 6,
   "metadata": {
    "scrolled": true
   },
   "outputs": [
    {
     "data": {
      "text/html": [
       "<div>\n",
       "<style scoped>\n",
       "    .dataframe tbody tr th:only-of-type {\n",
       "        vertical-align: middle;\n",
       "    }\n",
       "\n",
       "    .dataframe tbody tr th {\n",
       "        vertical-align: top;\n",
       "    }\n",
       "\n",
       "    .dataframe thead th {\n",
       "        text-align: right;\n",
       "    }\n",
       "</style>\n",
       "<table border=\"1\" class=\"dataframe\">\n",
       "  <thead>\n",
       "    <tr style=\"text-align: right;\">\n",
       "      <th></th>\n",
       "      <th>num_orders</th>\n",
       "    </tr>\n",
       "    <tr>\n",
       "      <th>datetime</th>\n",
       "      <th></th>\n",
       "    </tr>\n",
       "  </thead>\n",
       "  <tbody>\n",
       "    <tr>\n",
       "      <td>2018-03-01 00:00:00</td>\n",
       "      <td>124</td>\n",
       "    </tr>\n",
       "    <tr>\n",
       "      <td>2018-03-01 01:00:00</td>\n",
       "      <td>85</td>\n",
       "    </tr>\n",
       "    <tr>\n",
       "      <td>2018-03-01 02:00:00</td>\n",
       "      <td>71</td>\n",
       "    </tr>\n",
       "    <tr>\n",
       "      <td>2018-03-01 03:00:00</td>\n",
       "      <td>66</td>\n",
       "    </tr>\n",
       "    <tr>\n",
       "      <td>2018-03-01 04:00:00</td>\n",
       "      <td>43</td>\n",
       "    </tr>\n",
       "  </tbody>\n",
       "</table>\n",
       "</div>"
      ],
      "text/plain": [
       "                     num_orders\n",
       "datetime                       \n",
       "2018-03-01 00:00:00         124\n",
       "2018-03-01 01:00:00          85\n",
       "2018-03-01 02:00:00          71\n",
       "2018-03-01 03:00:00          66\n",
       "2018-03-01 04:00:00          43"
      ]
     },
     "execution_count": 6,
     "metadata": {},
     "output_type": "execute_result"
    }
   ],
   "source": [
    "taxi = taxi.resample('1H').sum()\n",
    "taxi.head()"
   ]
  },
  {
   "cell_type": "markdown",
   "metadata": {},
   "source": [
    "Анализ данных и временных рядов проведем на следующем шаге."
   ]
  },
  {
   "cell_type": "markdown",
   "metadata": {},
   "source": [
    "### Вывод  \n",
    "\n",
    "На данном шаге были загружены данные и требуемые библиотеки.  \n",
    "Первичный анализ временных рядов не выявил аномалий и пропущенных значений. Данные о числе заказов также не содержат пропусков. \n",
    "\n",
    "---"
   ]
  },
  {
   "cell_type": "markdown",
   "metadata": {},
   "source": [
    "## 2. Анализ данных"
   ]
  },
  {
   "cell_type": "markdown",
   "metadata": {},
   "source": [
    "Проверим распределение заказов."
   ]
  },
  {
   "cell_type": "code",
   "execution_count": 7,
   "metadata": {},
   "outputs": [
    {
     "data": {
      "text/html": [
       "<div>\n",
       "<style scoped>\n",
       "    .dataframe tbody tr th:only-of-type {\n",
       "        vertical-align: middle;\n",
       "    }\n",
       "\n",
       "    .dataframe tbody tr th {\n",
       "        vertical-align: top;\n",
       "    }\n",
       "\n",
       "    .dataframe thead th {\n",
       "        text-align: right;\n",
       "    }\n",
       "</style>\n",
       "<table border=\"1\" class=\"dataframe\">\n",
       "  <thead>\n",
       "    <tr style=\"text-align: right;\">\n",
       "      <th></th>\n",
       "      <th>num_orders</th>\n",
       "    </tr>\n",
       "    <tr>\n",
       "      <th>datetime</th>\n",
       "      <th></th>\n",
       "    </tr>\n",
       "  </thead>\n",
       "  <tbody>\n",
       "    <tr>\n",
       "      <td>2018-04-06 06:00:00</td>\n",
       "      <td>0</td>\n",
       "    </tr>\n",
       "    <tr>\n",
       "      <td>2018-04-05 06:00:00</td>\n",
       "      <td>1</td>\n",
       "    </tr>\n",
       "    <tr>\n",
       "      <td>2018-03-09 05:00:00</td>\n",
       "      <td>1</td>\n",
       "    </tr>\n",
       "    <tr>\n",
       "      <td>2018-04-03 06:00:00</td>\n",
       "      <td>1</td>\n",
       "    </tr>\n",
       "    <tr>\n",
       "      <td>2018-04-24 06:00:00</td>\n",
       "      <td>2</td>\n",
       "    </tr>\n",
       "    <tr>\n",
       "      <td>...</td>\n",
       "      <td>...</td>\n",
       "    </tr>\n",
       "    <tr>\n",
       "      <td>2018-08-27 04:00:00</td>\n",
       "      <td>295</td>\n",
       "    </tr>\n",
       "    <tr>\n",
       "      <td>2018-08-30 17:00:00</td>\n",
       "      <td>342</td>\n",
       "    </tr>\n",
       "    <tr>\n",
       "      <td>2018-08-27 02:00:00</td>\n",
       "      <td>408</td>\n",
       "    </tr>\n",
       "    <tr>\n",
       "      <td>2018-08-13 02:00:00</td>\n",
       "      <td>437</td>\n",
       "    </tr>\n",
       "    <tr>\n",
       "      <td>2018-08-20 02:00:00</td>\n",
       "      <td>462</td>\n",
       "    </tr>\n",
       "  </tbody>\n",
       "</table>\n",
       "<p>4416 rows × 1 columns</p>\n",
       "</div>"
      ],
      "text/plain": [
       "                     num_orders\n",
       "datetime                       \n",
       "2018-04-06 06:00:00           0\n",
       "2018-04-05 06:00:00           1\n",
       "2018-03-09 05:00:00           1\n",
       "2018-04-03 06:00:00           1\n",
       "2018-04-24 06:00:00           2\n",
       "...                         ...\n",
       "2018-08-27 04:00:00         295\n",
       "2018-08-30 17:00:00         342\n",
       "2018-08-27 02:00:00         408\n",
       "2018-08-13 02:00:00         437\n",
       "2018-08-20 02:00:00         462\n",
       "\n",
       "[4416 rows x 1 columns]"
      ]
     },
     "execution_count": 7,
     "metadata": {},
     "output_type": "execute_result"
    }
   ],
   "source": [
    "taxi.sort_values(by='num_orders')"
   ]
  },
  {
   "cell_type": "markdown",
   "metadata": {},
   "source": [
    "462 заказа в 2 часа ночи 20 августа - люди прилетают с отпусков. И полное отсутсвие в 6 утра 6 апреля - никому никуда не нужно.  В целом - отрицательных и сверх-огромных значений не замечено.  \n",
    "Посмотрим на диаграмму распределения."
   ]
  },
  {
   "cell_type": "code",
   "execution_count": 8,
   "metadata": {},
   "outputs": [
    {
     "name": "stdout",
     "output_type": "stream",
     "text": [
      "Медианное значение заказов =  78.0\n"
     ]
    },
    {
     "data": {
      "image/png": "[encoded data removed]",
      "text/plain": [
       "<Figure size 576x432 with 2 Axes>"
      ]
     },
     "metadata": {},
     "output_type": "display_data"
    }
   ],
   "source": [
    "sns.set_style('whitegrid')\n",
    "\n",
    "fig, axes = plt.subplots(2,1,sharex=True, figsize=(8,6))\n",
    "\n",
    "sns.kdeplot(taxi['num_orders'], color='darkgrey', shade=True, label='Количество заказов', ax=axes[0])\n",
    "sns.boxplot(taxi['num_orders'], orient='h', color='darkgrey')\n",
    "\n",
    "plt.suptitle('Распределениe количества заказов в час', size=15, y=(0.96));\n",
    "\n",
    "print('Медианное значение заказов = ', taxi['num_orders'].median())"
   ]
  },
  {
   "cell_type": "markdown",
   "metadata": {},
   "source": [
    "Чаще всего в час поступает в районе 78 заказов.  "
   ]
  },
  {
   "cell_type": "markdown",
   "metadata": {},
   "source": [
    "#### Анализ временных рядов"
   ]
  },
  {
   "cell_type": "markdown",
   "metadata": {},
   "source": [
    "Проверим, к какому типу принадлежит наш временной ряд."
   ]
  },
  {
   "cell_type": "code",
   "execution_count": 11,
   "metadata": {},
   "outputs": [
    {
     "data": {
      "image/png": "[encoded data removed]",
      "text/plain": [
       "<Figure size 576x576 with 1 Axes>"
      ]
     },
     "metadata": {},
     "output_type": "display_data"
    }
   ],
   "source": [
    "taxi['mean'] = taxi['num_orders'].rolling(15).mean()\n",
    "taxi['std'] = taxi['num_orders'].rolling(15).std()\n",
    "\n",
    "taxi.plot(figsize=(8,8));"
   ]
  },
  {
   "cell_type": "markdown",
   "metadata": {},
   "source": [
    "Скользящее среднее отклонение со временем изменяеся не слишком сильно. При этом среднее значение - достаточно высоко поднимется в августе. Из этого следует, что перед нами - нестационарный временной ряд.  \n",
    "\n",
    "Изучем тренд и сезонность."
   ]
  },
  {
   "cell_type": "code",
   "execution_count": 12,
   "metadata": {},
   "outputs": [],
   "source": [
    "taxi = taxi.drop(['mean','std'], axis=1)"
   ]
  },
  {
   "cell_type": "code",
   "execution_count": 13,
   "metadata": {},
   "outputs": [
    {
     "data": {
      "image/png": "[encoded data removed]",
      "text/plain": [
       "<Figure size 864x720 with 3 Axes>"
      ]
     },
     "metadata": {},
     "output_type": "display_data"
    }
   ],
   "source": [
    "decomposed = seasonal_decompose(taxi)\n",
    "\n",
    "plt.figure(figsize=(12, 10))\n",
    "\n",
    "plt.subplot(311)\n",
    "decomposed.trend.plot(ax=plt.gca())\n",
    "plt.title('Trend')\n",
    "plt.subplot(312)\n",
    "decomposed.seasonal.plot(ax=plt.gca())\n",
    "plt.title('Seasonality')\n",
    "plt.subplot(313)\n",
    "decomposed.resid.plot(ax=plt.gca())\n",
    "plt.title('Residuals')\n",
    "plt.tight_layout()"
   ]
  },
  {
   "cell_type": "markdown",
   "metadata": {},
   "source": [
    "На данном графике заметен глобальный тренд увеличения числа заказов такси на протяжении всего изучаемого периода.  \n",
    "Колебяния сезонности на данном графике изучить невозможно, попробуем увеличить масштаб.  \n",
    "Посмотрим на два разных месяца - апрель и август и первые трое суток."
   ]
  },
  {
   "cell_type": "code",
   "execution_count": 14,
   "metadata": {},
   "outputs": [
    {
     "data": {
      "image/png": "[encoded data removed]",
      "text/plain": [
       "<Figure size 864x720 with 2 Axes>"
      ]
     },
     "metadata": {},
     "output_type": "display_data"
    }
   ],
   "source": [
    "plt.figure(figsize=(12, 10))\n",
    "\n",
    "plt.subplot(211)\n",
    "decomposed.seasonal['2018-04-01':'2018-04-03'].plot(ax=plt.gca())\n",
    "plt.title('Сезонность в марте')\n",
    "plt.subplot(212)\n",
    "decomposed.seasonal['2018-08-01':'2018-08-03'].plot(ax=plt.gca())\n",
    "plt.title('Сезонность в августе');"
   ]
  },
  {
   "cell_type": "markdown",
   "metadata": {},
   "source": [
    "Больше всего заказов такси приходится на 00 часов. Выскажу предположение о том, что в этот момент прилетает много самолетов и отсустствует дополнительный наземный транспорт, которым можно добраться из аэропорта.  \n",
    "Минимальное количество заказов в районе 6-7 часов утра.  \n",
    "Так же заметен второй по величине пик заказов в районе 16-17 дня.  \n",
    "\n",
    "Выдвину гипотезу о том, что на основании текущих данных, именно в эти моменты компании \"Четенькое такси\" необходимо увеличивать количество водителей на маршрутах.  \n",
    "\n",
    "Текущий анализ данных завершен, переходим к выводам."
   ]
  },
  {
   "cell_type": "markdown",
   "metadata": {},
   "source": [
    "### Вывод  \n",
    "\n",
    "На данном этапе был произведен анализ исходных данных. За время исследования обнаружены следующие особенности:  \n",
    "1. Чаще всего за час в службу такси поступают 78 заказов,  \n",
    "2. На протяжении всего года заметен тренд к увеличению количество заказов,  \n",
    "3. Обнаружена \"сезонность\" загруженности: пиковые часы приходятся на 00 и 16-17 часов вечера,  \n",
    "4. Минимальная загрузка наблюдается в течение часа, с 6 до 7 утра, так же две небольшие просадки количества заказов заметны в 12 и 18 часов.\n",
    "\n",
    "На основании первичных полученных данных можно предположить о необходимости усиления рабочих смен таксистов именно указанные выше часы.  \n",
    "\n",
    "Переходим к более точному прогнозированию и обучению моделей.\n",
    "\n",
    "---"
   ]
  },
  {
   "cell_type": "markdown",
   "metadata": {},
   "source": [
    "## 3. Подбор и обучение моделей"
   ]
  },
  {
   "cell_type": "markdown",
   "metadata": {},
   "source": [
    "**feature engeneering**  \n",
    "\n",
    "Создадим дополнительные признаки в исходном сете для лучшего обучения моделей.  \n",
    "\n",
    "На вход функция принимает датасет, количество \"шагов\" для отстающий значений и скользящее среднее без учета текущего значения количества заказов.  \n",
    "Новые признаки так же определяются, как месяц, день, день недели и час."
   ]
  },
  {
   "cell_type": "code",
   "execution_count": 15,
   "metadata": {},
   "outputs": [],
   "source": [
    "def new_features(data, max_lag, rolling_mean_size):\n",
    "    \n",
    "    data['month'] = data.index.month\n",
    "    data['day'] = data.index.day\n",
    "    data['dayofweek'] = data.index.dayofweek\n",
    "    data['hour'] = data.index.hour\n",
    "    \n",
    "    for lag in range(1, max_lag + 1):\n",
    "        data['lag_{}'.format(lag)] = data['num_orders'].shift(lag)\n",
    "\n",
    "    data['rolling_mean'] = data['num_orders'].shift().rolling(rolling_mean_size).mean()"
   ]
  },
  {
   "cell_type": "code",
   "execution_count": 16,
   "metadata": {},
   "outputs": [],
   "source": [
    "new_features(taxi, 10,10)"
   ]
  },
  {
   "cell_type": "code",
   "execution_count": 17,
   "metadata": {},
   "outputs": [
    {
     "data": {
      "text/html": [
       "<div>\n",
       "<style scoped>\n",
       "    .dataframe tbody tr th:only-of-type {\n",
       "        vertical-align: middle;\n",
       "    }\n",
       "\n",
       "    .dataframe tbody tr th {\n",
       "        vertical-align: top;\n",
       "    }\n",
       "\n",
       "    .dataframe thead th {\n",
       "        text-align: right;\n",
       "    }\n",
       "</style>\n",
       "<table border=\"1\" class=\"dataframe\">\n",
       "  <thead>\n",
       "    <tr style=\"text-align: right;\">\n",
       "      <th></th>\n",
       "      <th>num_orders</th>\n",
       "      <th>month</th>\n",
       "      <th>day</th>\n",
       "      <th>dayofweek</th>\n",
       "      <th>hour</th>\n",
       "      <th>lag_1</th>\n",
       "      <th>lag_2</th>\n",
       "      <th>lag_3</th>\n",
       "      <th>lag_4</th>\n",
       "      <th>lag_5</th>\n",
       "      <th>lag_6</th>\n",
       "      <th>lag_7</th>\n",
       "      <th>lag_8</th>\n",
       "      <th>lag_9</th>\n",
       "      <th>lag_10</th>\n",
       "      <th>rolling_mean</th>\n",
       "    </tr>\n",
       "    <tr>\n",
       "      <th>datetime</th>\n",
       "      <th></th>\n",
       "      <th></th>\n",
       "      <th></th>\n",
       "      <th></th>\n",
       "      <th></th>\n",
       "      <th></th>\n",
       "      <th></th>\n",
       "      <th></th>\n",
       "      <th></th>\n",
       "      <th></th>\n",
       "      <th></th>\n",
       "      <th></th>\n",
       "      <th></th>\n",
       "      <th></th>\n",
       "      <th></th>\n",
       "      <th></th>\n",
       "    </tr>\n",
       "  </thead>\n",
       "  <tbody>\n",
       "    <tr>\n",
       "      <td>2018-03-01 00:00:00</td>\n",
       "      <td>124</td>\n",
       "      <td>3</td>\n",
       "      <td>1</td>\n",
       "      <td>3</td>\n",
       "      <td>0</td>\n",
       "      <td>NaN</td>\n",
       "      <td>NaN</td>\n",
       "      <td>NaN</td>\n",
       "      <td>NaN</td>\n",
       "      <td>NaN</td>\n",
       "      <td>NaN</td>\n",
       "      <td>NaN</td>\n",
       "      <td>NaN</td>\n",
       "      <td>NaN</td>\n",
       "      <td>NaN</td>\n",
       "      <td>NaN</td>\n",
       "    </tr>\n",
       "    <tr>\n",
       "      <td>2018-03-01 01:00:00</td>\n",
       "      <td>85</td>\n",
       "      <td>3</td>\n",
       "      <td>1</td>\n",
       "      <td>3</td>\n",
       "      <td>1</td>\n",
       "      <td>124.0</td>\n",
       "      <td>NaN</td>\n",
       "      <td>NaN</td>\n",
       "      <td>NaN</td>\n",
       "      <td>NaN</td>\n",
       "      <td>NaN</td>\n",
       "      <td>NaN</td>\n",
       "      <td>NaN</td>\n",
       "      <td>NaN</td>\n",
       "      <td>NaN</td>\n",
       "      <td>NaN</td>\n",
       "    </tr>\n",
       "    <tr>\n",
       "      <td>2018-03-01 02:00:00</td>\n",
       "      <td>71</td>\n",
       "      <td>3</td>\n",
       "      <td>1</td>\n",
       "      <td>3</td>\n",
       "      <td>2</td>\n",
       "      <td>85.0</td>\n",
       "      <td>124.0</td>\n",
       "      <td>NaN</td>\n",
       "      <td>NaN</td>\n",
       "      <td>NaN</td>\n",
       "      <td>NaN</td>\n",
       "      <td>NaN</td>\n",
       "      <td>NaN</td>\n",
       "      <td>NaN</td>\n",
       "      <td>NaN</td>\n",
       "      <td>NaN</td>\n",
       "    </tr>\n",
       "    <tr>\n",
       "      <td>2018-03-01 03:00:00</td>\n",
       "      <td>66</td>\n",
       "      <td>3</td>\n",
       "      <td>1</td>\n",
       "      <td>3</td>\n",
       "      <td>3</td>\n",
       "      <td>71.0</td>\n",
       "      <td>85.0</td>\n",
       "      <td>124.0</td>\n",
       "      <td>NaN</td>\n",
       "      <td>NaN</td>\n",
       "      <td>NaN</td>\n",
       "      <td>NaN</td>\n",
       "      <td>NaN</td>\n",
       "      <td>NaN</td>\n",
       "      <td>NaN</td>\n",
       "      <td>NaN</td>\n",
       "    </tr>\n",
       "    <tr>\n",
       "      <td>2018-03-01 04:00:00</td>\n",
       "      <td>43</td>\n",
       "      <td>3</td>\n",
       "      <td>1</td>\n",
       "      <td>3</td>\n",
       "      <td>4</td>\n",
       "      <td>66.0</td>\n",
       "      <td>71.0</td>\n",
       "      <td>85.0</td>\n",
       "      <td>124.0</td>\n",
       "      <td>NaN</td>\n",
       "      <td>NaN</td>\n",
       "      <td>NaN</td>\n",
       "      <td>NaN</td>\n",
       "      <td>NaN</td>\n",
       "      <td>NaN</td>\n",
       "      <td>NaN</td>\n",
       "    </tr>\n",
       "  </tbody>\n",
       "</table>\n",
       "</div>"
      ],
      "text/plain": [
       "                     num_orders  month  day  dayofweek  hour  lag_1  lag_2  \\\n",
       "datetime                                                                     \n",
       "2018-03-01 00:00:00         124      3    1          3     0    NaN    NaN   \n",
       "2018-03-01 01:00:00          85      3    1          3     1  124.0    NaN   \n",
       "2018-03-01 02:00:00          71      3    1          3     2   85.0  124.0   \n",
       "2018-03-01 03:00:00          66      3    1          3     3   71.0   85.0   \n",
       "2018-03-01 04:00:00          43      3    1          3     4   66.0   71.0   \n",
       "\n",
       "                     lag_3  lag_4  lag_5  lag_6  lag_7  lag_8  lag_9  lag_10  \\\n",
       "datetime                                                                       \n",
       "2018-03-01 00:00:00    NaN    NaN    NaN    NaN    NaN    NaN    NaN     NaN   \n",
       "2018-03-01 01:00:00    NaN    NaN    NaN    NaN    NaN    NaN    NaN     NaN   \n",
       "2018-03-01 02:00:00    NaN    NaN    NaN    NaN    NaN    NaN    NaN     NaN   \n",
       "2018-03-01 03:00:00  124.0    NaN    NaN    NaN    NaN    NaN    NaN     NaN   \n",
       "2018-03-01 04:00:00   85.0  124.0    NaN    NaN    NaN    NaN    NaN     NaN   \n",
       "\n",
       "                     rolling_mean  \n",
       "datetime                           \n",
       "2018-03-01 00:00:00           NaN  \n",
       "2018-03-01 01:00:00           NaN  \n",
       "2018-03-01 02:00:00           NaN  \n",
       "2018-03-01 03:00:00           NaN  \n",
       "2018-03-01 04:00:00           NaN  "
      ]
     },
     "execution_count": 17,
     "metadata": {},
     "output_type": "execute_result"
    }
   ],
   "source": [
    "taxi.head()"
   ]
  },
  {
   "cell_type": "markdown",
   "metadata": {},
   "source": [
    "У нас остаются пропущенные значения, но их не так много и они будут удалены после разбития на выборки.  \n",
    "\n",
    "---\n",
    "\n",
    "**Создание подвыборок**  \n",
    "\n",
    "Разобьем датасет на обучающую, валидационную и тестовую выборку."
   ]
  },
  {
   "cell_type": "code",
   "execution_count": 18,
   "metadata": {},
   "outputs": [],
   "source": [
    "sub, test = train_test_split(taxi, test_size=.1, shuffle=False)\n",
    "train, valid = train_test_split(sub, test_size=.1, shuffle=False)"
   ]
  },
  {
   "cell_type": "code",
   "execution_count": 19,
   "metadata": {},
   "outputs": [],
   "source": [
    "train.dropna(inplace=True)"
   ]
  },
  {
   "cell_type": "code",
   "execution_count": 20,
   "metadata": {},
   "outputs": [
    {
     "data": {
      "text/plain": [
       "(3566, 398, 442)"
      ]
     },
     "execution_count": 20,
     "metadata": {},
     "output_type": "execute_result"
    }
   ],
   "source": [
    "train.shape[0], valid.shape[0], test.shape[0]"
   ]
  },
  {
   "cell_type": "markdown",
   "metadata": {},
   "source": [
    "Разбиваем фичи на признаки и целевой признак"
   ]
  },
  {
   "cell_type": "code",
   "execution_count": 21,
   "metadata": {},
   "outputs": [],
   "source": [
    "X_train = train.drop(['num_orders'], axis=1)\n",
    "X_valid = valid.drop(['num_orders'], axis=1)\n",
    "X_test = test.drop(['num_orders'], axis=1)\n",
    "\n",
    "y_train = train['num_orders']\n",
    "y_valid = valid['num_orders']\n",
    "y_test = test['num_orders']"
   ]
  },
  {
   "cell_type": "markdown",
   "metadata": {},
   "source": [
    "---\n",
    "\n",
    "**Проверка моделей на адекватность**  \n",
    "\n",
    "Попробуем предсказать временной период медианный значеним и посмотрим, какого качества метрики rmse мы сможем добиться.  \n",
    "(далее все модели в данном разделе будем тестировать только на валидационной выборке)"
   ]
  },
  {
   "cell_type": "code",
   "execution_count": 22,
   "metadata": {},
   "outputs": [
    {
     "name": "stdout",
     "output_type": "stream",
     "text": [
      "RMSE valid: 60.16539181173257\n",
      "RMSE test: 89.39768286346948\n"
     ]
    }
   ],
   "source": [
    "y_valid_med = np.ones(y_valid.shape) * y_train.median()\n",
    "y_test_med = np.ones(y_test.shape) * y_train.median()\n",
    "\n",
    "print(\"RMSE valid:\", mean_squared_error(y_valid, y_valid_med)**0.5)\n",
    "print(\"RMSE test:\", mean_squared_error(y_test, y_test_med)**0.5)"
   ]
  },
  {
   "cell_type": "markdown",
   "metadata": {},
   "source": [
    "Отклоняемся на 89 заказов на тестовой выборке. Не самый радужный результат.  \n",
    "\n",
    "---\n",
    "\n",
    "**Подбор и тестирование моделей**\n",
    "\n",
    "Попробуем применить простенькую логистическую регрессию."
   ]
  },
  {
   "cell_type": "code",
   "execution_count": 23,
   "metadata": {},
   "outputs": [
    {
     "name": "stdout",
     "output_type": "stream",
     "text": [
      "CPU times: user 5.89 ms, sys: 131 µs, total: 6.02 ms\n",
      "Wall time: 3.68 ms\n"
     ]
    }
   ],
   "source": [
    "%%time\n",
    "lr = LinearRegression().fit(X_train, y_train)"
   ]
  },
  {
   "cell_type": "code",
   "execution_count": 24,
   "metadata": {},
   "outputs": [],
   "source": [
    "def prediction(model, feat, targ):\n",
    "    \n",
    "    pred = model.predict(feat)\n",
    "    rmse = mean_squared_error(pred, targ)**0.5\n",
    "    \n",
    "    return(rmse)"
   ]
  },
  {
   "cell_type": "code",
   "execution_count": 25,
   "metadata": {},
   "outputs": [
    {
     "name": "stdout",
     "output_type": "stream",
     "text": [
      "CPU times: user 7.66 ms, sys: 566 µs, total: 8.23 ms\n",
      "Wall time: 2.01 ms\n"
     ]
    },
    {
     "data": {
      "text/plain": [
       "40.57041300704119"
      ]
     },
     "execution_count": 25,
     "metadata": {},
     "output_type": "execute_result"
    }
   ],
   "source": [
    "%%time\n",
    "\n",
    "prediction(lr, X_valid, y_valid)"
   ]
  },
  {
   "cell_type": "markdown",
   "metadata": {},
   "source": [
    "Лучше, чем дамми моделька.  \n",
    "Сразу создадим табличку, в которую будем вносить полученые данные"
   ]
  },
  {
   "cell_type": "code",
   "execution_count": 26,
   "metadata": {},
   "outputs": [
    {
     "data": {
      "text/html": [
       "<div>\n",
       "<style scoped>\n",
       "    .dataframe tbody tr th:only-of-type {\n",
       "        vertical-align: middle;\n",
       "    }\n",
       "\n",
       "    .dataframe tbody tr th {\n",
       "        vertical-align: top;\n",
       "    }\n",
       "\n",
       "    .dataframe thead th {\n",
       "        text-align: right;\n",
       "    }\n",
       "</style>\n",
       "<table border=\"1\" class=\"dataframe\">\n",
       "  <thead>\n",
       "    <tr style=\"text-align: right;\">\n",
       "      <th></th>\n",
       "      <th>model_name</th>\n",
       "      <th>training_time</th>\n",
       "      <th>prediction_valid_time</th>\n",
       "      <th>rmse_valid</th>\n",
       "      <th>prediction_test_time</th>\n",
       "      <th>rmse_test</th>\n",
       "    </tr>\n",
       "  </thead>\n",
       "  <tbody>\n",
       "    <tr>\n",
       "      <td>0</td>\n",
       "      <td>LogReg</td>\n",
       "      <td>5.75</td>\n",
       "      <td>3.52</td>\n",
       "      <td>40.57</td>\n",
       "      <td>NaN</td>\n",
       "      <td>NaN</td>\n",
       "    </tr>\n",
       "    <tr>\n",
       "      <td>1</td>\n",
       "      <td>KNN</td>\n",
       "      <td>NaN</td>\n",
       "      <td>NaN</td>\n",
       "      <td>NaN</td>\n",
       "      <td>NaN</td>\n",
       "      <td>NaN</td>\n",
       "    </tr>\n",
       "    <tr>\n",
       "      <td>2</td>\n",
       "      <td>LinSVM</td>\n",
       "      <td>NaN</td>\n",
       "      <td>NaN</td>\n",
       "      <td>NaN</td>\n",
       "      <td>NaN</td>\n",
       "      <td>NaN</td>\n",
       "    </tr>\n",
       "    <tr>\n",
       "      <td>3</td>\n",
       "      <td>GradBoost</td>\n",
       "      <td>NaN</td>\n",
       "      <td>NaN</td>\n",
       "      <td>NaN</td>\n",
       "      <td>NaN</td>\n",
       "      <td>NaN</td>\n",
       "    </tr>\n",
       "    <tr>\n",
       "      <td>4</td>\n",
       "      <td>CatBoost</td>\n",
       "      <td>NaN</td>\n",
       "      <td>NaN</td>\n",
       "      <td>NaN</td>\n",
       "      <td>NaN</td>\n",
       "      <td>NaN</td>\n",
       "    </tr>\n",
       "  </tbody>\n",
       "</table>\n",
       "</div>"
      ],
      "text/plain": [
       "  model_name  training_time  prediction_valid_time  rmse_valid  \\\n",
       "0     LogReg           5.75                   3.52       40.57   \n",
       "1        KNN            NaN                    NaN         NaN   \n",
       "2     LinSVM            NaN                    NaN         NaN   \n",
       "3  GradBoost            NaN                    NaN         NaN   \n",
       "4   CatBoost            NaN                    NaN         NaN   \n",
       "\n",
       "   prediction_test_time  rmse_test  \n",
       "0                   NaN        NaN  \n",
       "1                   NaN        NaN  \n",
       "2                   NaN        NaN  \n",
       "3                   NaN        NaN  \n",
       "4                   NaN        NaN  "
      ]
     },
     "execution_count": 26,
     "metadata": {},
     "output_type": "execute_result"
    }
   ],
   "source": [
    "res = {\n",
    "    'model_name':pd.Series(['LogReg','KNN','LinSVM','GradBoost','CatBoost']),\n",
    "    'training_time':pd.Series([5.75]),\n",
    "    'prediction_valid_time':pd.Series([3.52]), \n",
    "    'rmse_valid':pd.Series([40.57]), \n",
    "    'prediction_test_time':pd.Series([]), \n",
    "    'rmse_test':pd.Series([])}\n",
    "\n",
    "results = pd.DataFrame(res)\n",
    "results"
   ]
  },
  {
   "cell_type": "markdown",
   "metadata": {},
   "source": [
    "---\n",
    "\n",
    "**Ближайшие соседи**  \n",
    "\n",
    "Вспомним по класс моделей, которые мы не использовали достаточно давно. Для применения данной и следующей модели нам необходимо скалировать данные. К работе с соседями применим MinMax преобразование."
   ]
  },
  {
   "cell_type": "code",
   "execution_count": 27,
   "metadata": {},
   "outputs": [],
   "source": [
    "min_max = MinMaxScaler()\n",
    "\n",
    "min_max.fit(X_train)\n",
    "\n",
    "X_train_mm = min_max.transform(X_train)\n",
    "X_valid_mm = min_max.transform(X_valid)\n",
    "X_test_mm = min_max.transform(X_test)"
   ]
  },
  {
   "cell_type": "markdown",
   "metadata": {},
   "source": [
    "Напишем функцию серча гиперпараметров."
   ]
  },
  {
   "cell_type": "code",
   "execution_count": 28,
   "metadata": {},
   "outputs": [],
   "source": [
    "def grid(model, params, feat, targ):\n",
    "    \n",
    "    search = GridSearchCV(model, params, cv=5, n_jobs=-1, scoring='neg_mean_squared_error')\n",
    "    search.fit(feat, targ)\n",
    "    \n",
    "    print('Best score = ', search.best_score_)\n",
    "    print(search.best_params_)"
   ]
  },
  {
   "cell_type": "markdown",
   "metadata": {},
   "source": [
    "Создаем базовую модель и сетку гиперпараметров."
   ]
  },
  {
   "cell_type": "code",
   "execution_count": 29,
   "metadata": {},
   "outputs": [],
   "source": [
    "knn = KNeighborsRegressor()\n",
    "\n",
    "knn_params = dict(n_neighbors=range(3,10),\n",
    "                   metric=['minkowski', 'manhattan'],\n",
    "                   leaf_size=[20,25,30,35],\n",
    "                   algorithm=['auto','ball_tree','kd_tree'])"
   ]
  },
  {
   "cell_type": "code",
   "execution_count": 30,
   "metadata": {},
   "outputs": [
    {
     "name": "stdout",
     "output_type": "stream",
     "text": [
      "Best score =  -603.2826454235129\n",
      "{'algorithm': 'auto', 'leaf_size': 20, 'metric': 'manhattan', 'n_neighbors': 9}\n"
     ]
    }
   ],
   "source": [
    "grid(knn, knn_params, X_train_mm, y_train)"
   ]
  },
  {
   "cell_type": "code",
   "execution_count": 31,
   "metadata": {},
   "outputs": [],
   "source": [
    "knn = KNeighborsRegressor(algorithm='auto', leaf_size=20, metric='manhattan', n_neighbors=8)"
   ]
  },
  {
   "cell_type": "code",
   "execution_count": 32,
   "metadata": {},
   "outputs": [
    {
     "name": "stdout",
     "output_type": "stream",
     "text": [
      "CPU times: user 3.64 ms, sys: 0 ns, total: 3.64 ms\n",
      "Wall time: 3.29 ms\n"
     ]
    },
    {
     "data": {
      "text/plain": [
       "KNeighborsRegressor(algorithm='auto', leaf_size=20, metric='manhattan',\n",
       "                    metric_params=None, n_jobs=None, n_neighbors=8, p=2,\n",
       "                    weights='uniform')"
      ]
     },
     "execution_count": 32,
     "metadata": {},
     "output_type": "execute_result"
    }
   ],
   "source": [
    "%%time\n",
    "knn.fit(X_train_mm, y_train)"
   ]
  },
  {
   "cell_type": "code",
   "execution_count": 33,
   "metadata": {},
   "outputs": [
    {
     "name": "stdout",
     "output_type": "stream",
     "text": [
      "CPU times: user 44.8 ms, sys: 9 µs, total: 44.9 ms\n",
      "Wall time: 63.4 ms\n"
     ]
    },
    {
     "data": {
      "text/plain": [
       "35.57724472660416"
      ]
     },
     "execution_count": 33,
     "metadata": {},
     "output_type": "execute_result"
    }
   ],
   "source": [
    "%%time\n",
    "prediction(knn, X_valid_mm, y_valid)"
   ]
  },
  {
   "cell_type": "code",
   "execution_count": 34,
   "metadata": {},
   "outputs": [],
   "source": [
    "results.loc[1, 'training_time'] = 3.64\n",
    "results.loc[1, 'prediction_valid_time'] = 0.43\n",
    "results.loc[1,'rmse_valid'] = 35.58"
   ]
  },
  {
   "cell_type": "code",
   "execution_count": 35,
   "metadata": {},
   "outputs": [
    {
     "data": {
      "text/html": [
       "<div>\n",
       "<style scoped>\n",
       "    .dataframe tbody tr th:only-of-type {\n",
       "        vertical-align: middle;\n",
       "    }\n",
       "\n",
       "    .dataframe tbody tr th {\n",
       "        vertical-align: top;\n",
       "    }\n",
       "\n",
       "    .dataframe thead th {\n",
       "        text-align: right;\n",
       "    }\n",
       "</style>\n",
       "<table border=\"1\" class=\"dataframe\">\n",
       "  <thead>\n",
       "    <tr style=\"text-align: right;\">\n",
       "      <th></th>\n",
       "      <th>model_name</th>\n",
       "      <th>training_time</th>\n",
       "      <th>prediction_valid_time</th>\n",
       "      <th>rmse_valid</th>\n",
       "      <th>prediction_test_time</th>\n",
       "      <th>rmse_test</th>\n",
       "    </tr>\n",
       "  </thead>\n",
       "  <tbody>\n",
       "    <tr>\n",
       "      <td>0</td>\n",
       "      <td>LogReg</td>\n",
       "      <td>5.75</td>\n",
       "      <td>3.52</td>\n",
       "      <td>40.57</td>\n",
       "      <td>NaN</td>\n",
       "      <td>NaN</td>\n",
       "    </tr>\n",
       "    <tr>\n",
       "      <td>1</td>\n",
       "      <td>KNN</td>\n",
       "      <td>3.64</td>\n",
       "      <td>0.43</td>\n",
       "      <td>35.58</td>\n",
       "      <td>NaN</td>\n",
       "      <td>NaN</td>\n",
       "    </tr>\n",
       "    <tr>\n",
       "      <td>2</td>\n",
       "      <td>LinSVM</td>\n",
       "      <td>NaN</td>\n",
       "      <td>NaN</td>\n",
       "      <td>NaN</td>\n",
       "      <td>NaN</td>\n",
       "      <td>NaN</td>\n",
       "    </tr>\n",
       "    <tr>\n",
       "      <td>3</td>\n",
       "      <td>GradBoost</td>\n",
       "      <td>NaN</td>\n",
       "      <td>NaN</td>\n",
       "      <td>NaN</td>\n",
       "      <td>NaN</td>\n",
       "      <td>NaN</td>\n",
       "    </tr>\n",
       "    <tr>\n",
       "      <td>4</td>\n",
       "      <td>CatBoost</td>\n",
       "      <td>NaN</td>\n",
       "      <td>NaN</td>\n",
       "      <td>NaN</td>\n",
       "      <td>NaN</td>\n",
       "      <td>NaN</td>\n",
       "    </tr>\n",
       "  </tbody>\n",
       "</table>\n",
       "</div>"
      ],
      "text/plain": [
       "  model_name  training_time  prediction_valid_time  rmse_valid  \\\n",
       "0     LogReg           5.75                   3.52       40.57   \n",
       "1        KNN           3.64                   0.43       35.58   \n",
       "2     LinSVM            NaN                    NaN         NaN   \n",
       "3  GradBoost            NaN                    NaN         NaN   \n",
       "4   CatBoost            NaN                    NaN         NaN   \n",
       "\n",
       "   prediction_test_time  rmse_test  \n",
       "0                   NaN        NaN  \n",
       "1                   NaN        NaN  \n",
       "2                   NaN        NaN  \n",
       "3                   NaN        NaN  \n",
       "4                   NaN        NaN  "
      ]
     },
     "execution_count": 35,
     "metadata": {},
     "output_type": "execute_result"
    }
   ],
   "source": [
    "results.head()"
   ]
  },
  {
   "cell_type": "markdown",
   "metadata": {},
   "source": [
    "Улучшили метрику на валидационной выборке, однако, увеличили время предсказания."
   ]
  },
  {
   "cell_type": "markdown",
   "metadata": {},
   "source": [
    "---\n",
    "\n",
    "**Linear Support Vector Regressor**  \n",
    "\n",
    "Еще один класс линейных моделей. Как оказалось, достаточно мощно и быстро может обрабатывать большие массивы данных. Однако, у нас есть слишком сильно отклоняющие значения и прогноз на тестовой выборке может быть не слишком точным.  \n",
    "\n",
    "В данном случае скалируем данные с помощью StandardScaler"
   ]
  },
  {
   "cell_type": "code",
   "execution_count": 36,
   "metadata": {},
   "outputs": [],
   "source": [
    "st_sc = StandardScaler()\n",
    "\n",
    "st_sc.fit(X_train)\n",
    "\n",
    "X_train_ss = st_sc.transform(X_train)\n",
    "X_valid_ss = st_sc.transform(X_valid)\n",
    "X_test_ss = st_sc.transform(X_test)"
   ]
  },
  {
   "cell_type": "code",
   "execution_count": 37,
   "metadata": {},
   "outputs": [],
   "source": [
    "svm = LinearSVR(random_state=42)\n",
    "\n",
    "svm_params = dict(max_iter=[100,500,1000,1200,1500],\n",
    "                  C=[0.1,0.5,1],\n",
    "                  tol=[1e-3, 1e-4, 1e-5])"
   ]
  },
  {
   "cell_type": "code",
   "execution_count": 38,
   "metadata": {},
   "outputs": [
    {
     "name": "stdout",
     "output_type": "stream",
     "text": [
      "Best score =  -886.0742064385465\n",
      "{'C': 1, 'max_iter': 100, 'tol': 1e-05}\n"
     ]
    }
   ],
   "source": [
    "grid(svm, svm_params, X_train_ss, y_train)"
   ]
  },
  {
   "cell_type": "code",
   "execution_count": 39,
   "metadata": {},
   "outputs": [],
   "source": [
    "svm = LinearSVR(random_state=42, C=1, max_iter=100, tol=0.0001)"
   ]
  },
  {
   "cell_type": "code",
   "execution_count": 40,
   "metadata": {},
   "outputs": [
    {
     "name": "stdout",
     "output_type": "stream",
     "text": [
      "CPU times: user 9.26 ms, sys: 140 µs, total: 9.4 ms\n",
      "Wall time: 8.64 ms\n"
     ]
    },
    {
     "data": {
      "text/plain": [
       "LinearSVR(C=1, dual=True, epsilon=0.0, fit_intercept=True,\n",
       "          intercept_scaling=1.0, loss='epsilon_insensitive', max_iter=100,\n",
       "          random_state=42, tol=0.0001, verbose=0)"
      ]
     },
     "execution_count": 40,
     "metadata": {},
     "output_type": "execute_result"
    }
   ],
   "source": [
    "%%time\n",
    "svm.fit(X_train_ss, y_train)"
   ]
  },
  {
   "cell_type": "code",
   "execution_count": 41,
   "metadata": {},
   "outputs": [
    {
     "name": "stdout",
     "output_type": "stream",
     "text": [
      "CPU times: user 1.07 ms, sys: 165 µs, total: 1.23 ms\n",
      "Wall time: 984 µs\n"
     ]
    },
    {
     "data": {
      "text/plain": [
       "41.31250816813142"
      ]
     },
     "execution_count": 41,
     "metadata": {},
     "output_type": "execute_result"
    }
   ],
   "source": [
    "%%time\n",
    "prediction(svm, X_valid_ss, y_valid)"
   ]
  },
  {
   "cell_type": "code",
   "execution_count": 42,
   "metadata": {},
   "outputs": [],
   "source": [
    "results.loc[2, 'training_time'] = 8.54\n",
    "results.loc[2, 'prediction_valid_time'] =1\n",
    "results.loc[2,'rmse_valid'] = 41.31"
   ]
  },
  {
   "cell_type": "code",
   "execution_count": 43,
   "metadata": {},
   "outputs": [
    {
     "data": {
      "text/html": [
       "<div>\n",
       "<style scoped>\n",
       "    .dataframe tbody tr th:only-of-type {\n",
       "        vertical-align: middle;\n",
       "    }\n",
       "\n",
       "    .dataframe tbody tr th {\n",
       "        vertical-align: top;\n",
       "    }\n",
       "\n",
       "    .dataframe thead th {\n",
       "        text-align: right;\n",
       "    }\n",
       "</style>\n",
       "<table border=\"1\" class=\"dataframe\">\n",
       "  <thead>\n",
       "    <tr style=\"text-align: right;\">\n",
       "      <th></th>\n",
       "      <th>model_name</th>\n",
       "      <th>training_time</th>\n",
       "      <th>prediction_valid_time</th>\n",
       "      <th>rmse_valid</th>\n",
       "      <th>prediction_test_time</th>\n",
       "      <th>rmse_test</th>\n",
       "    </tr>\n",
       "  </thead>\n",
       "  <tbody>\n",
       "    <tr>\n",
       "      <td>0</td>\n",
       "      <td>LogReg</td>\n",
       "      <td>5.75</td>\n",
       "      <td>3.52</td>\n",
       "      <td>40.57</td>\n",
       "      <td>NaN</td>\n",
       "      <td>NaN</td>\n",
       "    </tr>\n",
       "    <tr>\n",
       "      <td>1</td>\n",
       "      <td>KNN</td>\n",
       "      <td>3.64</td>\n",
       "      <td>0.43</td>\n",
       "      <td>35.58</td>\n",
       "      <td>NaN</td>\n",
       "      <td>NaN</td>\n",
       "    </tr>\n",
       "    <tr>\n",
       "      <td>2</td>\n",
       "      <td>LinSVM</td>\n",
       "      <td>8.54</td>\n",
       "      <td>1.00</td>\n",
       "      <td>41.31</td>\n",
       "      <td>NaN</td>\n",
       "      <td>NaN</td>\n",
       "    </tr>\n",
       "    <tr>\n",
       "      <td>3</td>\n",
       "      <td>GradBoost</td>\n",
       "      <td>NaN</td>\n",
       "      <td>NaN</td>\n",
       "      <td>NaN</td>\n",
       "      <td>NaN</td>\n",
       "      <td>NaN</td>\n",
       "    </tr>\n",
       "    <tr>\n",
       "      <td>4</td>\n",
       "      <td>CatBoost</td>\n",
       "      <td>NaN</td>\n",
       "      <td>NaN</td>\n",
       "      <td>NaN</td>\n",
       "      <td>NaN</td>\n",
       "      <td>NaN</td>\n",
       "    </tr>\n",
       "  </tbody>\n",
       "</table>\n",
       "</div>"
      ],
      "text/plain": [
       "  model_name  training_time  prediction_valid_time  rmse_valid  \\\n",
       "0     LogReg           5.75                   3.52       40.57   \n",
       "1        KNN           3.64                   0.43       35.58   \n",
       "2     LinSVM           8.54                   1.00       41.31   \n",
       "3  GradBoost            NaN                    NaN         NaN   \n",
       "4   CatBoost            NaN                    NaN         NaN   \n",
       "\n",
       "   prediction_test_time  rmse_test  \n",
       "0                   NaN        NaN  \n",
       "1                   NaN        NaN  \n",
       "2                   NaN        NaN  \n",
       "3                   NaN        NaN  \n",
       "4                   NaN        NaN  "
      ]
     },
     "execution_count": 43,
     "metadata": {},
     "output_type": "execute_result"
    }
   ],
   "source": [
    "results"
   ]
  },
  {
   "cell_type": "markdown",
   "metadata": {},
   "source": [
    "Самое быстрое время предсказания, но и самые слабые предсказания.  \n",
    "Попробуем градиент буст.  \n",
    "\n",
    "---"
   ]
  },
  {
   "cell_type": "markdown",
   "metadata": {},
   "source": [
    "**Gradient Boosting Regressor**  \n",
    "\n",
    "Данный класс модели не требует у нас скалирования данных. Переходим сразу к подбору гиперпараметров и обучению.  \n",
    "\n",
    "Поиск параметров проводим в 2 этапа - сначала подбираем лучшее количество деревьев, затем - остальные параметры."
   ]
  },
  {
   "cell_type": "code",
   "execution_count": 44,
   "metadata": {},
   "outputs": [],
   "source": [
    "gbr = GradientBoostingRegressor(random_state=42)\n",
    "\n",
    "gbr_params_est = dict(n_estimators=range(100,1000,10))\n",
    "\n",
    "gbr_params_other = dict(learning_rate=[0.1,1],\n",
    "                        max_depth=[2,3,4,5],\n",
    "                        min_samples_split=[2,3,4], \n",
    "                        tol=[1e-3, 1e-4, 1e-5])"
   ]
  },
  {
   "cell_type": "code",
   "execution_count": 45,
   "metadata": {},
   "outputs": [],
   "source": [
    "#grid(gbr, gbr_params_est, X_train, y_train)"
   ]
  },
  {
   "cell_type": "markdown",
   "metadata": {},
   "source": [
    "Best score =  -537.2349881751834  \n",
    "{'n_estimators': 200}"
   ]
  },
  {
   "cell_type": "code",
   "execution_count": 46,
   "metadata": {},
   "outputs": [],
   "source": [
    "gbr = GradientBoostingRegressor(random_state=42, n_estimators=200)"
   ]
  },
  {
   "cell_type": "code",
   "execution_count": 47,
   "metadata": {},
   "outputs": [],
   "source": [
    "#grid(gbr, gbr_params_other, X_train, y_train)"
   ]
  },
  {
   "cell_type": "markdown",
   "metadata": {},
   "source": [
    "Best score =  -526.0770425387703  \n",
    "{'learning_rate': 0.1, 'max_depth': 4, 'min_samples_split': 4, 'tol': 0.001}"
   ]
  },
  {
   "cell_type": "code",
   "execution_count": 48,
   "metadata": {},
   "outputs": [],
   "source": [
    "gbr = GradientBoostingRegressor(random_state=42, \n",
    "                                n_estimators=200, learning_rate=0.15, max_depth=4, min_samples_split=4, tol=0.001)"
   ]
  },
  {
   "cell_type": "code",
   "execution_count": 49,
   "metadata": {},
   "outputs": [
    {
     "name": "stdout",
     "output_type": "stream",
     "text": [
      "CPU times: user 785 ms, sys: 0 ns, total: 785 ms\n",
      "Wall time: 816 ms\n"
     ]
    },
    {
     "data": {
      "text/plain": [
       "GradientBoostingRegressor(alpha=0.9, criterion='friedman_mse', init=None,\n",
       "                          learning_rate=0.15, loss='ls', max_depth=4,\n",
       "                          max_features=None, max_leaf_nodes=None,\n",
       "                          min_impurity_decrease=0.0, min_impurity_split=None,\n",
       "                          min_samples_leaf=1, min_samples_split=4,\n",
       "                          min_weight_fraction_leaf=0.0, n_estimators=200,\n",
       "                          n_iter_no_change=None, presort='auto',\n",
       "                          random_state=42, subsample=1.0, tol=0.001,\n",
       "                          validation_fraction=0.1, verbose=0, warm_start=False)"
      ]
     },
     "execution_count": 49,
     "metadata": {},
     "output_type": "execute_result"
    }
   ],
   "source": [
    "%%time\n",
    "gbr.fit(X_train, y_train)"
   ]
  },
  {
   "cell_type": "code",
   "execution_count": 50,
   "metadata": {},
   "outputs": [
    {
     "name": "stdout",
     "output_type": "stream",
     "text": [
      "CPU times: user 5.09 ms, sys: 0 ns, total: 5.09 ms\n",
      "Wall time: 4.21 ms\n"
     ]
    },
    {
     "data": {
      "text/plain": [
       "32.11916675544369"
      ]
     },
     "execution_count": 50,
     "metadata": {},
     "output_type": "execute_result"
    }
   ],
   "source": [
    "%%time\n",
    "prediction(gbr, X_valid, y_valid)"
   ]
  },
  {
   "cell_type": "code",
   "execution_count": 51,
   "metadata": {},
   "outputs": [
    {
     "data": {
      "text/html": [
       "<div>\n",
       "<style scoped>\n",
       "    .dataframe tbody tr th:only-of-type {\n",
       "        vertical-align: middle;\n",
       "    }\n",
       "\n",
       "    .dataframe tbody tr th {\n",
       "        vertical-align: top;\n",
       "    }\n",
       "\n",
       "    .dataframe thead th {\n",
       "        text-align: right;\n",
       "    }\n",
       "</style>\n",
       "<table border=\"1\" class=\"dataframe\">\n",
       "  <thead>\n",
       "    <tr style=\"text-align: right;\">\n",
       "      <th></th>\n",
       "      <th>model_name</th>\n",
       "      <th>training_time</th>\n",
       "      <th>prediction_valid_time</th>\n",
       "      <th>rmse_valid</th>\n",
       "      <th>prediction_test_time</th>\n",
       "      <th>rmse_test</th>\n",
       "    </tr>\n",
       "  </thead>\n",
       "  <tbody>\n",
       "    <tr>\n",
       "      <td>0</td>\n",
       "      <td>LogReg</td>\n",
       "      <td>5.75</td>\n",
       "      <td>3.52</td>\n",
       "      <td>40.57</td>\n",
       "      <td>NaN</td>\n",
       "      <td>NaN</td>\n",
       "    </tr>\n",
       "    <tr>\n",
       "      <td>1</td>\n",
       "      <td>KNN</td>\n",
       "      <td>3.64</td>\n",
       "      <td>0.43</td>\n",
       "      <td>35.58</td>\n",
       "      <td>NaN</td>\n",
       "      <td>NaN</td>\n",
       "    </tr>\n",
       "    <tr>\n",
       "      <td>2</td>\n",
       "      <td>LinSVM</td>\n",
       "      <td>8.54</td>\n",
       "      <td>1.00</td>\n",
       "      <td>41.31</td>\n",
       "      <td>NaN</td>\n",
       "      <td>NaN</td>\n",
       "    </tr>\n",
       "    <tr>\n",
       "      <td>3</td>\n",
       "      <td>GradBoost</td>\n",
       "      <td>2230.00</td>\n",
       "      <td>7.99</td>\n",
       "      <td>32.88</td>\n",
       "      <td>NaN</td>\n",
       "      <td>NaN</td>\n",
       "    </tr>\n",
       "    <tr>\n",
       "      <td>4</td>\n",
       "      <td>CatBoost</td>\n",
       "      <td>NaN</td>\n",
       "      <td>NaN</td>\n",
       "      <td>NaN</td>\n",
       "      <td>NaN</td>\n",
       "      <td>NaN</td>\n",
       "    </tr>\n",
       "  </tbody>\n",
       "</table>\n",
       "</div>"
      ],
      "text/plain": [
       "  model_name  training_time  prediction_valid_time  rmse_valid  \\\n",
       "0     LogReg           5.75                   3.52       40.57   \n",
       "1        KNN           3.64                   0.43       35.58   \n",
       "2     LinSVM           8.54                   1.00       41.31   \n",
       "3  GradBoost        2230.00                   7.99       32.88   \n",
       "4   CatBoost            NaN                    NaN         NaN   \n",
       "\n",
       "   prediction_test_time  rmse_test  \n",
       "0                   NaN        NaN  \n",
       "1                   NaN        NaN  \n",
       "2                   NaN        NaN  \n",
       "3                   NaN        NaN  \n",
       "4                   NaN        NaN  "
      ]
     },
     "execution_count": 51,
     "metadata": {},
     "output_type": "execute_result"
    }
   ],
   "source": [
    "results.loc[3, 'training_time'] = 2230\n",
    "results.loc[3, 'prediction_valid_time'] = 7.99\n",
    "results.loc[3,'rmse_valid'] = 32.88\n",
    "\n",
    "results"
   ]
  },
  {
   "cell_type": "markdown",
   "metadata": {},
   "source": [
    "Самое долгое время предсказания, но  на текущий момент - самое лучшее.  \n",
    "\n",
    "Посмотрим, как справится catboost.\n",
    "\n",
    "---"
   ]
  },
  {
   "cell_type": "markdown",
   "metadata": {},
   "source": [
    "**CatBoost Regressor** \n",
    "\n",
    "Создадим список категориальных фичей."
   ]
  },
  {
   "cell_type": "code",
   "execution_count": 52,
   "metadata": {},
   "outputs": [
    {
     "data": {
      "text/plain": [
       "Index(['num_orders', 'month', 'day', 'dayofweek', 'hour', 'lag_1', 'lag_2',\n",
       "       'lag_3', 'lag_4', 'lag_5', 'lag_6', 'lag_7', 'lag_8', 'lag_9', 'lag_10',\n",
       "       'rolling_mean'],\n",
       "      dtype='object')"
      ]
     },
     "execution_count": 52,
     "metadata": {},
     "output_type": "execute_result"
    }
   ],
   "source": [
    "taxi.columns"
   ]
  },
  {
   "cell_type": "code",
   "execution_count": 53,
   "metadata": {},
   "outputs": [],
   "source": [
    "cat_features = ['month', 'day', 'dayofweek', 'hour']"
   ]
  },
  {
   "cell_type": "markdown",
   "metadata": {},
   "source": [
    "Создаем пулы, обучаем и тестируем модель."
   ]
  },
  {
   "cell_type": "code",
   "execution_count": 54,
   "metadata": {},
   "outputs": [],
   "source": [
    "catboost_train = Pool(X_train, y_train, cat_features=cat_features)"
   ]
  },
  {
   "cell_type": "code",
   "execution_count": 55,
   "metadata": {},
   "outputs": [],
   "source": [
    "catboost = CatBoostRegressor(\n",
    "                          iterations=300, \n",
    "                          depth=4, \n",
    "                          learning_rate=0.3, \n",
    "                          loss_function='RMSE', \n",
    "                          subsample=0.9,\n",
    "                          #grow_policy='Depthwise',\n",
    "                          ###\n",
    "                          verbose=0, \n",
    "                          random_seed=42)"
   ]
  },
  {
   "cell_type": "code",
   "execution_count": 56,
   "metadata": {},
   "outputs": [
    {
     "name": "stdout",
     "output_type": "stream",
     "text": [
      "CPU times: user 6.41 s, sys: 1.28 s, total: 7.69 s\n",
      "Wall time: 11.6 s\n"
     ]
    },
    {
     "data": {
      "text/plain": [
       "<catboost.core.CatBoostRegressor at 0x7f8dc7cc8e50>"
      ]
     },
     "execution_count": 56,
     "metadata": {},
     "output_type": "execute_result"
    }
   ],
   "source": [
    "%%time\n",
    "catboost.fit(catboost_train)"
   ]
  },
  {
   "cell_type": "code",
   "execution_count": 66,
   "metadata": {},
   "outputs": [
    {
     "name": "stdout",
     "output_type": "stream",
     "text": [
      "CPU times: user 4 µs, sys: 1e+03 ns, total: 5 µs\n",
      "Wall time: 7.87 µs\n"
     ]
    },
    {
     "data": {
      "text/plain": [
       "36.825092357881424"
      ]
     },
     "execution_count": 66,
     "metadata": {},
     "output_type": "execute_result"
    }
   ],
   "source": [
    "%time\n",
    "prediction(catboost, X_valid, y_valid)"
   ]
  },
  {
   "cell_type": "markdown",
   "metadata": {},
   "source": [
    "Попробуем пробежаться хайпероптом по гиперпараметрам."
   ]
  },
  {
   "cell_type": "code",
   "execution_count": 58,
   "metadata": {},
   "outputs": [],
   "source": [
    "# ! pip install hyperopt"
   ]
  },
  {
   "cell_type": "markdown",
   "metadata": {},
   "source": [
    "*Ячейка ниже переведена в маркдаун*"
   ]
  },
  {
   "cell_type": "markdown",
   "metadata": {},
   "source": [
    "import hyperopt\n",
    "import catboost as ctb\n",
    "from hyperopt import fmin, tpe, STATUS_OK, STATUS_FAIL, Trials, hp\n",
    "\n",
    "ctb_reg_params = {\n",
    "    'learning_rate':  hp.quniform('learning_rate', 0.1, 0.6, 0.1),\n",
    "    'max_depth': hp.quniform('max_depth', 1, 6, 1),\n",
    "    'n_estimators': hp.quniform('n_estimators', 100, 800, 10),\n",
    "    'eval_metric': 'RMSE',\n",
    "    #'grow_policy':'Depthwise',\n",
    "    'subsample': hp.quniform('subsample', 0.3, 0.9, 0.1), \n",
    "    'random_seed':42\n",
    "}\n",
    "\n",
    "ctb_fit_params = {\n",
    "    #'early_stopping_rounds': 10,\n",
    "    'verbose': False,\n",
    "}\n",
    "\n",
    "ctb_para = dict()\n",
    "ctb_para['reg_params'] = ctb_reg_params\n",
    "ctb_para['fit_params'] = ctb_fit_params\n",
    "ctb_para['loss_func' ] = lambda y, pred: np.sqrt(mean_squared_error(y, pred))\n",
    "\n",
    "class HPOpt(object):    \n",
    "\n",
    "    def __init__(self, x_train, x_test, y_train, y_test):\n",
    "        self.x_train = x_train\n",
    "        self.x_test  = x_test\n",
    "        self.y_train = y_train\n",
    "        self.y_test  = y_test    \n",
    "        \n",
    "    def process(self, fn_name, space, trials, algo, max_evals):\n",
    "        fn = getattr(self, fn_name)\n",
    "        try:\n",
    "            result = fmin(fn=fn, space=space, algo=algo, max_evals=max_evals, trials=trials)\n",
    "        except Exception as e:\n",
    "            return {'status': STATUS_FAIL,\n",
    "                    'exception': str(e)}\n",
    "        return result, trials    \n",
    "    \n",
    "    def ctb_reg(self, para):\n",
    "        \n",
    "        reg = ctb.CatBoostRegressor(**para['reg_params'])\n",
    "        return self.train_reg(reg, para)   \n",
    "    \n",
    "    def train_reg(self, reg, para):\n",
    "        reg.fit(self.x_train, self.y_train,\n",
    "                eval_set=[(self.x_train, self.y_train), (self.x_test, self.y_test)],\n",
    "                **para['fit_params'])\n",
    "        pred = reg.predict(self.x_test)\n",
    "        loss = para['loss_func'](self.y_test, pred)\n",
    "        return {'loss': loss, 'status': STATUS_OK}\n",
    "    \n",
    "obj =  HPOpt(X_train, X_valid, y_train, y_valid)\n",
    "ctb_opt = obj.process(fn_name='ctb_reg', space=ctb_para, trials=Trials(), algo=tpe.suggest, max_evals=100)"
   ]
  },
  {
   "cell_type": "code",
   "execution_count": 59,
   "metadata": {},
   "outputs": [],
   "source": [
    "#ctb_opt"
   ]
  },
  {
   "cell_type": "markdown",
   "metadata": {},
   "source": [
    "({'learning_rate': 0.5,\n",
    "  'max_depth': 3.0,\n",
    "  'n_estimators': 250.0,\n",
    "  'subsample': 0.5}"
   ]
  },
  {
   "cell_type": "code",
   "execution_count": 60,
   "metadata": {},
   "outputs": [],
   "source": [
    "cbr  = CatBoostRegressor(\n",
    "                          iterations=250, \n",
    "                          depth=3, \n",
    "                          learning_rate=0.5, \n",
    "                          loss_function='RMSE', \n",
    "                          subsample=0.5,\n",
    "                          verbose=0, \n",
    "                          random_seed=42)"
   ]
  },
  {
   "cell_type": "code",
   "execution_count": 61,
   "metadata": {},
   "outputs": [
    {
     "name": "stdout",
     "output_type": "stream",
     "text": [
      "CPU times: user 3.63 s, sys: 632 ms, total: 4.26 s\n",
      "Wall time: 10.3 s\n"
     ]
    },
    {
     "data": {
      "text/plain": [
       "<catboost.core.CatBoostRegressor at 0x7f8dc7dba790>"
      ]
     },
     "execution_count": 61,
     "metadata": {},
     "output_type": "execute_result"
    }
   ],
   "source": [
    "%%time\n",
    "cbr.fit(catboost_train)"
   ]
  },
  {
   "cell_type": "code",
   "execution_count": 62,
   "metadata": {},
   "outputs": [
    {
     "name": "stdout",
     "output_type": "stream",
     "text": [
      "CPU times: user 6.36 ms, sys: 3.26 ms, total: 9.62 ms\n",
      "Wall time: 4.27 ms\n"
     ]
    },
    {
     "data": {
      "text/plain": [
       "38.91386682026677"
      ]
     },
     "execution_count": 62,
     "metadata": {},
     "output_type": "execute_result"
    }
   ],
   "source": [
    "%%time\n",
    "prediction(cbr, X_valid, y_valid)"
   ]
  },
  {
   "cell_type": "markdown",
   "metadata": {},
   "source": [
    "Параметры, найденные вручную (выше, до хайперопта), оказались лучше. Буду дальше изучать этот метод поиска."
   ]
  },
  {
   "cell_type": "code",
   "execution_count": 67,
   "metadata": {},
   "outputs": [
    {
     "data": {
      "text/html": [
       "<div>\n",
       "<style scoped>\n",
       "    .dataframe tbody tr th:only-of-type {\n",
       "        vertical-align: middle;\n",
       "    }\n",
       "\n",
       "    .dataframe tbody tr th {\n",
       "        vertical-align: top;\n",
       "    }\n",
       "\n",
       "    .dataframe thead th {\n",
       "        text-align: right;\n",
       "    }\n",
       "</style>\n",
       "<table border=\"1\" class=\"dataframe\">\n",
       "  <thead>\n",
       "    <tr style=\"text-align: right;\">\n",
       "      <th></th>\n",
       "      <th>model_name</th>\n",
       "      <th>training_time</th>\n",
       "      <th>prediction_valid_time</th>\n",
       "      <th>rmse_valid</th>\n",
       "      <th>prediction_test_time</th>\n",
       "      <th>rmse_test</th>\n",
       "    </tr>\n",
       "  </thead>\n",
       "  <tbody>\n",
       "    <tr>\n",
       "      <td>0</td>\n",
       "      <td>LogReg</td>\n",
       "      <td>5.75</td>\n",
       "      <td>3.52</td>\n",
       "      <td>40.57</td>\n",
       "      <td>NaN</td>\n",
       "      <td>NaN</td>\n",
       "    </tr>\n",
       "    <tr>\n",
       "      <td>1</td>\n",
       "      <td>KNN</td>\n",
       "      <td>3.64</td>\n",
       "      <td>0.43</td>\n",
       "      <td>35.58</td>\n",
       "      <td>NaN</td>\n",
       "      <td>NaN</td>\n",
       "    </tr>\n",
       "    <tr>\n",
       "      <td>2</td>\n",
       "      <td>LinSVM</td>\n",
       "      <td>8.54</td>\n",
       "      <td>1.00</td>\n",
       "      <td>41.31</td>\n",
       "      <td>NaN</td>\n",
       "      <td>NaN</td>\n",
       "    </tr>\n",
       "    <tr>\n",
       "      <td>3</td>\n",
       "      <td>GradBoost</td>\n",
       "      <td>2230.00</td>\n",
       "      <td>7.99</td>\n",
       "      <td>32.88</td>\n",
       "      <td>NaN</td>\n",
       "      <td>NaN</td>\n",
       "    </tr>\n",
       "    <tr>\n",
       "      <td>4</td>\n",
       "      <td>CatBoost</td>\n",
       "      <td>7690.00</td>\n",
       "      <td>0.70</td>\n",
       "      <td>36.83</td>\n",
       "      <td>NaN</td>\n",
       "      <td>NaN</td>\n",
       "    </tr>\n",
       "  </tbody>\n",
       "</table>\n",
       "</div>"
      ],
      "text/plain": [
       "  model_name  training_time  prediction_valid_time  rmse_valid  \\\n",
       "0     LogReg           5.75                   3.52       40.57   \n",
       "1        KNN           3.64                   0.43       35.58   \n",
       "2     LinSVM           8.54                   1.00       41.31   \n",
       "3  GradBoost        2230.00                   7.99       32.88   \n",
       "4   CatBoost        7690.00                   0.70       36.83   \n",
       "\n",
       "   prediction_test_time  rmse_test  \n",
       "0                   NaN        NaN  \n",
       "1                   NaN        NaN  \n",
       "2                   NaN        NaN  \n",
       "3                   NaN        NaN  \n",
       "4                   NaN        NaN  "
      ]
     },
     "execution_count": 67,
     "metadata": {},
     "output_type": "execute_result"
    }
   ],
   "source": [
    "results.loc[4, 'training_time'] = 7690\n",
    "results.loc[4, 'prediction_valid_time'] = 0.7\n",
    "results.loc[4,'rmse_valid'] = 36.83\n",
    "\n",
    "results"
   ]
  },
  {
   "cell_type": "markdown",
   "metadata": {},
   "source": [
    " Не самые лучшие показатели. Завершаем данный шаг выводами."
   ]
  },
  {
   "cell_type": "markdown",
   "metadata": {},
   "source": [
    "### Вывод  \n",
    "\n",
    "На данном этапе было протестировано 5 моделей. Обучение проводилось на подвыборке train, валидация - на подвыборке valid.  \n",
    "Все исследуемые модели продемонстрировали лучший, чем дамми моделька, показатель метрики rmse.  \n",
    "На текущий момент лучшей моделью по качеству является градиентный регрессор sklearn, худшей - саппорт вектор. Градиентные ансамбли, в сравнении с обычными моделями обучаются в несколько раз дольше, что, в целом, объяснимо и понятно.  \n",
    "Можно отбросить логистическую регрессию и саппорт вектор, однако, для полноты исследования протестируем все представленные модели на следующем шаге.\n",
    "\n",
    "---"
   ]
  },
  {
   "cell_type": "markdown",
   "metadata": {},
   "source": [
    "## 4. Тестирование моделей"
   ]
  },
  {
   "cell_type": "code",
   "execution_count": 64,
   "metadata": {},
   "outputs": [],
   "source": [
    "sub_upd = sub.dropna()"
   ]
  },
  {
   "cell_type": "code",
   "execution_count": 69,
   "metadata": {},
   "outputs": [],
   "source": [
    "feat = sub_upd.drop(['num_orders'], axis=1)\n",
    "targ = sub_upd['num_orders'] \n",
    "\n",
    "\n",
    "feat_mm = min_max.transform(feat)\n",
    "feat_ss = st_sc.transform(feat)"
   ]
  },
  {
   "cell_type": "code",
   "execution_count": 70,
   "metadata": {},
   "outputs": [],
   "source": [
    "catboost_full = Pool(feat, targ, cat_features=cat_features)"
   ]
  },
  {
   "cell_type": "markdown",
   "metadata": {},
   "source": [
    "Тестируем модели"
   ]
  },
  {
   "cell_type": "markdown",
   "metadata": {},
   "source": [
    "*LogReg*"
   ]
  },
  {
   "cell_type": "code",
   "execution_count": 72,
   "metadata": {
    "scrolled": true
   },
   "outputs": [
    {
     "name": "stdout",
     "output_type": "stream",
     "text": [
      "CPU times: user 7.47 ms, sys: 508 µs, total: 7.98 ms\n",
      "Wall time: 4.58 ms\n"
     ]
    },
    {
     "data": {
      "text/plain": [
       "LinearRegression(copy_X=True, fit_intercept=True, n_jobs=None, normalize=False)"
      ]
     },
     "execution_count": 72,
     "metadata": {},
     "output_type": "execute_result"
    }
   ],
   "source": [
    "%%time\n",
    "lr.fit(feat, targ)"
   ]
  },
  {
   "cell_type": "code",
   "execution_count": 73,
   "metadata": {},
   "outputs": [
    {
     "name": "stdout",
     "output_type": "stream",
     "text": [
      "CPU times: user 2.84 ms, sys: 0 ns, total: 2.84 ms\n",
      "Wall time: 2.31 ms\n"
     ]
    },
    {
     "data": {
      "text/plain": [
       "53.454643856732545"
      ]
     },
     "execution_count": 73,
     "metadata": {},
     "output_type": "execute_result"
    }
   ],
   "source": [
    "%%time\n",
    "prediction(lr, X_test, y_test)"
   ]
  },
  {
   "cell_type": "code",
   "execution_count": 74,
   "metadata": {},
   "outputs": [],
   "source": [
    "results.loc[0, 'prediction_test_time'] = 2.31\n",
    "results.loc[0,'rmse_test'] = 53.45"
   ]
  },
  {
   "cell_type": "markdown",
   "metadata": {},
   "source": [
    "*knn*"
   ]
  },
  {
   "cell_type": "code",
   "execution_count": 75,
   "metadata": {},
   "outputs": [
    {
     "name": "stdout",
     "output_type": "stream",
     "text": [
      "CPU times: user 5.37 ms, sys: 171 µs, total: 5.54 ms\n",
      "Wall time: 4.26 ms\n"
     ]
    },
    {
     "data": {
      "text/plain": [
       "KNeighborsRegressor(algorithm='auto', leaf_size=20, metric='manhattan',\n",
       "                    metric_params=None, n_jobs=None, n_neighbors=8, p=2,\n",
       "                    weights='uniform')"
      ]
     },
     "execution_count": 75,
     "metadata": {},
     "output_type": "execute_result"
    }
   ],
   "source": [
    "%%time\n",
    "knn.fit(feat_mm, targ)"
   ]
  },
  {
   "cell_type": "code",
   "execution_count": 97,
   "metadata": {},
   "outputs": [
    {
     "name": "stdout",
     "output_type": "stream",
     "text": [
      "CPU times: user 63.3 ms, sys: 0 ns, total: 63.3 ms\n",
      "Wall time: 61.4 ms\n"
     ]
    },
    {
     "data": {
      "text/plain": [
       "52.142250311373566"
      ]
     },
     "execution_count": 97,
     "metadata": {},
     "output_type": "execute_result"
    }
   ],
   "source": [
    "%%time\n",
    "prediction(knn, X_test_mm, y_test)"
   ]
  },
  {
   "cell_type": "code",
   "execution_count": 83,
   "metadata": {},
   "outputs": [],
   "source": [
    "results.loc[1, 'prediction_test_time'] = 58.7\n",
    "results.loc[1,'rmse_test'] = 52.14"
   ]
  },
  {
   "cell_type": "markdown",
   "metadata": {},
   "source": [
    "*svm*"
   ]
  },
  {
   "cell_type": "code",
   "execution_count": 78,
   "metadata": {},
   "outputs": [
    {
     "name": "stdout",
     "output_type": "stream",
     "text": [
      "CPU times: user 14.1 ms, sys: 198 µs, total: 14.3 ms\n",
      "Wall time: 12.4 ms\n"
     ]
    },
    {
     "data": {
      "text/plain": [
       "LinearSVR(C=1, dual=True, epsilon=0.0, fit_intercept=True,\n",
       "          intercept_scaling=1.0, loss='epsilon_insensitive', max_iter=100,\n",
       "          random_state=42, tol=0.0001, verbose=0)"
      ]
     },
     "execution_count": 78,
     "metadata": {},
     "output_type": "execute_result"
    }
   ],
   "source": [
    "%%time\n",
    "svm.fit(feat_ss, targ)"
   ]
  },
  {
   "cell_type": "code",
   "execution_count": 79,
   "metadata": {},
   "outputs": [
    {
     "name": "stdout",
     "output_type": "stream",
     "text": [
      "CPU times: user 1.4 ms, sys: 0 ns, total: 1.4 ms\n",
      "Wall time: 1.14 ms\n"
     ]
    },
    {
     "data": {
      "text/plain": [
       "54.22170516535908"
      ]
     },
     "execution_count": 79,
     "metadata": {},
     "output_type": "execute_result"
    }
   ],
   "source": [
    "%%time\n",
    "prediction(svm, X_test_ss, y_test)"
   ]
  },
  {
   "cell_type": "code",
   "execution_count": 94,
   "metadata": {},
   "outputs": [],
   "source": [
    "results.loc[2, 'prediction_test_time'] = 1.4\n",
    "results.loc[2,'rmse_test'] = 54.22"
   ]
  },
  {
   "cell_type": "markdown",
   "metadata": {},
   "source": [
    "*GradBoost*"
   ]
  },
  {
   "cell_type": "code",
   "execution_count": 81,
   "metadata": {},
   "outputs": [
    {
     "name": "stdout",
     "output_type": "stream",
     "text": [
      "CPU times: user 904 ms, sys: 0 ns, total: 904 ms\n",
      "Wall time: 906 ms\n"
     ]
    },
    {
     "data": {
      "text/plain": [
       "GradientBoostingRegressor(alpha=0.9, criterion='friedman_mse', init=None,\n",
       "                          learning_rate=0.15, loss='ls', max_depth=4,\n",
       "                          max_features=None, max_leaf_nodes=None,\n",
       "                          min_impurity_decrease=0.0, min_impurity_split=None,\n",
       "                          min_samples_leaf=1, min_samples_split=4,\n",
       "                          min_weight_fraction_leaf=0.0, n_estimators=200,\n",
       "                          n_iter_no_change=None, presort='auto',\n",
       "                          random_state=42, subsample=1.0, tol=0.001,\n",
       "                          validation_fraction=0.1, verbose=0, warm_start=False)"
      ]
     },
     "execution_count": 81,
     "metadata": {},
     "output_type": "execute_result"
    }
   ],
   "source": [
    "%%time\n",
    "gbr.fit(feat, targ)"
   ]
  },
  {
   "cell_type": "code",
   "execution_count": 82,
   "metadata": {},
   "outputs": [
    {
     "name": "stdout",
     "output_type": "stream",
     "text": [
      "CPU times: user 4.69 ms, sys: 0 ns, total: 4.69 ms\n",
      "Wall time: 4.22 ms\n"
     ]
    },
    {
     "data": {
      "text/plain": [
       "45.647131344235724"
      ]
     },
     "execution_count": 82,
     "metadata": {},
     "output_type": "execute_result"
    }
   ],
   "source": [
    "%%time\n",
    "prediction(gbr, X_test, y_test)"
   ]
  },
  {
   "cell_type": "code",
   "execution_count": 85,
   "metadata": {},
   "outputs": [],
   "source": [
    "results.loc[3, 'prediction_test_time'] = 4.69\n",
    "results.loc[3,'rmse_test'] = 45.65"
   ]
  },
  {
   "cell_type": "markdown",
   "metadata": {},
   "source": [
    "*CatBoost*"
   ]
  },
  {
   "cell_type": "code",
   "execution_count": 86,
   "metadata": {},
   "outputs": [
    {
     "name": "stdout",
     "output_type": "stream",
     "text": [
      "CPU times: user 6.6 s, sys: 1.28 s, total: 7.88 s\n",
      "Wall time: 11.9 s\n"
     ]
    },
    {
     "data": {
      "text/plain": [
       "<catboost.core.CatBoostRegressor at 0x7f8dc7cc8e50>"
      ]
     },
     "execution_count": 86,
     "metadata": {},
     "output_type": "execute_result"
    }
   ],
   "source": [
    "%%time\n",
    "catboost.fit(catboost_full)"
   ]
  },
  {
   "cell_type": "code",
   "execution_count": 87,
   "metadata": {},
   "outputs": [
    {
     "name": "stdout",
     "output_type": "stream",
     "text": [
      "CPU times: user 8.12 ms, sys: 3.55 ms, total: 11.7 ms\n",
      "Wall time: 5.98 ms\n"
     ]
    },
    {
     "data": {
      "text/plain": [
       "43.715785998890006"
      ]
     },
     "execution_count": 87,
     "metadata": {},
     "output_type": "execute_result"
    }
   ],
   "source": [
    "%%time\n",
    "prediction(catboost, X_test, y_test)"
   ]
  },
  {
   "cell_type": "code",
   "execution_count": 88,
   "metadata": {},
   "outputs": [],
   "source": [
    "results.loc[4, 'prediction_test_time'] = 11.7\n",
    "results.loc[4,'rmse_test'] = 43.72"
   ]
  },
  {
   "cell_type": "markdown",
   "metadata": {},
   "source": [
    "Посмотрим на общие результаты."
   ]
  },
  {
   "cell_type": "code",
   "execution_count": 95,
   "metadata": {},
   "outputs": [
    {
     "data": {
      "text/html": [
       "<div>\n",
       "<style scoped>\n",
       "    .dataframe tbody tr th:only-of-type {\n",
       "        vertical-align: middle;\n",
       "    }\n",
       "\n",
       "    .dataframe tbody tr th {\n",
       "        vertical-align: top;\n",
       "    }\n",
       "\n",
       "    .dataframe thead th {\n",
       "        text-align: right;\n",
       "    }\n",
       "</style>\n",
       "<table border=\"1\" class=\"dataframe\">\n",
       "  <thead>\n",
       "    <tr style=\"text-align: right;\">\n",
       "      <th></th>\n",
       "      <th>model_name</th>\n",
       "      <th>training_time</th>\n",
       "      <th>prediction_valid_time</th>\n",
       "      <th>rmse_valid</th>\n",
       "      <th>prediction_test_time</th>\n",
       "      <th>rmse_test</th>\n",
       "    </tr>\n",
       "  </thead>\n",
       "  <tbody>\n",
       "    <tr>\n",
       "      <td>0</td>\n",
       "      <td>LogReg</td>\n",
       "      <td>5.75</td>\n",
       "      <td>3.52</td>\n",
       "      <td>40.57</td>\n",
       "      <td>2.31</td>\n",
       "      <td>53.45</td>\n",
       "    </tr>\n",
       "    <tr>\n",
       "      <td>1</td>\n",
       "      <td>KNN</td>\n",
       "      <td>3.64</td>\n",
       "      <td>0.43</td>\n",
       "      <td>35.58</td>\n",
       "      <td>58.70</td>\n",
       "      <td>52.14</td>\n",
       "    </tr>\n",
       "    <tr>\n",
       "      <td>2</td>\n",
       "      <td>LinSVM</td>\n",
       "      <td>8.54</td>\n",
       "      <td>1.00</td>\n",
       "      <td>41.31</td>\n",
       "      <td>1.40</td>\n",
       "      <td>54.22</td>\n",
       "    </tr>\n",
       "    <tr>\n",
       "      <td>3</td>\n",
       "      <td>GradBoost</td>\n",
       "      <td>2230.00</td>\n",
       "      <td>7.99</td>\n",
       "      <td>32.88</td>\n",
       "      <td>4.69</td>\n",
       "      <td>45.65</td>\n",
       "    </tr>\n",
       "    <tr>\n",
       "      <td>4</td>\n",
       "      <td>CatBoost</td>\n",
       "      <td>7690.00</td>\n",
       "      <td>0.70</td>\n",
       "      <td>36.83</td>\n",
       "      <td>11.70</td>\n",
       "      <td>43.72</td>\n",
       "    </tr>\n",
       "  </tbody>\n",
       "</table>\n",
       "</div>"
      ],
      "text/plain": [
       "  model_name  training_time  prediction_valid_time  rmse_valid  \\\n",
       "0     LogReg           5.75                   3.52       40.57   \n",
       "1        KNN           3.64                   0.43       35.58   \n",
       "2     LinSVM           8.54                   1.00       41.31   \n",
       "3  GradBoost        2230.00                   7.99       32.88   \n",
       "4   CatBoost        7690.00                   0.70       36.83   \n",
       "\n",
       "   prediction_test_time  rmse_test  \n",
       "0                  2.31      53.45  \n",
       "1                 58.70      52.14  \n",
       "2                  1.40      54.22  \n",
       "3                  4.69      45.65  \n",
       "4                 11.70      43.72  "
      ]
     },
     "execution_count": 95,
     "metadata": {},
     "output_type": "execute_result"
    }
   ],
   "source": [
    "results"
   ]
  },
  {
   "cell_type": "code",
   "execution_count": 96,
   "metadata": {},
   "outputs": [
    {
     "data": {
      "text/html": [
       "<div>\n",
       "<style scoped>\n",
       "    .dataframe tbody tr th:only-of-type {\n",
       "        vertical-align: middle;\n",
       "    }\n",
       "\n",
       "    .dataframe tbody tr th {\n",
       "        vertical-align: top;\n",
       "    }\n",
       "\n",
       "    .dataframe thead th {\n",
       "        text-align: right;\n",
       "    }\n",
       "</style>\n",
       "<table border=\"1\" class=\"dataframe\">\n",
       "  <thead>\n",
       "    <tr style=\"text-align: right;\">\n",
       "      <th></th>\n",
       "      <th>model_name</th>\n",
       "      <th>training_time</th>\n",
       "      <th>prediction_valid_time</th>\n",
       "      <th>rmse_valid</th>\n",
       "      <th>prediction_test_time</th>\n",
       "      <th>rmse_test</th>\n",
       "    </tr>\n",
       "  </thead>\n",
       "  <tbody>\n",
       "    <tr>\n",
       "      <td>4</td>\n",
       "      <td>CatBoost</td>\n",
       "      <td>7690.00</td>\n",
       "      <td>0.70</td>\n",
       "      <td>36.83</td>\n",
       "      <td>11.70</td>\n",
       "      <td>43.72</td>\n",
       "    </tr>\n",
       "    <tr>\n",
       "      <td>3</td>\n",
       "      <td>GradBoost</td>\n",
       "      <td>2230.00</td>\n",
       "      <td>7.99</td>\n",
       "      <td>32.88</td>\n",
       "      <td>4.69</td>\n",
       "      <td>45.65</td>\n",
       "    </tr>\n",
       "    <tr>\n",
       "      <td>1</td>\n",
       "      <td>KNN</td>\n",
       "      <td>3.64</td>\n",
       "      <td>0.43</td>\n",
       "      <td>35.58</td>\n",
       "      <td>58.70</td>\n",
       "      <td>52.14</td>\n",
       "    </tr>\n",
       "    <tr>\n",
       "      <td>0</td>\n",
       "      <td>LogReg</td>\n",
       "      <td>5.75</td>\n",
       "      <td>3.52</td>\n",
       "      <td>40.57</td>\n",
       "      <td>2.31</td>\n",
       "      <td>53.45</td>\n",
       "    </tr>\n",
       "    <tr>\n",
       "      <td>2</td>\n",
       "      <td>LinSVM</td>\n",
       "      <td>8.54</td>\n",
       "      <td>1.00</td>\n",
       "      <td>41.31</td>\n",
       "      <td>1.40</td>\n",
       "      <td>54.22</td>\n",
       "    </tr>\n",
       "  </tbody>\n",
       "</table>\n",
       "</div>"
      ],
      "text/plain": [
       "  model_name  training_time  prediction_valid_time  rmse_valid  \\\n",
       "4   CatBoost        7690.00                   0.70       36.83   \n",
       "3  GradBoost        2230.00                   7.99       32.88   \n",
       "1        KNN           3.64                   0.43       35.58   \n",
       "0     LogReg           5.75                   3.52       40.57   \n",
       "2     LinSVM           8.54                   1.00       41.31   \n",
       "\n",
       "   prediction_test_time  rmse_test  \n",
       "4                 11.70      43.72  \n",
       "3                  4.69      45.65  \n",
       "1                 58.70      52.14  \n",
       "0                  2.31      53.45  \n",
       "2                  1.40      54.22  "
      ]
     },
     "execution_count": 96,
     "metadata": {},
     "output_type": "execute_result"
    }
   ],
   "source": [
    "sort = results.sort_values(by='rmse_test')\n",
    "sort"
   ]
  },
  {
   "cell_type": "code",
   "execution_count": 146,
   "metadata": {},
   "outputs": [
    {
     "data": {
      "image/png": "[encoded data removed]",
      "text/plain": [
       "<Figure size 576x432 with 1 Axes>"
      ]
     },
     "metadata": {},
     "output_type": "display_data"
    }
   ],
   "source": [
    "fig, ax = plt.subplots(figsize=(8,6))\n",
    "ax.vlines(x=sort['model_name'], ymin=0, ymax=sort['rmse_test'], color='dimgrey', alpha=0.7, linewidth=2)\n",
    "ax.scatter(x=sort['model_name'], y=sort['rmse_test'], s=75, color='firebrick', alpha=0.85)\n",
    "\n",
    "ax.set_title('Сравнение RMSE на тестовой выборке', size=15, y=(1.02))\n",
    "ax.set_ylabel('RMSE test')\n",
    "ax.set_ylim(0, 70)\n",
    "\n",
    "for row in sort.itertuples():\n",
    "    ax.text(row.model_name, row.rmse_test+1.5, s=row.rmse_test,\n",
    "            horizontalalignment= 'center', verticalalignment='bottom', fontsize=12)\n",
    "  \n",
    "plt.show()"
   ]
  },
  {
   "cell_type": "markdown",
   "metadata": {},
   "source": [
    "В ходе анализа было установлено, что только 2 модели смогли продемонстрировать показатель, который удовлетворяет требование по размеру RMSE - это CatBoost и GradientBoostingRegressor. \n",
    "Однако стоить заметить, что данные модели требуют гораздо большего времени обучения, по сравнению с остальными представителями регрессоров в настоящем исследовании.  \n",
    "\n",
    "Переходим к выводам и финальному выводу.\n",
    "\n",
    "---"
   ]
  },
  {
   "cell_type": "markdown",
   "metadata": {},
   "source": [
    "### Вывод \n",
    "\n",
    "На данном этапе производилось измерение качества предсказаний на тестовой выборке.  \n",
    "По результатам исследования к применению в реальной работе рекомендуются catboost и gradientboosting. Они продемонстрировали rmse на тестовой выборке 43.72 и 45.65 пунктов соответственно. Время обучения предложенных моделей составляет 4 и 1 секунды, что стоит учитывать при работе с гораздо бОльшими источниками данных.  \n",
    "В рамках текущей задачи rmse = 43 считается допустимой, однако, для более качественного прогноза стоит поискать более полные данные, с большим, вероятно, количеством признаков.  \n",
    "\n",
    "---"
   ]
  },
  {
   "cell_type": "markdown",
   "metadata": {},
   "source": [
    "## Общий вывод  \n",
    "\n",
    "Целью настоящего исследования ставилось создание модели, способной предсказать спрос на услуги такси с отклонением до 48 заказов в час.  \n",
    "\n",
    "Результатом тестовых испытаний стали 2 модели, прошедшие установленный порог - catboost и gradietboosting, c показателями 43,72 и 45,65б соответственно.  \n",
    "\n",
    "Также в ходе исследования были протестированы 3 модели - логистическая регрессия, ближайшие соседи и регрессия с опорными векторами, однако ни одна из них не смогла пересечь рубеж в 48 rmse на тестовой выборке.  \n",
    "\n",
    "Отчасти это связано с тем, что в тестовом сепле мы можем наблюдать повышенную дисперсию и общий тренд на увеличение заказов, которые сложно прогноризуются в \"начале\" сезона. Отчасти именно с этим и связано решение на шаге 4 - обучать модели на максимально полных данных, соединив обучающую и валидационную выборки.  \n",
    "\n",
    "В остальном - данные так же показывают заметную сезонность-  пиковые нагрузки приходятся на 00 и 16-17 часов, тогда как минимальное количество заказов поступает ранним утром (6-7 часов) и в 18 часов вечера.  На основании этих данных можно создать рекомендацию о дополнительном увеличении количества экипажей такси именно в эти часы.  \n",
    "\n",
    "Цели и задачи исследования достигнуты, однако для улучшения метрики стоит взять больший период времени или найти дополнительные фичи (вопрос к тимлиду и более опытным коллегам."
   ]
  }
 ],
 "metadata": {
  "kernelspec": {
   "display_name": "Python 3",
   "language": "python",
   "name": "python3"
  },
  "language_info": {
   "codemirror_mode": {
    "name": "ipython",
    "version": 3
   },
   "file_extension": ".py",
   "mimetype": "text/x-python",
   "name": "python",
   "nbconvert_exporter": "python",
   "pygments_lexer": "ipython3",
   "version": "3.7.4"
  }
 },
 "nbformat": 4,
 "nbformat_minor": 2
}
