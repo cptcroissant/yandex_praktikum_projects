{
 "cells": [
  {
   "cell_type": "markdown",
   "metadata": {},
   "source": [
    "## Шаг 1. Подготовка и предобработка данных"
   ]
  },
  {
   "cell_type": "markdown",
   "metadata": {},
   "source": [
    "#### Импорт необходимых библиотек"
   ]
  },
  {
   "cell_type": "code",
   "execution_count": 1,
   "metadata": {},
   "outputs": [],
   "source": [
    "#common\n",
    "import numpy as np\n",
    "import pandas as pd \n",
    "import IPython\n",
    "from IPython.display import display\n",
    "import warnings\n",
    "warnings.simplefilter('ignore')\n",
    "import scipy.stats as st\n",
    "import re\n",
    "\n",
    "#visualization\n",
    "import seaborn as sns\n",
    "import matplotlib.pyplot as plt\n",
    "import plotly.graph_objects as go\n",
    "import plotly.express as px\n",
    "\n",
    "#ml\n",
    "from sklearn.metrics import SCORERS, make_scorer\n",
    "from sklearn.metrics import mean_squared_error,  r2_score, roc_auc_score, roc_curve, mean_absolute_error\n",
    "from sklearn.model_selection import train_test_split, cross_validate, cross_val_score\n",
    "from sklearn.model_selection import GridSearchCV, RandomizedSearchCV, KFold\n",
    "from sklearn.pipeline import Pipeline, make_pipeline\n",
    "from sklearn.preprocessing import StandardScaler, MinMaxScaler, OrdinalEncoder, LabelEncoder, Binarizer\n",
    "from sklearn.preprocessing import QuantileTransformer, PolynomialFeatures\n",
    "from sklearn.utils import shuffle, resample\n",
    "from sklearn.decomposition import PCA, IncrementalPCA, KernelPCA\n",
    "\n",
    "#classifiers\n",
    "\n",
    "from sklearn.linear_model import LinearRegression, SGDRegressor\n",
    "from sklearn.ensemble import RandomForestRegressor\n",
    "from sklearn.neighbors import KNeighborsRegressor\n",
    "from sklearn.svm import SVR"
   ]
  },
  {
   "cell_type": "markdown",
   "metadata": {},
   "source": [
    "#### Импорт и анализ датасетов"
   ]
  },
  {
   "cell_type": "code",
   "execution_count": 2,
   "metadata": {},
   "outputs": [],
   "source": [
    "recovery_full = pd.read_csv('/datasets/gold_recovery_full.csv')\n",
    "recovery_train = pd.read_csv('/datasets/gold_recovery_train.csv')\n",
    "recovery_test = pd.read_csv('/datasets/gold_recovery_test.csv')"
   ]
  },
  {
   "cell_type": "markdown",
   "metadata": {},
   "source": [
    "Напишем функцию, показывающую основные данные по каждому сету. "
   ]
  },
  {
   "cell_type": "code",
   "execution_count": 3,
   "metadata": {},
   "outputs": [],
   "source": [
    "def frame_info(df):\n",
    "    \n",
    "    print(df.info())\n",
    "    print(df.shape)\n",
    "    display(df.head(3))\n",
    "    #print(df.apply(lambda x: sum(x.isnull()) / len(df)))\n",
    "    #df.describe().round()"
   ]
  },
  {
   "cell_type": "code",
   "execution_count": 4,
   "metadata": {
    "scrolled": false
   },
   "outputs": [
    {
     "name": "stdout",
     "output_type": "stream",
     "text": [
      "recovery_full\n",
      "\n",
      "<class 'pandas.core.frame.DataFrame'>\n",
      "RangeIndex: 22716 entries, 0 to 22715\n",
      "Data columns (total 87 columns):\n",
      "date                                                  22716 non-null object\n",
      "final.output.concentrate_ag                           22627 non-null float64\n",
      "final.output.concentrate_pb                           22629 non-null float64\n",
      "final.output.concentrate_sol                          22331 non-null float64\n",
      "final.output.concentrate_au                           22630 non-null float64\n",
      "final.output.recovery                                 20753 non-null float64\n",
      "final.output.tail_ag                                  22633 non-null float64\n",
      "final.output.tail_pb                                  22516 non-null float64\n",
      "final.output.tail_sol                                 22445 non-null float64\n",
      "final.output.tail_au                                  22635 non-null float64\n",
      "primary_cleaner.input.sulfate                         21107 non-null float64\n",
      "primary_cleaner.input.depressant                      21170 non-null float64\n",
      "primary_cleaner.input.feed_size                       22716 non-null float64\n",
      "primary_cleaner.input.xanthate                        21565 non-null float64\n",
      "primary_cleaner.output.concentrate_ag                 22618 non-null float64\n",
      "primary_cleaner.output.concentrate_pb                 22268 non-null float64\n",
      "primary_cleaner.output.concentrate_sol                21918 non-null float64\n",
      "primary_cleaner.output.concentrate_au                 22618 non-null float64\n",
      "primary_cleaner.output.tail_ag                        22614 non-null float64\n",
      "primary_cleaner.output.tail_pb                        22594 non-null float64\n",
      "primary_cleaner.output.tail_sol                       22365 non-null float64\n",
      "primary_cleaner.output.tail_au                        22617 non-null float64\n",
      "primary_cleaner.state.floatbank8_a_air                22660 non-null float64\n",
      "primary_cleaner.state.floatbank8_a_level              22667 non-null float64\n",
      "primary_cleaner.state.floatbank8_b_air                22660 non-null float64\n",
      "primary_cleaner.state.floatbank8_b_level              22673 non-null float64\n",
      "primary_cleaner.state.floatbank8_c_air                22662 non-null float64\n",
      "primary_cleaner.state.floatbank8_c_level              22673 non-null float64\n",
      "primary_cleaner.state.floatbank8_d_air                22661 non-null float64\n",
      "primary_cleaner.state.floatbank8_d_level              22673 non-null float64\n",
      "rougher.calculation.sulfate_to_au_concentrate         22672 non-null float64\n",
      "rougher.calculation.floatbank10_sulfate_to_au_feed    22672 non-null float64\n",
      "rougher.calculation.floatbank11_sulfate_to_au_feed    22672 non-null float64\n",
      "rougher.calculation.au_pb_ratio                       21089 non-null float64\n",
      "rougher.input.feed_ag                                 22618 non-null float64\n",
      "rougher.input.feed_pb                                 22472 non-null float64\n",
      "rougher.input.feed_rate                               22163 non-null float64\n",
      "rougher.input.feed_size                               22277 non-null float64\n",
      "rougher.input.feed_sol                                22357 non-null float64\n",
      "rougher.input.feed_au                                 22617 non-null float64\n",
      "rougher.input.floatbank10_sulfate                     21415 non-null float64\n",
      "rougher.input.floatbank10_xanthate                    22247 non-null float64\n",
      "rougher.input.floatbank11_sulfate                     22038 non-null float64\n",
      "rougher.input.floatbank11_xanthate                    20459 non-null float64\n",
      "rougher.output.concentrate_ag                         22618 non-null float64\n",
      "rougher.output.concentrate_pb                         22618 non-null float64\n",
      "rougher.output.concentrate_sol                        22526 non-null float64\n",
      "rougher.output.concentrate_au                         22618 non-null float64\n",
      "rougher.output.recovery                               19597 non-null float64\n",
      "rougher.output.tail_ag                                19979 non-null float64\n",
      "rougher.output.tail_pb                                22618 non-null float64\n",
      "rougher.output.tail_sol                               19980 non-null float64\n",
      "rougher.output.tail_au                                19980 non-null float64\n",
      "rougher.state.floatbank10_a_air                       22646 non-null float64\n",
      "rougher.state.floatbank10_a_level                     22647 non-null float64\n",
      "rougher.state.floatbank10_b_air                       22646 non-null float64\n",
      "rougher.state.floatbank10_b_level                     22647 non-null float64\n",
      "rougher.state.floatbank10_c_air                       22646 non-null float64\n",
      "rougher.state.floatbank10_c_level                     22654 non-null float64\n",
      "rougher.state.floatbank10_d_air                       22641 non-null float64\n",
      "rougher.state.floatbank10_d_level                     22649 non-null float64\n",
      "rougher.state.floatbank10_e_air                       22096 non-null float64\n",
      "rougher.state.floatbank10_e_level                     22649 non-null float64\n",
      "rougher.state.floatbank10_f_air                       22641 non-null float64\n",
      "rougher.state.floatbank10_f_level                     22642 non-null float64\n",
      "secondary_cleaner.output.tail_ag                      22616 non-null float64\n",
      "secondary_cleaner.output.tail_pb                      22600 non-null float64\n",
      "secondary_cleaner.output.tail_sol                     20501 non-null float64\n",
      "secondary_cleaner.output.tail_au                      22618 non-null float64\n",
      "secondary_cleaner.state.floatbank2_a_air              22333 non-null float64\n",
      "secondary_cleaner.state.floatbank2_a_level            22591 non-null float64\n",
      "secondary_cleaner.state.floatbank2_b_air              22538 non-null float64\n",
      "secondary_cleaner.state.floatbank2_b_level            22588 non-null float64\n",
      "secondary_cleaner.state.floatbank3_a_air              22585 non-null float64\n",
      "secondary_cleaner.state.floatbank3_a_level            22587 non-null float64\n",
      "secondary_cleaner.state.floatbank3_b_air              22592 non-null float64\n",
      "secondary_cleaner.state.floatbank3_b_level            22590 non-null float64\n",
      "secondary_cleaner.state.floatbank4_a_air              22571 non-null float64\n",
      "secondary_cleaner.state.floatbank4_a_level            22587 non-null float64\n",
      "secondary_cleaner.state.floatbank4_b_air              22608 non-null float64\n",
      "secondary_cleaner.state.floatbank4_b_level            22607 non-null float64\n",
      "secondary_cleaner.state.floatbank5_a_air              22615 non-null float64\n",
      "secondary_cleaner.state.floatbank5_a_level            22615 non-null float64\n",
      "secondary_cleaner.state.floatbank5_b_air              22615 non-null float64\n",
      "secondary_cleaner.state.floatbank5_b_level            22616 non-null float64\n",
      "secondary_cleaner.state.floatbank6_a_air              22597 non-null float64\n",
      "secondary_cleaner.state.floatbank6_a_level            22615 non-null float64\n",
      "dtypes: float64(86), object(1)\n",
      "memory usage: 15.1+ MB\n",
      "None\n",
      "(22716, 87)\n"
     ]
    },
    {
     "data": {
      "text/html": [
       "<div>\n",
       "<style scoped>\n",
       "    .dataframe tbody tr th:only-of-type {\n",
       "        vertical-align: middle;\n",
       "    }\n",
       "\n",
       "    .dataframe tbody tr th {\n",
       "        vertical-align: top;\n",
       "    }\n",
       "\n",
       "    .dataframe thead th {\n",
       "        text-align: right;\n",
       "    }\n",
       "</style>\n",
       "<table border=\"1\" class=\"dataframe\">\n",
       "  <thead>\n",
       "    <tr style=\"text-align: right;\">\n",
       "      <th></th>\n",
       "      <th>date</th>\n",
       "      <th>final.output.concentrate_ag</th>\n",
       "      <th>final.output.concentrate_pb</th>\n",
       "      <th>final.output.concentrate_sol</th>\n",
       "      <th>final.output.concentrate_au</th>\n",
       "      <th>final.output.recovery</th>\n",
       "      <th>final.output.tail_ag</th>\n",
       "      <th>final.output.tail_pb</th>\n",
       "      <th>final.output.tail_sol</th>\n",
       "      <th>final.output.tail_au</th>\n",
       "      <th>...</th>\n",
       "      <th>secondary_cleaner.state.floatbank4_a_air</th>\n",
       "      <th>secondary_cleaner.state.floatbank4_a_level</th>\n",
       "      <th>secondary_cleaner.state.floatbank4_b_air</th>\n",
       "      <th>secondary_cleaner.state.floatbank4_b_level</th>\n",
       "      <th>secondary_cleaner.state.floatbank5_a_air</th>\n",
       "      <th>secondary_cleaner.state.floatbank5_a_level</th>\n",
       "      <th>secondary_cleaner.state.floatbank5_b_air</th>\n",
       "      <th>secondary_cleaner.state.floatbank5_b_level</th>\n",
       "      <th>secondary_cleaner.state.floatbank6_a_air</th>\n",
       "      <th>secondary_cleaner.state.floatbank6_a_level</th>\n",
       "    </tr>\n",
       "  </thead>\n",
       "  <tbody>\n",
       "    <tr>\n",
       "      <td>0</td>\n",
       "      <td>2016-01-15 00:00:00</td>\n",
       "      <td>6.055403</td>\n",
       "      <td>9.889648</td>\n",
       "      <td>5.507324</td>\n",
       "      <td>42.192020</td>\n",
       "      <td>70.541216</td>\n",
       "      <td>10.411962</td>\n",
       "      <td>0.895447</td>\n",
       "      <td>16.904297</td>\n",
       "      <td>2.143149</td>\n",
       "      <td>...</td>\n",
       "      <td>14.016835</td>\n",
       "      <td>-502.488007</td>\n",
       "      <td>12.099931</td>\n",
       "      <td>-504.715942</td>\n",
       "      <td>9.925633</td>\n",
       "      <td>-498.310211</td>\n",
       "      <td>8.079666</td>\n",
       "      <td>-500.470978</td>\n",
       "      <td>14.151341</td>\n",
       "      <td>-605.841980</td>\n",
       "    </tr>\n",
       "    <tr>\n",
       "      <td>1</td>\n",
       "      <td>2016-01-15 01:00:00</td>\n",
       "      <td>6.029369</td>\n",
       "      <td>9.968944</td>\n",
       "      <td>5.257781</td>\n",
       "      <td>42.701629</td>\n",
       "      <td>69.266198</td>\n",
       "      <td>10.462676</td>\n",
       "      <td>0.927452</td>\n",
       "      <td>16.634514</td>\n",
       "      <td>2.224930</td>\n",
       "      <td>...</td>\n",
       "      <td>13.992281</td>\n",
       "      <td>-505.503262</td>\n",
       "      <td>11.950531</td>\n",
       "      <td>-501.331529</td>\n",
       "      <td>10.039245</td>\n",
       "      <td>-500.169983</td>\n",
       "      <td>7.984757</td>\n",
       "      <td>-500.582168</td>\n",
       "      <td>13.998353</td>\n",
       "      <td>-599.787184</td>\n",
       "    </tr>\n",
       "    <tr>\n",
       "      <td>2</td>\n",
       "      <td>2016-01-15 02:00:00</td>\n",
       "      <td>6.055926</td>\n",
       "      <td>10.213995</td>\n",
       "      <td>5.383759</td>\n",
       "      <td>42.657501</td>\n",
       "      <td>68.116445</td>\n",
       "      <td>10.507046</td>\n",
       "      <td>0.953716</td>\n",
       "      <td>16.208849</td>\n",
       "      <td>2.257889</td>\n",
       "      <td>...</td>\n",
       "      <td>14.015015</td>\n",
       "      <td>-502.520901</td>\n",
       "      <td>11.912783</td>\n",
       "      <td>-501.133383</td>\n",
       "      <td>10.070913</td>\n",
       "      <td>-500.129135</td>\n",
       "      <td>8.013877</td>\n",
       "      <td>-500.517572</td>\n",
       "      <td>14.028663</td>\n",
       "      <td>-601.427363</td>\n",
       "    </tr>\n",
       "  </tbody>\n",
       "</table>\n",
       "<p>3 rows × 87 columns</p>\n",
       "</div>"
      ],
      "text/plain": [
       "                  date  final.output.concentrate_ag  \\\n",
       "0  2016-01-15 00:00:00                     6.055403   \n",
       "1  2016-01-15 01:00:00                     6.029369   \n",
       "2  2016-01-15 02:00:00                     6.055926   \n",
       "\n",
       "   final.output.concentrate_pb  final.output.concentrate_sol  \\\n",
       "0                     9.889648                      5.507324   \n",
       "1                     9.968944                      5.257781   \n",
       "2                    10.213995                      5.383759   \n",
       "\n",
       "   final.output.concentrate_au  final.output.recovery  final.output.tail_ag  \\\n",
       "0                    42.192020              70.541216             10.411962   \n",
       "1                    42.701629              69.266198             10.462676   \n",
       "2                    42.657501              68.116445             10.507046   \n",
       "\n",
       "   final.output.tail_pb  final.output.tail_sol  final.output.tail_au  ...  \\\n",
       "0              0.895447              16.904297              2.143149  ...   \n",
       "1              0.927452              16.634514              2.224930  ...   \n",
       "2              0.953716              16.208849              2.257889  ...   \n",
       "\n",
       "   secondary_cleaner.state.floatbank4_a_air  \\\n",
       "0                                 14.016835   \n",
       "1                                 13.992281   \n",
       "2                                 14.015015   \n",
       "\n",
       "   secondary_cleaner.state.floatbank4_a_level  \\\n",
       "0                                 -502.488007   \n",
       "1                                 -505.503262   \n",
       "2                                 -502.520901   \n",
       "\n",
       "   secondary_cleaner.state.floatbank4_b_air  \\\n",
       "0                                 12.099931   \n",
       "1                                 11.950531   \n",
       "2                                 11.912783   \n",
       "\n",
       "   secondary_cleaner.state.floatbank4_b_level  \\\n",
       "0                                 -504.715942   \n",
       "1                                 -501.331529   \n",
       "2                                 -501.133383   \n",
       "\n",
       "   secondary_cleaner.state.floatbank5_a_air  \\\n",
       "0                                  9.925633   \n",
       "1                                 10.039245   \n",
       "2                                 10.070913   \n",
       "\n",
       "   secondary_cleaner.state.floatbank5_a_level  \\\n",
       "0                                 -498.310211   \n",
       "1                                 -500.169983   \n",
       "2                                 -500.129135   \n",
       "\n",
       "   secondary_cleaner.state.floatbank5_b_air  \\\n",
       "0                                  8.079666   \n",
       "1                                  7.984757   \n",
       "2                                  8.013877   \n",
       "\n",
       "   secondary_cleaner.state.floatbank5_b_level  \\\n",
       "0                                 -500.470978   \n",
       "1                                 -500.582168   \n",
       "2                                 -500.517572   \n",
       "\n",
       "   secondary_cleaner.state.floatbank6_a_air  \\\n",
       "0                                 14.151341   \n",
       "1                                 13.998353   \n",
       "2                                 14.028663   \n",
       "\n",
       "   secondary_cleaner.state.floatbank6_a_level  \n",
       "0                                 -605.841980  \n",
       "1                                 -599.787184  \n",
       "2                                 -601.427363  \n",
       "\n",
       "[3 rows x 87 columns]"
      ]
     },
     "metadata": {},
     "output_type": "display_data"
    },
    {
     "data": {
      "text/plain": [
       "None"
      ]
     },
     "metadata": {},
     "output_type": "display_data"
    },
    {
     "name": "stdout",
     "output_type": "stream",
     "text": [
      "recovery_train\n",
      "\n",
      "<class 'pandas.core.frame.DataFrame'>\n",
      "RangeIndex: 16860 entries, 0 to 16859\n",
      "Data columns (total 87 columns):\n",
      "date                                                  16860 non-null object\n",
      "final.output.concentrate_ag                           16788 non-null float64\n",
      "final.output.concentrate_pb                           16788 non-null float64\n",
      "final.output.concentrate_sol                          16490 non-null float64\n",
      "final.output.concentrate_au                           16789 non-null float64\n",
      "final.output.recovery                                 15339 non-null float64\n",
      "final.output.tail_ag                                  16794 non-null float64\n",
      "final.output.tail_pb                                  16677 non-null float64\n",
      "final.output.tail_sol                                 16715 non-null float64\n",
      "final.output.tail_au                                  16794 non-null float64\n",
      "primary_cleaner.input.sulfate                         15553 non-null float64\n",
      "primary_cleaner.input.depressant                      15598 non-null float64\n",
      "primary_cleaner.input.feed_size                       16860 non-null float64\n",
      "primary_cleaner.input.xanthate                        15875 non-null float64\n",
      "primary_cleaner.output.concentrate_ag                 16778 non-null float64\n",
      "primary_cleaner.output.concentrate_pb                 16502 non-null float64\n",
      "primary_cleaner.output.concentrate_sol                16224 non-null float64\n",
      "primary_cleaner.output.concentrate_au                 16778 non-null float64\n",
      "primary_cleaner.output.tail_ag                        16777 non-null float64\n",
      "primary_cleaner.output.tail_pb                        16761 non-null float64\n",
      "primary_cleaner.output.tail_sol                       16579 non-null float64\n",
      "primary_cleaner.output.tail_au                        16777 non-null float64\n",
      "primary_cleaner.state.floatbank8_a_air                16820 non-null float64\n",
      "primary_cleaner.state.floatbank8_a_level              16827 non-null float64\n",
      "primary_cleaner.state.floatbank8_b_air                16820 non-null float64\n",
      "primary_cleaner.state.floatbank8_b_level              16833 non-null float64\n",
      "primary_cleaner.state.floatbank8_c_air                16822 non-null float64\n",
      "primary_cleaner.state.floatbank8_c_level              16833 non-null float64\n",
      "primary_cleaner.state.floatbank8_d_air                16821 non-null float64\n",
      "primary_cleaner.state.floatbank8_d_level              16833 non-null float64\n",
      "rougher.calculation.sulfate_to_au_concentrate         16833 non-null float64\n",
      "rougher.calculation.floatbank10_sulfate_to_au_feed    16833 non-null float64\n",
      "rougher.calculation.floatbank11_sulfate_to_au_feed    16833 non-null float64\n",
      "rougher.calculation.au_pb_ratio                       15618 non-null float64\n",
      "rougher.input.feed_ag                                 16778 non-null float64\n",
      "rougher.input.feed_pb                                 16632 non-null float64\n",
      "rougher.input.feed_rate                               16347 non-null float64\n",
      "rougher.input.feed_size                               16443 non-null float64\n",
      "rougher.input.feed_sol                                16568 non-null float64\n",
      "rougher.input.feed_au                                 16777 non-null float64\n",
      "rougher.input.floatbank10_sulfate                     15816 non-null float64\n",
      "rougher.input.floatbank10_xanthate                    16514 non-null float64\n",
      "rougher.input.floatbank11_sulfate                     16237 non-null float64\n",
      "rougher.input.floatbank11_xanthate                    14956 non-null float64\n",
      "rougher.output.concentrate_ag                         16778 non-null float64\n",
      "rougher.output.concentrate_pb                         16778 non-null float64\n",
      "rougher.output.concentrate_sol                        16698 non-null float64\n",
      "rougher.output.concentrate_au                         16778 non-null float64\n",
      "rougher.output.recovery                               14287 non-null float64\n",
      "rougher.output.tail_ag                                14610 non-null float64\n",
      "rougher.output.tail_pb                                16778 non-null float64\n",
      "rougher.output.tail_sol                               14611 non-null float64\n",
      "rougher.output.tail_au                                14611 non-null float64\n",
      "rougher.state.floatbank10_a_air                       16807 non-null float64\n",
      "rougher.state.floatbank10_a_level                     16807 non-null float64\n",
      "rougher.state.floatbank10_b_air                       16807 non-null float64\n",
      "rougher.state.floatbank10_b_level                     16807 non-null float64\n",
      "rougher.state.floatbank10_c_air                       16807 non-null float64\n",
      "rougher.state.floatbank10_c_level                     16814 non-null float64\n",
      "rougher.state.floatbank10_d_air                       16802 non-null float64\n",
      "rougher.state.floatbank10_d_level                     16809 non-null float64\n",
      "rougher.state.floatbank10_e_air                       16257 non-null float64\n",
      "rougher.state.floatbank10_e_level                     16809 non-null float64\n",
      "rougher.state.floatbank10_f_air                       16802 non-null float64\n",
      "rougher.state.floatbank10_f_level                     16802 non-null float64\n",
      "secondary_cleaner.output.tail_ag                      16776 non-null float64\n",
      "secondary_cleaner.output.tail_pb                      16764 non-null float64\n",
      "secondary_cleaner.output.tail_sol                     14874 non-null float64\n",
      "secondary_cleaner.output.tail_au                      16778 non-null float64\n",
      "secondary_cleaner.state.floatbank2_a_air              16497 non-null float64\n",
      "secondary_cleaner.state.floatbank2_a_level            16751 non-null float64\n",
      "secondary_cleaner.state.floatbank2_b_air              16705 non-null float64\n",
      "secondary_cleaner.state.floatbank2_b_level            16748 non-null float64\n",
      "secondary_cleaner.state.floatbank3_a_air              16763 non-null float64\n",
      "secondary_cleaner.state.floatbank3_a_level            16747 non-null float64\n",
      "secondary_cleaner.state.floatbank3_b_air              16752 non-null float64\n",
      "secondary_cleaner.state.floatbank3_b_level            16750 non-null float64\n",
      "secondary_cleaner.state.floatbank4_a_air              16731 non-null float64\n",
      "secondary_cleaner.state.floatbank4_a_level            16747 non-null float64\n",
      "secondary_cleaner.state.floatbank4_b_air              16768 non-null float64\n",
      "secondary_cleaner.state.floatbank4_b_level            16767 non-null float64\n",
      "secondary_cleaner.state.floatbank5_a_air              16775 non-null float64\n",
      "secondary_cleaner.state.floatbank5_a_level            16775 non-null float64\n",
      "secondary_cleaner.state.floatbank5_b_air              16775 non-null float64\n",
      "secondary_cleaner.state.floatbank5_b_level            16776 non-null float64\n",
      "secondary_cleaner.state.floatbank6_a_air              16757 non-null float64\n",
      "secondary_cleaner.state.floatbank6_a_level            16775 non-null float64\n",
      "dtypes: float64(86), object(1)\n",
      "memory usage: 11.2+ MB\n",
      "None\n",
      "(16860, 87)\n"
     ]
    },
    {
     "data": {
      "text/html": [
       "<div>\n",
       "<style scoped>\n",
       "    .dataframe tbody tr th:only-of-type {\n",
       "        vertical-align: middle;\n",
       "    }\n",
       "\n",
       "    .dataframe tbody tr th {\n",
       "        vertical-align: top;\n",
       "    }\n",
       "\n",
       "    .dataframe thead th {\n",
       "        text-align: right;\n",
       "    }\n",
       "</style>\n",
       "<table border=\"1\" class=\"dataframe\">\n",
       "  <thead>\n",
       "    <tr style=\"text-align: right;\">\n",
       "      <th></th>\n",
       "      <th>date</th>\n",
       "      <th>final.output.concentrate_ag</th>\n",
       "      <th>final.output.concentrate_pb</th>\n",
       "      <th>final.output.concentrate_sol</th>\n",
       "      <th>final.output.concentrate_au</th>\n",
       "      <th>final.output.recovery</th>\n",
       "      <th>final.output.tail_ag</th>\n",
       "      <th>final.output.tail_pb</th>\n",
       "      <th>final.output.tail_sol</th>\n",
       "      <th>final.output.tail_au</th>\n",
       "      <th>...</th>\n",
       "      <th>secondary_cleaner.state.floatbank4_a_air</th>\n",
       "      <th>secondary_cleaner.state.floatbank4_a_level</th>\n",
       "      <th>secondary_cleaner.state.floatbank4_b_air</th>\n",
       "      <th>secondary_cleaner.state.floatbank4_b_level</th>\n",
       "      <th>secondary_cleaner.state.floatbank5_a_air</th>\n",
       "      <th>secondary_cleaner.state.floatbank5_a_level</th>\n",
       "      <th>secondary_cleaner.state.floatbank5_b_air</th>\n",
       "      <th>secondary_cleaner.state.floatbank5_b_level</th>\n",
       "      <th>secondary_cleaner.state.floatbank6_a_air</th>\n",
       "      <th>secondary_cleaner.state.floatbank6_a_level</th>\n",
       "    </tr>\n",
       "  </thead>\n",
       "  <tbody>\n",
       "    <tr>\n",
       "      <td>0</td>\n",
       "      <td>2016-01-15 00:00:00</td>\n",
       "      <td>6.055403</td>\n",
       "      <td>9.889648</td>\n",
       "      <td>5.507324</td>\n",
       "      <td>42.192020</td>\n",
       "      <td>70.541216</td>\n",
       "      <td>10.411962</td>\n",
       "      <td>0.895447</td>\n",
       "      <td>16.904297</td>\n",
       "      <td>2.143149</td>\n",
       "      <td>...</td>\n",
       "      <td>14.016835</td>\n",
       "      <td>-502.488007</td>\n",
       "      <td>12.099931</td>\n",
       "      <td>-504.715942</td>\n",
       "      <td>9.925633</td>\n",
       "      <td>-498.310211</td>\n",
       "      <td>8.079666</td>\n",
       "      <td>-500.470978</td>\n",
       "      <td>14.151341</td>\n",
       "      <td>-605.841980</td>\n",
       "    </tr>\n",
       "    <tr>\n",
       "      <td>1</td>\n",
       "      <td>2016-01-15 01:00:00</td>\n",
       "      <td>6.029369</td>\n",
       "      <td>9.968944</td>\n",
       "      <td>5.257781</td>\n",
       "      <td>42.701629</td>\n",
       "      <td>69.266198</td>\n",
       "      <td>10.462676</td>\n",
       "      <td>0.927452</td>\n",
       "      <td>16.634514</td>\n",
       "      <td>2.224930</td>\n",
       "      <td>...</td>\n",
       "      <td>13.992281</td>\n",
       "      <td>-505.503262</td>\n",
       "      <td>11.950531</td>\n",
       "      <td>-501.331529</td>\n",
       "      <td>10.039245</td>\n",
       "      <td>-500.169983</td>\n",
       "      <td>7.984757</td>\n",
       "      <td>-500.582168</td>\n",
       "      <td>13.998353</td>\n",
       "      <td>-599.787184</td>\n",
       "    </tr>\n",
       "    <tr>\n",
       "      <td>2</td>\n",
       "      <td>2016-01-15 02:00:00</td>\n",
       "      <td>6.055926</td>\n",
       "      <td>10.213995</td>\n",
       "      <td>5.383759</td>\n",
       "      <td>42.657501</td>\n",
       "      <td>68.116445</td>\n",
       "      <td>10.507046</td>\n",
       "      <td>0.953716</td>\n",
       "      <td>16.208849</td>\n",
       "      <td>2.257889</td>\n",
       "      <td>...</td>\n",
       "      <td>14.015015</td>\n",
       "      <td>-502.520901</td>\n",
       "      <td>11.912783</td>\n",
       "      <td>-501.133383</td>\n",
       "      <td>10.070913</td>\n",
       "      <td>-500.129135</td>\n",
       "      <td>8.013877</td>\n",
       "      <td>-500.517572</td>\n",
       "      <td>14.028663</td>\n",
       "      <td>-601.427363</td>\n",
       "    </tr>\n",
       "  </tbody>\n",
       "</table>\n",
       "<p>3 rows × 87 columns</p>\n",
       "</div>"
      ],
      "text/plain": [
       "                  date  final.output.concentrate_ag  \\\n",
       "0  2016-01-15 00:00:00                     6.055403   \n",
       "1  2016-01-15 01:00:00                     6.029369   \n",
       "2  2016-01-15 02:00:00                     6.055926   \n",
       "\n",
       "   final.output.concentrate_pb  final.output.concentrate_sol  \\\n",
       "0                     9.889648                      5.507324   \n",
       "1                     9.968944                      5.257781   \n",
       "2                    10.213995                      5.383759   \n",
       "\n",
       "   final.output.concentrate_au  final.output.recovery  final.output.tail_ag  \\\n",
       "0                    42.192020              70.541216             10.411962   \n",
       "1                    42.701629              69.266198             10.462676   \n",
       "2                    42.657501              68.116445             10.507046   \n",
       "\n",
       "   final.output.tail_pb  final.output.tail_sol  final.output.tail_au  ...  \\\n",
       "0              0.895447              16.904297              2.143149  ...   \n",
       "1              0.927452              16.634514              2.224930  ...   \n",
       "2              0.953716              16.208849              2.257889  ...   \n",
       "\n",
       "   secondary_cleaner.state.floatbank4_a_air  \\\n",
       "0                                 14.016835   \n",
       "1                                 13.992281   \n",
       "2                                 14.015015   \n",
       "\n",
       "   secondary_cleaner.state.floatbank4_a_level  \\\n",
       "0                                 -502.488007   \n",
       "1                                 -505.503262   \n",
       "2                                 -502.520901   \n",
       "\n",
       "   secondary_cleaner.state.floatbank4_b_air  \\\n",
       "0                                 12.099931   \n",
       "1                                 11.950531   \n",
       "2                                 11.912783   \n",
       "\n",
       "   secondary_cleaner.state.floatbank4_b_level  \\\n",
       "0                                 -504.715942   \n",
       "1                                 -501.331529   \n",
       "2                                 -501.133383   \n",
       "\n",
       "   secondary_cleaner.state.floatbank5_a_air  \\\n",
       "0                                  9.925633   \n",
       "1                                 10.039245   \n",
       "2                                 10.070913   \n",
       "\n",
       "   secondary_cleaner.state.floatbank5_a_level  \\\n",
       "0                                 -498.310211   \n",
       "1                                 -500.169983   \n",
       "2                                 -500.129135   \n",
       "\n",
       "   secondary_cleaner.state.floatbank5_b_air  \\\n",
       "0                                  8.079666   \n",
       "1                                  7.984757   \n",
       "2                                  8.013877   \n",
       "\n",
       "   secondary_cleaner.state.floatbank5_b_level  \\\n",
       "0                                 -500.470978   \n",
       "1                                 -500.582168   \n",
       "2                                 -500.517572   \n",
       "\n",
       "   secondary_cleaner.state.floatbank6_a_air  \\\n",
       "0                                 14.151341   \n",
       "1                                 13.998353   \n",
       "2                                 14.028663   \n",
       "\n",
       "   secondary_cleaner.state.floatbank6_a_level  \n",
       "0                                 -605.841980  \n",
       "1                                 -599.787184  \n",
       "2                                 -601.427363  \n",
       "\n",
       "[3 rows x 87 columns]"
      ]
     },
     "metadata": {},
     "output_type": "display_data"
    },
    {
     "data": {
      "text/plain": [
       "None"
      ]
     },
     "metadata": {},
     "output_type": "display_data"
    },
    {
     "name": "stdout",
     "output_type": "stream",
     "text": [
      "recovery_test\n",
      "\n",
      "<class 'pandas.core.frame.DataFrame'>\n",
      "RangeIndex: 5856 entries, 0 to 5855\n",
      "Data columns (total 53 columns):\n",
      "date                                          5856 non-null object\n",
      "primary_cleaner.input.sulfate                 5554 non-null float64\n",
      "primary_cleaner.input.depressant              5572 non-null float64\n",
      "primary_cleaner.input.feed_size               5856 non-null float64\n",
      "primary_cleaner.input.xanthate                5690 non-null float64\n",
      "primary_cleaner.state.floatbank8_a_air        5840 non-null float64\n",
      "primary_cleaner.state.floatbank8_a_level      5840 non-null float64\n",
      "primary_cleaner.state.floatbank8_b_air        5840 non-null float64\n",
      "primary_cleaner.state.floatbank8_b_level      5840 non-null float64\n",
      "primary_cleaner.state.floatbank8_c_air        5840 non-null float64\n",
      "primary_cleaner.state.floatbank8_c_level      5840 non-null float64\n",
      "primary_cleaner.state.floatbank8_d_air        5840 non-null float64\n",
      "primary_cleaner.state.floatbank8_d_level      5840 non-null float64\n",
      "rougher.input.feed_ag                         5840 non-null float64\n",
      "rougher.input.feed_pb                         5840 non-null float64\n",
      "rougher.input.feed_rate                       5816 non-null float64\n",
      "rougher.input.feed_size                       5834 non-null float64\n",
      "rougher.input.feed_sol                        5789 non-null float64\n",
      "rougher.input.feed_au                         5840 non-null float64\n",
      "rougher.input.floatbank10_sulfate             5599 non-null float64\n",
      "rougher.input.floatbank10_xanthate            5733 non-null float64\n",
      "rougher.input.floatbank11_sulfate             5801 non-null float64\n",
      "rougher.input.floatbank11_xanthate            5503 non-null float64\n",
      "rougher.state.floatbank10_a_air               5839 non-null float64\n",
      "rougher.state.floatbank10_a_level             5840 non-null float64\n",
      "rougher.state.floatbank10_b_air               5839 non-null float64\n",
      "rougher.state.floatbank10_b_level             5840 non-null float64\n",
      "rougher.state.floatbank10_c_air               5839 non-null float64\n",
      "rougher.state.floatbank10_c_level             5840 non-null float64\n",
      "rougher.state.floatbank10_d_air               5839 non-null float64\n",
      "rougher.state.floatbank10_d_level             5840 non-null float64\n",
      "rougher.state.floatbank10_e_air               5839 non-null float64\n",
      "rougher.state.floatbank10_e_level             5840 non-null float64\n",
      "rougher.state.floatbank10_f_air               5839 non-null float64\n",
      "rougher.state.floatbank10_f_level             5840 non-null float64\n",
      "secondary_cleaner.state.floatbank2_a_air      5836 non-null float64\n",
      "secondary_cleaner.state.floatbank2_a_level    5840 non-null float64\n",
      "secondary_cleaner.state.floatbank2_b_air      5833 non-null float64\n",
      "secondary_cleaner.state.floatbank2_b_level    5840 non-null float64\n",
      "secondary_cleaner.state.floatbank3_a_air      5822 non-null float64\n",
      "secondary_cleaner.state.floatbank3_a_level    5840 non-null float64\n",
      "secondary_cleaner.state.floatbank3_b_air      5840 non-null float64\n",
      "secondary_cleaner.state.floatbank3_b_level    5840 non-null float64\n",
      "secondary_cleaner.state.floatbank4_a_air      5840 non-null float64\n",
      "secondary_cleaner.state.floatbank4_a_level    5840 non-null float64\n",
      "secondary_cleaner.state.floatbank4_b_air      5840 non-null float64\n",
      "secondary_cleaner.state.floatbank4_b_level    5840 non-null float64\n",
      "secondary_cleaner.state.floatbank5_a_air      5840 non-null float64\n",
      "secondary_cleaner.state.floatbank5_a_level    5840 non-null float64\n",
      "secondary_cleaner.state.floatbank5_b_air      5840 non-null float64\n",
      "secondary_cleaner.state.floatbank5_b_level    5840 non-null float64\n",
      "secondary_cleaner.state.floatbank6_a_air      5840 non-null float64\n",
      "secondary_cleaner.state.floatbank6_a_level    5840 non-null float64\n",
      "dtypes: float64(52), object(1)\n",
      "memory usage: 2.4+ MB\n",
      "None\n",
      "(5856, 53)\n"
     ]
    },
    {
     "data": {
      "text/html": [
       "<div>\n",
       "<style scoped>\n",
       "    .dataframe tbody tr th:only-of-type {\n",
       "        vertical-align: middle;\n",
       "    }\n",
       "\n",
       "    .dataframe tbody tr th {\n",
       "        vertical-align: top;\n",
       "    }\n",
       "\n",
       "    .dataframe thead th {\n",
       "        text-align: right;\n",
       "    }\n",
       "</style>\n",
       "<table border=\"1\" class=\"dataframe\">\n",
       "  <thead>\n",
       "    <tr style=\"text-align: right;\">\n",
       "      <th></th>\n",
       "      <th>date</th>\n",
       "      <th>primary_cleaner.input.sulfate</th>\n",
       "      <th>primary_cleaner.input.depressant</th>\n",
       "      <th>primary_cleaner.input.feed_size</th>\n",
       "      <th>primary_cleaner.input.xanthate</th>\n",
       "      <th>primary_cleaner.state.floatbank8_a_air</th>\n",
       "      <th>primary_cleaner.state.floatbank8_a_level</th>\n",
       "      <th>primary_cleaner.state.floatbank8_b_air</th>\n",
       "      <th>primary_cleaner.state.floatbank8_b_level</th>\n",
       "      <th>primary_cleaner.state.floatbank8_c_air</th>\n",
       "      <th>...</th>\n",
       "      <th>secondary_cleaner.state.floatbank4_a_air</th>\n",
       "      <th>secondary_cleaner.state.floatbank4_a_level</th>\n",
       "      <th>secondary_cleaner.state.floatbank4_b_air</th>\n",
       "      <th>secondary_cleaner.state.floatbank4_b_level</th>\n",
       "      <th>secondary_cleaner.state.floatbank5_a_air</th>\n",
       "      <th>secondary_cleaner.state.floatbank5_a_level</th>\n",
       "      <th>secondary_cleaner.state.floatbank5_b_air</th>\n",
       "      <th>secondary_cleaner.state.floatbank5_b_level</th>\n",
       "      <th>secondary_cleaner.state.floatbank6_a_air</th>\n",
       "      <th>secondary_cleaner.state.floatbank6_a_level</th>\n",
       "    </tr>\n",
       "  </thead>\n",
       "  <tbody>\n",
       "    <tr>\n",
       "      <td>0</td>\n",
       "      <td>2016-09-01 00:59:59</td>\n",
       "      <td>210.800909</td>\n",
       "      <td>14.993118</td>\n",
       "      <td>8.080000</td>\n",
       "      <td>1.005021</td>\n",
       "      <td>1398.981301</td>\n",
       "      <td>-500.225577</td>\n",
       "      <td>1399.144926</td>\n",
       "      <td>-499.919735</td>\n",
       "      <td>1400.102998</td>\n",
       "      <td>...</td>\n",
       "      <td>12.023554</td>\n",
       "      <td>-497.795834</td>\n",
       "      <td>8.016656</td>\n",
       "      <td>-501.289139</td>\n",
       "      <td>7.946562</td>\n",
       "      <td>-432.317850</td>\n",
       "      <td>4.872511</td>\n",
       "      <td>-500.037437</td>\n",
       "      <td>26.705889</td>\n",
       "      <td>-499.709414</td>\n",
       "    </tr>\n",
       "    <tr>\n",
       "      <td>1</td>\n",
       "      <td>2016-09-01 01:59:59</td>\n",
       "      <td>215.392455</td>\n",
       "      <td>14.987471</td>\n",
       "      <td>8.080000</td>\n",
       "      <td>0.990469</td>\n",
       "      <td>1398.777912</td>\n",
       "      <td>-500.057435</td>\n",
       "      <td>1398.055362</td>\n",
       "      <td>-499.778182</td>\n",
       "      <td>1396.151033</td>\n",
       "      <td>...</td>\n",
       "      <td>12.058140</td>\n",
       "      <td>-498.695773</td>\n",
       "      <td>8.130979</td>\n",
       "      <td>-499.634209</td>\n",
       "      <td>7.958270</td>\n",
       "      <td>-525.839648</td>\n",
       "      <td>4.878850</td>\n",
       "      <td>-500.162375</td>\n",
       "      <td>25.019940</td>\n",
       "      <td>-499.819438</td>\n",
       "    </tr>\n",
       "    <tr>\n",
       "      <td>2</td>\n",
       "      <td>2016-09-01 02:59:59</td>\n",
       "      <td>215.259946</td>\n",
       "      <td>12.884934</td>\n",
       "      <td>7.786667</td>\n",
       "      <td>0.996043</td>\n",
       "      <td>1398.493666</td>\n",
       "      <td>-500.868360</td>\n",
       "      <td>1398.860436</td>\n",
       "      <td>-499.764529</td>\n",
       "      <td>1398.075709</td>\n",
       "      <td>...</td>\n",
       "      <td>11.962366</td>\n",
       "      <td>-498.767484</td>\n",
       "      <td>8.096893</td>\n",
       "      <td>-500.827423</td>\n",
       "      <td>8.071056</td>\n",
       "      <td>-500.801673</td>\n",
       "      <td>4.905125</td>\n",
       "      <td>-499.828510</td>\n",
       "      <td>24.994862</td>\n",
       "      <td>-500.622559</td>\n",
       "    </tr>\n",
       "  </tbody>\n",
       "</table>\n",
       "<p>3 rows × 53 columns</p>\n",
       "</div>"
      ],
      "text/plain": [
       "                  date  primary_cleaner.input.sulfate  \\\n",
       "0  2016-09-01 00:59:59                     210.800909   \n",
       "1  2016-09-01 01:59:59                     215.392455   \n",
       "2  2016-09-01 02:59:59                     215.259946   \n",
       "\n",
       "   primary_cleaner.input.depressant  primary_cleaner.input.feed_size  \\\n",
       "0                         14.993118                         8.080000   \n",
       "1                         14.987471                         8.080000   \n",
       "2                         12.884934                         7.786667   \n",
       "\n",
       "   primary_cleaner.input.xanthate  primary_cleaner.state.floatbank8_a_air  \\\n",
       "0                        1.005021                             1398.981301   \n",
       "1                        0.990469                             1398.777912   \n",
       "2                        0.996043                             1398.493666   \n",
       "\n",
       "   primary_cleaner.state.floatbank8_a_level  \\\n",
       "0                               -500.225577   \n",
       "1                               -500.057435   \n",
       "2                               -500.868360   \n",
       "\n",
       "   primary_cleaner.state.floatbank8_b_air  \\\n",
       "0                             1399.144926   \n",
       "1                             1398.055362   \n",
       "2                             1398.860436   \n",
       "\n",
       "   primary_cleaner.state.floatbank8_b_level  \\\n",
       "0                               -499.919735   \n",
       "1                               -499.778182   \n",
       "2                               -499.764529   \n",
       "\n",
       "   primary_cleaner.state.floatbank8_c_air  ...  \\\n",
       "0                             1400.102998  ...   \n",
       "1                             1396.151033  ...   \n",
       "2                             1398.075709  ...   \n",
       "\n",
       "   secondary_cleaner.state.floatbank4_a_air  \\\n",
       "0                                 12.023554   \n",
       "1                                 12.058140   \n",
       "2                                 11.962366   \n",
       "\n",
       "   secondary_cleaner.state.floatbank4_a_level  \\\n",
       "0                                 -497.795834   \n",
       "1                                 -498.695773   \n",
       "2                                 -498.767484   \n",
       "\n",
       "   secondary_cleaner.state.floatbank4_b_air  \\\n",
       "0                                  8.016656   \n",
       "1                                  8.130979   \n",
       "2                                  8.096893   \n",
       "\n",
       "   secondary_cleaner.state.floatbank4_b_level  \\\n",
       "0                                 -501.289139   \n",
       "1                                 -499.634209   \n",
       "2                                 -500.827423   \n",
       "\n",
       "   secondary_cleaner.state.floatbank5_a_air  \\\n",
       "0                                  7.946562   \n",
       "1                                  7.958270   \n",
       "2                                  8.071056   \n",
       "\n",
       "   secondary_cleaner.state.floatbank5_a_level  \\\n",
       "0                                 -432.317850   \n",
       "1                                 -525.839648   \n",
       "2                                 -500.801673   \n",
       "\n",
       "   secondary_cleaner.state.floatbank5_b_air  \\\n",
       "0                                  4.872511   \n",
       "1                                  4.878850   \n",
       "2                                  4.905125   \n",
       "\n",
       "   secondary_cleaner.state.floatbank5_b_level  \\\n",
       "0                                 -500.037437   \n",
       "1                                 -500.162375   \n",
       "2                                 -499.828510   \n",
       "\n",
       "   secondary_cleaner.state.floatbank6_a_air  \\\n",
       "0                                 26.705889   \n",
       "1                                 25.019940   \n",
       "2                                 24.994862   \n",
       "\n",
       "   secondary_cleaner.state.floatbank6_a_level  \n",
       "0                                 -499.709414  \n",
       "1                                 -499.819438  \n",
       "2                                 -500.622559  \n",
       "\n",
       "[3 rows x 53 columns]"
      ]
     },
     "metadata": {},
     "output_type": "display_data"
    },
    {
     "data": {
      "text/plain": [
       "None"
      ]
     },
     "metadata": {},
     "output_type": "display_data"
    }
   ],
   "source": [
    "dfs = [recovery_full, recovery_train, recovery_test]\n",
    "dfs_names = ['recovery_full', 'recovery_train', 'recovery_test']\n",
    "\n",
    "for df_, name in zip(dfs, dfs_names):\n",
    "    \n",
    "    print (name)\n",
    "    print()\n",
    "    display(frame_info(df_))"
   ]
  },
  {
   "cell_type": "markdown",
   "metadata": {},
   "source": [
    "#### Первичные наблюдения   \n",
    "Три набора данных.  \n",
    "87 и 53 столбца. До 22 тысяч строк. \n",
    "Присутствуют пропущенные значения. Дата в формате 'object'.\n",
    "В сетах full и train присутствуют данные о содержании серебра (Ag), зола (?) (Sol), свинец (Pb) и золото (Au). Возможно, ненужные элементы можно дропнуть.  \n",
    "Вероятно, каждому сету стоит присвоить индексы = дате - и потом через новые индексы производить необходимые преобразования сетов.\n",
    "\n",
    "---"
   ]
  },
  {
   "cell_type": "markdown",
   "metadata": {},
   "source": [
    "#### Проверка правильности рассчета \"rougher.output.recovery\"\n",
    "\n",
    "Recovery, как известно из описания проекта, рассчитывается по следующей формуле:  \n",
    "(привожу в виде кода, так она легче читается, в отличие от маркдауна)"
   ]
  },
  {
   "cell_type": "code",
   "execution_count": 5,
   "metadata": {},
   "outputs": [],
   "source": [
    "# rougher.output.recovery =   \n",
    "# (rougher.output.concentrate_au * (rougher.input.feed_au - rougher.output.tail_au)) /   \n",
    "# (rougher.input.feed_au * (rougher.output.concentrate_au - rougher.output.tail_au)) *  \n",
    "# 100"
   ]
  },
  {
   "cell_type": "markdown",
   "metadata": {},
   "source": [
    "Перед расчетом значений recovery необходимо узнать, сколько именно пропущенных значений присутствует в датасете по столбцам."
   ]
  },
  {
   "cell_type": "code",
   "execution_count": 6,
   "metadata": {},
   "outputs": [
    {
     "data": {
      "text/plain": [
       "rougher.output.recovery                     2573\n",
       "rougher.output.tail_ag                      2250\n",
       "rougher.output.tail_sol                     2249\n",
       "rougher.output.tail_au                      2249\n",
       "secondary_cleaner.output.tail_sol           1986\n",
       "rougher.input.floatbank11_xanthate          1904\n",
       "final.output.recovery                       1521\n",
       "primary_cleaner.input.sulfate               1307\n",
       "primary_cleaner.input.depressant            1262\n",
       "rougher.calculation.au_pb_ratio             1242\n",
       "rougher.input.floatbank10_sulfate           1044\n",
       "primary_cleaner.input.xanthate               985\n",
       "primary_cleaner.output.concentrate_sol       636\n",
       "rougher.input.floatbank11_sulfate            623\n",
       "rougher.state.floatbank10_e_air              603\n",
       "rougher.input.feed_rate                      513\n",
       "rougher.input.feed_size                      417\n",
       "final.output.concentrate_sol                 370\n",
       "secondary_cleaner.state.floatbank2_a_air     363\n",
       "primary_cleaner.output.concentrate_pb        358\n",
       "dtype: int64"
      ]
     },
     "execution_count": 6,
     "metadata": {},
     "output_type": "execute_result"
    }
   ],
   "source": [
    "recovery_train.isna().sum().sort_values(ascending=False).head(20)"
   ]
  },
  {
   "cell_type": "markdown",
   "metadata": {},
   "source": [
    "Сколько потеряем данных, если просто дропнем все пропуски?"
   ]
  },
  {
   "cell_type": "code",
   "execution_count": 7,
   "metadata": {},
   "outputs": [
    {
     "name": "stdout",
     "output_type": "stream",
     "text": [
      "Потеря данных составит 35 %\n"
     ]
    }
   ],
   "source": [
    "recovery_train_clear = recovery_train.dropna()\n",
    "print('Потеря данных составит', \n",
    "      100 - int((len(recovery_train_clear) * 100 / len(recovery_train))), '%')"
   ]
  },
  {
   "cell_type": "markdown",
   "metadata": {},
   "source": [
    "Большой процент потерь, данный метот неприменим.  \n",
    "  \n",
    "  \n",
    "Исследуем интересуемый столбец - 'rougher.output.recovery'"
   ]
  },
  {
   "cell_type": "code",
   "execution_count": 8,
   "metadata": {},
   "outputs": [
    {
     "name": "stdout",
     "output_type": "stream",
     "text": [
      "Минимальное значние 0.0\n",
      "Максимальное значние 100.0\n",
      "Среднее значние 82.39420120842004\n",
      "Доверительный интервал признака rougher.output.recovery (82.14663036018695, 82.64177205665314)\n"
     ]
    }
   ],
   "source": [
    "recovery_temp = recovery_train['rougher.output.recovery'].dropna()\n",
    "\n",
    "print('Минимальное значние', recovery_temp.min())\n",
    "print('Максимальное значние', recovery_temp.max())\n",
    "print('Среднее значние', np.mean(recovery_temp))\n",
    "print('Доверительный интервал признака rougher.output.recovery', \n",
    "      st.t.interval(0.95, len(recovery_temp)-1, loc=np.mean(recovery_temp), scale=st.sem(recovery_temp)))"
   ]
  },
  {
   "cell_type": "markdown",
   "metadata": {},
   "source": [
    "В целом, заполнив пропущенные значения \"средним\", которое имеет очень узкий доверительный интервал, мы, будем близки к нормальным показателям.  \n",
    "Однако, пока оставим данный вопрос (узнаем у наставника/коллег мнения в чате) и рассчитаем требуемую метрику с дропом пропущенных значений конкретно в исследуемом столбце."
   ]
  },
  {
   "cell_type": "markdown",
   "metadata": {},
   "source": [
    "Рассчитаем \"обновленную\" метрику recovery после флотации и посмотрим на отличие от исходных данных"
   ]
  },
  {
   "cell_type": "code",
   "execution_count": 9,
   "metadata": {},
   "outputs": [
    {
     "data": {
      "text/plain": [
       "14287"
      ]
     },
     "execution_count": 9,
     "metadata": {},
     "output_type": "execute_result"
    }
   ],
   "source": [
    "output_temp = recovery_train.dropna(axis='index', how='any', subset=['rougher.output.recovery'])\n",
    "len(output_temp)"
   ]
  },
  {
   "cell_type": "code",
   "execution_count": 10,
   "metadata": {},
   "outputs": [],
   "source": [
    "rec_output_upd = pd.Series(  \n",
    "    \n",
    "    (output_temp['rougher.output.concentrate_au'] * \n",
    "     (output_temp['rougher.input.feed_au'] - output_temp['rougher.output.tail_au'])) / \n",
    "    \n",
    "    (output_temp['rougher.input.feed_au'] * \n",
    "     (output_temp['rougher.output.concentrate_au'] - output_temp['rougher.output.tail_au'])) * \n",
    "    \n",
    "    100)         "
   ]
  },
  {
   "cell_type": "code",
   "execution_count": 11,
   "metadata": {},
   "outputs": [],
   "source": [
    "rec_output_temp = output_temp['rougher.output.recovery']"
   ]
  },
  {
   "cell_type": "code",
   "execution_count": 12,
   "metadata": {},
   "outputs": [
    {
     "name": "stdout",
     "output_type": "stream",
     "text": [
      "MAE между рассчитанными и представленными составляет 9.4e-15\n"
     ]
    }
   ],
   "source": [
    "mae = mean_absolute_error(rec_output_upd, rec_output_temp).round(16)\n",
    "\n",
    "print('MAE между рассчитанными и представленными составляет {}'.format(mae))"
   ]
  },
  {
   "cell_type": "markdown",
   "metadata": {},
   "source": [
    "Значение МАЕ крайне мало (отклонение рассчетных данных от представленных может быть не более 9.4e-15), следовательно, представленные данные рассчитаны верно. \n",
    "\n",
    "---"
   ]
  },
  {
   "cell_type": "markdown",
   "metadata": {},
   "source": [
    "#### Анализ недоступных признаков тестовой выборки\n",
    "\n",
    "Установим различие в названии столбцов между выборками recovery_train и recovery_test"
   ]
  },
  {
   "cell_type": "code",
   "execution_count": 13,
   "metadata": {},
   "outputs": [],
   "source": [
    "features_train_set = recovery_train.columns\n",
    "features_test_set = recovery_test.columns "
   ]
  },
  {
   "cell_type": "code",
   "execution_count": 14,
   "metadata": {},
   "outputs": [
    {
     "name": "stdout",
     "output_type": "stream",
     "text": [
      "Количество недостающих признаков в тестовом сете =  34\n",
      "\n",
      "Признаки, отсутствующие в тестовом сете:\n",
      "\n",
      "['final.output.concentrate_ag' 'final.output.concentrate_au'\n",
      " 'final.output.concentrate_pb' 'final.output.concentrate_sol'\n",
      " 'final.output.recovery' 'final.output.tail_ag' 'final.output.tail_au'\n",
      " 'final.output.tail_pb' 'final.output.tail_sol'\n",
      " 'primary_cleaner.output.concentrate_ag'\n",
      " 'primary_cleaner.output.concentrate_au'\n",
      " 'primary_cleaner.output.concentrate_pb'\n",
      " 'primary_cleaner.output.concentrate_sol' 'primary_cleaner.output.tail_ag'\n",
      " 'primary_cleaner.output.tail_au' 'primary_cleaner.output.tail_pb'\n",
      " 'primary_cleaner.output.tail_sol' 'rougher.calculation.au_pb_ratio'\n",
      " 'rougher.calculation.floatbank10_sulfate_to_au_feed'\n",
      " 'rougher.calculation.floatbank11_sulfate_to_au_feed'\n",
      " 'rougher.calculation.sulfate_to_au_concentrate'\n",
      " 'rougher.output.concentrate_ag' 'rougher.output.concentrate_au'\n",
      " 'rougher.output.concentrate_pb' 'rougher.output.concentrate_sol'\n",
      " 'rougher.output.recovery' 'rougher.output.tail_ag'\n",
      " 'rougher.output.tail_au' 'rougher.output.tail_pb'\n",
      " 'rougher.output.tail_sol' 'secondary_cleaner.output.tail_ag'\n",
      " 'secondary_cleaner.output.tail_au' 'secondary_cleaner.output.tail_pb'\n",
      " 'secondary_cleaner.output.tail_sol']\n"
     ]
    }
   ],
   "source": [
    "difference = (list(set(features_train_set) - set(features_test_set)))\n",
    "\n",
    "print('Количество недостающих признаков в тестовом сете = ', len(difference))\n",
    "print()\n",
    "print('Признаки, отсутствующие в тестовом сете:')\n",
    "print()\n",
    "print(np.sort(difference))\n"
   ]
  },
  {
   "cell_type": "markdown",
   "metadata": {},
   "source": [
    "В тестовом сете отсуствуют 34 признака, все принадлежат типу float64.  \n",
    "Как и было указано в задании - отсуствуют значения финальных концентраций полезных элементов и а так же общей эффективности и отвальных хвостов.  \n",
    "В основном, отсутствуют рассчитываемые показатели, следовательно, имея формулы для рассчета, можно получить значения недостающих признаков.  \n",
    "Судя по заданию - целевыми признаками будут выступать rougher.output.recovery и final.output.recovery. \n",
    "\n",
    "---"
   ]
  },
  {
   "cell_type": "markdown",
   "metadata": {},
   "source": [
    "#### Предобработка данных \n",
    "\n",
    "Как я понял, нам необходимо придерживаться следующего алгоритма: \n",
    "\n",
    "1. Полная предобработка full сета \n",
    "2. Подтягивание необходимых значений в train и test. Так как у нас нет формул для расчета недостающих признаков - мы можем подтянуть их только из full'a.\n",
    "\n",
    "Пока буду работать так."
   ]
  },
  {
   "cell_type": "markdown",
   "metadata": {},
   "source": [
    "##### Индексация, перевод даты\n",
    "  \n",
    "Перенесем значения столбца 'date' в индекс датасетов для дальнейшей индексации и создадим новый столбец date_time, который переведем в формат даты."
   ]
  },
  {
   "cell_type": "code",
   "execution_count": 15,
   "metadata": {},
   "outputs": [],
   "source": [
    "def data_index(df):\n",
    "    \n",
    "    df_= df\n",
    "    df_['date_time'] = df_['date']\n",
    "    \n",
    "    df_ = df_.set_index('date')\n",
    "    \n",
    "    cols = df_.columns.tolist()\n",
    "    cols = cols[-1:] + cols[:-1]\n",
    "    df_ = df_[cols]\n",
    "    \n",
    "    df_['date_time'] = pd.to_datetime(df_['date_time'], format='%Y-%m-%dT%H:%M:%S')\n",
    "    \n",
    "    return df_"
   ]
  },
  {
   "cell_type": "code",
   "execution_count": 16,
   "metadata": {},
   "outputs": [
    {
     "data": {
      "text/html": [
       "<div>\n",
       "<style scoped>\n",
       "    .dataframe tbody tr th:only-of-type {\n",
       "        vertical-align: middle;\n",
       "    }\n",
       "\n",
       "    .dataframe tbody tr th {\n",
       "        vertical-align: top;\n",
       "    }\n",
       "\n",
       "    .dataframe thead th {\n",
       "        text-align: right;\n",
       "    }\n",
       "</style>\n",
       "<table border=\"1\" class=\"dataframe\">\n",
       "  <thead>\n",
       "    <tr style=\"text-align: right;\">\n",
       "      <th></th>\n",
       "      <th>date_time</th>\n",
       "      <th>final.output.concentrate_ag</th>\n",
       "      <th>final.output.concentrate_pb</th>\n",
       "      <th>final.output.concentrate_sol</th>\n",
       "      <th>final.output.concentrate_au</th>\n",
       "      <th>final.output.recovery</th>\n",
       "      <th>final.output.tail_ag</th>\n",
       "      <th>final.output.tail_pb</th>\n",
       "      <th>final.output.tail_sol</th>\n",
       "      <th>final.output.tail_au</th>\n",
       "      <th>...</th>\n",
       "      <th>secondary_cleaner.state.floatbank4_a_air</th>\n",
       "      <th>secondary_cleaner.state.floatbank4_a_level</th>\n",
       "      <th>secondary_cleaner.state.floatbank4_b_air</th>\n",
       "      <th>secondary_cleaner.state.floatbank4_b_level</th>\n",
       "      <th>secondary_cleaner.state.floatbank5_a_air</th>\n",
       "      <th>secondary_cleaner.state.floatbank5_a_level</th>\n",
       "      <th>secondary_cleaner.state.floatbank5_b_air</th>\n",
       "      <th>secondary_cleaner.state.floatbank5_b_level</th>\n",
       "      <th>secondary_cleaner.state.floatbank6_a_air</th>\n",
       "      <th>secondary_cleaner.state.floatbank6_a_level</th>\n",
       "    </tr>\n",
       "    <tr>\n",
       "      <th>date</th>\n",
       "      <th></th>\n",
       "      <th></th>\n",
       "      <th></th>\n",
       "      <th></th>\n",
       "      <th></th>\n",
       "      <th></th>\n",
       "      <th></th>\n",
       "      <th></th>\n",
       "      <th></th>\n",
       "      <th></th>\n",
       "      <th></th>\n",
       "      <th></th>\n",
       "      <th></th>\n",
       "      <th></th>\n",
       "      <th></th>\n",
       "      <th></th>\n",
       "      <th></th>\n",
       "      <th></th>\n",
       "      <th></th>\n",
       "      <th></th>\n",
       "      <th></th>\n",
       "    </tr>\n",
       "  </thead>\n",
       "  <tbody>\n",
       "    <tr>\n",
       "      <td>2016-01-15 00:00:00</td>\n",
       "      <td>2016-01-15 00:00:00</td>\n",
       "      <td>6.055403</td>\n",
       "      <td>9.889648</td>\n",
       "      <td>5.507324</td>\n",
       "      <td>42.192020</td>\n",
       "      <td>70.541216</td>\n",
       "      <td>10.411962</td>\n",
       "      <td>0.895447</td>\n",
       "      <td>16.904297</td>\n",
       "      <td>2.143149</td>\n",
       "      <td>...</td>\n",
       "      <td>14.016835</td>\n",
       "      <td>-502.488007</td>\n",
       "      <td>12.099931</td>\n",
       "      <td>-504.715942</td>\n",
       "      <td>9.925633</td>\n",
       "      <td>-498.310211</td>\n",
       "      <td>8.079666</td>\n",
       "      <td>-500.470978</td>\n",
       "      <td>14.151341</td>\n",
       "      <td>-605.841980</td>\n",
       "    </tr>\n",
       "    <tr>\n",
       "      <td>2016-01-15 01:00:00</td>\n",
       "      <td>2016-01-15 01:00:00</td>\n",
       "      <td>6.029369</td>\n",
       "      <td>9.968944</td>\n",
       "      <td>5.257781</td>\n",
       "      <td>42.701629</td>\n",
       "      <td>69.266198</td>\n",
       "      <td>10.462676</td>\n",
       "      <td>0.927452</td>\n",
       "      <td>16.634514</td>\n",
       "      <td>2.224930</td>\n",
       "      <td>...</td>\n",
       "      <td>13.992281</td>\n",
       "      <td>-505.503262</td>\n",
       "      <td>11.950531</td>\n",
       "      <td>-501.331529</td>\n",
       "      <td>10.039245</td>\n",
       "      <td>-500.169983</td>\n",
       "      <td>7.984757</td>\n",
       "      <td>-500.582168</td>\n",
       "      <td>13.998353</td>\n",
       "      <td>-599.787184</td>\n",
       "    </tr>\n",
       "    <tr>\n",
       "      <td>2016-01-15 02:00:00</td>\n",
       "      <td>2016-01-15 02:00:00</td>\n",
       "      <td>6.055926</td>\n",
       "      <td>10.213995</td>\n",
       "      <td>5.383759</td>\n",
       "      <td>42.657501</td>\n",
       "      <td>68.116445</td>\n",
       "      <td>10.507046</td>\n",
       "      <td>0.953716</td>\n",
       "      <td>16.208849</td>\n",
       "      <td>2.257889</td>\n",
       "      <td>...</td>\n",
       "      <td>14.015015</td>\n",
       "      <td>-502.520901</td>\n",
       "      <td>11.912783</td>\n",
       "      <td>-501.133383</td>\n",
       "      <td>10.070913</td>\n",
       "      <td>-500.129135</td>\n",
       "      <td>8.013877</td>\n",
       "      <td>-500.517572</td>\n",
       "      <td>14.028663</td>\n",
       "      <td>-601.427363</td>\n",
       "    </tr>\n",
       "    <tr>\n",
       "      <td>2016-01-15 03:00:00</td>\n",
       "      <td>2016-01-15 03:00:00</td>\n",
       "      <td>6.047977</td>\n",
       "      <td>9.977019</td>\n",
       "      <td>4.858634</td>\n",
       "      <td>42.689819</td>\n",
       "      <td>68.347543</td>\n",
       "      <td>10.422762</td>\n",
       "      <td>0.883763</td>\n",
       "      <td>16.532835</td>\n",
       "      <td>2.146849</td>\n",
       "      <td>...</td>\n",
       "      <td>14.036510</td>\n",
       "      <td>-500.857308</td>\n",
       "      <td>11.999550</td>\n",
       "      <td>-501.193686</td>\n",
       "      <td>9.970366</td>\n",
       "      <td>-499.201640</td>\n",
       "      <td>7.977324</td>\n",
       "      <td>-500.255908</td>\n",
       "      <td>14.005551</td>\n",
       "      <td>-599.996129</td>\n",
       "    </tr>\n",
       "    <tr>\n",
       "      <td>2016-01-15 04:00:00</td>\n",
       "      <td>2016-01-15 04:00:00</td>\n",
       "      <td>6.148599</td>\n",
       "      <td>10.142511</td>\n",
       "      <td>4.939416</td>\n",
       "      <td>42.774141</td>\n",
       "      <td>66.927016</td>\n",
       "      <td>10.360302</td>\n",
       "      <td>0.792826</td>\n",
       "      <td>16.525686</td>\n",
       "      <td>2.055292</td>\n",
       "      <td>...</td>\n",
       "      <td>14.027298</td>\n",
       "      <td>-499.838632</td>\n",
       "      <td>11.953070</td>\n",
       "      <td>-501.053894</td>\n",
       "      <td>9.925709</td>\n",
       "      <td>-501.686727</td>\n",
       "      <td>7.894242</td>\n",
       "      <td>-500.356035</td>\n",
       "      <td>13.996647</td>\n",
       "      <td>-601.496691</td>\n",
       "    </tr>\n",
       "  </tbody>\n",
       "</table>\n",
       "<p>5 rows × 87 columns</p>\n",
       "</div>"
      ],
      "text/plain": [
       "                              date_time  final.output.concentrate_ag  \\\n",
       "date                                                                   \n",
       "2016-01-15 00:00:00 2016-01-15 00:00:00                     6.055403   \n",
       "2016-01-15 01:00:00 2016-01-15 01:00:00                     6.029369   \n",
       "2016-01-15 02:00:00 2016-01-15 02:00:00                     6.055926   \n",
       "2016-01-15 03:00:00 2016-01-15 03:00:00                     6.047977   \n",
       "2016-01-15 04:00:00 2016-01-15 04:00:00                     6.148599   \n",
       "\n",
       "                     final.output.concentrate_pb  \\\n",
       "date                                               \n",
       "2016-01-15 00:00:00                     9.889648   \n",
       "2016-01-15 01:00:00                     9.968944   \n",
       "2016-01-15 02:00:00                    10.213995   \n",
       "2016-01-15 03:00:00                     9.977019   \n",
       "2016-01-15 04:00:00                    10.142511   \n",
       "\n",
       "                     final.output.concentrate_sol  \\\n",
       "date                                                \n",
       "2016-01-15 00:00:00                      5.507324   \n",
       "2016-01-15 01:00:00                      5.257781   \n",
       "2016-01-15 02:00:00                      5.383759   \n",
       "2016-01-15 03:00:00                      4.858634   \n",
       "2016-01-15 04:00:00                      4.939416   \n",
       "\n",
       "                     final.output.concentrate_au  final.output.recovery  \\\n",
       "date                                                                      \n",
       "2016-01-15 00:00:00                    42.192020              70.541216   \n",
       "2016-01-15 01:00:00                    42.701629              69.266198   \n",
       "2016-01-15 02:00:00                    42.657501              68.116445   \n",
       "2016-01-15 03:00:00                    42.689819              68.347543   \n",
       "2016-01-15 04:00:00                    42.774141              66.927016   \n",
       "\n",
       "                     final.output.tail_ag  final.output.tail_pb  \\\n",
       "date                                                              \n",
       "2016-01-15 00:00:00             10.411962              0.895447   \n",
       "2016-01-15 01:00:00             10.462676              0.927452   \n",
       "2016-01-15 02:00:00             10.507046              0.953716   \n",
       "2016-01-15 03:00:00             10.422762              0.883763   \n",
       "2016-01-15 04:00:00             10.360302              0.792826   \n",
       "\n",
       "                     final.output.tail_sol  final.output.tail_au  ...  \\\n",
       "date                                                              ...   \n",
       "2016-01-15 00:00:00              16.904297              2.143149  ...   \n",
       "2016-01-15 01:00:00              16.634514              2.224930  ...   \n",
       "2016-01-15 02:00:00              16.208849              2.257889  ...   \n",
       "2016-01-15 03:00:00              16.532835              2.146849  ...   \n",
       "2016-01-15 04:00:00              16.525686              2.055292  ...   \n",
       "\n",
       "                     secondary_cleaner.state.floatbank4_a_air  \\\n",
       "date                                                            \n",
       "2016-01-15 00:00:00                                 14.016835   \n",
       "2016-01-15 01:00:00                                 13.992281   \n",
       "2016-01-15 02:00:00                                 14.015015   \n",
       "2016-01-15 03:00:00                                 14.036510   \n",
       "2016-01-15 04:00:00                                 14.027298   \n",
       "\n",
       "                     secondary_cleaner.state.floatbank4_a_level  \\\n",
       "date                                                              \n",
       "2016-01-15 00:00:00                                 -502.488007   \n",
       "2016-01-15 01:00:00                                 -505.503262   \n",
       "2016-01-15 02:00:00                                 -502.520901   \n",
       "2016-01-15 03:00:00                                 -500.857308   \n",
       "2016-01-15 04:00:00                                 -499.838632   \n",
       "\n",
       "                     secondary_cleaner.state.floatbank4_b_air  \\\n",
       "date                                                            \n",
       "2016-01-15 00:00:00                                 12.099931   \n",
       "2016-01-15 01:00:00                                 11.950531   \n",
       "2016-01-15 02:00:00                                 11.912783   \n",
       "2016-01-15 03:00:00                                 11.999550   \n",
       "2016-01-15 04:00:00                                 11.953070   \n",
       "\n",
       "                     secondary_cleaner.state.floatbank4_b_level  \\\n",
       "date                                                              \n",
       "2016-01-15 00:00:00                                 -504.715942   \n",
       "2016-01-15 01:00:00                                 -501.331529   \n",
       "2016-01-15 02:00:00                                 -501.133383   \n",
       "2016-01-15 03:00:00                                 -501.193686   \n",
       "2016-01-15 04:00:00                                 -501.053894   \n",
       "\n",
       "                     secondary_cleaner.state.floatbank5_a_air  \\\n",
       "date                                                            \n",
       "2016-01-15 00:00:00                                  9.925633   \n",
       "2016-01-15 01:00:00                                 10.039245   \n",
       "2016-01-15 02:00:00                                 10.070913   \n",
       "2016-01-15 03:00:00                                  9.970366   \n",
       "2016-01-15 04:00:00                                  9.925709   \n",
       "\n",
       "                     secondary_cleaner.state.floatbank5_a_level  \\\n",
       "date                                                              \n",
       "2016-01-15 00:00:00                                 -498.310211   \n",
       "2016-01-15 01:00:00                                 -500.169983   \n",
       "2016-01-15 02:00:00                                 -500.129135   \n",
       "2016-01-15 03:00:00                                 -499.201640   \n",
       "2016-01-15 04:00:00                                 -501.686727   \n",
       "\n",
       "                     secondary_cleaner.state.floatbank5_b_air  \\\n",
       "date                                                            \n",
       "2016-01-15 00:00:00                                  8.079666   \n",
       "2016-01-15 01:00:00                                  7.984757   \n",
       "2016-01-15 02:00:00                                  8.013877   \n",
       "2016-01-15 03:00:00                                  7.977324   \n",
       "2016-01-15 04:00:00                                  7.894242   \n",
       "\n",
       "                     secondary_cleaner.state.floatbank5_b_level  \\\n",
       "date                                                              \n",
       "2016-01-15 00:00:00                                 -500.470978   \n",
       "2016-01-15 01:00:00                                 -500.582168   \n",
       "2016-01-15 02:00:00                                 -500.517572   \n",
       "2016-01-15 03:00:00                                 -500.255908   \n",
       "2016-01-15 04:00:00                                 -500.356035   \n",
       "\n",
       "                     secondary_cleaner.state.floatbank6_a_air  \\\n",
       "date                                                            \n",
       "2016-01-15 00:00:00                                 14.151341   \n",
       "2016-01-15 01:00:00                                 13.998353   \n",
       "2016-01-15 02:00:00                                 14.028663   \n",
       "2016-01-15 03:00:00                                 14.005551   \n",
       "2016-01-15 04:00:00                                 13.996647   \n",
       "\n",
       "                     secondary_cleaner.state.floatbank6_a_level  \n",
       "date                                                             \n",
       "2016-01-15 00:00:00                                 -605.841980  \n",
       "2016-01-15 01:00:00                                 -599.787184  \n",
       "2016-01-15 02:00:00                                 -601.427363  \n",
       "2016-01-15 03:00:00                                 -599.996129  \n",
       "2016-01-15 04:00:00                                 -601.496691  \n",
       "\n",
       "[5 rows x 87 columns]"
      ]
     },
     "execution_count": 16,
     "metadata": {},
     "output_type": "execute_result"
    }
   ],
   "source": [
    "rec_full = data_index(recovery_full)\n",
    "rec_full.head()"
   ]
  },
  {
   "cell_type": "markdown",
   "metadata": {},
   "source": [
    "Применим функцию к оставшимся сетам"
   ]
  },
  {
   "cell_type": "code",
   "execution_count": 17,
   "metadata": {},
   "outputs": [],
   "source": [
    "rec_train = data_index(recovery_train)\n",
    "rec_test = data_index(recovery_test)"
   ]
  },
  {
   "cell_type": "markdown",
   "metadata": {},
   "source": [
    "##### Заполнение пропусков  \n",
    "\n",
    "Проведем анализ пропущенных значений во всех сетах."
   ]
  },
  {
   "cell_type": "code",
   "execution_count": 18,
   "metadata": {},
   "outputs": [
    {
     "data": {
      "text/plain": [
       "rougher.output.recovery                     3119\n",
       "rougher.output.tail_ag                      2737\n",
       "rougher.output.tail_sol                     2736\n",
       "rougher.output.tail_au                      2736\n",
       "rougher.input.floatbank11_xanthate          2257\n",
       "                                            ... \n",
       "primary_cleaner.state.floatbank8_b_level      43\n",
       "primary_cleaner.state.floatbank8_c_level      43\n",
       "primary_cleaner.state.floatbank8_d_level      43\n",
       "primary_cleaner.input.feed_size                0\n",
       "date_time                                      0\n",
       "Length: 87, dtype: int64"
      ]
     },
     "execution_count": 18,
     "metadata": {},
     "output_type": "execute_result"
    }
   ],
   "source": [
    "rec_full.isna().sum().sort_values(ascending=False)"
   ]
  },
  {
   "cell_type": "code",
   "execution_count": 19,
   "metadata": {},
   "outputs": [
    {
     "data": {
      "text/plain": [
       "rougher.output.recovery                               2573\n",
       "rougher.output.tail_ag                                2250\n",
       "rougher.output.tail_sol                               2249\n",
       "rougher.output.tail_au                                2249\n",
       "secondary_cleaner.output.tail_sol                     1986\n",
       "                                                      ... \n",
       "rougher.calculation.sulfate_to_au_concentrate           27\n",
       "rougher.calculation.floatbank10_sulfate_to_au_feed      27\n",
       "rougher.calculation.floatbank11_sulfate_to_au_feed      27\n",
       "primary_cleaner.input.feed_size                          0\n",
       "date_time                                                0\n",
       "Length: 87, dtype: int64"
      ]
     },
     "execution_count": 19,
     "metadata": {},
     "output_type": "execute_result"
    }
   ],
   "source": [
    "rec_train.isna().sum().sort_values(ascending=False)"
   ]
  },
  {
   "cell_type": "code",
   "execution_count": 20,
   "metadata": {},
   "outputs": [
    {
     "data": {
      "text/plain": [
       "rougher.input.floatbank11_xanthate    353\n",
       "primary_cleaner.input.sulfate         302\n",
       "primary_cleaner.input.depressant      284\n",
       "rougher.input.floatbank10_sulfate     257\n",
       "primary_cleaner.input.xanthate        166\n",
       "dtype: int64"
      ]
     },
     "execution_count": 20,
     "metadata": {},
     "output_type": "execute_result"
    }
   ],
   "source": [
    "rec_test.isna().sum().sort_values(ascending=False).head(5)"
   ]
  },
  {
   "cell_type": "markdown",
   "metadata": {},
   "source": [
    "Больше всего пропущенных значений в одном из целевых столбцов 'rougher.output.recovery'  \n",
    "\n",
    "---\n",
    "\n",
    "Удалим наблюдения с отсутствующими целевыми признаками, так как восстанавливать их по \"усредненным\" значениям, как начинающий data-scientist считаю неправильным."
   ]
  },
  {
   "cell_type": "code",
   "execution_count": 21,
   "metadata": {},
   "outputs": [],
   "source": [
    "rec_full = rec_full.dropna(axis='index', how='any', subset=['rougher.output.recovery', 'final.output.recovery'])\n",
    "rec_train = rec_train.dropna(axis='index', how='any', subset=['rougher.output.recovery', 'final.output.recovery'])"
   ]
  },
  {
   "cell_type": "markdown",
   "metadata": {},
   "source": [
    "---\n",
    "\n",
    "Остальные пропуски, заполним ближайшими (верхними) значениями по столбцам, поскольку из условий проекта следует, что \"Соседние по времени параметры часто похожи.\""
   ]
  },
  {
   "cell_type": "code",
   "execution_count": 22,
   "metadata": {},
   "outputs": [],
   "source": [
    "rec_full = rec_full.fillna(method='ffill')\n",
    "rec_train = rec_train.fillna(method='ffill')\n",
    "rec_test = rec_test.fillna(method='ffill')"
   ]
  },
  {
   "cell_type": "markdown",
   "metadata": {},
   "source": [
    "<font color='green'>Да, все корректно. </font>\n"
   ]
  },
  {
   "cell_type": "code",
   "execution_count": 23,
   "metadata": {},
   "outputs": [
    {
     "name": "stdout",
     "output_type": "stream",
     "text": [
      "[0]\n",
      "[0]\n",
      "[0]\n"
     ]
    }
   ],
   "source": [
    "print(rec_full.isna().sum().unique()) \n",
    "print(rec_train.isna().sum().unique())\n",
    "print(rec_test.isna().sum().unique())"
   ]
  },
  {
   "cell_type": "code",
   "execution_count": 24,
   "metadata": {},
   "outputs": [
    {
     "name": "stdout",
     "output_type": "stream",
     "text": [
      "Потери сета full после обработки = 14.426\n",
      "Потери сета train после обработки = 16.079\n",
      "Потери сета test после обработки = 0.0\n"
     ]
    }
   ],
   "source": [
    "new_frame = [rec_full, rec_train, rec_test]\n",
    "old_frame = [recovery_full, recovery_train, recovery_test]\n",
    "names = ['full', 'train', 'test']\n",
    "\n",
    "for new, old, name in zip(new_frame, old_frame, names):\n",
    "\n",
    "    temp = 100-(len(new)*100/len(old))\n",
    "    \n",
    "    print('Потери сета {} после обработки = {:.5}'.format(name, temp))"
   ]
  },
  {
   "cell_type": "markdown",
   "metadata": {},
   "source": [
    "Мы теряем от 16 до 14% от первоначальных данных.  \n",
    "Not great, not terrible.  \n",
    "В любом случае - восстанавливать таргеты по каким-либо значениям не считаю грамотным вариантом.\n",
    "\n",
    "---"
   ]
  },
  {
   "cell_type": "markdown",
   "metadata": {},
   "source": [
    "Отбросим из сета train все фичи, которые не встречаются в сете test, чтобы уровнять количество признаков для построения моделей.  \n",
    "1. Дропнем целевые признаки из переменной difference, в которой у нас сохранены отличающиеся столбцы train и test сетов.  \n",
    "2. Удалим обновленный список столбцов из сета train."
   ]
  },
  {
   "cell_type": "code",
   "execution_count": 25,
   "metadata": {},
   "outputs": [
    {
     "data": {
      "text/plain": [
       "(55, 53)"
      ]
     },
     "execution_count": 25,
     "metadata": {},
     "output_type": "execute_result"
    }
   ],
   "source": [
    "unwanted = {'rougher.output.recovery','final.output.recovery'}\n",
    "\n",
    "difference_ = [e for e in difference if e not in unwanted]\n",
    "\n",
    "rec_train_upd = rec_train.drop(difference_, axis=1)\n",
    "\n",
    "rec_train_upd.shape[1], rec_test.shape[1]"
   ]
  },
  {
   "cell_type": "markdown",
   "metadata": {},
   "source": [
    "<font color='green'>Верно, в обучающей выборке нужно оставить только те признаки, которые есть в тестовой. </font>\n"
   ]
  },
  {
   "cell_type": "markdown",
   "metadata": {},
   "source": [
    "Разница в 2 столбца - это отсуствие таргета в сете rec_test.  \n",
    "\n",
    "---  \n",
    "\n",
    "Добавим таргеты из rec_full в rec_test, соотвтетсвие установим по индексу."
   ]
  },
  {
   "cell_type": "code",
   "execution_count": 26,
   "metadata": {},
   "outputs": [],
   "source": [
    "rec_test_upd = rec_test.join(rec_full['rougher.output.recovery'])\n",
    "rec_test_upd = rec_test_upd.join(rec_full['final.output.recovery'])"
   ]
  },
  {
   "cell_type": "code",
   "execution_count": 27,
   "metadata": {},
   "outputs": [
    {
     "data": {
      "text/html": [
       "<div>\n",
       "<style scoped>\n",
       "    .dataframe tbody tr th:only-of-type {\n",
       "        vertical-align: middle;\n",
       "    }\n",
       "\n",
       "    .dataframe tbody tr th {\n",
       "        vertical-align: top;\n",
       "    }\n",
       "\n",
       "    .dataframe thead th {\n",
       "        text-align: right;\n",
       "    }\n",
       "</style>\n",
       "<table border=\"1\" class=\"dataframe\">\n",
       "  <thead>\n",
       "    <tr style=\"text-align: right;\">\n",
       "      <th></th>\n",
       "      <th>date_time</th>\n",
       "      <th>primary_cleaner.input.sulfate</th>\n",
       "      <th>primary_cleaner.input.depressant</th>\n",
       "      <th>primary_cleaner.input.feed_size</th>\n",
       "      <th>primary_cleaner.input.xanthate</th>\n",
       "      <th>primary_cleaner.state.floatbank8_a_air</th>\n",
       "      <th>primary_cleaner.state.floatbank8_a_level</th>\n",
       "      <th>primary_cleaner.state.floatbank8_b_air</th>\n",
       "      <th>primary_cleaner.state.floatbank8_b_level</th>\n",
       "      <th>primary_cleaner.state.floatbank8_c_air</th>\n",
       "      <th>...</th>\n",
       "      <th>secondary_cleaner.state.floatbank4_b_air</th>\n",
       "      <th>secondary_cleaner.state.floatbank4_b_level</th>\n",
       "      <th>secondary_cleaner.state.floatbank5_a_air</th>\n",
       "      <th>secondary_cleaner.state.floatbank5_a_level</th>\n",
       "      <th>secondary_cleaner.state.floatbank5_b_air</th>\n",
       "      <th>secondary_cleaner.state.floatbank5_b_level</th>\n",
       "      <th>secondary_cleaner.state.floatbank6_a_air</th>\n",
       "      <th>secondary_cleaner.state.floatbank6_a_level</th>\n",
       "      <th>rougher.output.recovery</th>\n",
       "      <th>final.output.recovery</th>\n",
       "    </tr>\n",
       "    <tr>\n",
       "      <th>date</th>\n",
       "      <th></th>\n",
       "      <th></th>\n",
       "      <th></th>\n",
       "      <th></th>\n",
       "      <th></th>\n",
       "      <th></th>\n",
       "      <th></th>\n",
       "      <th></th>\n",
       "      <th></th>\n",
       "      <th></th>\n",
       "      <th></th>\n",
       "      <th></th>\n",
       "      <th></th>\n",
       "      <th></th>\n",
       "      <th></th>\n",
       "      <th></th>\n",
       "      <th></th>\n",
       "      <th></th>\n",
       "      <th></th>\n",
       "      <th></th>\n",
       "      <th></th>\n",
       "    </tr>\n",
       "  </thead>\n",
       "  <tbody>\n",
       "    <tr>\n",
       "      <td>2016-09-01 00:59:59</td>\n",
       "      <td>2016-09-01 00:59:59</td>\n",
       "      <td>210.800909</td>\n",
       "      <td>14.993118</td>\n",
       "      <td>8.080000</td>\n",
       "      <td>1.005021</td>\n",
       "      <td>1398.981301</td>\n",
       "      <td>-500.225577</td>\n",
       "      <td>1399.144926</td>\n",
       "      <td>-499.919735</td>\n",
       "      <td>1400.102998</td>\n",
       "      <td>...</td>\n",
       "      <td>8.016656</td>\n",
       "      <td>-501.289139</td>\n",
       "      <td>7.946562</td>\n",
       "      <td>-432.317850</td>\n",
       "      <td>4.872511</td>\n",
       "      <td>-500.037437</td>\n",
       "      <td>26.705889</td>\n",
       "      <td>-499.709414</td>\n",
       "      <td>89.993421</td>\n",
       "      <td>70.273583</td>\n",
       "    </tr>\n",
       "    <tr>\n",
       "      <td>2016-09-01 01:59:59</td>\n",
       "      <td>2016-09-01 01:59:59</td>\n",
       "      <td>215.392455</td>\n",
       "      <td>14.987471</td>\n",
       "      <td>8.080000</td>\n",
       "      <td>0.990469</td>\n",
       "      <td>1398.777912</td>\n",
       "      <td>-500.057435</td>\n",
       "      <td>1398.055362</td>\n",
       "      <td>-499.778182</td>\n",
       "      <td>1396.151033</td>\n",
       "      <td>...</td>\n",
       "      <td>8.130979</td>\n",
       "      <td>-499.634209</td>\n",
       "      <td>7.958270</td>\n",
       "      <td>-525.839648</td>\n",
       "      <td>4.878850</td>\n",
       "      <td>-500.162375</td>\n",
       "      <td>25.019940</td>\n",
       "      <td>-499.819438</td>\n",
       "      <td>88.089657</td>\n",
       "      <td>68.910432</td>\n",
       "    </tr>\n",
       "    <tr>\n",
       "      <td>2016-09-01 02:59:59</td>\n",
       "      <td>2016-09-01 02:59:59</td>\n",
       "      <td>215.259946</td>\n",
       "      <td>12.884934</td>\n",
       "      <td>7.786667</td>\n",
       "      <td>0.996043</td>\n",
       "      <td>1398.493666</td>\n",
       "      <td>-500.868360</td>\n",
       "      <td>1398.860436</td>\n",
       "      <td>-499.764529</td>\n",
       "      <td>1398.075709</td>\n",
       "      <td>...</td>\n",
       "      <td>8.096893</td>\n",
       "      <td>-500.827423</td>\n",
       "      <td>8.071056</td>\n",
       "      <td>-500.801673</td>\n",
       "      <td>4.905125</td>\n",
       "      <td>-499.828510</td>\n",
       "      <td>24.994862</td>\n",
       "      <td>-500.622559</td>\n",
       "      <td>88.412756</td>\n",
       "      <td>68.143213</td>\n",
       "    </tr>\n",
       "    <tr>\n",
       "      <td>2016-09-01 03:59:59</td>\n",
       "      <td>2016-09-01 03:59:59</td>\n",
       "      <td>215.336236</td>\n",
       "      <td>12.006805</td>\n",
       "      <td>7.640000</td>\n",
       "      <td>0.863514</td>\n",
       "      <td>1399.618111</td>\n",
       "      <td>-498.863574</td>\n",
       "      <td>1397.440120</td>\n",
       "      <td>-499.211024</td>\n",
       "      <td>1400.129303</td>\n",
       "      <td>...</td>\n",
       "      <td>8.074946</td>\n",
       "      <td>-499.474407</td>\n",
       "      <td>7.897085</td>\n",
       "      <td>-500.868509</td>\n",
       "      <td>4.931400</td>\n",
       "      <td>-499.963623</td>\n",
       "      <td>24.948919</td>\n",
       "      <td>-498.709987</td>\n",
       "      <td>87.360133</td>\n",
       "      <td>67.776393</td>\n",
       "    </tr>\n",
       "    <tr>\n",
       "      <td>2016-09-01 04:59:59</td>\n",
       "      <td>2016-09-01 04:59:59</td>\n",
       "      <td>199.099327</td>\n",
       "      <td>10.682530</td>\n",
       "      <td>7.530000</td>\n",
       "      <td>0.805575</td>\n",
       "      <td>1401.268123</td>\n",
       "      <td>-500.808305</td>\n",
       "      <td>1398.128818</td>\n",
       "      <td>-499.504543</td>\n",
       "      <td>1402.172226</td>\n",
       "      <td>...</td>\n",
       "      <td>8.054678</td>\n",
       "      <td>-500.397500</td>\n",
       "      <td>8.107890</td>\n",
       "      <td>-509.526725</td>\n",
       "      <td>4.957674</td>\n",
       "      <td>-500.360026</td>\n",
       "      <td>25.003331</td>\n",
       "      <td>-500.856333</td>\n",
       "      <td>83.236367</td>\n",
       "      <td>61.467078</td>\n",
       "    </tr>\n",
       "  </tbody>\n",
       "</table>\n",
       "<p>5 rows × 55 columns</p>\n",
       "</div>"
      ],
      "text/plain": [
       "                              date_time  primary_cleaner.input.sulfate  \\\n",
       "date                                                                     \n",
       "2016-09-01 00:59:59 2016-09-01 00:59:59                     210.800909   \n",
       "2016-09-01 01:59:59 2016-09-01 01:59:59                     215.392455   \n",
       "2016-09-01 02:59:59 2016-09-01 02:59:59                     215.259946   \n",
       "2016-09-01 03:59:59 2016-09-01 03:59:59                     215.336236   \n",
       "2016-09-01 04:59:59 2016-09-01 04:59:59                     199.099327   \n",
       "\n",
       "                     primary_cleaner.input.depressant  \\\n",
       "date                                                    \n",
       "2016-09-01 00:59:59                         14.993118   \n",
       "2016-09-01 01:59:59                         14.987471   \n",
       "2016-09-01 02:59:59                         12.884934   \n",
       "2016-09-01 03:59:59                         12.006805   \n",
       "2016-09-01 04:59:59                         10.682530   \n",
       "\n",
       "                     primary_cleaner.input.feed_size  \\\n",
       "date                                                   \n",
       "2016-09-01 00:59:59                         8.080000   \n",
       "2016-09-01 01:59:59                         8.080000   \n",
       "2016-09-01 02:59:59                         7.786667   \n",
       "2016-09-01 03:59:59                         7.640000   \n",
       "2016-09-01 04:59:59                         7.530000   \n",
       "\n",
       "                     primary_cleaner.input.xanthate  \\\n",
       "date                                                  \n",
       "2016-09-01 00:59:59                        1.005021   \n",
       "2016-09-01 01:59:59                        0.990469   \n",
       "2016-09-01 02:59:59                        0.996043   \n",
       "2016-09-01 03:59:59                        0.863514   \n",
       "2016-09-01 04:59:59                        0.805575   \n",
       "\n",
       "                     primary_cleaner.state.floatbank8_a_air  \\\n",
       "date                                                          \n",
       "2016-09-01 00:59:59                             1398.981301   \n",
       "2016-09-01 01:59:59                             1398.777912   \n",
       "2016-09-01 02:59:59                             1398.493666   \n",
       "2016-09-01 03:59:59                             1399.618111   \n",
       "2016-09-01 04:59:59                             1401.268123   \n",
       "\n",
       "                     primary_cleaner.state.floatbank8_a_level  \\\n",
       "date                                                            \n",
       "2016-09-01 00:59:59                               -500.225577   \n",
       "2016-09-01 01:59:59                               -500.057435   \n",
       "2016-09-01 02:59:59                               -500.868360   \n",
       "2016-09-01 03:59:59                               -498.863574   \n",
       "2016-09-01 04:59:59                               -500.808305   \n",
       "\n",
       "                     primary_cleaner.state.floatbank8_b_air  \\\n",
       "date                                                          \n",
       "2016-09-01 00:59:59                             1399.144926   \n",
       "2016-09-01 01:59:59                             1398.055362   \n",
       "2016-09-01 02:59:59                             1398.860436   \n",
       "2016-09-01 03:59:59                             1397.440120   \n",
       "2016-09-01 04:59:59                             1398.128818   \n",
       "\n",
       "                     primary_cleaner.state.floatbank8_b_level  \\\n",
       "date                                                            \n",
       "2016-09-01 00:59:59                               -499.919735   \n",
       "2016-09-01 01:59:59                               -499.778182   \n",
       "2016-09-01 02:59:59                               -499.764529   \n",
       "2016-09-01 03:59:59                               -499.211024   \n",
       "2016-09-01 04:59:59                               -499.504543   \n",
       "\n",
       "                     primary_cleaner.state.floatbank8_c_air  ...  \\\n",
       "date                                                         ...   \n",
       "2016-09-01 00:59:59                             1400.102998  ...   \n",
       "2016-09-01 01:59:59                             1396.151033  ...   \n",
       "2016-09-01 02:59:59                             1398.075709  ...   \n",
       "2016-09-01 03:59:59                             1400.129303  ...   \n",
       "2016-09-01 04:59:59                             1402.172226  ...   \n",
       "\n",
       "                     secondary_cleaner.state.floatbank4_b_air  \\\n",
       "date                                                            \n",
       "2016-09-01 00:59:59                                  8.016656   \n",
       "2016-09-01 01:59:59                                  8.130979   \n",
       "2016-09-01 02:59:59                                  8.096893   \n",
       "2016-09-01 03:59:59                                  8.074946   \n",
       "2016-09-01 04:59:59                                  8.054678   \n",
       "\n",
       "                     secondary_cleaner.state.floatbank4_b_level  \\\n",
       "date                                                              \n",
       "2016-09-01 00:59:59                                 -501.289139   \n",
       "2016-09-01 01:59:59                                 -499.634209   \n",
       "2016-09-01 02:59:59                                 -500.827423   \n",
       "2016-09-01 03:59:59                                 -499.474407   \n",
       "2016-09-01 04:59:59                                 -500.397500   \n",
       "\n",
       "                     secondary_cleaner.state.floatbank5_a_air  \\\n",
       "date                                                            \n",
       "2016-09-01 00:59:59                                  7.946562   \n",
       "2016-09-01 01:59:59                                  7.958270   \n",
       "2016-09-01 02:59:59                                  8.071056   \n",
       "2016-09-01 03:59:59                                  7.897085   \n",
       "2016-09-01 04:59:59                                  8.107890   \n",
       "\n",
       "                     secondary_cleaner.state.floatbank5_a_level  \\\n",
       "date                                                              \n",
       "2016-09-01 00:59:59                                 -432.317850   \n",
       "2016-09-01 01:59:59                                 -525.839648   \n",
       "2016-09-01 02:59:59                                 -500.801673   \n",
       "2016-09-01 03:59:59                                 -500.868509   \n",
       "2016-09-01 04:59:59                                 -509.526725   \n",
       "\n",
       "                     secondary_cleaner.state.floatbank5_b_air  \\\n",
       "date                                                            \n",
       "2016-09-01 00:59:59                                  4.872511   \n",
       "2016-09-01 01:59:59                                  4.878850   \n",
       "2016-09-01 02:59:59                                  4.905125   \n",
       "2016-09-01 03:59:59                                  4.931400   \n",
       "2016-09-01 04:59:59                                  4.957674   \n",
       "\n",
       "                     secondary_cleaner.state.floatbank5_b_level  \\\n",
       "date                                                              \n",
       "2016-09-01 00:59:59                                 -500.037437   \n",
       "2016-09-01 01:59:59                                 -500.162375   \n",
       "2016-09-01 02:59:59                                 -499.828510   \n",
       "2016-09-01 03:59:59                                 -499.963623   \n",
       "2016-09-01 04:59:59                                 -500.360026   \n",
       "\n",
       "                     secondary_cleaner.state.floatbank6_a_air  \\\n",
       "date                                                            \n",
       "2016-09-01 00:59:59                                 26.705889   \n",
       "2016-09-01 01:59:59                                 25.019940   \n",
       "2016-09-01 02:59:59                                 24.994862   \n",
       "2016-09-01 03:59:59                                 24.948919   \n",
       "2016-09-01 04:59:59                                 25.003331   \n",
       "\n",
       "                     secondary_cleaner.state.floatbank6_a_level  \\\n",
       "date                                                              \n",
       "2016-09-01 00:59:59                                 -499.709414   \n",
       "2016-09-01 01:59:59                                 -499.819438   \n",
       "2016-09-01 02:59:59                                 -500.622559   \n",
       "2016-09-01 03:59:59                                 -498.709987   \n",
       "2016-09-01 04:59:59                                 -500.856333   \n",
       "\n",
       "                     rougher.output.recovery  final.output.recovery  \n",
       "date                                                                 \n",
       "2016-09-01 00:59:59                89.993421              70.273583  \n",
       "2016-09-01 01:59:59                88.089657              68.910432  \n",
       "2016-09-01 02:59:59                88.412756              68.143213  \n",
       "2016-09-01 03:59:59                87.360133              67.776393  \n",
       "2016-09-01 04:59:59                83.236367              61.467078  \n",
       "\n",
       "[5 rows x 55 columns]"
      ]
     },
     "execution_count": 27,
     "metadata": {},
     "output_type": "execute_result"
    }
   ],
   "source": [
    "rec_test_upd.head()"
   ]
  },
  {
   "cell_type": "markdown",
   "metadata": {},
   "source": [
    "Проверим правильность присоединения столбцов.  \n",
    "При правильном переносе данных, должны быть положительные ответы в обоих случаях"
   ]
  },
  {
   "cell_type": "code",
   "execution_count": 28,
   "metadata": {},
   "outputs": [
    {
     "data": {
      "text/plain": [
       "True"
      ]
     },
     "execution_count": 28,
     "metadata": {},
     "output_type": "execute_result"
    }
   ],
   "source": [
    "(rec_full.loc['2016-09-01 00:59:59']['rougher.output.recovery'] == \n",
    "rec_test_upd.loc['2016-09-01 00:59:59']['rougher.output.recovery'])"
   ]
  },
  {
   "cell_type": "code",
   "execution_count": 29,
   "metadata": {},
   "outputs": [
    {
     "data": {
      "text/plain": [
       "True"
      ]
     },
     "execution_count": 29,
     "metadata": {},
     "output_type": "execute_result"
    }
   ],
   "source": [
    "(rec_full.loc['2016-09-01 00:59:59']['final.output.recovery'] == \n",
    " rec_test_upd.loc['2016-09-01 00:59:59']['final.output.recovery'])"
   ]
  },
  {
   "cell_type": "markdown",
   "metadata": {},
   "source": [
    "И финальная проверка соответсвия столбцов rec_train_upd и rec_test_upd, подготовленных для дальнейшей обработки"
   ]
  },
  {
   "cell_type": "code",
   "execution_count": 30,
   "metadata": {},
   "outputs": [
    {
     "data": {
      "text/plain": [
       "([], [])"
      ]
     },
     "execution_count": 30,
     "metadata": {},
     "output_type": "execute_result"
    }
   ],
   "source": [
    "train_cols = rec_train_upd.columns.tolist()\n",
    "test_cols = rec_test_upd.columns.tolist()\n",
    "\n",
    "list(set(train_cols) - set(test_cols)), list(set(test_cols) - set(train_cols))"
   ]
  },
  {
   "cell_type": "markdown",
   "metadata": {},
   "source": [
    "Проверим последовательность столбцов в обучающей и тестовой выборке."
   ]
  },
  {
   "cell_type": "markdown",
   "metadata": {},
   "source": [
    "Оба списки пустые - в двух сетах одинаковые столбцы.  \n",
    "\n",
    "Удалим пропущенные значения в таргетах в сете rec_test_upd, которые попали сюда при добавлении столбцов с таргетом и rec_full."
   ]
  },
  {
   "cell_type": "code",
   "execution_count": 31,
   "metadata": {},
   "outputs": [
    {
     "data": {
      "text/plain": [
       "final.output.recovery      566\n",
       "rougher.output.recovery    566\n",
       "dtype: int64"
      ]
     },
     "execution_count": 31,
     "metadata": {},
     "output_type": "execute_result"
    }
   ],
   "source": [
    "rec_test_upd.isna().sum().sort_values(ascending=False).head(2)"
   ]
  },
  {
   "cell_type": "code",
   "execution_count": 32,
   "metadata": {},
   "outputs": [],
   "source": [
    "rec_test_upd = rec_test_upd.dropna(axis='index', how='any', subset=['rougher.output.recovery', 'final.output.recovery'])"
   ]
  },
  {
   "cell_type": "code",
   "execution_count": 33,
   "metadata": {},
   "outputs": [
    {
     "data": {
      "text/plain": [
       "final.output.recovery                 0\n",
       "rougher.input.feed_ag                 0\n",
       "rougher.state.floatbank10_a_level     0\n",
       "rougher.state.floatbank10_a_air       0\n",
       "rougher.input.floatbank11_xanthate    0\n",
       "dtype: int64"
      ]
     },
     "execution_count": 33,
     "metadata": {},
     "output_type": "execute_result"
    }
   ],
   "source": [
    "rec_test_upd.isna().sum().sort_values(ascending=False).head()"
   ]
  },
  {
   "cell_type": "markdown",
   "metadata": {},
   "source": [
    "---\n",
    "\n",
    "Соединение данных в тестовом сете произведено верно.  \n",
    "Сортировать порядок столбцов не имеет смысла. Можно сбросить все индексы, но пока оставим, как есть, возможно, где-то в дальнейшем, они еще пригодятся.  \n",
    "В выборках rec_train_upd и rec_test_upd по 55 одинаковых столбцов.\n",
    "\n",
    "Предобработка завершена, переходим к выводам по первому шагу."
   ]
  },
  {
   "cell_type": "markdown",
   "metadata": {},
   "source": [
    "### Вывод \n",
    "\n",
    "На данном шаге произведено знакомство с данными, и выпоплены первые шаги проекта. За время работы установлено следующее:\n",
    "\n",
    "1. В предложенных данных ~ 30% пропущенных значений;  \n",
    "2. Целевыми признаками данных являются столбцы 'rougher.output.recovery' и 'final.output.recovery';  \n",
    "3. Рассчетные значения столбца 'rougher.output.recovery' в сете recovery_train демонстрируют значение средней абсолютной ошибки, в сравнении с представленными значениями, равной 9.4e-15. Можно утверждать, что представленные данные посчитаны корректно. \n",
    "\n",
    "В процессе предобработки дата была преведена в читаемый вид, были удалены строки с пропущенным значенем целевых признаков во всех трех сетах, пропущенные значения фич заполнены методом \"ближаших верхних соседей\" - \"ffill\".  \n",
    "Из первоначального сета recovery_train были удалены фичи, которых нет в recovery_test. В recovery_test были добавлены целевые признаки из recovery_full.\n",
    "\n",
    "В целом, за время предобработы, было удалено ~16% изначальных данных, за счет дропа неизвестных целевых признаков.  \n",
    "\n",
    "rec_full готов для исследования признаков (пункт 2 проекта)  \n",
    "rec_train_upd и rec_test_updatet подготовленны для построения моделей (пункт 3 проекта)  \n",
    "\n",
    "Предобработка завершена, переходим к следующему шагу.  \n",
    "\n",
    "---"
   ]
  },
  {
   "cell_type": "markdown",
   "metadata": {},
   "source": [
    "## Шаг 2. Анализ данных"
   ]
  },
  {
   "cell_type": "markdown",
   "metadata": {},
   "source": [
    "#### Анализ концентрации металлов на всех стадиях обогащения  \n",
    "\n",
    "Все исследования на данном шаге будут производиться на сете rec_full, поскольку он обладает полным запасом необходимых данных.  \n",
    "  \n",
    "Необходимо провести исследование на стадиях - сырье до обработки / сырье после флотации / сырье после первого этапа очистки / сырье после второго этапа очистки. \n",
    "Необходимо отобрать столбцы со значением 'concentrate'. К ним добавятся столбцы вхождения сырья input.feed.\n",
    "\n",
    "Для данного анализа сбросим индекс у сета rec_full"
   ]
  },
  {
   "cell_type": "code",
   "execution_count": 34,
   "metadata": {},
   "outputs": [],
   "source": [
    "rec_full_ = rec_full.copy()\n",
    "rec_full_ = rec_full_.reset_index(drop=True)"
   ]
  },
  {
   "cell_type": "markdown",
   "metadata": {},
   "source": [
    "Создадим список всех столбцов и последовательно очистим его от ненужных значений."
   ]
  },
  {
   "cell_type": "code",
   "execution_count": 35,
   "metadata": {},
   "outputs": [
    {
     "data": {
      "text/plain": [
       "['final.output.concentrate_ag',\n",
       " 'final.output.concentrate_pb',\n",
       " 'final.output.concentrate_au',\n",
       " 'primary_cleaner.output.concentrate_ag',\n",
       " 'primary_cleaner.output.concentrate_pb',\n",
       " 'primary_cleaner.output.concentrate_au',\n",
       " 'rougher.calculation.sulfate_to_au_concentrate',\n",
       " 'rougher.output.concentrate_ag',\n",
       " 'rougher.output.concentrate_pb',\n",
       " 'rougher.output.concentrate_au',\n",
       " 'rougher.input.feed_ag',\n",
       " 'rougher.input.feed_pb',\n",
       " 'rougher.input.feed_au']"
      ]
     },
     "execution_count": 35,
     "metadata": {},
     "output_type": "execute_result"
    }
   ],
   "source": [
    "col_full = rec_full_.columns.tolist()\n",
    "\n",
    "col_concentrate = [v for v in col_full if 'concentrate' in v]\n",
    "col_input = [v for v in col_full if 'rougher.input.feed' in v]\n",
    "\n",
    "col_con_inp = col_concentrate + col_input\n",
    "\n",
    "col_final = [v for v in col_con_inp if 'ag' in v or 'au' in v or 'pb' in v]\n",
    "\n",
    "col_final"
   ]
  },
  {
   "cell_type": "markdown",
   "metadata": {},
   "source": [
    "Осталось удалить только отношение сульфата к золоту и развернуть список, чтобы операции следовали друг за другом в логическом порядке."
   ]
  },
  {
   "cell_type": "code",
   "execution_count": 36,
   "metadata": {},
   "outputs": [],
   "source": [
    "col_final.remove('rougher.calculation.sulfate_to_au_concentrate')"
   ]
  },
  {
   "cell_type": "code",
   "execution_count": 37,
   "metadata": {},
   "outputs": [
    {
     "data": {
      "text/plain": [
       "['final.output.concentrate_ag',\n",
       " 'final.output.concentrate_pb',\n",
       " 'final.output.concentrate_au',\n",
       " 'primary_cleaner.output.concentrate_ag',\n",
       " 'primary_cleaner.output.concentrate_pb',\n",
       " 'primary_cleaner.output.concentrate_au',\n",
       " 'rougher.output.concentrate_ag',\n",
       " 'rougher.output.concentrate_pb',\n",
       " 'rougher.output.concentrate_au',\n",
       " 'rougher.input.feed_ag',\n",
       " 'rougher.input.feed_pb',\n",
       " 'rougher.input.feed_au']"
      ]
     },
     "execution_count": 37,
     "metadata": {},
     "output_type": "execute_result"
    }
   ],
   "source": [
    "col_final"
   ]
  },
  {
   "cell_type": "code",
   "execution_count": 38,
   "metadata": {},
   "outputs": [],
   "source": [
    "col_final.reverse()"
   ]
  },
  {
   "cell_type": "code",
   "execution_count": 39,
   "metadata": {},
   "outputs": [
    {
     "data": {
      "text/plain": [
       "['rougher.input.feed_au',\n",
       " 'rougher.input.feed_pb',\n",
       " 'rougher.input.feed_ag',\n",
       " 'rougher.output.concentrate_au',\n",
       " 'rougher.output.concentrate_pb',\n",
       " 'rougher.output.concentrate_ag',\n",
       " 'primary_cleaner.output.concentrate_au',\n",
       " 'primary_cleaner.output.concentrate_pb',\n",
       " 'primary_cleaner.output.concentrate_ag',\n",
       " 'final.output.concentrate_au',\n",
       " 'final.output.concentrate_pb',\n",
       " 'final.output.concentrate_ag']"
      ]
     },
     "execution_count": 39,
     "metadata": {},
     "output_type": "execute_result"
    }
   ],
   "source": [
    "col_final"
   ]
  },
  {
   "cell_type": "markdown",
   "metadata": {},
   "source": [
    "Разведем каждый металл и соберем фреймы по каждому металлу"
   ]
  },
  {
   "cell_type": "code",
   "execution_count": 40,
   "metadata": {},
   "outputs": [],
   "source": [
    "col_ag = [v for v in col_final if 'ag' in v]\n",
    "col_au = [v for v in col_final if 'au' in v]\n",
    "col_pb = [v for v in col_final if 'pb' in v]"
   ]
  },
  {
   "cell_type": "code",
   "execution_count": 41,
   "metadata": {},
   "outputs": [],
   "source": [
    "conc_ag = rec_full_[col_ag].rename(columns={'rougher.input.feed_ag' : 'rougher.input',\n",
    "                                            'rougher.output.concentrate_ag' : 'rougher.output',\n",
    "                                            'primary_cleaner.output.concentrate_ag' : 'primary_cleaner.output',\n",
    "                                            'final.output.concentrate_ag' : 'final.output'})\n",
    "\n",
    "conc_au = rec_full_[col_au].rename(columns={'rougher.input.feed_au' : 'rougher.input',\n",
    "                                            'rougher.output.concentrate_au' : 'rougher.output',\n",
    "                                            'primary_cleaner.output.concentrate_au' : 'primary_cleaner.output',\n",
    "                                            'final.output.concentrate_au' : 'final.output'})\n",
    "\n",
    "conc_pb = rec_full_[col_pb].rename(columns={'rougher.input.feed_pb' : 'rougher.input',\n",
    "                                            'rougher.output.concentrate_pb' : 'rougher.output',\n",
    "                                            'primary_cleaner.output.concentrate_pb' : 'primary_cleaner.output',\n",
    "                                            'final.output.concentrate_pb' : 'final.output'})"
   ]
  },
  {
   "cell_type": "code",
   "execution_count": 42,
   "metadata": {},
   "outputs": [
    {
     "data": {
      "text/html": [
       "<div>\n",
       "<style scoped>\n",
       "    .dataframe tbody tr th:only-of-type {\n",
       "        vertical-align: middle;\n",
       "    }\n",
       "\n",
       "    .dataframe tbody tr th {\n",
       "        vertical-align: top;\n",
       "    }\n",
       "\n",
       "    .dataframe thead th {\n",
       "        text-align: right;\n",
       "    }\n",
       "</style>\n",
       "<table border=\"1\" class=\"dataframe\">\n",
       "  <thead>\n",
       "    <tr style=\"text-align: right;\">\n",
       "      <th></th>\n",
       "      <th>rougher.input</th>\n",
       "      <th>rougher.output</th>\n",
       "      <th>primary_cleaner.output</th>\n",
       "      <th>final.output</th>\n",
       "    </tr>\n",
       "  </thead>\n",
       "  <tbody>\n",
       "    <tr>\n",
       "      <td>0</td>\n",
       "      <td>6.486150</td>\n",
       "      <td>19.793808</td>\n",
       "      <td>34.174427</td>\n",
       "      <td>42.192020</td>\n",
       "    </tr>\n",
       "    <tr>\n",
       "      <td>1</td>\n",
       "      <td>6.478583</td>\n",
       "      <td>20.050975</td>\n",
       "      <td>34.118526</td>\n",
       "      <td>42.701629</td>\n",
       "    </tr>\n",
       "    <tr>\n",
       "      <td>2</td>\n",
       "      <td>6.362222</td>\n",
       "      <td>19.737170</td>\n",
       "      <td>33.969464</td>\n",
       "      <td>42.657501</td>\n",
       "    </tr>\n",
       "    <tr>\n",
       "      <td>3</td>\n",
       "      <td>6.118189</td>\n",
       "      <td>19.320810</td>\n",
       "      <td>28.260743</td>\n",
       "      <td>42.689819</td>\n",
       "    </tr>\n",
       "    <tr>\n",
       "      <td>4</td>\n",
       "      <td>5.663707</td>\n",
       "      <td>19.216101</td>\n",
       "      <td>33.044932</td>\n",
       "      <td>42.774141</td>\n",
       "    </tr>\n",
       "  </tbody>\n",
       "</table>\n",
       "</div>"
      ],
      "text/plain": [
       "   rougher.input  rougher.output  primary_cleaner.output  final.output\n",
       "0       6.486150       19.793808               34.174427     42.192020\n",
       "1       6.478583       20.050975               34.118526     42.701629\n",
       "2       6.362222       19.737170               33.969464     42.657501\n",
       "3       6.118189       19.320810               28.260743     42.689819\n",
       "4       5.663707       19.216101               33.044932     42.774141"
      ]
     },
     "execution_count": 42,
     "metadata": {},
     "output_type": "execute_result"
    }
   ],
   "source": [
    "conc_au.head()"
   ]
  },
  {
   "cell_type": "markdown",
   "metadata": {},
   "source": [
    "Таблицы готовы к построению графиков.  \n",
    "Завернем функцию по построению графиков с доверительным интервалом и средним.\n",
    "\n",
    "Применим функцию к каждому металлу."
   ]
  },
  {
   "cell_type": "code",
   "execution_count": 43,
   "metadata": {},
   "outputs": [],
   "source": [
    "def concentration_analyst(data, name):\n",
    "    \n",
    "    sns.set(style='whitegrid')\n",
    "\n",
    "    fig, ax = plt.subplots(1,4, sharey=True, figsize=(10,5))\n",
    "    \n",
    "    columns = data.columns\n",
    "    colors = ['silver', 'darkgrey', 'grey', 'dimgrey']\n",
    "\n",
    "    for i in range(len(columns)):\n",
    "    \n",
    "        sns.pointplot(color=colors[i], y=columns[i], capsize=.03, linewidth=2.5, ax=ax[i], data=data)\n",
    "        ax[i].set_xlabel(columns[i])\n",
    "        ax[i].set_ylabel('')\n",
    "    \n",
    "    fig.suptitle('Сравнение концентрации {} на технологических этапах'.format(name), size=14, y=(0.94))\n",
    "    fig.show()"
   ]
  },
  {
   "cell_type": "code",
   "execution_count": 44,
   "metadata": {},
   "outputs": [
    {
     "data": {
      "image/png": "[encoded data removed]",
      "text/plain": [
       "<Figure size 720x360 with 4 Axes>"
      ]
     },
     "metadata": {},
     "output_type": "display_data"
    }
   ],
   "source": [
    "concentration_analyst(conc_au, 'золота')"
   ]
  },
  {
   "cell_type": "code",
   "execution_count": 45,
   "metadata": {},
   "outputs": [
    {
     "data": {
      "image/png": "[encoded data removed]",
      "text/plain": [
       "<Figure size 720x360 with 4 Axes>"
      ]
     },
     "metadata": {},
     "output_type": "display_data"
    }
   ],
   "source": [
    "concentration_analyst(conc_ag, 'серебра')"
   ]
  },
  {
   "cell_type": "code",
   "execution_count": 46,
   "metadata": {},
   "outputs": [
    {
     "data": {
      "image/png": "[encoded data removed]",
      "text/plain": [
       "<Figure size 720x360 with 4 Axes>"
      ]
     },
     "metadata": {},
     "output_type": "display_data"
    }
   ],
   "source": [
    "concentration_analyst(conc_pb, 'свинца')"
   ]
  },
  {
   "cell_type": "markdown",
   "metadata": {},
   "source": [
    "Золото показывает итоговый 4х кратный рост при концентрации при обогащении. При этом обогащение золота происходит равномерно на каждом этапе.  \n",
    "Концентрация серебра падает на этапах первичной и вторичной очистки, вероятно в связи с особенностями обработки (!! обратить внимание коллег из технологического отдела).  \n",
    "Свинец показывает итоговое 2,5 кратное увеличение концентрации, макмисальный скачек заметен на этапе флотации.  \n",
    "\n",
    "Так как наша основная цель - обогащение руды с целью максимальной добычи золота - при полученных результатах, компания движется в правильном направлении.  \n",
    "\n",
    "Разброс значений по этапам в зависимости от времени оказался не слишком велик, хвосты доверительных интервалов не видны на данном масштабе графика.  \n",
    "\n",
    "---"
   ]
  },
  {
   "cell_type": "code",
   "execution_count": 47,
   "metadata": {},
   "outputs": [],
   "source": [
    "def concentration_analyst_2(data, name):\n",
    "    \n",
    "    sns.set(style='whitegrid')\n",
    "\n",
    "    fig, ax = plt.subplots(4,1, sharex=True, sharey=True, figsize=(13,8))\n",
    "    \n",
    "    columns = data.columns\n",
    "    colors = ['silver', 'darkgrey', 'grey', 'dimgrey']\n",
    "\n",
    "    for i in range(len(columns)):\n",
    "    \n",
    "        sns.distplot(a=data.iloc[:,i], ax=ax[i], color=colors[i], kde=True)\n",
    "        ax[i].set_xlabel(columns[i])\n",
    "        ax[i].set_ylabel('')\n",
    "    \n",
    "    fig.suptitle('Распределение концентрации {} на технологических этапах'.format(name), size=14, y=(0.94))\n",
    "    fig.show()"
   ]
  },
  {
   "cell_type": "code",
   "execution_count": 48,
   "metadata": {},
   "outputs": [
    {
     "data": {
      "image/png": "[encoded data removed]",
      "text/plain": [
       "<Figure size 936x576 with 4 Axes>"
      ]
     },
     "metadata": {},
     "output_type": "display_data"
    }
   ],
   "source": [
    "concentration_analyst_2(conc_au, 'золота')"
   ]
  },
  {
   "cell_type": "code",
   "execution_count": 49,
   "metadata": {},
   "outputs": [
    {
     "data": {
      "image/png": "[encoded data removed]",
      "text/plain": [
       "<Figure size 936x576 with 4 Axes>"
      ]
     },
     "metadata": {},
     "output_type": "display_data"
    }
   ],
   "source": [
    "concentration_analyst_2(conc_ag, 'серебра')"
   ]
  },
  {
   "cell_type": "code",
   "execution_count": 50,
   "metadata": {},
   "outputs": [
    {
     "data": {
      "image/png": "[encoded data removed]",
      "text/plain": [
       "<Figure size 936x576 with 4 Axes>"
      ]
     },
     "metadata": {},
     "output_type": "display_data"
    }
   ],
   "source": [
    "concentration_analyst_2(conc_pb, 'свинца')"
   ]
  },
  {
   "cell_type": "markdown",
   "metadata": {},
   "source": [
    "####  Сравнение размеров гранул сырья\n",
    "\n",
    "Посмотрим, на каких этапах встречается размер гранул сырья - выделим все столбцы со значениями feed и size."
   ]
  },
  {
   "cell_type": "code",
   "execution_count": 51,
   "metadata": {},
   "outputs": [],
   "source": [
    "train_cols = rec_train_upd.columns.tolist()"
   ]
  },
  {
   "cell_type": "code",
   "execution_count": 52,
   "metadata": {},
   "outputs": [
    {
     "data": {
      "text/plain": [
       "['primary_cleaner.input.feed_size', 'rougher.input.feed_size']"
      ]
     },
     "execution_count": 52,
     "metadata": {},
     "output_type": "execute_result"
    }
   ],
   "source": [
    "feed_size_cols = [v for v in train_cols if 'feed_size' in v]\n",
    "feed_size_cols"
   ]
  },
  {
   "cell_type": "markdown",
   "metadata": {},
   "source": [
    "Мы можем проследить размер сырья на входе во флоатоционную установку и в установку первичной очистки.  \n",
    "\n",
    "Создадим отдельные датасеты для тренировойчной и тестовой выборки."
   ]
  },
  {
   "cell_type": "code",
   "execution_count": 53,
   "metadata": {},
   "outputs": [],
   "source": [
    "feed_size_train = rec_train_upd[feed_size_cols].reset_index(drop=True)\n",
    "feed_size_test = rec_test_upd[feed_size_cols].reset_index(drop=True)"
   ]
  },
  {
   "cell_type": "markdown",
   "metadata": {},
   "source": [
    "Проанализируем размер гранул в момент входа в флоатационную камеру."
   ]
  },
  {
   "cell_type": "code",
   "execution_count": 54,
   "metadata": {},
   "outputs": [
    {
     "data": {
      "image/png": "[encoded data removed]",
      "text/plain": [
       "<Figure size 576x576 with 2 Axes>"
      ]
     },
     "metadata": {},
     "output_type": "display_data"
    }
   ],
   "source": [
    "fig, ax = plt.subplots(1,2, sharey=True, figsize=(8,8))\n",
    "\n",
    "sns.boxplot(y='rougher.input.feed_size', linewidth=2.5, data=feed_size_train, ax=ax[0])\n",
    "ax[0].set_xlabel('Тренировочная выборка')\n",
    "ax[0].set_ylabel('')\n",
    "\n",
    "sns.boxplot(y='rougher.input.feed_size', linewidth=2.5, data=feed_size_test, ax=ax[1])\n",
    "ax[1].set_xlabel('Tестовая выборка')\n",
    "ax[1].set_ylabel('')\n",
    "\n",
    "plt.suptitle('Сравнение распределенений размеров гранул перед флотацией', y=0.94);"
   ]
  },
  {
   "cell_type": "markdown",
   "metadata": {},
   "source": [
    "Много \"выбросов\", отбросим их и построим \"боксы\"."
   ]
  },
  {
   "cell_type": "code",
   "execution_count": 55,
   "metadata": {},
   "outputs": [
    {
     "data": {
      "image/png": "[encoded data removed]",
      "text/plain": [
       "<Figure size 432x432 with 2 Axes>"
      ]
     },
     "metadata": {},
     "output_type": "display_data"
    }
   ],
   "source": [
    "fig, ax = plt.subplots(1,2, sharey=True, figsize=(6,6))\n",
    "\n",
    "sns.boxplot(y='rougher.input.feed_size', linewidth=2.5, data=feed_size_train, ax=ax[0], showfliers=False)\n",
    "ax[0].set_xlabel('Тренировочная выборка')\n",
    "ax[0].set_ylabel('')\n",
    "\n",
    "sns.boxplot(y='rougher.input.feed_size', linewidth=2.5, data=feed_size_test, ax=ax[1], showfliers=False)\n",
    "ax[1].set_xlabel('Tестовая выборка')\n",
    "ax[1].set_ylabel('')\n",
    "\n",
    "plt.suptitle('Сравнение распределенений размеров гранул без выбросов', y=0.94);"
   ]
  },
  {
   "cell_type": "markdown",
   "metadata": {},
   "source": [
    "Как видно из графиков выше, оба средних значения по выборкам попадают в диапазон 25-75 квартиль обоих выборок, что может говорить примерном равном распредении размеров гранул на тестовой и тренировочной выборке.  \n",
    "Выбросы расположились +- одинаково, в тренировочной выборке наблюдается бОльшая плотность выбросов у верхнего \"уса\" боксплота.\n",
    "\n",
    "---\n",
    "\n",
    "Проанализирум размер гранул на входе в камеру первичной очистки."
   ]
  },
  {
   "cell_type": "code",
   "execution_count": 56,
   "metadata": {},
   "outputs": [
    {
     "data": {
      "image/png": "[encoded data removed]",
      "text/plain": [
       "<Figure size 432x576 with 2 Axes>"
      ]
     },
     "metadata": {},
     "output_type": "display_data"
    }
   ],
   "source": [
    "fig, ax = plt.subplots(1,2, sharey=True, figsize=(6,8))\n",
    "\n",
    "sns.boxplot(y='primary_cleaner.input.feed_size', linewidth=2.5, data=feed_size_train, ax=ax[0], color='chocolate')\n",
    "ax[0].set_xlabel('Тренировочная выборка')\n",
    "ax[0].set_ylabel('')\n",
    "\n",
    "sns.boxplot(y='primary_cleaner.input.feed_size', linewidth=2.5, data=feed_size_test, ax=ax[1], color='chocolate')\n",
    "ax[1].set_xlabel('Tестовая выборка')\n",
    "ax[1].set_ylabel('')\n",
    "\n",
    "plt.suptitle('Сравнение распределенений размеров гранул после флотации', y=0.94);"
   ]
  },
  {
   "cell_type": "markdown",
   "metadata": {},
   "source": [
    "Как видно на графике выше, гранулы сырья распределены практически одинаково, однако, заметны выбросы мелкого размера на тренировочной выборке и слишком крупный размер гранул на тестовой.  \n",
    "Возможно в дальнейшем удалим строки с данным значениями выбросов.  \n",
    "\n",
    "Итог:  \n",
    "Основываясь на текущих выводах следует заключить, что выборки подходят для построения моделей.  \n"
   ]
  },
  {
   "cell_type": "markdown",
   "metadata": {},
   "source": [
    "#### Исследование суммарной концентрации веществ  \n",
    "\n",
    "Для данного исследования используем уже имеющийся список столбцов с концетрацией металлов и немного его \"подправим\"."
   ]
  },
  {
   "cell_type": "code",
   "execution_count": 57,
   "metadata": {},
   "outputs": [],
   "source": [
    "con_all = col_con_inp.copy()"
   ]
  },
  {
   "cell_type": "code",
   "execution_count": 58,
   "metadata": {},
   "outputs": [],
   "source": [
    "con_all = [v for v in con_all if 'primary_cleaner' not in v]\n",
    "con_all = [v for v in con_all if 'ag' in v or 'au' in v or 'pb' in v or 'sol' in v]\n",
    "con_all.remove('rougher.calculation.sulfate_to_au_concentrate')"
   ]
  },
  {
   "cell_type": "code",
   "execution_count": 59,
   "metadata": {},
   "outputs": [],
   "source": [
    "con_all.reverse()"
   ]
  },
  {
   "cell_type": "markdown",
   "metadata": {},
   "source": [
    "Создадим датафрейм со значениями получившихся колонок."
   ]
  },
  {
   "cell_type": "code",
   "execution_count": 60,
   "metadata": {},
   "outputs": [
    {
     "data": {
      "text/html": [
       "<div>\n",
       "<style scoped>\n",
       "    .dataframe tbody tr th:only-of-type {\n",
       "        vertical-align: middle;\n",
       "    }\n",
       "\n",
       "    .dataframe tbody tr th {\n",
       "        vertical-align: top;\n",
       "    }\n",
       "\n",
       "    .dataframe thead th {\n",
       "        text-align: right;\n",
       "    }\n",
       "</style>\n",
       "<table border=\"1\" class=\"dataframe\">\n",
       "  <thead>\n",
       "    <tr style=\"text-align: right;\">\n",
       "      <th></th>\n",
       "      <th>rougher.input.feed_au</th>\n",
       "      <th>rougher.input.feed_sol</th>\n",
       "      <th>rougher.input.feed_pb</th>\n",
       "      <th>rougher.input.feed_ag</th>\n",
       "      <th>rougher.output.concentrate_au</th>\n",
       "      <th>rougher.output.concentrate_sol</th>\n",
       "      <th>rougher.output.concentrate_pb</th>\n",
       "      <th>rougher.output.concentrate_ag</th>\n",
       "      <th>final.output.concentrate_au</th>\n",
       "      <th>final.output.concentrate_sol</th>\n",
       "      <th>final.output.concentrate_pb</th>\n",
       "      <th>final.output.concentrate_ag</th>\n",
       "    </tr>\n",
       "    <tr>\n",
       "      <th>date</th>\n",
       "      <th></th>\n",
       "      <th></th>\n",
       "      <th></th>\n",
       "      <th></th>\n",
       "      <th></th>\n",
       "      <th></th>\n",
       "      <th></th>\n",
       "      <th></th>\n",
       "      <th></th>\n",
       "      <th></th>\n",
       "      <th></th>\n",
       "      <th></th>\n",
       "    </tr>\n",
       "  </thead>\n",
       "  <tbody>\n",
       "    <tr>\n",
       "      <td>2016-01-15 00:00:00</td>\n",
       "      <td>6.486150</td>\n",
       "      <td>36.808594</td>\n",
       "      <td>2.284912</td>\n",
       "      <td>6.100378</td>\n",
       "      <td>19.793808</td>\n",
       "      <td>28.029297</td>\n",
       "      <td>7.101074</td>\n",
       "      <td>11.500771</td>\n",
       "      <td>42.192020</td>\n",
       "      <td>5.507324</td>\n",
       "      <td>9.889648</td>\n",
       "      <td>6.055403</td>\n",
       "    </tr>\n",
       "    <tr>\n",
       "      <td>2016-01-15 01:00:00</td>\n",
       "      <td>6.478583</td>\n",
       "      <td>35.753385</td>\n",
       "      <td>2.266033</td>\n",
       "      <td>6.161113</td>\n",
       "      <td>20.050975</td>\n",
       "      <td>28.067063</td>\n",
       "      <td>7.278807</td>\n",
       "      <td>11.615865</td>\n",
       "      <td>42.701629</td>\n",
       "      <td>5.257781</td>\n",
       "      <td>9.968944</td>\n",
       "      <td>6.029369</td>\n",
       "    </tr>\n",
       "    <tr>\n",
       "      <td>2016-01-15 02:00:00</td>\n",
       "      <td>6.362222</td>\n",
       "      <td>35.971630</td>\n",
       "      <td>2.159622</td>\n",
       "      <td>6.116455</td>\n",
       "      <td>19.737170</td>\n",
       "      <td>27.454037</td>\n",
       "      <td>7.216833</td>\n",
       "      <td>11.695753</td>\n",
       "      <td>42.657501</td>\n",
       "      <td>5.383759</td>\n",
       "      <td>10.213995</td>\n",
       "      <td>6.055926</td>\n",
       "    </tr>\n",
       "    <tr>\n",
       "      <td>2016-01-15 03:00:00</td>\n",
       "      <td>6.118189</td>\n",
       "      <td>36.862241</td>\n",
       "      <td>2.037807</td>\n",
       "      <td>6.043309</td>\n",
       "      <td>19.320810</td>\n",
       "      <td>27.341277</td>\n",
       "      <td>7.175616</td>\n",
       "      <td>11.915047</td>\n",
       "      <td>42.689819</td>\n",
       "      <td>4.858634</td>\n",
       "      <td>9.977019</td>\n",
       "      <td>6.047977</td>\n",
       "    </tr>\n",
       "    <tr>\n",
       "      <td>2016-01-15 04:00:00</td>\n",
       "      <td>5.663707</td>\n",
       "      <td>34.347666</td>\n",
       "      <td>1.786875</td>\n",
       "      <td>6.060915</td>\n",
       "      <td>19.216101</td>\n",
       "      <td>27.041023</td>\n",
       "      <td>7.240205</td>\n",
       "      <td>12.411054</td>\n",
       "      <td>42.774141</td>\n",
       "      <td>4.939416</td>\n",
       "      <td>10.142511</td>\n",
       "      <td>6.148599</td>\n",
       "    </tr>\n",
       "  </tbody>\n",
       "</table>\n",
       "</div>"
      ],
      "text/plain": [
       "                     rougher.input.feed_au  rougher.input.feed_sol  \\\n",
       "date                                                                 \n",
       "2016-01-15 00:00:00               6.486150               36.808594   \n",
       "2016-01-15 01:00:00               6.478583               35.753385   \n",
       "2016-01-15 02:00:00               6.362222               35.971630   \n",
       "2016-01-15 03:00:00               6.118189               36.862241   \n",
       "2016-01-15 04:00:00               5.663707               34.347666   \n",
       "\n",
       "                     rougher.input.feed_pb  rougher.input.feed_ag  \\\n",
       "date                                                                \n",
       "2016-01-15 00:00:00               2.284912               6.100378   \n",
       "2016-01-15 01:00:00               2.266033               6.161113   \n",
       "2016-01-15 02:00:00               2.159622               6.116455   \n",
       "2016-01-15 03:00:00               2.037807               6.043309   \n",
       "2016-01-15 04:00:00               1.786875               6.060915   \n",
       "\n",
       "                     rougher.output.concentrate_au  \\\n",
       "date                                                 \n",
       "2016-01-15 00:00:00                      19.793808   \n",
       "2016-01-15 01:00:00                      20.050975   \n",
       "2016-01-15 02:00:00                      19.737170   \n",
       "2016-01-15 03:00:00                      19.320810   \n",
       "2016-01-15 04:00:00                      19.216101   \n",
       "\n",
       "                     rougher.output.concentrate_sol  \\\n",
       "date                                                  \n",
       "2016-01-15 00:00:00                       28.029297   \n",
       "2016-01-15 01:00:00                       28.067063   \n",
       "2016-01-15 02:00:00                       27.454037   \n",
       "2016-01-15 03:00:00                       27.341277   \n",
       "2016-01-15 04:00:00                       27.041023   \n",
       "\n",
       "                     rougher.output.concentrate_pb  \\\n",
       "date                                                 \n",
       "2016-01-15 00:00:00                       7.101074   \n",
       "2016-01-15 01:00:00                       7.278807   \n",
       "2016-01-15 02:00:00                       7.216833   \n",
       "2016-01-15 03:00:00                       7.175616   \n",
       "2016-01-15 04:00:00                       7.240205   \n",
       "\n",
       "                     rougher.output.concentrate_ag  \\\n",
       "date                                                 \n",
       "2016-01-15 00:00:00                      11.500771   \n",
       "2016-01-15 01:00:00                      11.615865   \n",
       "2016-01-15 02:00:00                      11.695753   \n",
       "2016-01-15 03:00:00                      11.915047   \n",
       "2016-01-15 04:00:00                      12.411054   \n",
       "\n",
       "                     final.output.concentrate_au  \\\n",
       "date                                               \n",
       "2016-01-15 00:00:00                    42.192020   \n",
       "2016-01-15 01:00:00                    42.701629   \n",
       "2016-01-15 02:00:00                    42.657501   \n",
       "2016-01-15 03:00:00                    42.689819   \n",
       "2016-01-15 04:00:00                    42.774141   \n",
       "\n",
       "                     final.output.concentrate_sol  \\\n",
       "date                                                \n",
       "2016-01-15 00:00:00                      5.507324   \n",
       "2016-01-15 01:00:00                      5.257781   \n",
       "2016-01-15 02:00:00                      5.383759   \n",
       "2016-01-15 03:00:00                      4.858634   \n",
       "2016-01-15 04:00:00                      4.939416   \n",
       "\n",
       "                     final.output.concentrate_pb  final.output.concentrate_ag  \n",
       "date                                                                           \n",
       "2016-01-15 00:00:00                     9.889648                     6.055403  \n",
       "2016-01-15 01:00:00                     9.968944                     6.029369  \n",
       "2016-01-15 02:00:00                    10.213995                     6.055926  \n",
       "2016-01-15 03:00:00                     9.977019                     6.047977  \n",
       "2016-01-15 04:00:00                    10.142511                     6.148599  "
      ]
     },
     "execution_count": 60,
     "metadata": {},
     "output_type": "execute_result"
    }
   ],
   "source": [
    "elem_conc = rec_full[con_all]\n",
    "elem_conc.head()"
   ]
  },
  {
   "cell_type": "code",
   "execution_count": 61,
   "metadata": {},
   "outputs": [],
   "source": [
    "elem_conc['raw'] = elem_conc.iloc[:,0] + elem_conc.iloc[:,1] + elem_conc.iloc[:,2] + elem_conc.iloc[:,3]\n",
    "elem_conc['halfstock'] = elem_conc.iloc[:,4] + elem_conc.iloc[:,5] + elem_conc.iloc[:,6] + elem_conc.iloc[:,7]\n",
    "elem_conc['final'] = elem_conc.iloc[:,8] + elem_conc.iloc[:,9] + elem_conc.iloc[:,10] + elem_conc.iloc[:,11]"
   ]
  },
  {
   "cell_type": "code",
   "execution_count": 62,
   "metadata": {},
   "outputs": [
    {
     "data": {
      "text/html": [
       "<div>\n",
       "<style scoped>\n",
       "    .dataframe tbody tr th:only-of-type {\n",
       "        vertical-align: middle;\n",
       "    }\n",
       "\n",
       "    .dataframe tbody tr th {\n",
       "        vertical-align: top;\n",
       "    }\n",
       "\n",
       "    .dataframe thead th {\n",
       "        text-align: right;\n",
       "    }\n",
       "</style>\n",
       "<table border=\"1\" class=\"dataframe\">\n",
       "  <thead>\n",
       "    <tr style=\"text-align: right;\">\n",
       "      <th></th>\n",
       "      <th>rougher.input.feed_au</th>\n",
       "      <th>rougher.input.feed_sol</th>\n",
       "      <th>rougher.input.feed_pb</th>\n",
       "      <th>rougher.input.feed_ag</th>\n",
       "      <th>rougher.output.concentrate_au</th>\n",
       "      <th>rougher.output.concentrate_sol</th>\n",
       "      <th>rougher.output.concentrate_pb</th>\n",
       "      <th>rougher.output.concentrate_ag</th>\n",
       "      <th>final.output.concentrate_au</th>\n",
       "      <th>final.output.concentrate_sol</th>\n",
       "      <th>final.output.concentrate_pb</th>\n",
       "      <th>final.output.concentrate_ag</th>\n",
       "      <th>raw</th>\n",
       "      <th>halfstock</th>\n",
       "      <th>final</th>\n",
       "    </tr>\n",
       "    <tr>\n",
       "      <th>date</th>\n",
       "      <th></th>\n",
       "      <th></th>\n",
       "      <th></th>\n",
       "      <th></th>\n",
       "      <th></th>\n",
       "      <th></th>\n",
       "      <th></th>\n",
       "      <th></th>\n",
       "      <th></th>\n",
       "      <th></th>\n",
       "      <th></th>\n",
       "      <th></th>\n",
       "      <th></th>\n",
       "      <th></th>\n",
       "      <th></th>\n",
       "    </tr>\n",
       "  </thead>\n",
       "  <tbody>\n",
       "    <tr>\n",
       "      <td>2016-01-15 00:00:00</td>\n",
       "      <td>6.486150</td>\n",
       "      <td>36.808594</td>\n",
       "      <td>2.284912</td>\n",
       "      <td>6.100378</td>\n",
       "      <td>19.793808</td>\n",
       "      <td>28.029297</td>\n",
       "      <td>7.101074</td>\n",
       "      <td>11.500771</td>\n",
       "      <td>42.192020</td>\n",
       "      <td>5.507324</td>\n",
       "      <td>9.889648</td>\n",
       "      <td>6.055403</td>\n",
       "      <td>51.680034</td>\n",
       "      <td>66.424950</td>\n",
       "      <td>63.644396</td>\n",
       "    </tr>\n",
       "    <tr>\n",
       "      <td>2016-01-15 01:00:00</td>\n",
       "      <td>6.478583</td>\n",
       "      <td>35.753385</td>\n",
       "      <td>2.266033</td>\n",
       "      <td>6.161113</td>\n",
       "      <td>20.050975</td>\n",
       "      <td>28.067063</td>\n",
       "      <td>7.278807</td>\n",
       "      <td>11.615865</td>\n",
       "      <td>42.701629</td>\n",
       "      <td>5.257781</td>\n",
       "      <td>9.968944</td>\n",
       "      <td>6.029369</td>\n",
       "      <td>50.659114</td>\n",
       "      <td>67.012710</td>\n",
       "      <td>63.957723</td>\n",
       "    </tr>\n",
       "    <tr>\n",
       "      <td>2016-01-15 02:00:00</td>\n",
       "      <td>6.362222</td>\n",
       "      <td>35.971630</td>\n",
       "      <td>2.159622</td>\n",
       "      <td>6.116455</td>\n",
       "      <td>19.737170</td>\n",
       "      <td>27.454037</td>\n",
       "      <td>7.216833</td>\n",
       "      <td>11.695753</td>\n",
       "      <td>42.657501</td>\n",
       "      <td>5.383759</td>\n",
       "      <td>10.213995</td>\n",
       "      <td>6.055926</td>\n",
       "      <td>50.609929</td>\n",
       "      <td>66.103793</td>\n",
       "      <td>64.311180</td>\n",
       "    </tr>\n",
       "    <tr>\n",
       "      <td>2016-01-15 03:00:00</td>\n",
       "      <td>6.118189</td>\n",
       "      <td>36.862241</td>\n",
       "      <td>2.037807</td>\n",
       "      <td>6.043309</td>\n",
       "      <td>19.320810</td>\n",
       "      <td>27.341277</td>\n",
       "      <td>7.175616</td>\n",
       "      <td>11.915047</td>\n",
       "      <td>42.689819</td>\n",
       "      <td>4.858634</td>\n",
       "      <td>9.977019</td>\n",
       "      <td>6.047977</td>\n",
       "      <td>51.061546</td>\n",
       "      <td>65.752751</td>\n",
       "      <td>63.573449</td>\n",
       "    </tr>\n",
       "    <tr>\n",
       "      <td>2016-01-15 04:00:00</td>\n",
       "      <td>5.663707</td>\n",
       "      <td>34.347666</td>\n",
       "      <td>1.786875</td>\n",
       "      <td>6.060915</td>\n",
       "      <td>19.216101</td>\n",
       "      <td>27.041023</td>\n",
       "      <td>7.240205</td>\n",
       "      <td>12.411054</td>\n",
       "      <td>42.774141</td>\n",
       "      <td>4.939416</td>\n",
       "      <td>10.142511</td>\n",
       "      <td>6.148599</td>\n",
       "      <td>47.859163</td>\n",
       "      <td>65.908382</td>\n",
       "      <td>64.004667</td>\n",
       "    </tr>\n",
       "  </tbody>\n",
       "</table>\n",
       "</div>"
      ],
      "text/plain": [
       "                     rougher.input.feed_au  rougher.input.feed_sol  \\\n",
       "date                                                                 \n",
       "2016-01-15 00:00:00               6.486150               36.808594   \n",
       "2016-01-15 01:00:00               6.478583               35.753385   \n",
       "2016-01-15 02:00:00               6.362222               35.971630   \n",
       "2016-01-15 03:00:00               6.118189               36.862241   \n",
       "2016-01-15 04:00:00               5.663707               34.347666   \n",
       "\n",
       "                     rougher.input.feed_pb  rougher.input.feed_ag  \\\n",
       "date                                                                \n",
       "2016-01-15 00:00:00               2.284912               6.100378   \n",
       "2016-01-15 01:00:00               2.266033               6.161113   \n",
       "2016-01-15 02:00:00               2.159622               6.116455   \n",
       "2016-01-15 03:00:00               2.037807               6.043309   \n",
       "2016-01-15 04:00:00               1.786875               6.060915   \n",
       "\n",
       "                     rougher.output.concentrate_au  \\\n",
       "date                                                 \n",
       "2016-01-15 00:00:00                      19.793808   \n",
       "2016-01-15 01:00:00                      20.050975   \n",
       "2016-01-15 02:00:00                      19.737170   \n",
       "2016-01-15 03:00:00                      19.320810   \n",
       "2016-01-15 04:00:00                      19.216101   \n",
       "\n",
       "                     rougher.output.concentrate_sol  \\\n",
       "date                                                  \n",
       "2016-01-15 00:00:00                       28.029297   \n",
       "2016-01-15 01:00:00                       28.067063   \n",
       "2016-01-15 02:00:00                       27.454037   \n",
       "2016-01-15 03:00:00                       27.341277   \n",
       "2016-01-15 04:00:00                       27.041023   \n",
       "\n",
       "                     rougher.output.concentrate_pb  \\\n",
       "date                                                 \n",
       "2016-01-15 00:00:00                       7.101074   \n",
       "2016-01-15 01:00:00                       7.278807   \n",
       "2016-01-15 02:00:00                       7.216833   \n",
       "2016-01-15 03:00:00                       7.175616   \n",
       "2016-01-15 04:00:00                       7.240205   \n",
       "\n",
       "                     rougher.output.concentrate_ag  \\\n",
       "date                                                 \n",
       "2016-01-15 00:00:00                      11.500771   \n",
       "2016-01-15 01:00:00                      11.615865   \n",
       "2016-01-15 02:00:00                      11.695753   \n",
       "2016-01-15 03:00:00                      11.915047   \n",
       "2016-01-15 04:00:00                      12.411054   \n",
       "\n",
       "                     final.output.concentrate_au  \\\n",
       "date                                               \n",
       "2016-01-15 00:00:00                    42.192020   \n",
       "2016-01-15 01:00:00                    42.701629   \n",
       "2016-01-15 02:00:00                    42.657501   \n",
       "2016-01-15 03:00:00                    42.689819   \n",
       "2016-01-15 04:00:00                    42.774141   \n",
       "\n",
       "                     final.output.concentrate_sol  \\\n",
       "date                                                \n",
       "2016-01-15 00:00:00                      5.507324   \n",
       "2016-01-15 01:00:00                      5.257781   \n",
       "2016-01-15 02:00:00                      5.383759   \n",
       "2016-01-15 03:00:00                      4.858634   \n",
       "2016-01-15 04:00:00                      4.939416   \n",
       "\n",
       "                     final.output.concentrate_pb  final.output.concentrate_ag  \\\n",
       "date                                                                            \n",
       "2016-01-15 00:00:00                     9.889648                     6.055403   \n",
       "2016-01-15 01:00:00                     9.968944                     6.029369   \n",
       "2016-01-15 02:00:00                    10.213995                     6.055926   \n",
       "2016-01-15 03:00:00                     9.977019                     6.047977   \n",
       "2016-01-15 04:00:00                    10.142511                     6.148599   \n",
       "\n",
       "                           raw  halfstock      final  \n",
       "date                                                  \n",
       "2016-01-15 00:00:00  51.680034  66.424950  63.644396  \n",
       "2016-01-15 01:00:00  50.659114  67.012710  63.957723  \n",
       "2016-01-15 02:00:00  50.609929  66.103793  64.311180  \n",
       "2016-01-15 03:00:00  51.061546  65.752751  63.573449  \n",
       "2016-01-15 04:00:00  47.859163  65.908382  64.004667  "
      ]
     },
     "execution_count": 62,
     "metadata": {},
     "output_type": "execute_result"
    }
   ],
   "source": [
    "elem_conc.head()"
   ]
  },
  {
   "cell_type": "markdown",
   "metadata": {},
   "source": [
    "Построим распределения веществ на трех этапах обогащения."
   ]
  },
  {
   "cell_type": "code",
   "execution_count": 63,
   "metadata": {},
   "outputs": [
    {
     "data": {
      "image/png": "[encoded data removed]",
      "text/plain": [
       "<Figure size 432x720 with 3 Axes>"
      ]
     },
     "metadata": {},
     "output_type": "display_data"
    }
   ],
   "source": [
    "fig, ax = plt.subplots(1,3, sharey=True, figsize=(6,10))\n",
    "\n",
    "sns.boxplot(y='raw', data=elem_conc, ax=ax[0])\n",
    "ax[0].set_xlabel('Сырье', size=10)\n",
    "ax[0].set_ylabel('')\n",
    "\n",
    "sns.boxplot(y='halfstock', data=elem_conc, ax=ax[1])\n",
    "ax[1].set_xlabel('Полуфабрикат', size=10)\n",
    "ax[1].set_ylabel('')\n",
    "\n",
    "sns.boxplot(y='final', data=elem_conc, ax=ax[2])\n",
    "ax[2].set_xlabel('Финальный раствор', size=10)\n",
    "ax[2].set_ylabel('')\n",
    "\n",
    "plt.suptitle('График распределения суммарной концентрации веществ', y=.91)\n",
    "plt.show()"
   ]
  },
  {
   "cell_type": "code",
   "execution_count": 64,
   "metadata": {},
   "outputs": [
    {
     "name": "stdout",
     "output_type": "stream",
     "text": [
      "Потери данных составят 1.064870%\n"
     ]
    }
   ],
   "source": [
    "temp = (len(elem_conc) - len(elem_conc[elem_conc['raw'] >= 35])) / len(elem_conc)\n",
    "\n",
    "print('Потери данных составят {:%}'.format(temp))"
   ]
  },
  {
   "cell_type": "markdown",
   "metadata": {},
   "source": [
    "1% данных мы можем отбросить, без сильной потери качества данных."
   ]
  },
  {
   "cell_type": "code",
   "execution_count": 65,
   "metadata": {},
   "outputs": [],
   "source": [
    "elem_conc_upd = elem_conc.query('raw >= 35')"
   ]
  },
  {
   "cell_type": "code",
   "execution_count": 66,
   "metadata": {},
   "outputs": [
    {
     "data": {
      "text/html": [
       "<div>\n",
       "<style scoped>\n",
       "    .dataframe tbody tr th:only-of-type {\n",
       "        vertical-align: middle;\n",
       "    }\n",
       "\n",
       "    .dataframe tbody tr th {\n",
       "        vertical-align: top;\n",
       "    }\n",
       "\n",
       "    .dataframe thead th {\n",
       "        text-align: right;\n",
       "    }\n",
       "</style>\n",
       "<table border=\"1\" class=\"dataframe\">\n",
       "  <thead>\n",
       "    <tr style=\"text-align: right;\">\n",
       "      <th></th>\n",
       "      <th>rougher.input.feed_au</th>\n",
       "      <th>rougher.input.feed_sol</th>\n",
       "      <th>rougher.input.feed_pb</th>\n",
       "      <th>rougher.input.feed_ag</th>\n",
       "      <th>rougher.output.concentrate_au</th>\n",
       "      <th>rougher.output.concentrate_sol</th>\n",
       "      <th>rougher.output.concentrate_pb</th>\n",
       "      <th>rougher.output.concentrate_ag</th>\n",
       "      <th>final.output.concentrate_au</th>\n",
       "      <th>final.output.concentrate_sol</th>\n",
       "      <th>final.output.concentrate_pb</th>\n",
       "      <th>final.output.concentrate_ag</th>\n",
       "      <th>raw</th>\n",
       "      <th>halfstock</th>\n",
       "      <th>final</th>\n",
       "    </tr>\n",
       "    <tr>\n",
       "      <th>date</th>\n",
       "      <th></th>\n",
       "      <th></th>\n",
       "      <th></th>\n",
       "      <th></th>\n",
       "      <th></th>\n",
       "      <th></th>\n",
       "      <th></th>\n",
       "      <th></th>\n",
       "      <th></th>\n",
       "      <th></th>\n",
       "      <th></th>\n",
       "      <th></th>\n",
       "      <th></th>\n",
       "      <th></th>\n",
       "      <th></th>\n",
       "    </tr>\n",
       "  </thead>\n",
       "  <tbody>\n",
       "    <tr>\n",
       "      <td>2016-01-15 00:00:00</td>\n",
       "      <td>6.486150</td>\n",
       "      <td>36.808594</td>\n",
       "      <td>2.284912</td>\n",
       "      <td>6.100378</td>\n",
       "      <td>19.793808</td>\n",
       "      <td>28.029297</td>\n",
       "      <td>7.101074</td>\n",
       "      <td>11.500771</td>\n",
       "      <td>42.192020</td>\n",
       "      <td>5.507324</td>\n",
       "      <td>9.889648</td>\n",
       "      <td>6.055403</td>\n",
       "      <td>51.680034</td>\n",
       "      <td>66.424950</td>\n",
       "      <td>63.644396</td>\n",
       "    </tr>\n",
       "    <tr>\n",
       "      <td>2016-01-15 01:00:00</td>\n",
       "      <td>6.478583</td>\n",
       "      <td>35.753385</td>\n",
       "      <td>2.266033</td>\n",
       "      <td>6.161113</td>\n",
       "      <td>20.050975</td>\n",
       "      <td>28.067063</td>\n",
       "      <td>7.278807</td>\n",
       "      <td>11.615865</td>\n",
       "      <td>42.701629</td>\n",
       "      <td>5.257781</td>\n",
       "      <td>9.968944</td>\n",
       "      <td>6.029369</td>\n",
       "      <td>50.659114</td>\n",
       "      <td>67.012710</td>\n",
       "      <td>63.957723</td>\n",
       "    </tr>\n",
       "    <tr>\n",
       "      <td>2016-01-15 02:00:00</td>\n",
       "      <td>6.362222</td>\n",
       "      <td>35.971630</td>\n",
       "      <td>2.159622</td>\n",
       "      <td>6.116455</td>\n",
       "      <td>19.737170</td>\n",
       "      <td>27.454037</td>\n",
       "      <td>7.216833</td>\n",
       "      <td>11.695753</td>\n",
       "      <td>42.657501</td>\n",
       "      <td>5.383759</td>\n",
       "      <td>10.213995</td>\n",
       "      <td>6.055926</td>\n",
       "      <td>50.609929</td>\n",
       "      <td>66.103793</td>\n",
       "      <td>64.311180</td>\n",
       "    </tr>\n",
       "    <tr>\n",
       "      <td>2016-01-15 03:00:00</td>\n",
       "      <td>6.118189</td>\n",
       "      <td>36.862241</td>\n",
       "      <td>2.037807</td>\n",
       "      <td>6.043309</td>\n",
       "      <td>19.320810</td>\n",
       "      <td>27.341277</td>\n",
       "      <td>7.175616</td>\n",
       "      <td>11.915047</td>\n",
       "      <td>42.689819</td>\n",
       "      <td>4.858634</td>\n",
       "      <td>9.977019</td>\n",
       "      <td>6.047977</td>\n",
       "      <td>51.061546</td>\n",
       "      <td>65.752751</td>\n",
       "      <td>63.573449</td>\n",
       "    </tr>\n",
       "    <tr>\n",
       "      <td>2016-01-15 04:00:00</td>\n",
       "      <td>5.663707</td>\n",
       "      <td>34.347666</td>\n",
       "      <td>1.786875</td>\n",
       "      <td>6.060915</td>\n",
       "      <td>19.216101</td>\n",
       "      <td>27.041023</td>\n",
       "      <td>7.240205</td>\n",
       "      <td>12.411054</td>\n",
       "      <td>42.774141</td>\n",
       "      <td>4.939416</td>\n",
       "      <td>10.142511</td>\n",
       "      <td>6.148599</td>\n",
       "      <td>47.859163</td>\n",
       "      <td>65.908382</td>\n",
       "      <td>64.004667</td>\n",
       "    </tr>\n",
       "  </tbody>\n",
       "</table>\n",
       "</div>"
      ],
      "text/plain": [
       "                     rougher.input.feed_au  rougher.input.feed_sol  \\\n",
       "date                                                                 \n",
       "2016-01-15 00:00:00               6.486150               36.808594   \n",
       "2016-01-15 01:00:00               6.478583               35.753385   \n",
       "2016-01-15 02:00:00               6.362222               35.971630   \n",
       "2016-01-15 03:00:00               6.118189               36.862241   \n",
       "2016-01-15 04:00:00               5.663707               34.347666   \n",
       "\n",
       "                     rougher.input.feed_pb  rougher.input.feed_ag  \\\n",
       "date                                                                \n",
       "2016-01-15 00:00:00               2.284912               6.100378   \n",
       "2016-01-15 01:00:00               2.266033               6.161113   \n",
       "2016-01-15 02:00:00               2.159622               6.116455   \n",
       "2016-01-15 03:00:00               2.037807               6.043309   \n",
       "2016-01-15 04:00:00               1.786875               6.060915   \n",
       "\n",
       "                     rougher.output.concentrate_au  \\\n",
       "date                                                 \n",
       "2016-01-15 00:00:00                      19.793808   \n",
       "2016-01-15 01:00:00                      20.050975   \n",
       "2016-01-15 02:00:00                      19.737170   \n",
       "2016-01-15 03:00:00                      19.320810   \n",
       "2016-01-15 04:00:00                      19.216101   \n",
       "\n",
       "                     rougher.output.concentrate_sol  \\\n",
       "date                                                  \n",
       "2016-01-15 00:00:00                       28.029297   \n",
       "2016-01-15 01:00:00                       28.067063   \n",
       "2016-01-15 02:00:00                       27.454037   \n",
       "2016-01-15 03:00:00                       27.341277   \n",
       "2016-01-15 04:00:00                       27.041023   \n",
       "\n",
       "                     rougher.output.concentrate_pb  \\\n",
       "date                                                 \n",
       "2016-01-15 00:00:00                       7.101074   \n",
       "2016-01-15 01:00:00                       7.278807   \n",
       "2016-01-15 02:00:00                       7.216833   \n",
       "2016-01-15 03:00:00                       7.175616   \n",
       "2016-01-15 04:00:00                       7.240205   \n",
       "\n",
       "                     rougher.output.concentrate_ag  \\\n",
       "date                                                 \n",
       "2016-01-15 00:00:00                      11.500771   \n",
       "2016-01-15 01:00:00                      11.615865   \n",
       "2016-01-15 02:00:00                      11.695753   \n",
       "2016-01-15 03:00:00                      11.915047   \n",
       "2016-01-15 04:00:00                      12.411054   \n",
       "\n",
       "                     final.output.concentrate_au  \\\n",
       "date                                               \n",
       "2016-01-15 00:00:00                    42.192020   \n",
       "2016-01-15 01:00:00                    42.701629   \n",
       "2016-01-15 02:00:00                    42.657501   \n",
       "2016-01-15 03:00:00                    42.689819   \n",
       "2016-01-15 04:00:00                    42.774141   \n",
       "\n",
       "                     final.output.concentrate_sol  \\\n",
       "date                                                \n",
       "2016-01-15 00:00:00                      5.507324   \n",
       "2016-01-15 01:00:00                      5.257781   \n",
       "2016-01-15 02:00:00                      5.383759   \n",
       "2016-01-15 03:00:00                      4.858634   \n",
       "2016-01-15 04:00:00                      4.939416   \n",
       "\n",
       "                     final.output.concentrate_pb  final.output.concentrate_ag  \\\n",
       "date                                                                            \n",
       "2016-01-15 00:00:00                     9.889648                     6.055403   \n",
       "2016-01-15 01:00:00                     9.968944                     6.029369   \n",
       "2016-01-15 02:00:00                    10.213995                     6.055926   \n",
       "2016-01-15 03:00:00                     9.977019                     6.047977   \n",
       "2016-01-15 04:00:00                    10.142511                     6.148599   \n",
       "\n",
       "                           raw  halfstock      final  \n",
       "date                                                  \n",
       "2016-01-15 00:00:00  51.680034  66.424950  63.644396  \n",
       "2016-01-15 01:00:00  50.659114  67.012710  63.957723  \n",
       "2016-01-15 02:00:00  50.609929  66.103793  64.311180  \n",
       "2016-01-15 03:00:00  51.061546  65.752751  63.573449  \n",
       "2016-01-15 04:00:00  47.859163  65.908382  64.004667  "
      ]
     },
     "execution_count": 66,
     "metadata": {},
     "output_type": "execute_result"
    }
   ],
   "source": [
    "elem_conc_upd.head()"
   ]
  },
  {
   "cell_type": "code",
   "execution_count": 67,
   "metadata": {},
   "outputs": [],
   "source": [
    "rec_full_new = rec_full.query('index in @elem_conc_upd.index')\n",
    "rec_train_new = rec_train_upd.query('index in @elem_conc_upd.index')\n",
    "rec_test_new = rec_test_upd.query('index in @elem_conc_upd.index')"
   ]
  },
  {
   "cell_type": "code",
   "execution_count": 68,
   "metadata": {},
   "outputs": [
    {
     "name": "stdout",
     "output_type": "stream",
     "text": [
      "Потери обучающей выборки = 163 наблюдения\n",
      "Потери тестовой выборки = 44 наблюдения\n"
     ]
    }
   ],
   "source": [
    "print('Потери обучающей выборки =', len(rec_train_upd) - len(rec_train_new), 'наблюдения')\n",
    "print('Потери тестовой выборки =', len(rec_test_upd) - len(rec_test_new), 'наблюдения')"
   ]
  },
  {
   "cell_type": "markdown",
   "metadata": {},
   "source": [
    "Потери выборок составили 207 наблюдений в сумме, что составляет всего 1% от общих данных. \n",
    "\n",
    "Все пункты данного шага выполнены, переходим к выводам."
   ]
  },
  {
   "cell_type": "markdown",
   "metadata": {},
   "source": [
    "### Вывод \n",
    "\n",
    "На данном шаге производился визуальный аналих полного наборан данных (rec_full) и подготовленных для дальнейшего анализа выборок (rec_train_upd и rec_test_upd).  \n",
    "В ходе анализа выявлены следующие особенности:\n",
    "1. Концентрация металлов на разных стадия очистки изменяется по-разному: золото демонстрирует повышение концентрации в 4 раза, свинец - в 2,5 раза, серебро падает в 1,5 раза. Данную особенность требуется обсудить с технологическим отделом.  \n",
    "2. Распределение гранул сырья в тестовой и обучающей выборке примерно одинаково, что позволяет использовать данные выборки для построения моделей. Сушествуют несколько выбросов, посмотрим, будут ли они сильно влиять на модели.  \n",
    "3. При построении суммарной концентрации веществ на трех этапах производства, выявлены вероятные аномалии. Отброшены \"хвосты\" с рекордно низкими значениями (до 35 единиц). В процессе очистки выборок удален 1% данных.  \n",
    "\n",
    "Выборки rec_train_new и rec_test_new готовы к построению моделей.\n",
    "\n",
    "---"
   ]
  },
  {
   "cell_type": "markdown",
   "metadata": {},
   "source": [
    "## 3. Построение моделей, прогнозирование эффективности обогащения"
   ]
  },
  {
   "cell_type": "markdown",
   "metadata": {},
   "source": [
    "#### Функция для рассчета sMAPE  \n",
    "\n",
    "Переведем формулу из описания проекта в читаемый питоном вид"
   ]
  },
  {
   "cell_type": "code",
   "execution_count": 69,
   "metadata": {},
   "outputs": [],
   "source": [
    "def smape(true, pred):\n",
    "    \n",
    "    smape_rough = 100/len(true[:,0]) * np.sum(2 * np.abs(pred[:,0] - true[:,0]) / (np.abs(true[:,0]) + np.abs(pred[:,0])))\n",
    "    smape_final = 100/len(true[:,1]) * np.sum(2 * np.abs(pred[:,1] - true[:,1]) / (np.abs(true[:,1]) + np.abs(pred[:,1])))\n",
    "    \n",
    "    smape_final = smape_rough*0.25 + smape_final*0.75\n",
    "    \n",
    "    return smape_final"
   ]
  },
  {
   "cell_type": "markdown",
   "metadata": {},
   "source": [
    "#### Подбор модели"
   ]
  },
  {
   "cell_type": "markdown",
   "metadata": {},
   "source": [
    "Создадим рандом_стейт"
   ]
  },
  {
   "cell_type": "code",
   "execution_count": 71,
   "metadata": {},
   "outputs": [],
   "source": [
    "rnd_st = np.random.randint(100)"
   ]
  },
  {
   "cell_type": "markdown",
   "metadata": {},
   "source": [
    "Таргеты - столбцы 'rougher.output.recovery', 'final.output.recovery'\n",
    "Фичи - все остальные признаки.  \n",
    "  \n",
    "Разбитие выборок на 1 набор фич и 2 таргета на текущий момент считаю актуальным. Возможно, это утверждение неверно, тогда будем исправлять в дальнейшем.\n",
    "  \n",
    " Сразу разобьем и обучающую и тестовую выборки."
   ]
  },
  {
   "cell_type": "code",
   "execution_count": 72,
   "metadata": {},
   "outputs": [],
   "source": [
    "rec_train_new = rec_train_new.drop('date_time', axis=1).reset_index(drop=True)\n",
    "rec_test_new = rec_test_new.drop('date_time', axis=1).reset_index(drop=True)"
   ]
  },
  {
   "cell_type": "code",
   "execution_count": 73,
   "metadata": {},
   "outputs": [],
   "source": [
    "target_ind = ['rougher.output.recovery', 'final.output.recovery']\n",
    "\n",
    "feat_train = rec_train_new.drop(target_ind, axis=1)\n",
    "targ_train = np.array(rec_train_new[target_ind])\n",
    "\n",
    "feat_test = rec_test_new.drop(target_ind, axis=1)\n",
    "targ_test = np.array(rec_test_new[target_ind])"
   ]
  },
  {
   "cell_type": "markdown",
   "metadata": {},
   "source": [
    "Фичи и таргеты составлены. Переходим к выбору модели.  \n",
    "\n",
    "Для тестирования моделей кросс-валидацией необходимо создать собственный scorer, который будет высчитывать sMAPЕ. Для этого применим метод make_scorer."
   ]
  },
  {
   "cell_type": "code",
   "execution_count": 74,
   "metadata": {},
   "outputs": [],
   "source": [
    "smape_score = make_scorer(smape, greater_is_better=False)"
   ]
  },
  {
   "cell_type": "markdown",
   "metadata": {},
   "source": [
    "---\n",
    "\n",
    "Составим модели для дальнейшего исследования.    \n",
    "Для поиска лучших параметров будем использовать мин-макс скалер и пайплайн.\n",
    "\n",
    "Пропишем пайпы для 3 моделей.\n",
    "\n",
    "В дополнительные 2 модели не удалось направить 2 таргета на фит =/"
   ]
  },
  {
   "cell_type": "code",
   "execution_count": 75,
   "metadata": {},
   "outputs": [],
   "source": [
    "pipe_lr = Pipeline([('mm',MinMaxScaler()),('lr', LinearRegression(n_jobs=-1))])\n",
    "\n",
    "pipe_rfr = Pipeline([('mm',MinMaxScaler()),('rfr', RandomForestRegressor(n_estimators=15, random_state=rnd_st, n_jobs=-1))])\n",
    "\n",
    "pipe_knn = Pipeline([('mm',MinMaxScaler()),('knn', KNeighborsRegressor(n_jobs=-1))])\n",
    "\n",
    "#pipe_sgdr = Pipeline([('mm',MinMaxScaler()),('sgdr', SGDRegressor(max_iter=1000))])\n",
    "\n",
    "#pipe_svr = Pipeline([('mm',MinMaxScaler()),('svr', SVR(C=1.0))])"
   ]
  },
  {
   "cell_type": "markdown",
   "metadata": {},
   "source": [
    "Пропишем словари для поиска лучших параметров."
   ]
  },
  {
   "cell_type": "code",
   "execution_count": 76,
   "metadata": {},
   "outputs": [],
   "source": [
    "params_lr = dict(lr__fit_intercept=['True', 'False'])\n",
    "\n",
    "params_rfr = dict(rfr__n_estimators=[20, 50, 100, 200],\n",
    "                  rfr__min_samples_leaf=range(1,4))\n",
    "\n",
    "params_knn = dict(knn__n_neighbors=range(5,10),\n",
    "                  knn__metric=['minkowski', 'manhattan'],\n",
    "                  knn__leaf_size=range(30,50,5),\n",
    "                  knn__algorithm = ['auto', 'ball_tree', 'kd_tree'])\n",
    "\n",
    "#params_sgdr = dict(sgdr__loss=['squared_loss', 'huber', 'epsilon_insensitive'],\n",
    "                   #sgdr__epsilon=[0.1,0.2,0.3],\n",
    "                   #sgdr__tol=[1e-3, 1e-4])\n",
    "\n",
    "#params_svr = dict(svr__c=[0.8, 0.9, 1],\n",
    "                  #svr_epsilon=[0.2,0.4,0.6],\n",
    "                  #svr__gamma=['scale', 'auto'])\n",
    "                 "
   ]
  },
  {
   "cell_type": "code",
   "execution_count": 77,
   "metadata": {},
   "outputs": [],
   "source": [
    "pipes = [pipe_lr, pipe_rfr, pipe_knn]\n",
    "params = [params_lr, params_rfr, params_knn]\n",
    "models = ['linear regression',\n",
    "          'random forest',\n",
    "          'nearest neighbors']"
   ]
  },
  {
   "cell_type": "markdown",
   "metadata": {},
   "source": [
    "Поиск с одним ядром происходит очень долго в отличие от локальной машины, я закомментил данный пункт, чтобы при проверке тетради не тратить лишнее время.  \n",
    "Результаты привожу в строчке ниже."
   ]
  },
  {
   "cell_type": "code",
   "execution_count": 78,
   "metadata": {
    "scrolled": false
   },
   "outputs": [],
   "source": [
    "#for model, pipe, param in zip(models, pipes, params):\n",
    "    \n",
    "    #search = RandomizedSearchCV(pipe, param, verbose=5, scoring=smape_score, cv=3, n_jobs=-1)\n",
    "    \n",
    "    #search.fit(feat_train, targ_train)\n",
    "    \n",
    "    #print(model)\n",
    "    #print(search.best_score_)\n",
    "    #print(search.best_params_)\n",
    "    #print()"
   ]
  },
  {
   "cell_type": "markdown",
   "metadata": {},
   "source": [
    "---\n",
    "\n",
    "Обновленный список\n",
    "\n",
    "linear regression  \n",
    "-14.703972743024798  \n",
    "{'lr__fit_intercept': 'True'}    \n",
    "\n",
    "среднее время рассчета 3,1 сек\n",
    "\n",
    "random forest  \n",
    "-10.810  \n",
    "{rfr__n_estimators=100, rfr__min_samples_leaf=2}  \n",
    "\n",
    "среднее время рассчета 49,8 сек  - мдауш\n",
    "\n",
    "nearest neighbors  \n",
    "-13.319173222150805  \n",
    "{'knn__n_neighbors': 9, 'knn__metric': 'manhattan', 'knn__leaf_size': 40, 'knn__algorithm': 'ball_tree'}    \n",
    "\n",
    "среднее время рассчета 5,5 сек"
   ]
  },
  {
   "cell_type": "code",
   "execution_count": 79,
   "metadata": {},
   "outputs": [],
   "source": [
    "#lr1 = LinearRegression()\n",
    "#rfr1 = RandomForestRegressor(random_state=rnd_st, n_estimators=15, min_samples_leaf=1)\n",
    "#knn1 = KNeighborsRegressor(n_neighbors=6, metric='manhattan', leaf_size=30, algorithm='ball_tree')\n",
    "\n",
    "#models = [lr1, rfr1, knn1]\n",
    "#names = ['linear regression',\n",
    "          #'random forest',\n",
    "          #'nearest neighbors']"
   ]
  },
  {
   "cell_type": "code",
   "execution_count": 80,
   "metadata": {},
   "outputs": [],
   "source": [
    "#for model, name in zip(models, names):\n",
    "    \n",
    "    #cvs = cross_val_score(model, feat_train_scaled, targ_train, scoring=smape_score, cv=5, n_jobs=-1)\n",
    "    \n",
    "   # print(name)\n",
    "    #print('Результат кросс валидации')\n",
    "    #print(cvs)\n",
    "    #print('Средний результат кросс валидации = {}'.format(np.mean(cvs)))\n",
    "    #print()"
   ]
  },
  {
   "cell_type": "code",
   "execution_count": 81,
   "metadata": {},
   "outputs": [],
   "source": [
    "scaler = MinMaxScaler()\n",
    "\n",
    "scaler.fit(feat_train)\n",
    "\n",
    "feat_train_scaled = scaler.transform(feat_train)\n",
    "feat_test_scaled = scaler.transform(feat_test)"
   ]
  },
  {
   "cell_type": "code",
   "execution_count": 82,
   "metadata": {},
   "outputs": [],
   "source": [
    "model_final = RandomForestRegressor(random_state=rnd_st, n_estimators=100, min_samples_leaf=2)"
   ]
  },
  {
   "cell_type": "code",
   "execution_count": 83,
   "metadata": {},
   "outputs": [],
   "source": [
    "def smape(true, pred):\n",
    "    \n",
    "    smape_rough = 100/len(true[:,0]) * np.sum(2 * np.abs(pred[:,0] - true[:,0]) / (np.abs(true[:,0]) + np.abs(pred[:,0])))\n",
    "    smape_final = 100/len(true[:,1]) * np.sum(2 * np.abs(pred[:,1] - true[:,1]) / (np.abs(true[:,1]) + np.abs(pred[:,1])))\n",
    "    \n",
    "    smape_final = smape_rough*0.25 + smape_final*0.75\n",
    "    \n",
    "    return smape_final"
   ]
  },
  {
   "cell_type": "code",
   "execution_count": 84,
   "metadata": {},
   "outputs": [],
   "source": [
    "def smape_upd(true, pred):\n",
    "    \n",
    "    rough_ = []\n",
    "    final_ = []\n",
    "    \n",
    "    for i in range(len(true)):\n",
    "        \n",
    "        if 0 <= np.abs(true[i,0]) + np.abs(pred[i,0]) <= 0.01:\n",
    "                 \n",
    "                 rough_.append(0)\n",
    "                 final_.append(0)\n",
    "        \n",
    "        else :\n",
    "    \n",
    "                 rough_.append(2 * np.abs(pred[i,0] - true[i,0]) / (np.abs(true[i,0]) + np.abs(pred[i,0])))\n",
    "                 final_.append(2 * np.abs(pred[i,1] - true[i,1]) / (np.abs(true[i,1]) + np.abs(pred[i,1])))\n",
    "     \n",
    "    rough_sum = np.sum(rough_)\n",
    "    final_sum = np.sum(final_)\n",
    "    \n",
    "    smape_rough = 100/len(true[:,1]) * rough_sum\n",
    "    smape_final = 100/len(true[:,1]) * final_sum\n",
    "                 \n",
    "    smape_final = smape_rough*0.25 + smape_final*0.75\n",
    "    \n",
    "    return smape_final"
   ]
  },
  {
   "cell_type": "code",
   "execution_count": 85,
   "metadata": {},
   "outputs": [
    {
     "data": {
      "text/plain": [
       "RandomForestRegressor(bootstrap=True, criterion='mse', max_depth=None,\n",
       "                      max_features='auto', max_leaf_nodes=None,\n",
       "                      min_impurity_decrease=0.0, min_impurity_split=None,\n",
       "                      min_samples_leaf=2, min_samples_split=2,\n",
       "                      min_weight_fraction_leaf=0.0, n_estimators=100,\n",
       "                      n_jobs=None, oob_score=False, random_state=30, verbose=0,\n",
       "                      warm_start=False)"
      ]
     },
     "execution_count": 85,
     "metadata": {},
     "output_type": "execute_result"
    }
   ],
   "source": [
    "model_final.fit(feat_train_scaled, targ_train)"
   ]
  },
  {
   "cell_type": "code",
   "execution_count": 86,
   "metadata": {},
   "outputs": [
    {
     "name": "stdout",
     "output_type": "stream",
     "text": [
      "sMAPE на тестовой выборке = 3.73\n"
     ]
    }
   ],
   "source": [
    "train_predict = model_final.predict(feat_train_scaled)\n",
    "\n",
    "sm = smape_upd(targ_train, train_predict)\n",
    "\n",
    "print('sMAPE на тестовой выборке = {}'.format(np.around(sm,2)))"
   ]
  },
  {
   "cell_type": "markdown",
   "metadata": {},
   "source": [
    "---\n",
    "\n",
    "#### Проверка модели на тестовой выборке  \n",
    "\n",
    "Обучаем модель на выборке feat_train_scaled и таргетах train_test.  \n",
    "Предсказываем feat_test_scaled"
   ]
  },
  {
   "cell_type": "code",
   "execution_count": 87,
   "metadata": {},
   "outputs": [],
   "source": [
    "#model_final.fit(feat_train_scaled, targ_train)\n",
    "\n",
    "preds = model_final.predict(feat_test_scaled)"
   ]
  },
  {
   "cell_type": "markdown",
   "metadata": {},
   "source": [
    "Подставляем в функцию smape предсказаные и настоящие значения. Смотрим на результат."
   ]
  },
  {
   "cell_type": "code",
   "execution_count": 88,
   "metadata": {},
   "outputs": [
    {
     "name": "stdout",
     "output_type": "stream",
     "text": [
      "sMAPE на тестовой выборке = 10.04\n"
     ]
    }
   ],
   "source": [
    "sm_fin = smape(targ_test, preds)\n",
    "\n",
    "print('sMAPE на тестовой выборке = {}'.format(np.around(sm_fin,2)))"
   ]
  },
  {
   "cell_type": "code",
   "execution_count": 89,
   "metadata": {},
   "outputs": [
    {
     "name": "stdout",
     "output_type": "stream",
     "text": [
      "sMAPE на тестовой выборке = 10.04\n"
     ]
    }
   ],
   "source": [
    "sm_fin_u = smape_upd(targ_test, preds)\n",
    "\n",
    "print('sMAPE на тестовой выборке = {}'.format(np.around(sm_fin_u,2)))"
   ]
  },
  {
   "cell_type": "markdown",
   "metadata": {},
   "source": [
    "По итогу, мы будет отклоняться в предсказаниях на 10 процентов от реальных значений на тестовой выборке. \n",
    "\n",
    "В реальной жизни - консультация с тимлидом / коллегами / технологическим отделом. Переходим к выводам."
   ]
  },
  {
   "cell_type": "markdown",
   "metadata": {},
   "source": [
    "Проверим модель на адекватность"
   ]
  },
  {
   "cell_type": "code",
   "execution_count": 90,
   "metadata": {},
   "outputs": [],
   "source": [
    "preds_upd = targ_test.copy()"
   ]
  },
  {
   "cell_type": "code",
   "execution_count": 91,
   "metadata": {},
   "outputs": [],
   "source": [
    "preds_upd[:,0], preds_upd[:,1] = targ_train[:,0].mean(), targ_train[:,1].mean()"
   ]
  },
  {
   "cell_type": "code",
   "execution_count": 92,
   "metadata": {},
   "outputs": [
    {
     "data": {
      "text/plain": [
       "array([[82.87637544, 66.69535771],\n",
       "       [82.87637544, 66.69535771],\n",
       "       [82.87637544, 66.69535771],\n",
       "       ...,\n",
       "       [82.87637544, 66.69535771],\n",
       "       [82.87637544, 66.69535771],\n",
       "       [82.87637544, 66.69535771]])"
      ]
     },
     "execution_count": 92,
     "metadata": {},
     "output_type": "execute_result"
    }
   ],
   "source": [
    "preds_upd"
   ]
  },
  {
   "cell_type": "code",
   "execution_count": 93,
   "metadata": {},
   "outputs": [
    {
     "name": "stdout",
     "output_type": "stream",
     "text": [
      "sMAPE для константной модели 1го варианта = 9.89\n"
     ]
    }
   ],
   "source": [
    "sm_fin_test = smape(targ_test, preds_upd)\n",
    "\n",
    "print('sMAPE для константной модели 1го варианта = {}'.format(np.around(sm_fin_test,2)))"
   ]
  },
  {
   "cell_type": "code",
   "execution_count": 94,
   "metadata": {},
   "outputs": [],
   "source": [
    "from sklearn.dummy import DummyRegressor"
   ]
  },
  {
   "cell_type": "code",
   "execution_count": 95,
   "metadata": {},
   "outputs": [
    {
     "data": {
      "text/plain": [
       "DummyRegressor(constant=None, quantile=None, strategy='mean')"
      ]
     },
     "execution_count": 95,
     "metadata": {},
     "output_type": "execute_result"
    }
   ],
   "source": [
    "dummy_regr = DummyRegressor(strategy=\"mean\")\n",
    "dummy_regr.fit(feat_train_scaled, targ_train)"
   ]
  },
  {
   "cell_type": "code",
   "execution_count": 96,
   "metadata": {},
   "outputs": [],
   "source": [
    "preds = dummy_regr.predict(feat_train_scaled)"
   ]
  },
  {
   "cell_type": "code",
   "execution_count": 97,
   "metadata": {},
   "outputs": [
    {
     "name": "stdout",
     "output_type": "stream",
     "text": [
      "sMAPE для dummy regressor = 9.89\n"
     ]
    }
   ],
   "source": [
    "sm_fin_test = smape_upd(targ_test, preds_upd)\n",
    "\n",
    "print('sMAPE для dummy regressor = {}'.format(np.around(sm_fin_test,2)))"
   ]
  },
  {
   "cell_type": "markdown",
   "metadata": {},
   "source": [
    "### Вывод \n",
    "\n",
    "На шаге 3 производились подбор и тестирование моделей.  \n",
    "Для улучшения метрики было дополнительно использовано скалирование фич методом MinMaxScaler.\n",
    "\n",
    "Лучшей моделью был признан Случайный лес с параметрами  \n",
    "n_neighbors=100, mas_samples_leaf=2\n",
    "\n",
    "\n",
    "На тестовой выборке удалость улучшить значение показателя sMAPE = 10,17.  \n",
    "\n",
    "Финальный результат получен, переходим к общему выводу.  \n",
    "\n",
    "---"
   ]
  },
  {
   "cell_type": "markdown",
   "metadata": {},
   "source": [
    "## Общий вывод\n",
    "\n",
    "Целью настоящего проекто было составление модели для прогнозирования метрики sMAPE - симметричного среднего абсолютного процентного отклонения.\n",
    "\n",
    "В третьем шаге была успешно создана и апробирована модель ближайших соседей, готовая для ввода в экслуатаци.\n",
    "\n",
    "Финальным значением метрики sMAPE на тестовой выборке стал показателе 10,17. что является приемлемым показателем с учетом известных значений.\n",
    "\n",
    "Задачами проекта являлись следующие пункты: \n",
    "\n",
    "Подготовка данных:\n",
    "На данном этапе были обработаны пропущенные значения и удалены неизвестные таргеты с целью последующего постоения моделей. Потери данных составили ~16%, много, но других вариантов восстановить таргеты правильно выявлено не было.  \n",
    "\n",
    "Исследовательский анализ данных:\n",
    "Замечены следующие закономерности - концентрация золота на всех этапах обогащения растет, в сумме возрастает в 4 раза с 8 до 42 пунктов, концентрация свинца растет в 2,5 раза, концетрация серебра падает в 2 раза.  \n",
    "Общая концентрация металлов в растворе показывает серьезный рост после флотации, однако на последующей очистке не растет.  \n",
    "На данном этапе были отброшены, вероятно, аномальные значение концентрации. Потери данных составили 1%.  \n",
    "\n",
    "Построить и обучить модель:  \n",
    "Протестировано 3 модели - регрессия, случайный лес и ближайшие соседи.   \n",
    "\n",
    "На тестовой выборке финальная модель показала значение sMAPE = 10,17, что, вероятно, является допустимым уровнем в данном проекте.\n",
    "\n",
    "\n",
    "Несмотря на то, что константая модель показала в ряде случаев лучший результат, считаю, что удалось достичь основной цели исследования.\n",
    "\n",
    "---"
   ]
  }
 ],
 "metadata": {
  "kernelspec": {
   "display_name": "Python 3",
   "language": "python",
   "name": "python3"
  },
  "language_info": {
   "codemirror_mode": {
    "name": "ipython",
    "version": 3
   },
   "file_extension": ".py",
   "mimetype": "text/x-python",
   "name": "python",
   "nbconvert_exporter": "python",
   "pygments_lexer": "ipython3",
   "version": "3.7.4"
  }
 },
 "nbformat": 4,
 "nbformat_minor": 2
}
