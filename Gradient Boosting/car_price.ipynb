{
 "cells": [
  {
   "cell_type": "markdown",
   "metadata": {},
   "source": [
    "## Шаг 1. Импорт и подготовка данных  \n",
    "\n",
    "Загружаем необходимые библиотеки."
   ]
  },
  {
   "cell_type": "code",
   "execution_count": 1,
   "metadata": {},
   "outputs": [],
   "source": [
    "#common\n",
    "import numpy as np\n",
    "import pandas as pd \n",
    "import IPython\n",
    "from IPython.display import display\n",
    "import re\n",
    "import random\n",
    "import warnings\n",
    "warnings.simplefilter('ignore')\n",
    "import calendar\n",
    "\n",
    "#visualisation\n",
    "import seaborn as sns\n",
    "import matplotlib.pyplot as plt\n",
    "import plotly.graph_objects as go\n",
    "import plotly.express as px\n",
    "\n",
    "#ml\n",
    "from sklearn.metrics import SCORERS\n",
    "from sklearn.metrics import mean_squared_error, r2_score, mean_absolute_error, make_scorer\n",
    "from sklearn.model_selection import train_test_split, cross_val_score, GridSearchCV, RandomizedSearchCV, KFold\n",
    "from sklearn.pipeline import Pipeline, make_pipeline\n",
    "from sklearn.preprocessing import StandardScaler, MinMaxScaler, OneHotEncoder, PolynomialFeatures\n",
    "from sklearn.utils import shuffle, resample\n",
    "\n",
    "#regressors\n",
    "from sklearn.dummy import DummyRegressor\n",
    "from sklearn.ensemble import GradientBoostingRegressor\n",
    "from catboost import CatBoostRegressor, Pool\n",
    "import xgboost as xgb\n",
    "import lightgbm as lgb"
   ]
  },
  {
   "cell_type": "markdown",
   "metadata": {},
   "source": [
    "Загружаем данные."
   ]
  },
  {
   "cell_type": "code",
   "execution_count": 2,
   "metadata": {},
   "outputs": [],
   "source": [
    "cars = pd.read_csv('/datasets/autos.csv')"
   ]
  },
  {
   "cell_type": "markdown",
   "metadata": {},
   "source": [
    "### Первичный анализ данных"
   ]
  },
  {
   "cell_type": "code",
   "execution_count": 3,
   "metadata": {},
   "outputs": [
    {
     "name": "stdout",
     "output_type": "stream",
     "text": [
      "<class 'pandas.core.frame.DataFrame'>\n",
      "RangeIndex: 354369 entries, 0 to 354368\n",
      "Data columns (total 16 columns):\n",
      "DateCrawled          354369 non-null object\n",
      "Price                354369 non-null int64\n",
      "VehicleType          316879 non-null object\n",
      "RegistrationYear     354369 non-null int64\n",
      "Gearbox              334536 non-null object\n",
      "Power                354369 non-null int64\n",
      "Model                334664 non-null object\n",
      "Kilometer            354369 non-null int64\n",
      "RegistrationMonth    354369 non-null int64\n",
      "FuelType             321474 non-null object\n",
      "Brand                354369 non-null object\n",
      "NotRepaired          283215 non-null object\n",
      "DateCreated          354369 non-null object\n",
      "NumberOfPictures     354369 non-null int64\n",
      "PostalCode           354369 non-null int64\n",
      "LastSeen             354369 non-null object\n",
      "dtypes: int64(7), object(9)\n",
      "memory usage: 43.3+ MB\n"
     ]
    }
   ],
   "source": [
    "cars.info()"
   ]
  },
  {
   "cell_type": "code",
   "execution_count": 4,
   "metadata": {},
   "outputs": [
    {
     "data": {
      "text/html": [
       "<div>\n",
       "<style scoped>\n",
       "    .dataframe tbody tr th:only-of-type {\n",
       "        vertical-align: middle;\n",
       "    }\n",
       "\n",
       "    .dataframe tbody tr th {\n",
       "        vertical-align: top;\n",
       "    }\n",
       "\n",
       "    .dataframe thead th {\n",
       "        text-align: right;\n",
       "    }\n",
       "</style>\n",
       "<table border=\"1\" class=\"dataframe\">\n",
       "  <thead>\n",
       "    <tr style=\"text-align: right;\">\n",
       "      <th></th>\n",
       "      <th>DateCrawled</th>\n",
       "      <th>Price</th>\n",
       "      <th>VehicleType</th>\n",
       "      <th>RegistrationYear</th>\n",
       "      <th>Gearbox</th>\n",
       "      <th>Power</th>\n",
       "      <th>Model</th>\n",
       "      <th>Kilometer</th>\n",
       "      <th>RegistrationMonth</th>\n",
       "      <th>FuelType</th>\n",
       "      <th>Brand</th>\n",
       "      <th>NotRepaired</th>\n",
       "      <th>DateCreated</th>\n",
       "      <th>NumberOfPictures</th>\n",
       "      <th>PostalCode</th>\n",
       "      <th>LastSeen</th>\n",
       "    </tr>\n",
       "  </thead>\n",
       "  <tbody>\n",
       "    <tr>\n",
       "      <td>0</td>\n",
       "      <td>2016-03-24 11:52:17</td>\n",
       "      <td>480</td>\n",
       "      <td>NaN</td>\n",
       "      <td>1993</td>\n",
       "      <td>manual</td>\n",
       "      <td>0</td>\n",
       "      <td>golf</td>\n",
       "      <td>150000</td>\n",
       "      <td>0</td>\n",
       "      <td>petrol</td>\n",
       "      <td>volkswagen</td>\n",
       "      <td>NaN</td>\n",
       "      <td>2016-03-24 00:00:00</td>\n",
       "      <td>0</td>\n",
       "      <td>70435</td>\n",
       "      <td>2016-04-07 03:16:57</td>\n",
       "    </tr>\n",
       "    <tr>\n",
       "      <td>1</td>\n",
       "      <td>2016-03-24 10:58:45</td>\n",
       "      <td>18300</td>\n",
       "      <td>coupe</td>\n",
       "      <td>2011</td>\n",
       "      <td>manual</td>\n",
       "      <td>190</td>\n",
       "      <td>NaN</td>\n",
       "      <td>125000</td>\n",
       "      <td>5</td>\n",
       "      <td>gasoline</td>\n",
       "      <td>audi</td>\n",
       "      <td>yes</td>\n",
       "      <td>2016-03-24 00:00:00</td>\n",
       "      <td>0</td>\n",
       "      <td>66954</td>\n",
       "      <td>2016-04-07 01:46:50</td>\n",
       "    </tr>\n",
       "    <tr>\n",
       "      <td>2</td>\n",
       "      <td>2016-03-14 12:52:21</td>\n",
       "      <td>9800</td>\n",
       "      <td>suv</td>\n",
       "      <td>2004</td>\n",
       "      <td>auto</td>\n",
       "      <td>163</td>\n",
       "      <td>grand</td>\n",
       "      <td>125000</td>\n",
       "      <td>8</td>\n",
       "      <td>gasoline</td>\n",
       "      <td>jeep</td>\n",
       "      <td>NaN</td>\n",
       "      <td>2016-03-14 00:00:00</td>\n",
       "      <td>0</td>\n",
       "      <td>90480</td>\n",
       "      <td>2016-04-05 12:47:46</td>\n",
       "    </tr>\n",
       "    <tr>\n",
       "      <td>3</td>\n",
       "      <td>2016-03-17 16:54:04</td>\n",
       "      <td>1500</td>\n",
       "      <td>small</td>\n",
       "      <td>2001</td>\n",
       "      <td>manual</td>\n",
       "      <td>75</td>\n",
       "      <td>golf</td>\n",
       "      <td>150000</td>\n",
       "      <td>6</td>\n",
       "      <td>petrol</td>\n",
       "      <td>volkswagen</td>\n",
       "      <td>no</td>\n",
       "      <td>2016-03-17 00:00:00</td>\n",
       "      <td>0</td>\n",
       "      <td>91074</td>\n",
       "      <td>2016-03-17 17:40:17</td>\n",
       "    </tr>\n",
       "    <tr>\n",
       "      <td>4</td>\n",
       "      <td>2016-03-31 17:25:20</td>\n",
       "      <td>3600</td>\n",
       "      <td>small</td>\n",
       "      <td>2008</td>\n",
       "      <td>manual</td>\n",
       "      <td>69</td>\n",
       "      <td>fabia</td>\n",
       "      <td>90000</td>\n",
       "      <td>7</td>\n",
       "      <td>gasoline</td>\n",
       "      <td>skoda</td>\n",
       "      <td>no</td>\n",
       "      <td>2016-03-31 00:00:00</td>\n",
       "      <td>0</td>\n",
       "      <td>60437</td>\n",
       "      <td>2016-04-06 10:17:21</td>\n",
       "    </tr>\n",
       "  </tbody>\n",
       "</table>\n",
       "</div>"
      ],
      "text/plain": [
       "           DateCrawled  Price VehicleType  RegistrationYear Gearbox  Power  \\\n",
       "0  2016-03-24 11:52:17    480         NaN              1993  manual      0   \n",
       "1  2016-03-24 10:58:45  18300       coupe              2011  manual    190   \n",
       "2  2016-03-14 12:52:21   9800         suv              2004    auto    163   \n",
       "3  2016-03-17 16:54:04   1500       small              2001  manual     75   \n",
       "4  2016-03-31 17:25:20   3600       small              2008  manual     69   \n",
       "\n",
       "   Model  Kilometer  RegistrationMonth  FuelType       Brand NotRepaired  \\\n",
       "0   golf     150000                  0    petrol  volkswagen         NaN   \n",
       "1    NaN     125000                  5  gasoline        audi         yes   \n",
       "2  grand     125000                  8  gasoline        jeep         NaN   \n",
       "3   golf     150000                  6    petrol  volkswagen          no   \n",
       "4  fabia      90000                  7  gasoline       skoda          no   \n",
       "\n",
       "           DateCreated  NumberOfPictures  PostalCode             LastSeen  \n",
       "0  2016-03-24 00:00:00                 0       70435  2016-04-07 03:16:57  \n",
       "1  2016-03-24 00:00:00                 0       66954  2016-04-07 01:46:50  \n",
       "2  2016-03-14 00:00:00                 0       90480  2016-04-05 12:47:46  \n",
       "3  2016-03-17 00:00:00                 0       91074  2016-03-17 17:40:17  \n",
       "4  2016-03-31 00:00:00                 0       60437  2016-04-06 10:17:21  "
      ]
     },
     "execution_count": 4,
     "metadata": {},
     "output_type": "execute_result"
    }
   ],
   "source": [
    "cars.head()"
   ]
  },
  {
   "cell_type": "markdown",
   "metadata": {},
   "source": [
    "Перед нами задача регрессии.  \n",
    "Датасет содержит: 354369 наблюдений, 15 признаков и 1 целевой признак.  \n",
    "\n",
    "Первично обнаруженные проблемы:  \n",
    "1. Пропущенные значения - требуется обработка.  \n",
    "2. Вполне вероятно, что дата создания и скачивания объявления, дата последнего визита пользователя, месяц регистрации и почтовый индекс не помогут нам в процессе предсказания цен.  \n",
    "3. Большая часть признаков - категориальные. Из количественных - пройденный километраж (150 тысяч на машине 1993 года - охотно верится=), мощность двигателя. Так же, наверное, сюда можно отнести год регистрации.  \n",
    "\n",
    "Копнем глубже."
   ]
  },
  {
   "cell_type": "code",
   "execution_count": 5,
   "metadata": {},
   "outputs": [
    {
     "data": {
      "text/html": [
       "<div>\n",
       "<style scoped>\n",
       "    .dataframe tbody tr th:only-of-type {\n",
       "        vertical-align: middle;\n",
       "    }\n",
       "\n",
       "    .dataframe tbody tr th {\n",
       "        vertical-align: top;\n",
       "    }\n",
       "\n",
       "    .dataframe thead th {\n",
       "        text-align: right;\n",
       "    }\n",
       "</style>\n",
       "<table border=\"1\" class=\"dataframe\">\n",
       "  <thead>\n",
       "    <tr style=\"text-align: right;\">\n",
       "      <th></th>\n",
       "      <th>Price</th>\n",
       "      <th>RegistrationYear</th>\n",
       "      <th>Power</th>\n",
       "      <th>Kilometer</th>\n",
       "      <th>RegistrationMonth</th>\n",
       "      <th>NumberOfPictures</th>\n",
       "      <th>PostalCode</th>\n",
       "    </tr>\n",
       "  </thead>\n",
       "  <tbody>\n",
       "    <tr>\n",
       "      <td>count</td>\n",
       "      <td>354369.000000</td>\n",
       "      <td>354369.000000</td>\n",
       "      <td>354369.000000</td>\n",
       "      <td>354369.000000</td>\n",
       "      <td>354369.000000</td>\n",
       "      <td>354369.0</td>\n",
       "      <td>354369.000000</td>\n",
       "    </tr>\n",
       "    <tr>\n",
       "      <td>mean</td>\n",
       "      <td>4416.656776</td>\n",
       "      <td>2004.234448</td>\n",
       "      <td>110.094337</td>\n",
       "      <td>128211.172535</td>\n",
       "      <td>5.714645</td>\n",
       "      <td>0.0</td>\n",
       "      <td>50508.689087</td>\n",
       "    </tr>\n",
       "    <tr>\n",
       "      <td>std</td>\n",
       "      <td>4514.158514</td>\n",
       "      <td>90.227958</td>\n",
       "      <td>189.850405</td>\n",
       "      <td>37905.341530</td>\n",
       "      <td>3.726421</td>\n",
       "      <td>0.0</td>\n",
       "      <td>25783.096248</td>\n",
       "    </tr>\n",
       "    <tr>\n",
       "      <td>min</td>\n",
       "      <td>0.000000</td>\n",
       "      <td>1000.000000</td>\n",
       "      <td>0.000000</td>\n",
       "      <td>5000.000000</td>\n",
       "      <td>0.000000</td>\n",
       "      <td>0.0</td>\n",
       "      <td>1067.000000</td>\n",
       "    </tr>\n",
       "    <tr>\n",
       "      <td>25%</td>\n",
       "      <td>1050.000000</td>\n",
       "      <td>1999.000000</td>\n",
       "      <td>69.000000</td>\n",
       "      <td>125000.000000</td>\n",
       "      <td>3.000000</td>\n",
       "      <td>0.0</td>\n",
       "      <td>30165.000000</td>\n",
       "    </tr>\n",
       "    <tr>\n",
       "      <td>50%</td>\n",
       "      <td>2700.000000</td>\n",
       "      <td>2003.000000</td>\n",
       "      <td>105.000000</td>\n",
       "      <td>150000.000000</td>\n",
       "      <td>6.000000</td>\n",
       "      <td>0.0</td>\n",
       "      <td>49413.000000</td>\n",
       "    </tr>\n",
       "    <tr>\n",
       "      <td>75%</td>\n",
       "      <td>6400.000000</td>\n",
       "      <td>2008.000000</td>\n",
       "      <td>143.000000</td>\n",
       "      <td>150000.000000</td>\n",
       "      <td>9.000000</td>\n",
       "      <td>0.0</td>\n",
       "      <td>71083.000000</td>\n",
       "    </tr>\n",
       "    <tr>\n",
       "      <td>max</td>\n",
       "      <td>20000.000000</td>\n",
       "      <td>9999.000000</td>\n",
       "      <td>20000.000000</td>\n",
       "      <td>150000.000000</td>\n",
       "      <td>12.000000</td>\n",
       "      <td>0.0</td>\n",
       "      <td>99998.000000</td>\n",
       "    </tr>\n",
       "  </tbody>\n",
       "</table>\n",
       "</div>"
      ],
      "text/plain": [
       "               Price  RegistrationYear          Power      Kilometer  \\\n",
       "count  354369.000000     354369.000000  354369.000000  354369.000000   \n",
       "mean     4416.656776       2004.234448     110.094337  128211.172535   \n",
       "std      4514.158514         90.227958     189.850405   37905.341530   \n",
       "min         0.000000       1000.000000       0.000000    5000.000000   \n",
       "25%      1050.000000       1999.000000      69.000000  125000.000000   \n",
       "50%      2700.000000       2003.000000     105.000000  150000.000000   \n",
       "75%      6400.000000       2008.000000     143.000000  150000.000000   \n",
       "max     20000.000000       9999.000000   20000.000000  150000.000000   \n",
       "\n",
       "       RegistrationMonth  NumberOfPictures     PostalCode  \n",
       "count      354369.000000          354369.0  354369.000000  \n",
       "mean            5.714645               0.0   50508.689087  \n",
       "std             3.726421               0.0   25783.096248  \n",
       "min             0.000000               0.0    1067.000000  \n",
       "25%             3.000000               0.0   30165.000000  \n",
       "50%             6.000000               0.0   49413.000000  \n",
       "75%             9.000000               0.0   71083.000000  \n",
       "max            12.000000               0.0   99998.000000  "
      ]
     },
     "execution_count": 5,
     "metadata": {},
     "output_type": "execute_result"
    }
   ],
   "source": [
    "cars.describe()"
   ]
  },
  {
   "cell_type": "markdown",
   "metadata": {},
   "source": [
    "1. Нет никакой информации о фотографиях. Сообщить тимлиду, отбросить данный столбец.  \n",
    "2. В нашем датасете достаточно дешевые автомобили - средняя стоимость = 2700 EUR.  \n",
    "3. Кто-то зарегистрировал автомобиль в 1000м году (сразу после Крещения Руси, там, вероятно, правила постановки на учет обновили), а кто-то подаст документы о регистрации через 8 тысяч лет.  \n",
    "4. Странный максимальный пробег в 150000 километров - встерчается у подавляющего большинства автомобилей. Сообщить тимлиду, возможно, это особенность сайта - максимальное значение, которое можно выставить = 150000?  \n",
    "5. Сбита кодировка месяцов регистрации. Если максимальный (последний) месяц - декабрь=12, то месяца 0 быть не должно (или наоборот)  "
   ]
  },
  {
   "cell_type": "code",
   "execution_count": 6,
   "metadata": {},
   "outputs": [
    {
     "data": {
      "text/html": [
       "<div>\n",
       "<style scoped>\n",
       "    .dataframe tbody tr th:only-of-type {\n",
       "        vertical-align: middle;\n",
       "    }\n",
       "\n",
       "    .dataframe tbody tr th {\n",
       "        vertical-align: top;\n",
       "    }\n",
       "\n",
       "    .dataframe thead th {\n",
       "        text-align: right;\n",
       "    }\n",
       "</style>\n",
       "<table border=\"1\" class=\"dataframe\">\n",
       "  <thead>\n",
       "    <tr style=\"text-align: right;\">\n",
       "      <th></th>\n",
       "      <th>DateCrawled</th>\n",
       "      <th>VehicleType</th>\n",
       "      <th>Gearbox</th>\n",
       "      <th>Model</th>\n",
       "      <th>FuelType</th>\n",
       "      <th>Brand</th>\n",
       "      <th>NotRepaired</th>\n",
       "      <th>DateCreated</th>\n",
       "      <th>LastSeen</th>\n",
       "    </tr>\n",
       "  </thead>\n",
       "  <tbody>\n",
       "    <tr>\n",
       "      <td>count</td>\n",
       "      <td>354369</td>\n",
       "      <td>316879</td>\n",
       "      <td>334536</td>\n",
       "      <td>334664</td>\n",
       "      <td>321474</td>\n",
       "      <td>354369</td>\n",
       "      <td>283215</td>\n",
       "      <td>354369</td>\n",
       "      <td>354369</td>\n",
       "    </tr>\n",
       "    <tr>\n",
       "      <td>unique</td>\n",
       "      <td>271174</td>\n",
       "      <td>8</td>\n",
       "      <td>2</td>\n",
       "      <td>250</td>\n",
       "      <td>7</td>\n",
       "      <td>40</td>\n",
       "      <td>2</td>\n",
       "      <td>109</td>\n",
       "      <td>179150</td>\n",
       "    </tr>\n",
       "    <tr>\n",
       "      <td>top</td>\n",
       "      <td>2016-03-24 14:49:47</td>\n",
       "      <td>sedan</td>\n",
       "      <td>manual</td>\n",
       "      <td>golf</td>\n",
       "      <td>petrol</td>\n",
       "      <td>volkswagen</td>\n",
       "      <td>no</td>\n",
       "      <td>2016-04-03 00:00:00</td>\n",
       "      <td>2016-04-06 13:45:54</td>\n",
       "    </tr>\n",
       "    <tr>\n",
       "      <td>freq</td>\n",
       "      <td>7</td>\n",
       "      <td>91457</td>\n",
       "      <td>268251</td>\n",
       "      <td>29232</td>\n",
       "      <td>216352</td>\n",
       "      <td>77013</td>\n",
       "      <td>247161</td>\n",
       "      <td>13719</td>\n",
       "      <td>17</td>\n",
       "    </tr>\n",
       "  </tbody>\n",
       "</table>\n",
       "</div>"
      ],
      "text/plain": [
       "                DateCrawled VehicleType Gearbox   Model FuelType       Brand  \\\n",
       "count                354369      316879  334536  334664   321474      354369   \n",
       "unique               271174           8       2     250        7          40   \n",
       "top     2016-03-24 14:49:47       sedan  manual    golf   petrol  volkswagen   \n",
       "freq                      7       91457  268251   29232   216352       77013   \n",
       "\n",
       "       NotRepaired          DateCreated             LastSeen  \n",
       "count       283215               354369               354369  \n",
       "unique           2                  109               179150  \n",
       "top             no  2016-04-03 00:00:00  2016-04-06 13:45:54  \n",
       "freq        247161                13719                   17  "
      ]
     },
     "execution_count": 6,
     "metadata": {},
     "output_type": "execute_result"
    }
   ],
   "source": [
    "cars.describe(include=['object', 'bool'])"
   ]
  },
  {
   "cell_type": "markdown",
   "metadata": {},
   "source": [
    "Фольксваген гольф седан - самая часто встречающая комплектация (хотя лучше здесь через groupby проверить, седан, возможно из другой модели сюда затесался).  \n",
    "С типами бензина нужно будет разобраться отдельно.  \n",
    "В представленном датасете больше машин, которые не находились в ремонте (по крайней мере, по словам их владельцев).  \n",
    "\n"
   ]
  },
  {
   "cell_type": "code",
   "execution_count": 7,
   "metadata": {},
   "outputs": [
    {
     "data": {
      "text/plain": [
       "Brand       Model   VehicleType\n",
       "volkswagen  golf    sedan          14744\n",
       "opel        corsa   small          10499\n",
       "volkswagen  polo    small          10267\n",
       "bmw         3er     sedan           8087\n",
       "volkswagen  passat  wagon           7134\n",
       "Name: Power, dtype: int64"
      ]
     },
     "execution_count": 7,
     "metadata": {},
     "output_type": "execute_result"
    }
   ],
   "source": [
    "temp = (\n",
    "    cars.groupby(['Brand', 'Model', 'VehicleType'])['Power']\n",
    "    .count().sort_values(ascending=False))\n",
    "\n",
    "temp.head()"
   ]
  },
  {
   "cell_type": "markdown",
   "metadata": {},
   "source": [
    "Да, действительно, гольф седан - самый частый автомобиль в анкетах продаж.  \n",
    "\n",
    "Посмотрим на процентные соотношения пропущенных значений."
   ]
  },
  {
   "cell_type": "code",
   "execution_count": 8,
   "metadata": {},
   "outputs": [
    {
     "data": {
      "text/html": [
       "<style  type=\"text/css\" >\n",
       "    #T_e129c300_a3c4_11ea_8c65_02420a39644drow0_col0 {\n",
       "            background-color:  #67000d;\n",
       "            color:  #f1f1f1;\n",
       "        }    #T_e129c300_a3c4_11ea_8c65_02420a39644drow0_col1 {\n",
       "            background-color:  #67000d;\n",
       "            color:  #f1f1f1;\n",
       "        }    #T_e129c300_a3c4_11ea_8c65_02420a39644drow1_col0 {\n",
       "            background-color:  #f96044;\n",
       "            color:  #000000;\n",
       "        }    #T_e129c300_a3c4_11ea_8c65_02420a39644drow1_col1 {\n",
       "            background-color:  #f96044;\n",
       "            color:  #000000;\n",
       "        }    #T_e129c300_a3c4_11ea_8c65_02420a39644drow2_col0 {\n",
       "            background-color:  #fb7656;\n",
       "            color:  #000000;\n",
       "        }    #T_e129c300_a3c4_11ea_8c65_02420a39644drow2_col1 {\n",
       "            background-color:  #fb7656;\n",
       "            color:  #000000;\n",
       "        }    #T_e129c300_a3c4_11ea_8c65_02420a39644drow3_col0 {\n",
       "            background-color:  #fcb296;\n",
       "            color:  #000000;\n",
       "        }    #T_e129c300_a3c4_11ea_8c65_02420a39644drow3_col1 {\n",
       "            background-color:  #fcb296;\n",
       "            color:  #000000;\n",
       "        }    #T_e129c300_a3c4_11ea_8c65_02420a39644drow4_col0 {\n",
       "            background-color:  #fcb398;\n",
       "            color:  #000000;\n",
       "        }    #T_e129c300_a3c4_11ea_8c65_02420a39644drow4_col1 {\n",
       "            background-color:  #fcb398;\n",
       "            color:  #000000;\n",
       "        }    #T_e129c300_a3c4_11ea_8c65_02420a39644drow5_col0 {\n",
       "            background-color:  #fff5f0;\n",
       "            color:  #000000;\n",
       "        }    #T_e129c300_a3c4_11ea_8c65_02420a39644drow5_col1 {\n",
       "            background-color:  #fff5f0;\n",
       "            color:  #000000;\n",
       "        }    #T_e129c300_a3c4_11ea_8c65_02420a39644drow6_col0 {\n",
       "            background-color:  #fff5f0;\n",
       "            color:  #000000;\n",
       "        }    #T_e129c300_a3c4_11ea_8c65_02420a39644drow6_col1 {\n",
       "            background-color:  #fff5f0;\n",
       "            color:  #000000;\n",
       "        }    #T_e129c300_a3c4_11ea_8c65_02420a39644drow7_col0 {\n",
       "            background-color:  #fff5f0;\n",
       "            color:  #000000;\n",
       "        }    #T_e129c300_a3c4_11ea_8c65_02420a39644drow7_col1 {\n",
       "            background-color:  #fff5f0;\n",
       "            color:  #000000;\n",
       "        }    #T_e129c300_a3c4_11ea_8c65_02420a39644drow8_col0 {\n",
       "            background-color:  #fff5f0;\n",
       "            color:  #000000;\n",
       "        }    #T_e129c300_a3c4_11ea_8c65_02420a39644drow8_col1 {\n",
       "            background-color:  #fff5f0;\n",
       "            color:  #000000;\n",
       "        }    #T_e129c300_a3c4_11ea_8c65_02420a39644drow9_col0 {\n",
       "            background-color:  #fff5f0;\n",
       "            color:  #000000;\n",
       "        }    #T_e129c300_a3c4_11ea_8c65_02420a39644drow9_col1 {\n",
       "            background-color:  #fff5f0;\n",
       "            color:  #000000;\n",
       "        }    #T_e129c300_a3c4_11ea_8c65_02420a39644drow10_col0 {\n",
       "            background-color:  #fff5f0;\n",
       "            color:  #000000;\n",
       "        }    #T_e129c300_a3c4_11ea_8c65_02420a39644drow10_col1 {\n",
       "            background-color:  #fff5f0;\n",
       "            color:  #000000;\n",
       "        }    #T_e129c300_a3c4_11ea_8c65_02420a39644drow11_col0 {\n",
       "            background-color:  #fff5f0;\n",
       "            color:  #000000;\n",
       "        }    #T_e129c300_a3c4_11ea_8c65_02420a39644drow11_col1 {\n",
       "            background-color:  #fff5f0;\n",
       "            color:  #000000;\n",
       "        }    #T_e129c300_a3c4_11ea_8c65_02420a39644drow12_col0 {\n",
       "            background-color:  #fff5f0;\n",
       "            color:  #000000;\n",
       "        }    #T_e129c300_a3c4_11ea_8c65_02420a39644drow12_col1 {\n",
       "            background-color:  #fff5f0;\n",
       "            color:  #000000;\n",
       "        }    #T_e129c300_a3c4_11ea_8c65_02420a39644drow13_col0 {\n",
       "            background-color:  #fff5f0;\n",
       "            color:  #000000;\n",
       "        }    #T_e129c300_a3c4_11ea_8c65_02420a39644drow13_col1 {\n",
       "            background-color:  #fff5f0;\n",
       "            color:  #000000;\n",
       "        }    #T_e129c300_a3c4_11ea_8c65_02420a39644drow14_col0 {\n",
       "            background-color:  #fff5f0;\n",
       "            color:  #000000;\n",
       "        }    #T_e129c300_a3c4_11ea_8c65_02420a39644drow14_col1 {\n",
       "            background-color:  #fff5f0;\n",
       "            color:  #000000;\n",
       "        }    #T_e129c300_a3c4_11ea_8c65_02420a39644drow15_col0 {\n",
       "            background-color:  #fff5f0;\n",
       "            color:  #000000;\n",
       "        }    #T_e129c300_a3c4_11ea_8c65_02420a39644drow15_col1 {\n",
       "            background-color:  #fff5f0;\n",
       "            color:  #000000;\n",
       "        }</style><table id=\"T_e129c300_a3c4_11ea_8c65_02420a39644d\" ><thead>    <tr>        <th class=\"blank level0\" ></th>        <th class=\"col_heading level0 col0\" >Total</th>        <th class=\"col_heading level0 col1\" >Percent</th>    </tr></thead><tbody>\n",
       "                <tr>\n",
       "                        <th id=\"T_e129c300_a3c4_11ea_8c65_02420a39644dlevel0_row0\" class=\"row_heading level0 row0\" >NotRepaired</th>\n",
       "                        <td id=\"T_e129c300_a3c4_11ea_8c65_02420a39644drow0_col0\" class=\"data row0 col0\" >71154</td>\n",
       "                        <td id=\"T_e129c300_a3c4_11ea_8c65_02420a39644drow0_col1\" class=\"data row0 col1\" >20.08</td>\n",
       "            </tr>\n",
       "            <tr>\n",
       "                        <th id=\"T_e129c300_a3c4_11ea_8c65_02420a39644dlevel0_row1\" class=\"row_heading level0 row1\" >VehicleType</th>\n",
       "                        <td id=\"T_e129c300_a3c4_11ea_8c65_02420a39644drow1_col0\" class=\"data row1 col0\" >37490</td>\n",
       "                        <td id=\"T_e129c300_a3c4_11ea_8c65_02420a39644drow1_col1\" class=\"data row1 col1\" >10.58</td>\n",
       "            </tr>\n",
       "            <tr>\n",
       "                        <th id=\"T_e129c300_a3c4_11ea_8c65_02420a39644dlevel0_row2\" class=\"row_heading level0 row2\" >FuelType</th>\n",
       "                        <td id=\"T_e129c300_a3c4_11ea_8c65_02420a39644drow2_col0\" class=\"data row2 col0\" >32895</td>\n",
       "                        <td id=\"T_e129c300_a3c4_11ea_8c65_02420a39644drow2_col1\" class=\"data row2 col1\" >9.28</td>\n",
       "            </tr>\n",
       "            <tr>\n",
       "                        <th id=\"T_e129c300_a3c4_11ea_8c65_02420a39644dlevel0_row3\" class=\"row_heading level0 row3\" >Gearbox</th>\n",
       "                        <td id=\"T_e129c300_a3c4_11ea_8c65_02420a39644drow3_col0\" class=\"data row3 col0\" >19833</td>\n",
       "                        <td id=\"T_e129c300_a3c4_11ea_8c65_02420a39644drow3_col1\" class=\"data row3 col1\" >5.6</td>\n",
       "            </tr>\n",
       "            <tr>\n",
       "                        <th id=\"T_e129c300_a3c4_11ea_8c65_02420a39644dlevel0_row4\" class=\"row_heading level0 row4\" >Model</th>\n",
       "                        <td id=\"T_e129c300_a3c4_11ea_8c65_02420a39644drow4_col0\" class=\"data row4 col0\" >19705</td>\n",
       "                        <td id=\"T_e129c300_a3c4_11ea_8c65_02420a39644drow4_col1\" class=\"data row4 col1\" >5.56</td>\n",
       "            </tr>\n",
       "            <tr>\n",
       "                        <th id=\"T_e129c300_a3c4_11ea_8c65_02420a39644dlevel0_row5\" class=\"row_heading level0 row5\" >LastSeen</th>\n",
       "                        <td id=\"T_e129c300_a3c4_11ea_8c65_02420a39644drow5_col0\" class=\"data row5 col0\" >0</td>\n",
       "                        <td id=\"T_e129c300_a3c4_11ea_8c65_02420a39644drow5_col1\" class=\"data row5 col1\" >0</td>\n",
       "            </tr>\n",
       "            <tr>\n",
       "                        <th id=\"T_e129c300_a3c4_11ea_8c65_02420a39644dlevel0_row6\" class=\"row_heading level0 row6\" >PostalCode</th>\n",
       "                        <td id=\"T_e129c300_a3c4_11ea_8c65_02420a39644drow6_col0\" class=\"data row6 col0\" >0</td>\n",
       "                        <td id=\"T_e129c300_a3c4_11ea_8c65_02420a39644drow6_col1\" class=\"data row6 col1\" >0</td>\n",
       "            </tr>\n",
       "            <tr>\n",
       "                        <th id=\"T_e129c300_a3c4_11ea_8c65_02420a39644dlevel0_row7\" class=\"row_heading level0 row7\" >NumberOfPictures</th>\n",
       "                        <td id=\"T_e129c300_a3c4_11ea_8c65_02420a39644drow7_col0\" class=\"data row7 col0\" >0</td>\n",
       "                        <td id=\"T_e129c300_a3c4_11ea_8c65_02420a39644drow7_col1\" class=\"data row7 col1\" >0</td>\n",
       "            </tr>\n",
       "            <tr>\n",
       "                        <th id=\"T_e129c300_a3c4_11ea_8c65_02420a39644dlevel0_row8\" class=\"row_heading level0 row8\" >DateCreated</th>\n",
       "                        <td id=\"T_e129c300_a3c4_11ea_8c65_02420a39644drow8_col0\" class=\"data row8 col0\" >0</td>\n",
       "                        <td id=\"T_e129c300_a3c4_11ea_8c65_02420a39644drow8_col1\" class=\"data row8 col1\" >0</td>\n",
       "            </tr>\n",
       "            <tr>\n",
       "                        <th id=\"T_e129c300_a3c4_11ea_8c65_02420a39644dlevel0_row9\" class=\"row_heading level0 row9\" >Brand</th>\n",
       "                        <td id=\"T_e129c300_a3c4_11ea_8c65_02420a39644drow9_col0\" class=\"data row9 col0\" >0</td>\n",
       "                        <td id=\"T_e129c300_a3c4_11ea_8c65_02420a39644drow9_col1\" class=\"data row9 col1\" >0</td>\n",
       "            </tr>\n",
       "            <tr>\n",
       "                        <th id=\"T_e129c300_a3c4_11ea_8c65_02420a39644dlevel0_row10\" class=\"row_heading level0 row10\" >RegistrationMonth</th>\n",
       "                        <td id=\"T_e129c300_a3c4_11ea_8c65_02420a39644drow10_col0\" class=\"data row10 col0\" >0</td>\n",
       "                        <td id=\"T_e129c300_a3c4_11ea_8c65_02420a39644drow10_col1\" class=\"data row10 col1\" >0</td>\n",
       "            </tr>\n",
       "            <tr>\n",
       "                        <th id=\"T_e129c300_a3c4_11ea_8c65_02420a39644dlevel0_row11\" class=\"row_heading level0 row11\" >Kilometer</th>\n",
       "                        <td id=\"T_e129c300_a3c4_11ea_8c65_02420a39644drow11_col0\" class=\"data row11 col0\" >0</td>\n",
       "                        <td id=\"T_e129c300_a3c4_11ea_8c65_02420a39644drow11_col1\" class=\"data row11 col1\" >0</td>\n",
       "            </tr>\n",
       "            <tr>\n",
       "                        <th id=\"T_e129c300_a3c4_11ea_8c65_02420a39644dlevel0_row12\" class=\"row_heading level0 row12\" >Power</th>\n",
       "                        <td id=\"T_e129c300_a3c4_11ea_8c65_02420a39644drow12_col0\" class=\"data row12 col0\" >0</td>\n",
       "                        <td id=\"T_e129c300_a3c4_11ea_8c65_02420a39644drow12_col1\" class=\"data row12 col1\" >0</td>\n",
       "            </tr>\n",
       "            <tr>\n",
       "                        <th id=\"T_e129c300_a3c4_11ea_8c65_02420a39644dlevel0_row13\" class=\"row_heading level0 row13\" >RegistrationYear</th>\n",
       "                        <td id=\"T_e129c300_a3c4_11ea_8c65_02420a39644drow13_col0\" class=\"data row13 col0\" >0</td>\n",
       "                        <td id=\"T_e129c300_a3c4_11ea_8c65_02420a39644drow13_col1\" class=\"data row13 col1\" >0</td>\n",
       "            </tr>\n",
       "            <tr>\n",
       "                        <th id=\"T_e129c300_a3c4_11ea_8c65_02420a39644dlevel0_row14\" class=\"row_heading level0 row14\" >Price</th>\n",
       "                        <td id=\"T_e129c300_a3c4_11ea_8c65_02420a39644drow14_col0\" class=\"data row14 col0\" >0</td>\n",
       "                        <td id=\"T_e129c300_a3c4_11ea_8c65_02420a39644drow14_col1\" class=\"data row14 col1\" >0</td>\n",
       "            </tr>\n",
       "            <tr>\n",
       "                        <th id=\"T_e129c300_a3c4_11ea_8c65_02420a39644dlevel0_row15\" class=\"row_heading level0 row15\" >DateCrawled</th>\n",
       "                        <td id=\"T_e129c300_a3c4_11ea_8c65_02420a39644drow15_col0\" class=\"data row15 col0\" >0</td>\n",
       "                        <td id=\"T_e129c300_a3c4_11ea_8c65_02420a39644drow15_col1\" class=\"data row15 col1\" >0</td>\n",
       "            </tr>\n",
       "    </tbody></table>"
      ],
      "text/plain": [
       "<pandas.io.formats.style.Styler at 0x7faec518a890>"
      ]
     },
     "execution_count": 8,
     "metadata": {},
     "output_type": "execute_result"
    }
   ],
   "source": [
    "total = cars.isnull().sum().sort_values(ascending = False)\n",
    "percent = round(cars.isnull().sum().sort_values(ascending = False)/len(cars)*100,2)\n",
    "\n",
    "pd.concat([total, percent], axis=1, keys=['Total','Percent']).style.background_gradient(cmap='Reds')"
   ]
  },
  {
   "cell_type": "markdown",
   "metadata": {},
   "source": [
    "Была ли машина в ремонте? 20% респондентов не смогли ответить на данный вопрос!   \n",
    "Предлагаю заполнить эти пропуски значением 'No', предположу, что данные машины не подвергались ремонту и владельцы просто оставили эту строку пустой в анкете (но лучше сказать об этом тимлиду или посоветоваться с коллегами)  \n",
    "Тип автомобиля попробуем заполнить по марке и модели. Модель - по марке.  \n",
    "Тип коробки - по году выпуска.  \n",
    "Тип топлива - возможно, по модели.   \n",
    "\n",
    "Посмотрим на года регистрации.  \n",
    "Посчитаем, какой процент годов регистрации выходит за рамки здравого смысла (~1900-2019 годы)."
   ]
  },
  {
   "cell_type": "code",
   "execution_count": 9,
   "metadata": {},
   "outputs": [],
   "source": [
    "norm_period = (\n",
    "    cars.query(\n",
    "    'RegistrationYear > 1900 and RegistrationYear < 2020')['RegistrationYear']\n",
    "    .sort_values()\n",
    "    )  "
   ]
  },
  {
   "cell_type": "code",
   "execution_count": 10,
   "metadata": {},
   "outputs": [
    {
     "name": "stdout",
     "output_type": "stream",
     "text": [
      "Процент \"ненормальных\" лет регистрации =  0.048\n"
     ]
    }
   ],
   "source": [
    "outliers = np.round(100 - (len(norm_period) * 100 / len(cars)), 3)\n",
    "\n",
    "print('Процент \"ненормальных\" лет регистрации = ', outliers)"
   ]
  },
  {
   "cell_type": "markdown",
   "metadata": {},
   "source": [
    "Меньше 5 сотых процента об общего числа автомобилей имеют неправильно указанный год регистрации, можем спокойно выбросить данные наблюдения."
   ]
  },
  {
   "cell_type": "code",
   "execution_count": 11,
   "metadata": {},
   "outputs": [],
   "source": [
    "cars = cars.query('RegistrationYear > 1900 and RegistrationYear < 2020')"
   ]
  },
  {
   "cell_type": "markdown",
   "metadata": {},
   "source": [
    "---\n",
    "\n",
    "#### Важный момент!  \n",
    "\n",
    "Необходимо сообщить о данных выбросах разработчикам сайта - чтобы пофиксили возможноть ввести год, не укладывающийся в \"нормальные\" сроки (например, с 1910 по настоящее время). Иначе получим выбросы и некорректную работу моделей.\n",
    "\n",
    "Так же мы имеем примерно 3% записей с нулевой ценой. Предполагаю обратиться к тимлиду и разработчикам - ошибка ли это или нормальные данные. В текущем проекте удалять эти данные не буду.  \n",
    "\n",
    "---"
   ]
  },
  {
   "cell_type": "markdown",
   "metadata": {},
   "source": [
    "Вернемся к распределению прибыли."
   ]
  },
  {
   "cell_type": "code",
   "execution_count": 12,
   "metadata": {},
   "outputs": [
    {
     "data": {
      "image/png": "[encoded data removed]",
      "text/plain": [
       "<Figure size 864x432 with 1 Axes>"
      ]
     },
     "metadata": {},
     "output_type": "display_data"
    }
   ],
   "source": [
    "sns.set_style('whitegrid')\n",
    "\n",
    "plt.figure(figsize=(12,6))\n",
    "sns.distplot(cars['Price'], kde=False, color='black')\n",
    "\n",
    "plt.xlabel('Цена автомобиля, EUR', size=12)\n",
    "plt.title('Распределение цен автомобилей в выборке', size=15);"
   ]
  },
  {
   "cell_type": "markdown",
   "metadata": {},
   "source": [
    "Как видим, бОльшая часть автомобилей находися в ценовой категории до 2 тысяч Евро. Максимальная цена, как уже отмечалось выше - 20000 Евро.  \n",
    "\n",
    "Как отличается средняя цена за автомобиль в зависимости от года выпуска?"
   ]
  },
  {
   "cell_type": "code",
   "execution_count": 13,
   "metadata": {},
   "outputs": [],
   "source": [
    "price_mean = (\n",
    "    cars[['RegistrationYear', 'Price']]\n",
    "    .groupby('RegistrationYear', as_index=False).mean()\n",
    "    .astype('int')\n",
    ")"
   ]
  },
  {
   "cell_type": "code",
   "execution_count": 14,
   "metadata": {},
   "outputs": [
    {
     "data": {
      "image/png": "[encoded data removed]",
      "text/plain": [
       "<Figure size 864x432 with 1 Axes>"
      ]
     },
     "metadata": {},
     "output_type": "display_data"
    }
   ],
   "source": [
    "plt.figure(figsize=(12,6))\n",
    "sns.lineplot(x='RegistrationYear', y='Price', data=price_mean, color='dimgray')\n",
    "plt.xlabel('Год регистрации автомобиля', size=12)\n",
    "plt.ylabel('Средняя цена, EUR', size=12)\n",
    "plt.title('Изменение средней цены на автомобиль в зависимости от года регистрации', size=15, y=1.02);"
   ]
  },
  {
   "cell_type": "markdown",
   "metadata": {},
   "source": [
    "Интересный тренд, что начиная с 60х годов средняя цена на автомобили постепенно падает до значений ~1,5 тыс Евро, после чего резко поднимается и так же молниеносно падает после 2015 года. Возможно, это связано с кризисом 16го и с тем, что люди перестали покупать и продавать дорогие машины.  \n",
    "\n",
    "Высокие скачки средней цены в период с 1920 по 1950 года можно отчасти объяснить тем, что в выборке присутствует небольшой процент различных автомобилей того времени.  \n",
    "\n",
    "\n",
    "Различается ли цена автомобилей по месяцам или годам выставление объявления на сайт? \n",
    "Первым делом выделям месяц и год создания анкеты и отделяем необходимые значение в отдельные столбцы.  "
   ]
  },
  {
   "cell_type": "code",
   "execution_count": 15,
   "metadata": {},
   "outputs": [],
   "source": [
    "cars['DateCreated'] = pd.to_datetime(cars['DateCreated'], format='%Y-%m-%dT%H:%M:%S')\n",
    "cars['MonthCreated'] = cars['DateCreated'].dt.weekday  "
   ]
  },
  {
   "cell_type": "code",
   "execution_count": 16,
   "metadata": {},
   "outputs": [],
   "source": [
    "cars['YearCreated'] = cars['DateCreated'].dt.year  "
   ]
  },
  {
   "cell_type": "code",
   "execution_count": 17,
   "metadata": {},
   "outputs": [
    {
     "data": {
      "text/plain": [
       "0    63258\n",
       "5    57003\n",
       "1    51381\n",
       "6    48821\n",
       "2    47255\n",
       "3    45530\n",
       "4    40950\n",
       "Name: MonthCreated, dtype: int64"
      ]
     },
     "execution_count": 17,
     "metadata": {},
     "output_type": "execute_result"
    }
   ],
   "source": [
    "cars['MonthCreated'].value_counts()"
   ]
  },
  {
   "cell_type": "markdown",
   "metadata": {},
   "source": [
    "Интересно, подписчики сервиса продают автомобили только семь месяцев в году? Необходимо обратить на это внимание тимлида и отдела разработки."
   ]
  },
  {
   "cell_type": "code",
   "execution_count": 18,
   "metadata": {},
   "outputs": [
    {
     "data": {
      "text/plain": [
       "MonthCreated\n",
       "0    2700\n",
       "1    2500\n",
       "2    2600\n",
       "3    2650\n",
       "4    2750\n",
       "Name: Price, dtype: int64"
      ]
     },
     "execution_count": 18,
     "metadata": {},
     "output_type": "execute_result"
    }
   ],
   "source": [
    "temp = cars.groupby('MonthCreated')['Price'].median()\n",
    "temp.head()"
   ]
  },
  {
   "cell_type": "code",
   "execution_count": 19,
   "metadata": {},
   "outputs": [
    {
     "data": {
      "image/png": "[encoded data removed]",
      "text/plain": [
       "<Figure size 576x432 with 1 Axes>"
      ]
     },
     "metadata": {},
     "output_type": "display_data"
    }
   ],
   "source": [
    "plt.figure(figsize=(8,6))\n",
    "sns.lineplot(data=temp, color='gray')\n",
    "plt.ylim(0,3000)\n",
    "plt.xticks(np.arange(7), calendar.month_name[1:8])\n",
    "plt.ylabel('Цена, EUR')\n",
    "plt.title('Динамика изменения медианной цены на автомобили по месяцам загрузки на сайт', size=15, y=(1.03));"
   ]
  },
  {
   "cell_type": "markdown",
   "metadata": {},
   "source": [
    "В феврале машины подешевле, к июлю дорожают максимально.  \n",
    "Возможно, всем хочется поехать на дачу / природу и многие люди начинают покупать себе железных коней.  \n",
    "\n",
    "А что по годам?"
   ]
  },
  {
   "cell_type": "code",
   "execution_count": 20,
   "metadata": {},
   "outputs": [
    {
     "data": {
      "text/html": [
       "<div>\n",
       "<style scoped>\n",
       "    .dataframe tbody tr th:only-of-type {\n",
       "        vertical-align: middle;\n",
       "    }\n",
       "\n",
       "    .dataframe tbody tr th {\n",
       "        vertical-align: top;\n",
       "    }\n",
       "\n",
       "    .dataframe thead th {\n",
       "        text-align: right;\n",
       "    }\n",
       "</style>\n",
       "<table border=\"1\" class=\"dataframe\">\n",
       "  <thead>\n",
       "    <tr style=\"text-align: right;\">\n",
       "      <th></th>\n",
       "      <th>YearCreated</th>\n",
       "      <th>median</th>\n",
       "      <th>count</th>\n",
       "    </tr>\n",
       "  </thead>\n",
       "  <tbody>\n",
       "    <tr>\n",
       "      <td>0</td>\n",
       "      <td>2014</td>\n",
       "      <td>8999</td>\n",
       "      <td>1</td>\n",
       "    </tr>\n",
       "    <tr>\n",
       "      <td>1</td>\n",
       "      <td>2015</td>\n",
       "      <td>6000</td>\n",
       "      <td>25</td>\n",
       "    </tr>\n",
       "    <tr>\n",
       "      <td>2</td>\n",
       "      <td>2016</td>\n",
       "      <td>2700</td>\n",
       "      <td>354172</td>\n",
       "    </tr>\n",
       "  </tbody>\n",
       "</table>\n",
       "</div>"
      ],
      "text/plain": [
       "   YearCreated  median   count\n",
       "0         2014    8999       1\n",
       "1         2015    6000      25\n",
       "2         2016    2700  354172"
      ]
     },
     "execution_count": 20,
     "metadata": {},
     "output_type": "execute_result"
    }
   ],
   "source": [
    "temp = cars.groupby('YearCreated')['Price'].agg(['median', 'count']).reset_index()\n",
    "temp.head()"
   ]
  },
  {
   "cell_type": "code",
   "execution_count": 21,
   "metadata": {},
   "outputs": [
    {
     "data": {
      "text/html": [
       "<div>\n",
       "<style scoped>\n",
       "    .dataframe tbody tr th:only-of-type {\n",
       "        vertical-align: middle;\n",
       "    }\n",
       "\n",
       "    .dataframe tbody tr th {\n",
       "        vertical-align: top;\n",
       "    }\n",
       "\n",
       "    .dataframe thead th {\n",
       "        text-align: right;\n",
       "    }\n",
       "</style>\n",
       "<table border=\"1\" class=\"dataframe\">\n",
       "  <thead>\n",
       "    <tr style=\"text-align: right;\">\n",
       "      <th></th>\n",
       "      <th>DateCrawled</th>\n",
       "      <th>Price</th>\n",
       "      <th>VehicleType</th>\n",
       "      <th>RegistrationYear</th>\n",
       "      <th>Gearbox</th>\n",
       "      <th>Power</th>\n",
       "      <th>Model</th>\n",
       "      <th>Kilometer</th>\n",
       "      <th>RegistrationMonth</th>\n",
       "      <th>FuelType</th>\n",
       "      <th>Brand</th>\n",
       "      <th>NotRepaired</th>\n",
       "      <th>DateCreated</th>\n",
       "      <th>NumberOfPictures</th>\n",
       "      <th>PostalCode</th>\n",
       "      <th>LastSeen</th>\n",
       "      <th>MonthCreated</th>\n",
       "      <th>YearCreated</th>\n",
       "    </tr>\n",
       "  </thead>\n",
       "  <tbody>\n",
       "    <tr>\n",
       "      <td>22</td>\n",
       "      <td>2016-03-23 14:52:51</td>\n",
       "      <td>2900</td>\n",
       "      <td>NaN</td>\n",
       "      <td>2018</td>\n",
       "      <td>manual</td>\n",
       "      <td>90</td>\n",
       "      <td>meriva</td>\n",
       "      <td>150000</td>\n",
       "      <td>5</td>\n",
       "      <td>petrol</td>\n",
       "      <td>opel</td>\n",
       "      <td>no</td>\n",
       "      <td>2016-03-23</td>\n",
       "      <td>0</td>\n",
       "      <td>49716</td>\n",
       "      <td>2016-03-31 01:16:33</td>\n",
       "      <td>2</td>\n",
       "      <td>2016</td>\n",
       "    </tr>\n",
       "    <tr>\n",
       "      <td>26</td>\n",
       "      <td>2016-03-10 19:38:18</td>\n",
       "      <td>5555</td>\n",
       "      <td>NaN</td>\n",
       "      <td>2017</td>\n",
       "      <td>manual</td>\n",
       "      <td>125</td>\n",
       "      <td>c4</td>\n",
       "      <td>125000</td>\n",
       "      <td>4</td>\n",
       "      <td>NaN</td>\n",
       "      <td>citroen</td>\n",
       "      <td>no</td>\n",
       "      <td>2016-03-10</td>\n",
       "      <td>0</td>\n",
       "      <td>31139</td>\n",
       "      <td>2016-03-16 09:16:46</td>\n",
       "      <td>3</td>\n",
       "      <td>2016</td>\n",
       "    </tr>\n",
       "    <tr>\n",
       "      <td>48</td>\n",
       "      <td>2016-03-25 14:40:12</td>\n",
       "      <td>7750</td>\n",
       "      <td>NaN</td>\n",
       "      <td>2017</td>\n",
       "      <td>manual</td>\n",
       "      <td>80</td>\n",
       "      <td>golf</td>\n",
       "      <td>100000</td>\n",
       "      <td>1</td>\n",
       "      <td>petrol</td>\n",
       "      <td>volkswagen</td>\n",
       "      <td>NaN</td>\n",
       "      <td>2016-03-25</td>\n",
       "      <td>0</td>\n",
       "      <td>48499</td>\n",
       "      <td>2016-03-31 21:47:44</td>\n",
       "      <td>4</td>\n",
       "      <td>2016</td>\n",
       "    </tr>\n",
       "    <tr>\n",
       "      <td>51</td>\n",
       "      <td>2016-03-07 18:57:08</td>\n",
       "      <td>2000</td>\n",
       "      <td>NaN</td>\n",
       "      <td>2017</td>\n",
       "      <td>manual</td>\n",
       "      <td>90</td>\n",
       "      <td>punto</td>\n",
       "      <td>150000</td>\n",
       "      <td>11</td>\n",
       "      <td>gasoline</td>\n",
       "      <td>fiat</td>\n",
       "      <td>yes</td>\n",
       "      <td>2016-03-07</td>\n",
       "      <td>0</td>\n",
       "      <td>66115</td>\n",
       "      <td>2016-03-07 18:57:08</td>\n",
       "      <td>0</td>\n",
       "      <td>2016</td>\n",
       "    </tr>\n",
       "    <tr>\n",
       "      <td>57</td>\n",
       "      <td>2016-03-10 20:53:19</td>\n",
       "      <td>2399</td>\n",
       "      <td>NaN</td>\n",
       "      <td>2018</td>\n",
       "      <td>manual</td>\n",
       "      <td>64</td>\n",
       "      <td>other</td>\n",
       "      <td>125000</td>\n",
       "      <td>3</td>\n",
       "      <td>NaN</td>\n",
       "      <td>seat</td>\n",
       "      <td>no</td>\n",
       "      <td>2016-03-10</td>\n",
       "      <td>0</td>\n",
       "      <td>33397</td>\n",
       "      <td>2016-03-25 10:17:37</td>\n",
       "      <td>3</td>\n",
       "      <td>2016</td>\n",
       "    </tr>\n",
       "  </tbody>\n",
       "</table>\n",
       "</div>"
      ],
      "text/plain": [
       "            DateCrawled  Price VehicleType  RegistrationYear Gearbox  Power  \\\n",
       "22  2016-03-23 14:52:51   2900         NaN              2018  manual     90   \n",
       "26  2016-03-10 19:38:18   5555         NaN              2017  manual    125   \n",
       "48  2016-03-25 14:40:12   7750         NaN              2017  manual     80   \n",
       "51  2016-03-07 18:57:08   2000         NaN              2017  manual     90   \n",
       "57  2016-03-10 20:53:19   2399         NaN              2018  manual     64   \n",
       "\n",
       "     Model  Kilometer  RegistrationMonth  FuelType       Brand NotRepaired  \\\n",
       "22  meriva     150000                  5    petrol        opel          no   \n",
       "26      c4     125000                  4       NaN     citroen          no   \n",
       "48    golf     100000                  1    petrol  volkswagen         NaN   \n",
       "51   punto     150000                 11  gasoline        fiat         yes   \n",
       "57   other     125000                  3       NaN        seat          no   \n",
       "\n",
       "   DateCreated  NumberOfPictures  PostalCode             LastSeen  \\\n",
       "22  2016-03-23                 0       49716  2016-03-31 01:16:33   \n",
       "26  2016-03-10                 0       31139  2016-03-16 09:16:46   \n",
       "48  2016-03-25                 0       48499  2016-03-31 21:47:44   \n",
       "51  2016-03-07                 0       66115  2016-03-07 18:57:08   \n",
       "57  2016-03-10                 0       33397  2016-03-25 10:17:37   \n",
       "\n",
       "    MonthCreated  YearCreated  \n",
       "22             2         2016  \n",
       "26             3         2016  \n",
       "48             4         2016  \n",
       "51             0         2016  \n",
       "57             3         2016  "
      ]
     },
     "execution_count": 21,
     "metadata": {},
     "output_type": "execute_result"
    }
   ],
   "source": [
    "cars.query('YearCreated == 2016 and RegistrationYear >=2017').head()"
   ]
  },
  {
   "cell_type": "markdown",
   "metadata": {},
   "source": [
    "**Так!**  \n",
    "Почему у нас машина выставлена на продажу в 16 году, а поставлена на регистрацию в 18? Это вообше законно?  \n",
    "\n",
    "И при этом юзер заходил последний раз в 2016 году? Тимлид, алло, алло, у нас проблемы!)  \n",
    "\n",
    "И главная особенность - в 2014 году выставлена на продажу всего одна машина, в 2015 - 25 машин, в 2016 - 99,9% всей выборки. Ладно, оставим это на совести разработчиков сайта.  \n",
    "\n",
    "---\n",
    "\n",
    "Возвращаемся к предобработке."
   ]
  },
  {
   "cell_type": "markdown",
   "metadata": {},
   "source": [
    "### Заполнение пропусков  \n",
    "\n",
    "##### Был ли автомобиль в ремонте\n",
    "\n",
    "Как указывалось выше, предлагаю все пропущенные значения здесь заполнить строкой 'No'.  \n",
    "Хотя можно предположить, что автомобили без указанного ремонта - очень старые автомобили, тогда можно, в принципе, задуматься о значениях 'yes' в данном столбце.  \n",
    "\n",
    "Проверим гипотезу о том, что \"не бита и не крашена\" - это все старинные автомобили."
   ]
  },
  {
   "cell_type": "code",
   "execution_count": 22,
   "metadata": {},
   "outputs": [
    {
     "name": "stdout",
     "output_type": "stream",
     "text": [
      "2000    7286\n",
      "1999    4849\n",
      "2017    4594\n",
      "2005    4452\n",
      "2016    4426\n",
      "1998    4074\n",
      "2001    3616\n",
      "1997    3571\n",
      "1995    3328\n",
      "2002    3160\n",
      "Name: RegistrationYear, dtype: int64\n",
      "\n",
      "\"Новые\" автомобили без указания ремонта, составляют 61.06% от общего количества\n"
     ]
    }
   ],
   "source": [
    "not_rep = cars.loc[cars['NotRepaired'].isna()]['RegistrationYear'].value_counts()\n",
    "not_rep_perc = not_rep.head(10).sum() / cars.loc[cars['NotRepaired'].isna(), 'Price'].count()\n",
    "\n",
    "print(not_rep.head(10))\n",
    "print()\n",
    "print('\"Новые\" автомобили без указания ремонта, составляют {:.2%} от общего количества'.format((not_rep_perc)))"
   ]
  },
  {
   "cell_type": "markdown",
   "metadata": {},
   "source": [
    "Гипотеза не подтверждена - большинство автомобилей относительно новые.  \n",
    "Заменяем пропуски значениями 'no'"
   ]
  },
  {
   "cell_type": "code",
   "execution_count": 23,
   "metadata": {},
   "outputs": [],
   "source": [
    "cars['NotRepaired'] = cars['NotRepaired'].fillna(value='no')"
   ]
  },
  {
   "cell_type": "markdown",
   "metadata": {},
   "source": [
    "##### Коробка передач"
   ]
  },
  {
   "cell_type": "code",
   "execution_count": 24,
   "metadata": {},
   "outputs": [
    {
     "data": {
      "image/png": "[encoded data removed]",
      "text/plain": [
       "<Figure size 432x288 with 1 Axes>"
      ]
     },
     "metadata": {},
     "output_type": "display_data"
    }
   ],
   "source": [
    "plt.figure()\n",
    "cars['Gearbox'].value_counts().plot(kind='bar', color='grey')\n",
    "plt.xticks(rotation=0)\n",
    "plt.title('Распределение коробок передач');"
   ]
  },
  {
   "cell_type": "markdown",
   "metadata": {},
   "source": [
    "\"Ручных\" коробок ~ в 4 раза больше, чем автоматических. При этом, как было отмечено выше, пропущенных значений ~5.5% от общего числа.  \n",
    "\n",
    "Посмотрим на зависимость типа коробки от года выпуска"
   ]
  },
  {
   "cell_type": "code",
   "execution_count": 25,
   "metadata": {},
   "outputs": [],
   "source": [
    "gb_dict = dict(manual=0, auto=1)"
   ]
  },
  {
   "cell_type": "code",
   "execution_count": 26,
   "metadata": {},
   "outputs": [],
   "source": [
    "temp = cars[['Gearbox','RegistrationYear', 'Price']]\n",
    "\n",
    "temp['Gearbox'] = temp['Gearbox'].replace(gb_dict)"
   ]
  },
  {
   "cell_type": "code",
   "execution_count": 28,
   "metadata": {},
   "outputs": [
    {
     "data": {
      "image/png": "[encoded data removed]",
      "text/plain": [
       "<Figure size 1008x432 with 1 Axes>"
      ]
     },
     "metadata": {},
     "output_type": "display_data"
    }
   ],
   "source": [
    "plt.figure(figsize=(14,6))\n",
    "\n",
    "sns.distplot(temp.loc[temp['Gearbox']==0, 'RegistrationYear'], hist=False, \n",
    "             color='green', kde_kws={\"lw\": 2, \"label\": \"Ручная коробка\"})\n",
    "\n",
    "sns.distplot(temp.loc[temp['Gearbox']==1, 'RegistrationYear'], hist=False, \n",
    "             color='gray', kde_kws={\"lw\": 2, \"label\": \"Коробка автомат\"})\n",
    "\n",
    "plt.xlabel('Год регистрации', size=12)\n",
    "plt.title('Распределение автоматических и ручных коробок по годам выпуска', size=15, y=(1.02));"
   ]
  },
  {
   "cell_type": "markdown",
   "metadata": {},
   "source": [
    "Как видно, бОльшая часть \"ручных\" коробок пришлась на конех 90х годов, тогда, как пик \"автоматов\" наблюдается ближе к концу \"нулевых\". Интересный тренд, в 2010х стали вновь выпускать много машин с ручной коробкой.\n",
    "\n",
    "---"
   ]
  },
  {
   "cell_type": "markdown",
   "metadata": {},
   "source": [
    "С очень высокой вероятно можно предположить, что автомобили до 1945 комплектовались ручной коробкой"
   ]
  },
  {
   "cell_type": "code",
   "execution_count": 29,
   "metadata": {},
   "outputs": [],
   "source": [
    "cars.ix[temp['RegistrationYear'] <= 1945, 'Gearbox'] =(\n",
    "    cars.ix[temp['RegistrationYear'] <= 1945, 'Gearbox'].fillna('manual'))\n"
   ]
  },
  {
   "cell_type": "code",
   "execution_count": 30,
   "metadata": {},
   "outputs": [
    {
     "data": {
      "text/plain": [
       "15        manual\n",
       "1928      manual\n",
       "2273      manual\n",
       "6629      manual\n",
       "6977      manual\n",
       "           ...  \n",
       "338109    manual\n",
       "343083    manual\n",
       "346046    manual\n",
       "353531    manual\n",
       "353961    manual\n",
       "Name: Gearbox, Length: 173, dtype: object"
      ]
     },
     "execution_count": 30,
     "metadata": {},
     "output_type": "execute_result"
    }
   ],
   "source": [
    "cars.loc[cars['RegistrationYear'] <= 1945]['Gearbox']"
   ]
  },
  {
   "cell_type": "markdown",
   "metadata": {},
   "source": [
    "Возможно, более дорогие машины компановались автоматическими коробками."
   ]
  },
  {
   "cell_type": "code",
   "execution_count": 31,
   "metadata": {},
   "outputs": [
    {
     "data": {
      "text/plain": [
       "0.2536015276533009"
      ]
     },
     "execution_count": 31,
     "metadata": {},
     "output_type": "execute_result"
    }
   ],
   "source": [
    "temp_1 = temp.loc[temp['RegistrationYear'] > 1990]\n",
    "temp_1['Price'].corr(temp_1['Gearbox'])"
   ]
  },
  {
   "cell_type": "code",
   "execution_count": 32,
   "metadata": {},
   "outputs": [
    {
     "data": {
      "text/plain": [
       "0.2617879083634774"
      ]
     },
     "execution_count": 32,
     "metadata": {},
     "output_type": "execute_result"
    }
   ],
   "source": [
    "temp_2 = temp.loc[temp['RegistrationYear'] > 2000]\n",
    "temp_2['Price'].corr(temp_1['Gearbox'])"
   ]
  },
  {
   "cell_type": "markdown",
   "metadata": {},
   "source": [
    "Увы, данные корреляции очень слабые.  \n",
    "Пока есть два варианта развития событий:  \n",
    "1. Заполняем все пропуски 'manual' коробкой;\n",
    "2. Заполняем пропуски новым типом 'unsorted'.  \n",
    "\n",
    "Затем смотрим, какие данные позволяют построить более качественную модель.  \n",
    "\n",
    "Хотя есть ее предположение, что тип коропки несильно влияет на цену, и, возможно, его можно будет вообще не учитывать при построении моделей.  "
   ]
  },
  {
   "cell_type": "code",
   "execution_count": 33,
   "metadata": {},
   "outputs": [],
   "source": [
    "cars['GearboxUnsorted'] = cars['Gearbox'].fillna(value='unsorted')\n",
    "cars['Gearbox'] = cars['Gearbox'].fillna('manual')"
   ]
  },
  {
   "cell_type": "markdown",
   "metadata": {},
   "source": [
    "##### Модель автомобиля  \n",
    "\n",
    "Посмотрим на количество незаполненных значений данной категории."
   ]
  },
  {
   "cell_type": "code",
   "execution_count": 34,
   "metadata": {},
   "outputs": [
    {
     "data": {
      "text/html": [
       "<div>\n",
       "<style scoped>\n",
       "    .dataframe tbody tr th:only-of-type {\n",
       "        vertical-align: middle;\n",
       "    }\n",
       "\n",
       "    .dataframe tbody tr th {\n",
       "        vertical-align: top;\n",
       "    }\n",
       "\n",
       "    .dataframe thead th {\n",
       "        text-align: right;\n",
       "    }\n",
       "</style>\n",
       "<table border=\"1\" class=\"dataframe\">\n",
       "  <thead>\n",
       "    <tr style=\"text-align: right;\">\n",
       "      <th></th>\n",
       "      <th>Brand</th>\n",
       "      <th>Model</th>\n",
       "    </tr>\n",
       "  </thead>\n",
       "  <tbody>\n",
       "    <tr>\n",
       "      <td>13</td>\n",
       "      <td>jaguar</td>\n",
       "      <td>491</td>\n",
       "    </tr>\n",
       "    <tr>\n",
       "      <td>17</td>\n",
       "      <td>lancia</td>\n",
       "      <td>448</td>\n",
       "    </tr>\n",
       "    <tr>\n",
       "      <td>28</td>\n",
       "      <td>rover</td>\n",
       "      <td>404</td>\n",
       "    </tr>\n",
       "    <tr>\n",
       "      <td>16</td>\n",
       "      <td>lada</td>\n",
       "      <td>210</td>\n",
       "    </tr>\n",
       "    <tr>\n",
       "      <td>33</td>\n",
       "      <td>sonstige_autos</td>\n",
       "      <td>0</td>\n",
       "    </tr>\n",
       "  </tbody>\n",
       "</table>\n",
       "</div>"
      ],
      "text/plain": [
       "             Brand  Model\n",
       "13          jaguar    491\n",
       "17          lancia    448\n",
       "28           rover    404\n",
       "16            lada    210\n",
       "33  sonstige_autos      0"
      ]
     },
     "execution_count": 34,
     "metadata": {},
     "output_type": "execute_result"
    }
   ],
   "source": [
    "temp = pd.DataFrame(cars.groupby(['Brand'])['Model'].count()).reset_index()\n",
    "\n",
    "temp.sort_values(by='Model', ascending=False).tail()"
   ]
  },
  {
   "cell_type": "markdown",
   "metadata": {},
   "source": [
    "Первое, что мы видим - странная марка sontige_autos - вообще не имеет моделей.  \n",
    "Яндекс подсказал нам - что это словосочетание переводится с немецкого, как \"другой автомобиль\". Вероятно, марки такого автомобиля не было в базе сайта."
   ]
  },
  {
   "cell_type": "code",
   "execution_count": 35,
   "metadata": {},
   "outputs": [
    {
     "data": {
      "text/plain": [
       "3338"
      ]
     },
     "execution_count": 35,
     "metadata": {},
     "output_type": "execute_result"
    }
   ],
   "source": [
    "len(cars.query('Brand == \"sonstige_autos\"'))"
   ]
  },
  {
   "cell_type": "code",
   "execution_count": 36,
   "metadata": {},
   "outputs": [
    {
     "data": {
      "text/plain": [
       "24403"
      ]
     },
     "execution_count": 36,
     "metadata": {},
     "output_type": "execute_result"
    }
   ],
   "source": [
    "len(cars.loc[cars['Model']==\"other\"])"
   ]
  },
  {
   "cell_type": "markdown",
   "metadata": {},
   "source": [
    "Предлагаю модели \"других автомобилей\" заполнить значениями \"оther\", так как мы никак больше не восстановим (или я пока не знают таких методов) данные пропуски."
   ]
  },
  {
   "cell_type": "code",
   "execution_count": 37,
   "metadata": {},
   "outputs": [],
   "source": [
    "cars.loc[cars['Brand']=='sonstige_autos', 'Model'] = cars.loc[cars['Brand']=='sonstige_autos', 'Model'].fillna('other')"
   ]
  },
  {
   "cell_type": "markdown",
   "metadata": {},
   "source": [
    "---\n",
    "\n",
    "В данном случае - залью пропуски модели самыми частыми представителями по брендам."
   ]
  },
  {
   "cell_type": "code",
   "execution_count": 38,
   "metadata": {},
   "outputs": [],
   "source": [
    "mod_dict = cars.groupby(['Brand'])['Model'].apply(lambda x: x.mode()[0])\n",
    "\n",
    "cars['Model'] = cars['Model'].fillna(cars['Brand'].map(mod_dict))"
   ]
  },
  {
   "cell_type": "code",
   "execution_count": 39,
   "metadata": {},
   "outputs": [
    {
     "data": {
      "text/plain": [
       "0"
      ]
     },
     "execution_count": 39,
     "metadata": {},
     "output_type": "execute_result"
    }
   ],
   "source": [
    "cars['Model'].isna().sum()"
   ]
  },
  {
   "cell_type": "markdown",
   "metadata": {},
   "source": [
    "##### Тип кузова  \n",
    "\n",
    "Вполне вероятно, что тип кузова автомобиля не влияет на цену. Однако, все равно заполним пропущенные значения."
   ]
  },
  {
   "cell_type": "markdown",
   "metadata": {},
   "source": [
    "Создаем словарь с наиболее часто встречающими значениями типа кузова, сгруппированных по моделям автомобилей. \n",
    "Заполняем этими значениями пропуски."
   ]
  },
  {
   "cell_type": "code",
   "execution_count": 40,
   "metadata": {},
   "outputs": [],
   "source": [
    "vt_dict = dict(cars.groupby(['Model'])['VehicleType'].apply(lambda x: x.mode()[0]))\n",
    "\n",
    "cars['VehicleType'] = cars['VehicleType'].fillna(cars['Model'].map(vt_dict))"
   ]
  },
  {
   "cell_type": "code",
   "execution_count": 41,
   "metadata": {},
   "outputs": [
    {
     "data": {
      "text/plain": [
       "RegistrationMonth        0\n",
       "FuelType             32767\n",
       "dtype: int64"
      ]
     },
     "execution_count": 41,
     "metadata": {},
     "output_type": "execute_result"
    }
   ],
   "source": [
    "cars.isna().sum().sort_values().tail(2)"
   ]
  },
  {
   "cell_type": "markdown",
   "metadata": {},
   "source": [
    "##### Тип топлива  \n",
    "\n",
    "Посмотрим, на все доступные типы топлива (вдруг, там есть уголь)."
   ]
  },
  {
   "cell_type": "code",
   "execution_count": 42,
   "metadata": {},
   "outputs": [
    {
     "data": {
      "text/plain": [
       "petrol      216318\n",
       "gasoline     98713\n",
       "lpg           5310\n",
       "cng            564\n",
       "hybrid         233\n",
       "other          203\n",
       "electric        90\n",
       "Name: FuelType, dtype: int64"
      ]
     },
     "execution_count": 42,
     "metadata": {},
     "output_type": "execute_result"
    }
   ],
   "source": [
    "cars['FuelType'].value_counts()"
   ]
  },
  {
   "cell_type": "markdown",
   "metadata": {},
   "source": [
    "Неть. Но есть электрокары, гибриды, сжиженные углеводороды и газ. \n",
    "\n",
    "В данном случае забьем пропуски по марке автомобиля."
   ]
  },
  {
   "cell_type": "code",
   "execution_count": 43,
   "metadata": {},
   "outputs": [
    {
     "data": {
      "text/plain": [
       "array(['gasoline', 'petrol'], dtype=object)"
      ]
     },
     "execution_count": 43,
     "metadata": {},
     "output_type": "execute_result"
    }
   ],
   "source": [
    "fuel_dict = cars.groupby(['Model'])['FuelType'].apply(lambda x: x.mode()[0])\n",
    "\n",
    "np.unique(fuel_dict.values)"
   ]
  },
  {
   "cell_type": "markdown",
   "metadata": {},
   "source": [
    "Интерено, насколько качественно такое заполнение.  \n",
    "Но пока ничего лучше придумать не могу.  \n",
    "\n",
    "Хотя в нашей выборке все машины достаточно дешевые (а стоимость гибридов и электрокаров пока высока), возможно, данный метод является самым адекватным."
   ]
  },
  {
   "cell_type": "code",
   "execution_count": 44,
   "metadata": {},
   "outputs": [],
   "source": [
    "cars['FuelType'] = cars['FuelType'].fillna(cars['Model'].map(fuel_dict))"
   ]
  },
  {
   "cell_type": "markdown",
   "metadata": {},
   "source": [
    "---"
   ]
  },
  {
   "cell_type": "markdown",
   "metadata": {},
   "source": [
    "##### Обработка дубликатов"
   ]
  },
  {
   "cell_type": "code",
   "execution_count": 46,
   "metadata": {
    "scrolled": true
   },
   "outputs": [
    {
     "data": {
      "text/plain": [
       "DateCrawled          5\n",
       "Price                5\n",
       "VehicleType          5\n",
       "RegistrationYear     5\n",
       "Gearbox              5\n",
       "Power                5\n",
       "Model                5\n",
       "Kilometer            5\n",
       "RegistrationMonth    5\n",
       "FuelType             5\n",
       "Brand                5\n",
       "NotRepaired          5\n",
       "DateCreated          5\n",
       "NumberOfPictures     5\n",
       "PostalCode           5\n",
       "LastSeen             5\n",
       "MonthCreated         5\n",
       "YearCreated          5\n",
       "GearboxUnsorted      5\n",
       "dtype: int64"
      ]
     },
     "execution_count": 46,
     "metadata": {},
     "output_type": "execute_result"
    }
   ],
   "source": [
    "cars[cars.duplicated(keep=\"first\")].count()"
   ]
  },
  {
   "cell_type": "markdown",
   "metadata": {},
   "source": [
    "В начальном сете 5 строк - полных дубликатов. Удаляем их."
   ]
  },
  {
   "cell_type": "code",
   "execution_count": 47,
   "metadata": {},
   "outputs": [],
   "source": [
    "cars = cars.drop_duplicates()"
   ]
  },
  {
   "cell_type": "markdown",
   "metadata": {},
   "source": [
    "##### Проверка мощности"
   ]
  },
  {
   "cell_type": "code",
   "execution_count": 48,
   "metadata": {},
   "outputs": [
    {
     "data": {
      "image/png": "[encoded data removed]",
      "text/plain": [
       "<Figure size 576x288 with 1 Axes>"
      ]
     },
     "metadata": {},
     "output_type": "display_data"
    }
   ],
   "source": [
    "plt.figure(figsize=(8,4))\n",
    "sns.distplot(cars['Power'])\n",
    "plt.xlabel('Мощность двигателя, л.с.')\n",
    "plt.title('Распределение мощности двигателя в датасете',size=15);"
   ]
  },
  {
   "cell_type": "markdown",
   "metadata": {},
   "source": [
    "О ма гад! Есть как нулевые значения, так и очень высокие! 20000 лс - это почти четверть от мощности ледокола \"50 лет Победы\"!   \n",
    "Попробуем построить боксплот с медианой без выбросов"
   ]
  },
  {
   "cell_type": "code",
   "execution_count": 49,
   "metadata": {},
   "outputs": [
    {
     "data": {
      "image/png": "[encoded data removed]",
      "text/plain": [
       "<Figure size 432x288 with 1 Axes>"
      ]
     },
     "metadata": {},
     "output_type": "display_data"
    }
   ],
   "source": [
    "sns.boxplot(cars['Power'], showfliers=False, whis=3)\n",
    "plt.title('Распределение мощности двигателя без выбросов');"
   ]
  },
  {
   "cell_type": "markdown",
   "metadata": {},
   "source": [
    "Тройной межквартильный размах вобрал в себя значения от нуля до ~370. Однако, в свободном доступе есть автомобили и мощнее.\n",
    "Можно выкинуть из сета значения, превышающие порог 500.  \n",
    "\n",
    "Однако, есть еще одно предположение - точно удалить строки со значениями выше 10000 лс.   \n",
    "\n",
    "И похоже на то, что сбита кодировка мощности на сайте или невозможно вбить значения мощности с долями процента. Табличка ниже показывает, что, например, у короллы 2004 года указана мощность в 1398 лс, на самом деле - нормальная мощность такого типа автомобилей - 110-132 лс. https://auto.ru/sankt-peterburg/cars/toyota/corolla/2004-year/all/?sort=fresh_relevance_1-desc  . Смарт \"надвоих\" так же подходит под данное определение https://auto.ru/sankt-peterburg/cars/smart/fortwo/all/?sort=fresh_relevance_1-desc&year_from=2017  \n",
    "У большинства машин с \"завышенной\" мощностью такой подход так же работает.  \n",
    "\n",
    "Итого, предлагаю значения мощности 600-5000 - разделить на 10 (получаем диапазон 60-500),  \n",
    "Значения мощности в диапазоне 5001-9999 - разделить на 100 (получаем диапазон 50-90). \n",
    "\n",
    "Более 46 тысяч записей имею мощность менее 50 л.с. Что очень странно. Предлагаю заполнить эти значения группировкой по модели, как это делалось выше.\n"
   ]
  },
  {
   "cell_type": "code",
   "execution_count": 50,
   "metadata": {},
   "outputs": [
    {
     "data": {
      "text/html": [
       "<div>\n",
       "<style scoped>\n",
       "    .dataframe tbody tr th:only-of-type {\n",
       "        vertical-align: middle;\n",
       "    }\n",
       "\n",
       "    .dataframe tbody tr th {\n",
       "        vertical-align: top;\n",
       "    }\n",
       "\n",
       "    .dataframe thead th {\n",
       "        text-align: right;\n",
       "    }\n",
       "</style>\n",
       "<table border=\"1\" class=\"dataframe\">\n",
       "  <thead>\n",
       "    <tr style=\"text-align: right;\">\n",
       "      <th></th>\n",
       "      <th>DateCrawled</th>\n",
       "      <th>Price</th>\n",
       "      <th>VehicleType</th>\n",
       "      <th>RegistrationYear</th>\n",
       "      <th>Gearbox</th>\n",
       "      <th>Power</th>\n",
       "      <th>Model</th>\n",
       "      <th>Kilometer</th>\n",
       "      <th>RegistrationMonth</th>\n",
       "      <th>FuelType</th>\n",
       "      <th>Brand</th>\n",
       "      <th>NotRepaired</th>\n",
       "      <th>DateCreated</th>\n",
       "      <th>NumberOfPictures</th>\n",
       "      <th>PostalCode</th>\n",
       "      <th>LastSeen</th>\n",
       "      <th>MonthCreated</th>\n",
       "      <th>YearCreated</th>\n",
       "      <th>GearboxUnsorted</th>\n",
       "    </tr>\n",
       "  </thead>\n",
       "  <tbody>\n",
       "    <tr>\n",
       "      <td>1816</td>\n",
       "      <td>2016-03-22 20:52:00</td>\n",
       "      <td>3200</td>\n",
       "      <td>small</td>\n",
       "      <td>2004</td>\n",
       "      <td>manual</td>\n",
       "      <td>1398</td>\n",
       "      <td>corolla</td>\n",
       "      <td>5000</td>\n",
       "      <td>6</td>\n",
       "      <td>petrol</td>\n",
       "      <td>toyota</td>\n",
       "      <td>no</td>\n",
       "      <td>2016-03-22</td>\n",
       "      <td>0</td>\n",
       "      <td>22043</td>\n",
       "      <td>2016-03-22 21:43:26</td>\n",
       "      <td>1</td>\n",
       "      <td>2016</td>\n",
       "      <td>manual</td>\n",
       "    </tr>\n",
       "    <tr>\n",
       "      <td>2102</td>\n",
       "      <td>2016-03-21 11:55:22</td>\n",
       "      <td>0</td>\n",
       "      <td>sedan</td>\n",
       "      <td>1999</td>\n",
       "      <td>manual</td>\n",
       "      <td>1799</td>\n",
       "      <td>vectra</td>\n",
       "      <td>150000</td>\n",
       "      <td>1</td>\n",
       "      <td>petrol</td>\n",
       "      <td>opel</td>\n",
       "      <td>yes</td>\n",
       "      <td>2016-03-21</td>\n",
       "      <td>0</td>\n",
       "      <td>1723</td>\n",
       "      <td>2016-04-04 04:49:06</td>\n",
       "      <td>0</td>\n",
       "      <td>2016</td>\n",
       "      <td>unsorted</td>\n",
       "    </tr>\n",
       "    <tr>\n",
       "      <td>3746</td>\n",
       "      <td>2016-03-21 14:48:31</td>\n",
       "      <td>0</td>\n",
       "      <td>small</td>\n",
       "      <td>2017</td>\n",
       "      <td>manual</td>\n",
       "      <td>750</td>\n",
       "      <td>fortwo</td>\n",
       "      <td>150000</td>\n",
       "      <td>8</td>\n",
       "      <td>petrol</td>\n",
       "      <td>smart</td>\n",
       "      <td>no</td>\n",
       "      <td>2016-03-21</td>\n",
       "      <td>0</td>\n",
       "      <td>49356</td>\n",
       "      <td>2016-03-24 03:44:59</td>\n",
       "      <td>0</td>\n",
       "      <td>2016</td>\n",
       "      <td>manual</td>\n",
       "    </tr>\n",
       "    <tr>\n",
       "      <td>4060</td>\n",
       "      <td>2016-04-03 20:31:00</td>\n",
       "      <td>3100</td>\n",
       "      <td>sedan</td>\n",
       "      <td>2005</td>\n",
       "      <td>manual</td>\n",
       "      <td>953</td>\n",
       "      <td>colt</td>\n",
       "      <td>150000</td>\n",
       "      <td>4</td>\n",
       "      <td>gasoline</td>\n",
       "      <td>mitsubishi</td>\n",
       "      <td>no</td>\n",
       "      <td>2016-04-03</td>\n",
       "      <td>0</td>\n",
       "      <td>60326</td>\n",
       "      <td>2016-04-07 14:56:46</td>\n",
       "      <td>6</td>\n",
       "      <td>2016</td>\n",
       "      <td>manual</td>\n",
       "    </tr>\n",
       "    <tr>\n",
       "      <td>5328</td>\n",
       "      <td>2016-03-29 19:44:48</td>\n",
       "      <td>500</td>\n",
       "      <td>wagon</td>\n",
       "      <td>1999</td>\n",
       "      <td>manual</td>\n",
       "      <td>1001</td>\n",
       "      <td>astra</td>\n",
       "      <td>150000</td>\n",
       "      <td>7</td>\n",
       "      <td>petrol</td>\n",
       "      <td>opel</td>\n",
       "      <td>no</td>\n",
       "      <td>2016-03-29</td>\n",
       "      <td>0</td>\n",
       "      <td>33154</td>\n",
       "      <td>2016-04-06 05:44:36</td>\n",
       "      <td>1</td>\n",
       "      <td>2016</td>\n",
       "      <td>manual</td>\n",
       "    </tr>\n",
       "    <tr>\n",
       "      <td>6296</td>\n",
       "      <td>2016-03-31 23:50:47</td>\n",
       "      <td>599</td>\n",
       "      <td>small</td>\n",
       "      <td>2002</td>\n",
       "      <td>manual</td>\n",
       "      <td>603</td>\n",
       "      <td>matiz</td>\n",
       "      <td>5000</td>\n",
       "      <td>11</td>\n",
       "      <td>petrol</td>\n",
       "      <td>chevrolet</td>\n",
       "      <td>yes</td>\n",
       "      <td>2016-03-31</td>\n",
       "      <td>0</td>\n",
       "      <td>44379</td>\n",
       "      <td>2016-04-01 03:41:52</td>\n",
       "      <td>3</td>\n",
       "      <td>2016</td>\n",
       "      <td>manual</td>\n",
       "    </tr>\n",
       "    <tr>\n",
       "      <td>6504</td>\n",
       "      <td>2016-03-14 15:54:34</td>\n",
       "      <td>3000</td>\n",
       "      <td>small</td>\n",
       "      <td>2009</td>\n",
       "      <td>manual</td>\n",
       "      <td>771</td>\n",
       "      <td>punto</td>\n",
       "      <td>125000</td>\n",
       "      <td>0</td>\n",
       "      <td>petrol</td>\n",
       "      <td>fiat</td>\n",
       "      <td>no</td>\n",
       "      <td>2016-03-14</td>\n",
       "      <td>0</td>\n",
       "      <td>40721</td>\n",
       "      <td>2016-03-14 15:54:34</td>\n",
       "      <td>0</td>\n",
       "      <td>2016</td>\n",
       "      <td>manual</td>\n",
       "    </tr>\n",
       "    <tr>\n",
       "      <td>6637</td>\n",
       "      <td>2016-03-31 19:48:22</td>\n",
       "      <td>600</td>\n",
       "      <td>small</td>\n",
       "      <td>1996</td>\n",
       "      <td>manual</td>\n",
       "      <td>603</td>\n",
       "      <td>corsa</td>\n",
       "      <td>150000</td>\n",
       "      <td>8</td>\n",
       "      <td>petrol</td>\n",
       "      <td>opel</td>\n",
       "      <td>yes</td>\n",
       "      <td>2016-03-31</td>\n",
       "      <td>0</td>\n",
       "      <td>70327</td>\n",
       "      <td>2016-04-06 14:17:51</td>\n",
       "      <td>3</td>\n",
       "      <td>2016</td>\n",
       "      <td>manual</td>\n",
       "    </tr>\n",
       "    <tr>\n",
       "      <td>7661</td>\n",
       "      <td>2016-04-02 19:25:25</td>\n",
       "      <td>1499</td>\n",
       "      <td>small</td>\n",
       "      <td>1999</td>\n",
       "      <td>manual</td>\n",
       "      <td>7515</td>\n",
       "      <td>lupo</td>\n",
       "      <td>150000</td>\n",
       "      <td>4</td>\n",
       "      <td>petrol</td>\n",
       "      <td>volkswagen</td>\n",
       "      <td>no</td>\n",
       "      <td>2016-04-02</td>\n",
       "      <td>0</td>\n",
       "      <td>65830</td>\n",
       "      <td>2016-04-06 11:46:49</td>\n",
       "      <td>5</td>\n",
       "      <td>2016</td>\n",
       "      <td>manual</td>\n",
       "    </tr>\n",
       "    <tr>\n",
       "      <td>7720</td>\n",
       "      <td>2016-04-02 11:48:54</td>\n",
       "      <td>1500</td>\n",
       "      <td>small</td>\n",
       "      <td>2000</td>\n",
       "      <td>manual</td>\n",
       "      <td>1400</td>\n",
       "      <td>civic</td>\n",
       "      <td>150000</td>\n",
       "      <td>0</td>\n",
       "      <td>petrol</td>\n",
       "      <td>honda</td>\n",
       "      <td>no</td>\n",
       "      <td>2016-04-02</td>\n",
       "      <td>0</td>\n",
       "      <td>21509</td>\n",
       "      <td>2016-04-04 09:15:26</td>\n",
       "      <td>5</td>\n",
       "      <td>2016</td>\n",
       "      <td>manual</td>\n",
       "    </tr>\n",
       "  </tbody>\n",
       "</table>\n",
       "</div>"
      ],
      "text/plain": [
       "              DateCrawled  Price VehicleType  RegistrationYear Gearbox  Power  \\\n",
       "1816  2016-03-22 20:52:00   3200       small              2004  manual   1398   \n",
       "2102  2016-03-21 11:55:22      0       sedan              1999  manual   1799   \n",
       "3746  2016-03-21 14:48:31      0       small              2017  manual    750   \n",
       "4060  2016-04-03 20:31:00   3100       sedan              2005  manual    953   \n",
       "5328  2016-03-29 19:44:48    500       wagon              1999  manual   1001   \n",
       "6296  2016-03-31 23:50:47    599       small              2002  manual    603   \n",
       "6504  2016-03-14 15:54:34   3000       small              2009  manual    771   \n",
       "6637  2016-03-31 19:48:22    600       small              1996  manual    603   \n",
       "7661  2016-04-02 19:25:25   1499       small              1999  manual   7515   \n",
       "7720  2016-04-02 11:48:54   1500       small              2000  manual   1400   \n",
       "\n",
       "        Model  Kilometer  RegistrationMonth  FuelType       Brand NotRepaired  \\\n",
       "1816  corolla       5000                  6    petrol      toyota          no   \n",
       "2102   vectra     150000                  1    petrol        opel         yes   \n",
       "3746   fortwo     150000                  8    petrol       smart          no   \n",
       "4060     colt     150000                  4  gasoline  mitsubishi          no   \n",
       "5328    astra     150000                  7    petrol        opel          no   \n",
       "6296    matiz       5000                 11    petrol   chevrolet         yes   \n",
       "6504    punto     125000                  0    petrol        fiat          no   \n",
       "6637    corsa     150000                  8    petrol        opel         yes   \n",
       "7661     lupo     150000                  4    petrol  volkswagen          no   \n",
       "7720    civic     150000                  0    petrol       honda          no   \n",
       "\n",
       "     DateCreated  NumberOfPictures  PostalCode             LastSeen  \\\n",
       "1816  2016-03-22                 0       22043  2016-03-22 21:43:26   \n",
       "2102  2016-03-21                 0        1723  2016-04-04 04:49:06   \n",
       "3746  2016-03-21                 0       49356  2016-03-24 03:44:59   \n",
       "4060  2016-04-03                 0       60326  2016-04-07 14:56:46   \n",
       "5328  2016-03-29                 0       33154  2016-04-06 05:44:36   \n",
       "6296  2016-03-31                 0       44379  2016-04-01 03:41:52   \n",
       "6504  2016-03-14                 0       40721  2016-03-14 15:54:34   \n",
       "6637  2016-03-31                 0       70327  2016-04-06 14:17:51   \n",
       "7661  2016-04-02                 0       65830  2016-04-06 11:46:49   \n",
       "7720  2016-04-02                 0       21509  2016-04-04 09:15:26   \n",
       "\n",
       "      MonthCreated  YearCreated GearboxUnsorted  \n",
       "1816             1         2016          manual  \n",
       "2102             0         2016        unsorted  \n",
       "3746             0         2016          manual  \n",
       "4060             6         2016          manual  \n",
       "5328             1         2016          manual  \n",
       "6296             3         2016          manual  \n",
       "6504             0         2016          manual  \n",
       "6637             3         2016          manual  \n",
       "7661             5         2016          manual  \n",
       "7720             5         2016          manual  "
      ]
     },
     "execution_count": 50,
     "metadata": {},
     "output_type": "execute_result"
    }
   ],
   "source": [
    "cars.query('Power > 500').head(10)"
   ]
  },
  {
   "cell_type": "code",
   "execution_count": 52,
   "metadata": {},
   "outputs": [],
   "source": [
    "def pow_norm(row):\n",
    "    \n",
    "    power = row['Power']\n",
    "    \n",
    "    if 600 <= power <= 5000:\n",
    "        return power / 10\n",
    "    if 5001 <= power <= 9999:\n",
    "        return power / 100\n",
    "    if power < 50:\n",
    "        return np.nan\n",
    "    else:\n",
    "        return power"
   ]
  },
  {
   "cell_type": "code",
   "execution_count": 53,
   "metadata": {},
   "outputs": [],
   "source": [
    "cars['Power_upd'] = cars.apply(pow_norm, axis=1)"
   ]
  },
  {
   "cell_type": "code",
   "execution_count": 54,
   "metadata": {},
   "outputs": [
    {
     "data": {
      "text/plain": [
       "DateCrawled          2016-03-22 20:52:00\n",
       "Price                               3200\n",
       "VehicleType                        small\n",
       "RegistrationYear                    2004\n",
       "Gearbox                           manual\n",
       "Power                               1398\n",
       "Model                            corolla\n",
       "Kilometer                           5000\n",
       "RegistrationMonth                      6\n",
       "FuelType                          petrol\n",
       "Brand                             toyota\n",
       "NotRepaired                           no\n",
       "DateCreated          2016-03-22 00:00:00\n",
       "NumberOfPictures                       0\n",
       "PostalCode                         22043\n",
       "LastSeen             2016-03-22 21:43:26\n",
       "MonthCreated                           1\n",
       "YearCreated                         2016\n",
       "GearboxUnsorted                   manual\n",
       "Power_upd                          139.8\n",
       "Name: 1816, dtype: object"
      ]
     },
     "execution_count": 54,
     "metadata": {},
     "output_type": "execute_result"
    }
   ],
   "source": [
    "cars.iloc[1815]"
   ]
  },
  {
   "cell_type": "code",
   "execution_count": 55,
   "metadata": {},
   "outputs": [
    {
     "data": {
      "text/plain": [
       "46040"
      ]
     },
     "execution_count": 55,
     "metadata": {},
     "output_type": "execute_result"
    }
   ],
   "source": [
    "cars['Power_upd'].isna().sum()"
   ]
  },
  {
   "cell_type": "code",
   "execution_count": 56,
   "metadata": {},
   "outputs": [],
   "source": [
    "cars = cars.drop(cars.loc[cars['Power']>=10000].index)"
   ]
  },
  {
   "cell_type": "code",
   "execution_count": 57,
   "metadata": {},
   "outputs": [],
   "source": [
    "cars['Power_upd'] = cars.groupby('Model')['Power_upd'].transform(lambda x: x.fillna(value=x.median()))"
   ]
  },
  {
   "cell_type": "code",
   "execution_count": 58,
   "metadata": {},
   "outputs": [
    {
     "name": "stdout",
     "output_type": "stream",
     "text": [
      "Пропуски значений мощности 2\n",
      "Нулевая мощность 0\n"
     ]
    }
   ],
   "source": [
    "print('Пропуски значений мощности', cars['Power_upd'].isna().sum())\n",
    "print('Нулевая мощность', len(cars[cars['Power_upd']==0]))"
   ]
  },
  {
   "cell_type": "code",
   "execution_count": 59,
   "metadata": {},
   "outputs": [
    {
     "data": {
      "text/html": [
       "<div>\n",
       "<style scoped>\n",
       "    .dataframe tbody tr th:only-of-type {\n",
       "        vertical-align: middle;\n",
       "    }\n",
       "\n",
       "    .dataframe tbody tr th {\n",
       "        vertical-align: top;\n",
       "    }\n",
       "\n",
       "    .dataframe thead th {\n",
       "        text-align: right;\n",
       "    }\n",
       "</style>\n",
       "<table border=\"1\" class=\"dataframe\">\n",
       "  <thead>\n",
       "    <tr style=\"text-align: right;\">\n",
       "      <th></th>\n",
       "      <th>DateCrawled</th>\n",
       "      <th>Price</th>\n",
       "      <th>VehicleType</th>\n",
       "      <th>RegistrationYear</th>\n",
       "      <th>Gearbox</th>\n",
       "      <th>Power</th>\n",
       "      <th>Model</th>\n",
       "      <th>Kilometer</th>\n",
       "      <th>RegistrationMonth</th>\n",
       "      <th>FuelType</th>\n",
       "      <th>Brand</th>\n",
       "      <th>NotRepaired</th>\n",
       "      <th>DateCreated</th>\n",
       "      <th>NumberOfPictures</th>\n",
       "      <th>PostalCode</th>\n",
       "      <th>LastSeen</th>\n",
       "      <th>MonthCreated</th>\n",
       "      <th>YearCreated</th>\n",
       "      <th>GearboxUnsorted</th>\n",
       "      <th>Power_upd</th>\n",
       "    </tr>\n",
       "  </thead>\n",
       "  <tbody>\n",
       "    <tr>\n",
       "      <td>234296</td>\n",
       "      <td>2016-03-30 11:39:08</td>\n",
       "      <td>3800</td>\n",
       "      <td>wagon</td>\n",
       "      <td>1978</td>\n",
       "      <td>manual</td>\n",
       "      <td>0</td>\n",
       "      <td>serie_1</td>\n",
       "      <td>30000</td>\n",
       "      <td>0</td>\n",
       "      <td>gasoline</td>\n",
       "      <td>land_rover</td>\n",
       "      <td>no</td>\n",
       "      <td>2016-03-30</td>\n",
       "      <td>0</td>\n",
       "      <td>49824</td>\n",
       "      <td>2016-03-30 11:39:08</td>\n",
       "      <td>2</td>\n",
       "      <td>2016</td>\n",
       "      <td>manual</td>\n",
       "      <td>NaN</td>\n",
       "    </tr>\n",
       "    <tr>\n",
       "      <td>280216</td>\n",
       "      <td>2016-04-02 10:53:15</td>\n",
       "      <td>0</td>\n",
       "      <td>wagon</td>\n",
       "      <td>1970</td>\n",
       "      <td>manual</td>\n",
       "      <td>0</td>\n",
       "      <td>serie_1</td>\n",
       "      <td>100000</td>\n",
       "      <td>0</td>\n",
       "      <td>petrol</td>\n",
       "      <td>land_rover</td>\n",
       "      <td>no</td>\n",
       "      <td>2016-04-02</td>\n",
       "      <td>0</td>\n",
       "      <td>88634</td>\n",
       "      <td>2016-04-06 09:16:22</td>\n",
       "      <td>5</td>\n",
       "      <td>2016</td>\n",
       "      <td>unsorted</td>\n",
       "      <td>NaN</td>\n",
       "    </tr>\n",
       "  </tbody>\n",
       "</table>\n",
       "</div>"
      ],
      "text/plain": [
       "                DateCrawled  Price VehicleType  RegistrationYear Gearbox  \\\n",
       "234296  2016-03-30 11:39:08   3800       wagon              1978  manual   \n",
       "280216  2016-04-02 10:53:15      0       wagon              1970  manual   \n",
       "\n",
       "        Power    Model  Kilometer  RegistrationMonth  FuelType       Brand  \\\n",
       "234296      0  serie_1      30000                  0  gasoline  land_rover   \n",
       "280216      0  serie_1     100000                  0    petrol  land_rover   \n",
       "\n",
       "       NotRepaired DateCreated  NumberOfPictures  PostalCode  \\\n",
       "234296          no  2016-03-30                 0       49824   \n",
       "280216          no  2016-04-02                 0       88634   \n",
       "\n",
       "                   LastSeen  MonthCreated  YearCreated GearboxUnsorted  \\\n",
       "234296  2016-03-30 11:39:08             2         2016          manual   \n",
       "280216  2016-04-06 09:16:22             5         2016        unsorted   \n",
       "\n",
       "        Power_upd  \n",
       "234296        NaN  \n",
       "280216        NaN  "
      ]
     },
     "execution_count": 59,
     "metadata": {},
     "output_type": "execute_result"
    }
   ],
   "source": [
    "cars[cars['Power_upd'].isna()]"
   ]
  },
  {
   "cell_type": "markdown",
   "metadata": {},
   "source": [
    "Просто удалим две записи с пропущенной мощностью."
   ]
  },
  {
   "cell_type": "code",
   "execution_count": 60,
   "metadata": {},
   "outputs": [],
   "source": [
    "cars = cars.drop(cars[cars['Power_upd'].isna()].index)\n",
    "cars['Power_upd'] = cars['Power_upd'].astype('int')"
   ]
  },
  {
   "cell_type": "code",
   "execution_count": 61,
   "metadata": {},
   "outputs": [
    {
     "name": "stdout",
     "output_type": "stream",
     "text": [
      "Пропуски значений мощности 0\n"
     ]
    }
   ],
   "source": [
    "print('Пропуски значений мощности', cars['Power_upd'].isna().sum())"
   ]
  },
  {
   "cell_type": "markdown",
   "metadata": {},
   "source": [
    "Гуд.  \n",
    "Посмотрим на распределение мощности теперь."
   ]
  },
  {
   "cell_type": "code",
   "execution_count": 62,
   "metadata": {
    "scrolled": true
   },
   "outputs": [
    {
     "data": {
      "image/png": "[encoded data removed]",
      "text/plain": [
       "<Figure size 576x288 with 1 Axes>"
      ]
     },
     "metadata": {},
     "output_type": "display_data"
    }
   ],
   "source": [
    "plt.figure(figsize=(8,4))\n",
    "\n",
    "sns.distplot(cars['Power_upd'], color='gray', hist=False)\n",
    "\n",
    "plt.xlabel('Мощность двигателя, л.с.')\n",
    "plt.title('Обновленное распределение мощности двигателей',size=15, y=(1.02));"
   ]
  },
  {
   "cell_type": "markdown",
   "metadata": {},
   "source": [
    "Теперь предобработка проведена полностью.\n",
    "\n",
    "Возвращаемся к обучению.  \n",
    "\n",
    "---"
   ]
  },
  {
   "cell_type": "code",
   "execution_count": 45,
   "metadata": {},
   "outputs": [
    {
     "data": {
      "text/plain": [
       "DateCrawled          0\n",
       "Price                0\n",
       "VehicleType          0\n",
       "RegistrationYear     0\n",
       "Gearbox              0\n",
       "Power                0\n",
       "Model                0\n",
       "Kilometer            0\n",
       "RegistrationMonth    0\n",
       "FuelType             0\n",
       "Brand                0\n",
       "NotRepaired          0\n",
       "DateCreated          0\n",
       "NumberOfPictures     0\n",
       "PostalCode           0\n",
       "LastSeen             0\n",
       "MonthCreated         0\n",
       "YearCreated          0\n",
       "GearboxUnsorted      0\n",
       "dtype: int64"
      ]
     },
     "execution_count": 45,
     "metadata": {},
     "output_type": "execute_result"
    }
   ],
   "source": [
    "cars.isna().sum()"
   ]
  },
  {
   "cell_type": "markdown",
   "metadata": {},
   "source": [
    "Пропущенных значений не осталось. Переходим к выводам и следующему шагу."
   ]
  },
  {
   "cell_type": "markdown",
   "metadata": {},
   "source": [
    "### Вывод \n",
    "\n",
    "На данном этапе был произведен анализ данных и предобработка пропущенных значений.  \n",
    "В первую очередь было выдвинуто предположение об исключении фич с датами регистрации анкеты, последнего визита пользователя, количества фотографий и даты снятия анкеты, поскольку они имеют корреляцию с ценой автомобиля (напомню, что фотографий вообше не было, все значения = 0).  \n",
    "В ходе анализа установлено, что бОльшая часть автомобилей лежит в ценовой категории 1,5 тыс Евро, встречаются образцы и за 20 тысяч. Несколько тысяч автомобилей не попали под имеющиеся категории марок и были оставлены в сете, как 'sonstige_autos\".  \n",
    "Так же в ходе данного шага были обработаны все пропуенные значения, в основном, на основании группировки сета по модели, году регистрации и марке автомобиля.  \n",
    "\n",
    "Предобработка и анализ данных завершен, переходим к обучению и тестированию моделей.  \n",
    "\n",
    "\n",
    "---"
   ]
  },
  {
   "cell_type": "markdown",
   "metadata": {},
   "source": [
    "## Шаг 2. Обучение моделей  \n",
    "\n",
    "Первым делом разобьем имеющиеся данные на обучающую и тестовую выборку, a так же установим значение random_state.   \n",
    "Удалим неинформативные признаки и ненужный теперь первичный столбец Power."
   ]
  },
  {
   "cell_type": "code",
   "execution_count": 71,
   "metadata": {},
   "outputs": [],
   "source": [
    "RND_ST = 42"
   ]
  },
  {
   "cell_type": "code",
   "execution_count": 77,
   "metadata": {},
   "outputs": [],
   "source": [
    "unnec_col = ['Price', 'DateCrawled', 'RegistrationMonth', 'DateCreated', 'NumberOfPictures', 'PostalCode',\n",
    "       'LastSeen', 'MonthCreated', 'YearCreated', 'GearboxUnsorted', 'Power']\n",
    "\n",
    "features = cars.drop(unnec_col, axis=1)\n",
    "target = cars['Price']"
   ]
  },
  {
   "cell_type": "code",
   "execution_count": 78,
   "metadata": {},
   "outputs": [
    {
     "data": {
      "text/html": [
       "<div>\n",
       "<style scoped>\n",
       "    .dataframe tbody tr th:only-of-type {\n",
       "        vertical-align: middle;\n",
       "    }\n",
       "\n",
       "    .dataframe tbody tr th {\n",
       "        vertical-align: top;\n",
       "    }\n",
       "\n",
       "    .dataframe thead th {\n",
       "        text-align: right;\n",
       "    }\n",
       "</style>\n",
       "<table border=\"1\" class=\"dataframe\">\n",
       "  <thead>\n",
       "    <tr style=\"text-align: right;\">\n",
       "      <th></th>\n",
       "      <th>VehicleType</th>\n",
       "      <th>RegistrationYear</th>\n",
       "      <th>Gearbox</th>\n",
       "      <th>Model</th>\n",
       "      <th>Kilometer</th>\n",
       "      <th>FuelType</th>\n",
       "      <th>Brand</th>\n",
       "      <th>NotRepaired</th>\n",
       "      <th>Power_upd</th>\n",
       "    </tr>\n",
       "  </thead>\n",
       "  <tbody>\n",
       "    <tr>\n",
       "      <td>0</td>\n",
       "      <td>sedan</td>\n",
       "      <td>1993</td>\n",
       "      <td>manual</td>\n",
       "      <td>golf</td>\n",
       "      <td>150000</td>\n",
       "      <td>petrol</td>\n",
       "      <td>volkswagen</td>\n",
       "      <td>no</td>\n",
       "      <td>101</td>\n",
       "    </tr>\n",
       "    <tr>\n",
       "      <td>1</td>\n",
       "      <td>coupe</td>\n",
       "      <td>2011</td>\n",
       "      <td>manual</td>\n",
       "      <td>a4</td>\n",
       "      <td>125000</td>\n",
       "      <td>gasoline</td>\n",
       "      <td>audi</td>\n",
       "      <td>yes</td>\n",
       "      <td>190</td>\n",
       "    </tr>\n",
       "    <tr>\n",
       "      <td>2</td>\n",
       "      <td>suv</td>\n",
       "      <td>2004</td>\n",
       "      <td>auto</td>\n",
       "      <td>grand</td>\n",
       "      <td>125000</td>\n",
       "      <td>gasoline</td>\n",
       "      <td>jeep</td>\n",
       "      <td>no</td>\n",
       "      <td>163</td>\n",
       "    </tr>\n",
       "    <tr>\n",
       "      <td>3</td>\n",
       "      <td>small</td>\n",
       "      <td>2001</td>\n",
       "      <td>manual</td>\n",
       "      <td>golf</td>\n",
       "      <td>150000</td>\n",
       "      <td>petrol</td>\n",
       "      <td>volkswagen</td>\n",
       "      <td>no</td>\n",
       "      <td>75</td>\n",
       "    </tr>\n",
       "    <tr>\n",
       "      <td>4</td>\n",
       "      <td>small</td>\n",
       "      <td>2008</td>\n",
       "      <td>manual</td>\n",
       "      <td>fabia</td>\n",
       "      <td>90000</td>\n",
       "      <td>gasoline</td>\n",
       "      <td>skoda</td>\n",
       "      <td>no</td>\n",
       "      <td>69</td>\n",
       "    </tr>\n",
       "  </tbody>\n",
       "</table>\n",
       "</div>"
      ],
      "text/plain": [
       "  VehicleType  RegistrationYear Gearbox  Model  Kilometer  FuelType  \\\n",
       "0       sedan              1993  manual   golf     150000    petrol   \n",
       "1       coupe              2011  manual     a4     125000  gasoline   \n",
       "2         suv              2004    auto  grand     125000  gasoline   \n",
       "3       small              2001  manual   golf     150000    petrol   \n",
       "4       small              2008  manual  fabia      90000  gasoline   \n",
       "\n",
       "        Brand NotRepaired  Power_upd  \n",
       "0  volkswagen          no        101  \n",
       "1        audi         yes        190  \n",
       "2        jeep          no        163  \n",
       "3  volkswagen          no         75  \n",
       "4       skoda          no         69  "
      ]
     },
     "execution_count": 78,
     "metadata": {},
     "output_type": "execute_result"
    }
   ],
   "source": [
    "features.head()"
   ]
  },
  {
   "cell_type": "code",
   "execution_count": 85,
   "metadata": {},
   "outputs": [],
   "source": [
    "X_train_val, X_test, y_train_val, y_test = train_test_split(features, target, test_size=0.2, random_state=RND_ST)"
   ]
  },
  {
   "cell_type": "markdown",
   "metadata": {},
   "source": [
    "Из обучающей выборки вытянем валидационную."
   ]
  },
  {
   "cell_type": "code",
   "execution_count": 86,
   "metadata": {},
   "outputs": [],
   "source": [
    "X_train, X_valid, y_train, y_valid = train_test_split(X_train_val, y_train_val, test_size=0.25, random_state=RND_ST)"
   ]
  },
  {
   "cell_type": "code",
   "execution_count": 87,
   "metadata": {},
   "outputs": [
    {
     "name": "stdout",
     "output_type": "stream",
     "text": [
      "212487 70829 70830\n"
     ]
    }
   ],
   "source": [
    "print(X_train.shape[0], X_valid.shape[0], X_test.shape[0])"
   ]
  },
  {
   "cell_type": "markdown",
   "metadata": {},
   "source": [
    "#### Dummy model"
   ]
  },
  {
   "cell_type": "markdown",
   "metadata": {},
   "source": [
    "В данном спринте разберем применение четырех моделей.  \n",
    "Но для начала позовем дамми регрессора, для дальнейшей проверки моделей на адекватность.  \n",
    "Передадим нашему первому регрессору средние значения цены.  \n",
    "\n",
    "Требуемая функция подсчета времени выполнения ячейки из задания представлена ниже."
   ]
  },
  {
   "cell_type": "code",
   "execution_count": 89,
   "metadata": {
    "scrolled": true
   },
   "outputs": [
    {
     "name": "stdout",
     "output_type": "stream",
     "text": [
      "RMSE дамми регрессора со средним прогнозом цен на валидационной выборке = 4507.32\n",
      "\n",
      "CPU times: user 3.82 ms, sys: 0 ns, total: 3.82 ms\n",
      "Wall time: 2.6 ms\n"
     ]
    }
   ],
   "source": [
    "%%time\n",
    "\n",
    "dummy = DummyRegressor(strategy='mean')\n",
    "\n",
    "dummy.fit(X_train, y_train)\n",
    "y_pred = dummy.predict(X_valid)\n",
    "\n",
    "rmse_dr = np.around(np.sqrt(mean_squared_error(y_valid, y_pred)),3)\n",
    "print('RMSE дамми регрессора со средним прогнозом цен на валидационной выборке = {}'.format(rmse_dr))\n",
    "print()"
   ]
  },
  {
   "cell_type": "markdown",
   "metadata": {},
   "source": [
    "Наш дамми малыш ошибается, в среднем, на 4,5 тысячи Евро, однако, работает очень быстро.  \n",
    "\n",
    "\n",
    "---"
   ]
  },
  {
   "cell_type": "markdown",
   "metadata": {},
   "source": [
    "#### Создание скоринга RMSE\n",
    "\n",
    "На данном шаге мы сразу будем подбирать гиперпараметры и фиксировать лучшее значение метрики RMSE.  \n",
    "\n",
    "Так как в текущей версии Тренажера нет функции squared=False в скоринге MSE, пропишем этот скоринг с нуля"
   ]
  },
  {
   "cell_type": "code",
   "execution_count": 90,
   "metadata": {},
   "outputs": [],
   "source": [
    "def rmse(targets, predictions):\n",
    "    return np.sqrt(((predictions - targets) ** 2).mean())\n",
    "\n",
    "RMSE_SCORE = make_scorer(rmse, greater_is_better=False)"
   ]
  },
  {
   "cell_type": "markdown",
   "metadata": {},
   "source": [
    "Проверим его работу, вызовем простенький регрессор и попробуем найти гиперпараметры"
   ]
  },
  {
   "cell_type": "code",
   "execution_count": 93,
   "metadata": {},
   "outputs": [
    {
     "name": "stdout",
     "output_type": "stream",
     "text": [
      "212487 70829 70830\n"
     ]
    }
   ],
   "source": [
    "features_ = pd.get_dummies(features, drop_first=True)\n",
    "target_ = cars['Price'] \n",
    "\n",
    "X_train_val, X_test_, y_train_val, y_test_ = train_test_split(features_, target_, test_size=0.2, random_state=RND_ST)\n",
    "X_train_, X_valid_, y_train_, y_valid_ = train_test_split(X_train_val, y_train_val, test_size=0.25, random_state=RND_ST)\n",
    "\n",
    "print(X_train_.shape[0], X_valid_.shape[0], X_test_.shape[0])"
   ]
  },
  {
   "cell_type": "code",
   "execution_count": 98,
   "metadata": {},
   "outputs": [
    {
     "data": {
      "text/plain": [
       "305"
      ]
     },
     "execution_count": 98,
     "metadata": {},
     "output_type": "execute_result"
    }
   ],
   "source": [
    "X_train_.shape[1]"
   ]
  },
  {
   "cell_type": "code",
   "execution_count": 99,
   "metadata": {},
   "outputs": [],
   "source": [
    "from sklearn.tree import DecisionTreeRegressor\n",
    "\n",
    "dtr = DecisionTreeRegressor(random_state=RND_ST)\n",
    "\n",
    "dtr_params = dict(max_depth=[5,6,7], \n",
    "                 max_features=[2,3,4])"
   ]
  },
  {
   "cell_type": "markdown",
   "metadata": {},
   "source": [
    "Напишем функцию рандомного поиска гиперпараметров (пригодится и в дальнейшем)"
   ]
  },
  {
   "cell_type": "code",
   "execution_count": 100,
   "metadata": {},
   "outputs": [],
   "source": [
    "def rand_search(model, grid, feat, targ):\n",
    "    \n",
    "    search = RandomizedSearchCV(model, grid, cv=5, scoring=RMSE_SCORE, n_jobs=-1)\n",
    "    search.fit(feat, targ)\n",
    "    \n",
    "    print(search.best_score_ * -1)\n",
    "    print(search.best_params_)"
   ]
  },
  {
   "cell_type": "code",
   "execution_count": 101,
   "metadata": {},
   "outputs": [
    {
     "name": "stdout",
     "output_type": "stream",
     "text": [
      "3860.504667722995\n",
      "{'max_features': 2, 'max_depth': 5}\n"
     ]
    }
   ],
   "source": [
    "rand_search(dtr, dtr_params, X_train_, y_train_)"
   ]
  },
  {
   "cell_type": "code",
   "execution_count": 112,
   "metadata": {},
   "outputs": [],
   "source": [
    "def rmse_score(model, X, y):\n",
    "    \n",
    "    y_pred = model.predict(X)\n",
    "\n",
    "    score = rmse(y, y_pred)\n",
    "    \n",
    "    return(score)"
   ]
  },
  {
   "cell_type": "code",
   "execution_count": 114,
   "metadata": {},
   "outputs": [
    {
     "name": "stdout",
     "output_type": "stream",
     "text": [
      "Валидационная выборка 3730.570706937853\n",
      "Тестовая выборка 3762.799036244059\n"
     ]
    }
   ],
   "source": [
    "dtr = DecisionTreeRegressor(random_state=RND_ST, max_features=2, max_depth=5)\n",
    "\n",
    "dtr.fit(X_train_, y_train_)\n",
    "\n",
    "print('Валидационная выборка', rmse_score(dtr, X_valid_, y_valid_))\n",
    "print('Тестовая выборка', rmse_score(dtr, X_test_, y_test_))"
   ]
  },
  {
   "cell_type": "markdown",
   "metadata": {},
   "source": [
    "Так судя по всему наш скоринг работает модель ошибается в среднем на 4,2 тысячи Евро, что немного лучше, чем Дамми моделька.\n",
    "\n",
    "Важно. Здесь вывод финального скора я умножил на -1, для того, чтобы реальное значение удовлетворяло условию возведения в квадрат. \n",
    "\n",
    "---"
   ]
  },
  {
   "cell_type": "markdown",
   "metadata": {},
   "source": [
    "#### Gradient Boosting  \n",
    "\n",
    "Начнем с обычного градиентного бустинга из sklearn.  \n",
    "Стоит отметить, что для его применения, необходимо перевести все категориальные показатели в числовые, используя dummy преобразование или OneHotEncoding"
   ]
  },
  {
   "cell_type": "markdown",
   "metadata": {},
   "source": [
    "В идеале настроить бустинг двумя серчами - на первом этапе подобрать количество деревьев, на втором - подогнать остальные параметры. Но Тренажер не обладает требуемой для быстрой работы мощностью."
   ]
  },
  {
   "cell_type": "code",
   "execution_count": 117,
   "metadata": {},
   "outputs": [],
   "source": [
    "gbr = GradientBoostingRegressor(random_state=RND_ST)\n",
    "\n",
    "gbr_params_nest = dict(n_estimators=range(50,500,25))\n",
    "\n",
    "gbr_params_other = dict(learning_rate=[0.1,0.5,1],\n",
    "                        max_depth=[2,3,4])"
   ]
  },
  {
   "cell_type": "code",
   "execution_count": 119,
   "metadata": {},
   "outputs": [],
   "source": [
    "#rand_search(gbr, gbr_params_nest, X_train_, y_train_)"
   ]
  },
  {
   "cell_type": "markdown",
   "metadata": {},
   "source": [
    "Это так же оказалось слишком долгим на тренажере (первая операция потребовала >15 минут). Попробую вручную подобрать параметры =/."
   ]
  },
  {
   "cell_type": "code",
   "execution_count": 120,
   "metadata": {
    "scrolled": true
   },
   "outputs": [
    {
     "name": "stdout",
     "output_type": "stream",
     "text": [
      "      Iter       Train Loss   Remaining Time \n",
      "         1    18239634.1409           10.72m\n",
      "         2    16506490.7528           10.69m\n",
      "         3    15094424.3467           10.87m\n",
      "         4    13848352.0195           10.88m\n",
      "         5    12731358.0829           10.60m\n",
      "         6    11847044.0916           10.71m\n",
      "         7    11034082.0774           10.73m\n",
      "         8    10402608.9952           10.76m\n",
      "         9     9799276.5912           10.59m\n",
      "        10     9322658.5192           10.59m\n",
      "        11     8826645.2702           10.36m\n",
      "        12     8392617.4007           10.22m\n",
      "        13     8091335.9327           10.18m\n",
      "        14     7765475.1829           10.08m\n",
      "        15     7528942.5527           10.03m\n",
      "        16     7284144.7478            9.98m\n",
      "        17     7073285.9350            9.91m\n",
      "        18     6870693.0536            9.75m\n",
      "        19     6717712.5541            9.63m\n",
      "        20     6587057.5887            9.59m\n",
      "        21     6467361.3961            9.48m\n",
      "        22     6368202.0713            9.32m\n",
      "        23     6235789.5040            9.25m\n",
      "        24     6117721.4941            9.20m\n",
      "        25     6041607.1604            9.08m\n",
      "        26     5974770.6967            8.89m\n",
      "        27     5914680.4350            8.76m\n",
      "        28     5848170.8041            8.64m\n",
      "        29     5785325.9878            8.54m\n",
      "        30     5697238.7144            8.52m\n",
      "        31     5648957.5738            8.45m\n",
      "        32     5592965.0240            8.35m\n",
      "        33     5551822.8174            8.22m\n",
      "        34     5487836.9167            8.12m\n",
      "        35     5436426.2537            8.00m\n",
      "        36     5403017.8561            7.94m\n",
      "        37     5361182.5618            7.87m\n",
      "        38     5311401.9371            7.78m\n",
      "        39     5280985.2513            7.67m\n",
      "        40     5253582.6406            7.60m\n",
      "        41     5213832.4798            7.52m\n",
      "        42     5191414.5488            7.41m\n",
      "        43     5154204.7023            7.32m\n",
      "        44     5125046.9143            7.26m\n",
      "        45     5092475.2315            7.19m\n",
      "        46     5069215.2832            7.11m\n",
      "        47     5049213.8241            7.04m\n",
      "        48     5025166.0511            6.95m\n",
      "        49     4992486.2025            6.88m\n",
      "        50     4964645.3924            6.81m\n",
      "        51     4942687.1335            6.75m\n",
      "        52     4924307.1097            6.67m\n",
      "        53     4896084.9872            6.61m\n",
      "        54     4878828.9036            6.53m\n",
      "        55     4863656.6353            6.48m\n",
      "        56     4844025.1749            6.41m\n",
      "        57     4824424.1075            6.34m\n",
      "        58     4804605.4718            6.28m\n",
      "        59     4784019.8733            6.22m\n",
      "        60     4770310.6374            6.15m\n",
      "        61     4750946.2085            6.08m\n",
      "        62     4737777.5095            6.02m\n",
      "        63     4723786.2064            5.96m\n",
      "        64     4710519.4081            5.89m\n",
      "        65     4694858.7767            5.85m\n",
      "        66     4685288.3448            5.79m\n",
      "        67     4666575.4159            5.76m\n",
      "        68     4648528.1356            5.72m\n",
      "        69     4637275.4505            5.66m\n",
      "        70     4623779.5138            5.60m\n",
      "        71     4614622.0837            5.54m\n",
      "        72     4604365.9438            5.50m\n",
      "        73     4593921.6784            5.45m\n",
      "        74     4584740.5851            5.41m\n",
      "        75     4577391.9576            5.35m\n",
      "        76     4563409.3163            5.31m\n",
      "        77     4552089.0700            5.26m\n",
      "        78     4538452.8642            5.25m\n",
      "        79     4532181.9803            5.19m\n",
      "        80     4523500.0792            5.16m\n",
      "        81     4513030.6073            5.11m\n",
      "        82     4501245.6470            5.07m\n",
      "        83     4490088.1100            5.05m\n",
      "        84     4481857.4999            5.01m\n",
      "        85     4474221.8687            4.96m\n",
      "        86     4465126.8887            4.92m\n",
      "        87     4452179.1879            4.88m\n",
      "        88     4446648.8487            4.83m\n",
      "        89     4439203.6900            4.79m\n",
      "        90     4430351.8516            4.76m\n",
      "        91     4425545.9693            4.71m\n",
      "        92     4417964.3242            4.68m\n",
      "        93     4412584.1336            4.63m\n",
      "        94     4404901.6493            4.59m\n",
      "        95     4400782.9145            4.54m\n",
      "        96     4396879.6190            4.49m\n",
      "        97     4390716.7951            4.45m\n",
      "        98     4384803.4213            4.42m\n",
      "        99     4377934.2324            4.38m\n",
      "       100     4371361.5505            4.36m\n",
      "       101     4366961.4538            4.31m\n",
      "       102     4360000.1564            4.27m\n",
      "       103     4355762.8809            4.23m\n",
      "       104     4350888.9287            4.19m\n",
      "       105     4345274.9823            4.16m\n",
      "       106     4342285.9094            4.11m\n",
      "       107     4336091.2789            4.08m\n",
      "       108     4332168.7278            4.04m\n",
      "       109     4326383.4461            4.00m\n",
      "       110     4323408.6058            3.96m\n",
      "       111     4319883.7129            3.92m\n",
      "       112     4316211.1279            3.89m\n",
      "       113     4304331.2131            3.86m\n",
      "       114     4297624.8211            3.84m\n",
      "       115     4293786.8597            3.80m\n",
      "       116     4290228.4717            3.77m\n",
      "       117     4285389.2823            3.73m\n",
      "       118     4282039.1831            3.70m\n",
      "       119     4279520.5704            3.66m\n",
      "       120     4277300.4984            3.62m\n",
      "       121     4272145.0086            3.59m\n",
      "       122     4261903.5397            3.57m\n",
      "       123     4255726.8371            3.54m\n",
      "       124     4252940.8289            3.50m\n",
      "       125     4250421.1463            3.46m\n",
      "       126     4243283.2902            3.43m\n",
      "       127     4238965.6741            3.40m\n",
      "       128     4236709.5801            3.36m\n",
      "       129     4234119.3751            3.33m\n",
      "       130     4229949.5677            3.30m\n",
      "       131     4223978.8855            3.27m\n",
      "       132     4221106.4039            3.24m\n",
      "       133     4219189.2925            3.21m\n",
      "       134     4216972.9852            3.17m\n",
      "       135     4213720.6423            3.14m\n",
      "       136     4211246.9180            3.11m\n",
      "       137     4209217.7911            3.07m\n",
      "       138     4202013.8637            3.05m\n",
      "       139     4193100.8983            3.02m\n",
      "       140     4183127.0038            3.00m\n",
      "       141     4180106.0758            2.97m\n",
      "       142     4178062.2584            2.93m\n",
      "       143     4172220.4213            2.91m\n",
      "       144     4165905.0768            2.89m\n",
      "       145     4164085.0764            2.86m\n",
      "       146     4161581.0676            2.82m\n",
      "       147     4159928.4399            2.79m\n",
      "       148     4155384.4095            2.76m\n",
      "       149     4152255.1519            2.73m\n",
      "       150     4150127.6077            2.70m\n",
      "       151     4147818.8229            2.66m\n",
      "       152     4146088.8957            2.63m\n",
      "       153     4143736.0193            2.60m\n",
      "       154     4141496.1093            2.57m\n",
      "       155     4137307.7316            2.54m\n",
      "       156     4135371.7219            2.51m\n",
      "       157     4133494.5925            2.48m\n",
      "       158     4131837.3729            2.45m\n",
      "       159     4129291.8718            2.42m\n",
      "       160     4123535.0553            2.39m\n",
      "       161     4114900.5010            2.38m\n",
      "       162     4112414.8870            2.35m\n",
      "       163     4110687.6968            2.32m\n",
      "       164     4108823.8680            2.29m\n",
      "       165     4106401.1254            2.26m\n",
      "       166     4104034.8265            2.23m\n",
      "       167     4101926.8325            2.20m\n",
      "       168     4099986.6528            2.17m\n",
      "       169     4098758.2485            2.14m\n",
      "       170     4097323.6487            2.11m\n",
      "       171     4095420.6285            2.08m\n",
      "       172     4093850.0320            2.05m\n",
      "       173     4092259.1523            2.02m\n",
      "       174     4090217.3769            1.99m\n",
      "       175     4088934.5768            1.96m\n",
      "       176     4087443.3604            1.93m\n",
      "       177     4082354.3958            1.91m\n",
      "       178     4077894.7670            1.89m\n",
      "       179     4075825.9633            1.86m\n",
      "       180     4074419.7652            1.83m\n",
      "       181     4073273.8017            1.80m\n",
      "       182     4072141.8623            1.77m\n",
      "       183     4070154.6981            1.74m\n",
      "       184     4067857.5427            1.72m\n",
      "       185     4061710.9877            1.69m\n",
      "       186     4055562.6039            1.67m\n",
      "       187     4054125.7419            1.64m\n",
      "       188     4051221.9380            1.61m\n",
      "       189     4049665.8575            1.58m\n",
      "       190     4047081.0120            1.56m\n",
      "       191     4044022.3350            1.53m\n",
      "       192     4042169.5219            1.50m\n",
      "       193     4041192.8442            1.47m\n",
      "       194     4038628.1632            1.45m\n",
      "       195     4036384.5885            1.42m\n",
      "       196     4035083.8177            1.39m\n",
      "       197     4033253.0500            1.37m\n",
      "       198     4029797.5004            1.34m\n",
      "       199     4024166.2413            1.32m\n",
      "       200     4023050.5541            1.29m\n",
      "       201     4021509.2071            1.26m\n",
      "       202     4020354.6213            1.23m\n",
      "       203     4019087.8792            1.21m\n",
      "       204     4017837.7550            1.18m\n",
      "       205     4016635.4223            1.15m\n",
      "       206     4015589.7250            1.12m\n",
      "       207     4014557.3728            1.10m\n",
      "       208     4012289.3951            1.07m\n",
      "       209     4010427.1143            1.04m\n",
      "       210     4007318.7132            1.02m\n",
      "       211     4005470.4289           59.57s\n",
      "       212     4004216.4443           57.97s\n",
      "       213     4002575.3596           56.38s\n",
      "       214     4001263.1876           54.80s\n",
      "       215     4000186.9966           53.22s\n",
      "       216     3998350.0981           51.65s\n",
      "       217     3996614.4686           50.07s\n",
      "       218     3995575.7354           48.50s\n",
      "       219     3994650.6996           46.94s\n",
      "       220     3993608.5341           45.37s\n",
      "       221     3992794.4400           43.81s\n",
      "       222     3991496.1343           42.25s\n",
      "       223     3990604.3388           40.70s\n",
      "       224     3989575.5501           39.15s\n",
      "       225     3987772.0003           37.62s\n",
      "       226     3986843.5318           36.07s\n",
      "       227     3984786.0821           34.53s\n",
      "       228     3983776.7171           32.99s\n",
      "       229     3982743.7192           31.45s\n",
      "       230     3981316.7896           29.92s\n",
      "       231     3979962.0816           28.40s\n",
      "       232     3977399.4601           26.92s\n",
      "       233     3976319.3015           25.40s\n",
      "       234     3974183.7333           23.88s\n",
      "       235     3972646.6582           22.40s\n",
      "       236     3968604.4635           20.93s\n",
      "       237     3964494.2931           19.45s\n",
      "       238     3959746.4680           17.96s\n",
      "       239     3957153.6070           16.45s\n",
      "       240     3953028.0124           14.96s\n",
      "       241     3950282.5264           13.46s\n",
      "       242     3947983.9048           11.96s\n",
      "       243     3946984.1570           10.45s\n",
      "       244     3945354.8808            8.95s\n",
      "       245     3941118.4944            7.47s\n",
      "       246     3938622.1518            5.97s\n",
      "       247     3936639.7798            4.48s\n",
      "       248     3935129.1407            2.98s\n",
      "       249     3931753.3166            1.49s\n",
      "       250     3930568.8237            0.00s\n",
      "CPU times: user 6min 11s, sys: 593 ms, total: 6min 11s\n",
      "Wall time: 6min 15s\n"
     ]
    },
    {
     "data": {
      "text/plain": [
       "GradientBoostingRegressor(alpha=0.9, criterion='friedman_mse', init=None,\n",
       "                          learning_rate=0.1, loss='ls', max_depth=3,\n",
       "                          max_features=None, max_leaf_nodes=None,\n",
       "                          min_impurity_decrease=0.0, min_impurity_split=None,\n",
       "                          min_samples_leaf=1, min_samples_split=2,\n",
       "                          min_weight_fraction_leaf=0.0, n_estimators=250,\n",
       "                          n_iter_no_change=None, presort='auto',\n",
       "                          random_state=42, subsample=1.0, tol=0.0001,\n",
       "                          validation_fraction=0.1, verbose=50,\n",
       "                          warm_start=False)"
      ]
     },
     "execution_count": 120,
     "metadata": {},
     "output_type": "execute_result"
    }
   ],
   "source": [
    "#%%time\n",
    "\n",
    "#gbr_1 = GradientBoostingRegressor(random_state=RND_ST, n_estimators=250, learning_rate=0.1, max_depth=3, verbose=50)\n",
    "#gbr_1.fit(X_train_, y_train_)"
   ]
  },
  {
   "cell_type": "markdown",
   "metadata": {},
   "source": [
    "**Время обучения**  6 min 11 sec - 371 sec  \n",
    "**Train loss** = 3930568,8"
   ]
  },
  {
   "cell_type": "code",
   "execution_count": 124,
   "metadata": {},
   "outputs": [
    {
     "name": "stdout",
     "output_type": "stream",
     "text": [
      "RMSE на обучающей выборке 1982.5662217682325\n",
      "\n",
      "CPU times: user 2.92 s, sys: 196 ms, total: 3.11 s\n",
      "Wall time: 3.11 s\n"
     ]
    }
   ],
   "source": [
    "#%%time\n",
    "#print('RMSE на обучающей выборке', rmse_score(gbr_1, X_train_, y_train_))\n",
    "#print()"
   ]
  },
  {
   "cell_type": "code",
   "execution_count": 125,
   "metadata": {},
   "outputs": [
    {
     "name": "stdout",
     "output_type": "stream",
     "text": [
      "RMSE на валидационной выборке 2006.0632865173493\n",
      "\n",
      "CPU times: user 790 ms, sys: 68.1 ms, total: 858 ms\n",
      "Wall time: 856 ms\n"
     ]
    }
   ],
   "source": [
    "#%%time\n",
    "#print('RMSE на валидационной выборке', rmse_score(gbr_1, X_valid_, y_valid_))\n",
    "#print()"
   ]
  },
  {
   "cell_type": "markdown",
   "metadata": {},
   "source": [
    "Без сильного подбора гиперпараметров удалось на валидационной выборке улучшить качество, относительно первоначального, до 2006 Евро (метрика RMSE). Посмотрим, что смогут сделать другие модели.  \n",
    "\n",
    "Результаты исследования для наглядности соберем в отдельный фрейм.  "
   ]
  },
  {
   "cell_type": "code",
   "execution_count": 162,
   "metadata": {},
   "outputs": [],
   "source": [
    "res = {\n",
    "    'model_name':pd.Series(['GradBoost','xgboost','lightGBM','CatBoost']),\n",
    "    'training_time':pd.Series([371,0,0,0]),\n",
    "    'prediction_valid_time':pd.Series([858,0,0,0]), \n",
    "    'rmse_valid':pd.Series([2006,0,0,0]), \n",
    "    'prediction_test_time':pd.Series([0,0,0,0]), \n",
    "    'rmse_test':pd.Series([0,0,0,0])}"
   ]
  },
  {
   "cell_type": "code",
   "execution_count": 163,
   "metadata": {},
   "outputs": [
    {
     "data": {
      "text/html": [
       "<div>\n",
       "<style scoped>\n",
       "    .dataframe tbody tr th:only-of-type {\n",
       "        vertical-align: middle;\n",
       "    }\n",
       "\n",
       "    .dataframe tbody tr th {\n",
       "        vertical-align: top;\n",
       "    }\n",
       "\n",
       "    .dataframe thead th {\n",
       "        text-align: right;\n",
       "    }\n",
       "</style>\n",
       "<table border=\"1\" class=\"dataframe\">\n",
       "  <thead>\n",
       "    <tr style=\"text-align: right;\">\n",
       "      <th></th>\n",
       "      <th>model_name</th>\n",
       "      <th>training_time</th>\n",
       "      <th>prediction_valid_time</th>\n",
       "      <th>rmse_valid</th>\n",
       "      <th>prediction_test_time</th>\n",
       "      <th>rmse_test</th>\n",
       "    </tr>\n",
       "  </thead>\n",
       "  <tbody>\n",
       "    <tr>\n",
       "      <td>0</td>\n",
       "      <td>GradBoost</td>\n",
       "      <td>371</td>\n",
       "      <td>858</td>\n",
       "      <td>2006</td>\n",
       "      <td>0</td>\n",
       "      <td>0</td>\n",
       "    </tr>\n",
       "    <tr>\n",
       "      <td>1</td>\n",
       "      <td>xgboost</td>\n",
       "      <td>0</td>\n",
       "      <td>0</td>\n",
       "      <td>0</td>\n",
       "      <td>0</td>\n",
       "      <td>0</td>\n",
       "    </tr>\n",
       "    <tr>\n",
       "      <td>2</td>\n",
       "      <td>lightGBM</td>\n",
       "      <td>0</td>\n",
       "      <td>0</td>\n",
       "      <td>0</td>\n",
       "      <td>0</td>\n",
       "      <td>0</td>\n",
       "    </tr>\n",
       "    <tr>\n",
       "      <td>3</td>\n",
       "      <td>CatBoost</td>\n",
       "      <td>0</td>\n",
       "      <td>0</td>\n",
       "      <td>0</td>\n",
       "      <td>0</td>\n",
       "      <td>0</td>\n",
       "    </tr>\n",
       "  </tbody>\n",
       "</table>\n",
       "</div>"
      ],
      "text/plain": [
       "  model_name  training_time  prediction_valid_time  rmse_valid  \\\n",
       "0  GradBoost            371                    858        2006   \n",
       "1    xgboost              0                      0           0   \n",
       "2   lightGBM              0                      0           0   \n",
       "3   CatBoost              0                      0           0   \n",
       "\n",
       "   prediction_test_time  rmse_test  \n",
       "0                     0          0  \n",
       "1                     0          0  \n",
       "2                     0          0  \n",
       "3                     0          0  "
      ]
     },
     "execution_count": 163,
     "metadata": {},
     "output_type": "execute_result"
    }
   ],
   "source": [
    "results = pd.DataFrame(res)\n",
    "results"
   ]
  },
  {
   "cell_type": "markdown",
   "metadata": {},
   "source": [
    "   **Итог GradientBoosting**\n",
    "\n",
    "Обучение - 371 сек  \n",
    "Предсказание на валидации - 0858 мсек  \n",
    "RMSE на валидации - 2006.  \n",
    "Переобучения не обнаружено.\n",
    "\n",
    "---"
   ]
  },
  {
   "cell_type": "markdown",
   "metadata": {},
   "source": [
    "#### XGboost"
   ]
  },
  {
   "cell_type": "code",
   "execution_count": 140,
   "metadata": {},
   "outputs": [],
   "source": [
    "dtrain = xgb.DMatrix(X_train_, label=y_train_)\n",
    "dval = xgb.DMatrix(X_valid_)\n",
    "dtest = xgb.DMatrix(X_test_)"
   ]
  },
  {
   "cell_type": "code",
   "execution_count": 152,
   "metadata": {},
   "outputs": [
    {
     "name": "stdout",
     "output_type": "stream",
     "text": [
      "CPU times: user 1min 14s, sys: 82.6 ms, total: 1min 14s\n",
      "Wall time: 1min 15s\n"
     ]
    }
   ],
   "source": [
    "%%time\n",
    "param = {'max_depth':3, \n",
    "         'eta':1, \n",
    "         'sampling_method':'gradient_based', \n",
    "         'verbosity':1, \n",
    "         'gamma':10, \n",
    "         'seed':RND_ST}\n",
    "\n",
    "num_round = 30\n",
    "\n",
    "bst = xgb.train(param, dtrain, num_round)"
   ]
  },
  {
   "cell_type": "markdown",
   "metadata": {},
   "source": [
    "Как же быстро учится xgboost. Всего 50 секунд. Посмотрим на результаты."
   ]
  },
  {
   "cell_type": "code",
   "execution_count": 153,
   "metadata": {},
   "outputs": [
    {
     "name": "stdout",
     "output_type": "stream",
     "text": [
      "RMSE на обучающей выборке 2074.7795804530724\n",
      "\n",
      "CPU times: user 41.6 ms, sys: 3.58 ms, total: 45.2 ms\n",
      "Wall time: 8.68 ms\n"
     ]
    }
   ],
   "source": [
    "%%time\n",
    "print('RMSE на обучающей выборке', rmse_score(bst, dtrain, y_train_))\n",
    "print()"
   ]
  },
  {
   "cell_type": "code",
   "execution_count": 154,
   "metadata": {},
   "outputs": [
    {
     "name": "stdout",
     "output_type": "stream",
     "text": [
      "RMSE на валидационной выборке 2098.706310996195\n",
      "\n",
      "CPU times: user 245 ms, sys: 4.04 ms, total: 249 ms\n",
      "Wall time: 209 ms\n"
     ]
    }
   ],
   "source": [
    "%%time\n",
    "print('RMSE на валидационной выборке', rmse_score(bst, dval, y_valid_))\n",
    "print()"
   ]
  },
  {
   "cell_type": "markdown",
   "metadata": {},
   "source": [
    "Учится в разы быстрее, результат на обучающей и валидационной выборках ~ равен GradientBoosting'у.  \n",
    "\n",
    "Еще немного поиграем с параметрами."
   ]
  },
  {
   "cell_type": "code",
   "execution_count": 157,
   "metadata": {},
   "outputs": [
    {
     "name": "stdout",
     "output_type": "stream",
     "text": [
      "CPU times: user 2min 37s, sys: 241 ms, total: 2min 37s\n",
      "Wall time: 2min 38s\n"
     ]
    }
   ],
   "source": [
    "%%time\n",
    "param = {'max_depth':6, \n",
    "         'eta':0.5, \n",
    "         'min_child_weight':4,\n",
    "         'sampling_method':'gradient_based', \n",
    "         'verbosity':1,  \n",
    "         'seed':RND_ST}\n",
    "\n",
    "num_round = 35\n",
    "\n",
    "bst = xgb.train(param, dtrain, num_round)"
   ]
  },
  {
   "cell_type": "code",
   "execution_count": 158,
   "metadata": {},
   "outputs": [
    {
     "name": "stdout",
     "output_type": "stream",
     "text": [
      "RMSE на обучающей выборке 1835.402423318687\n",
      "\n",
      "CPU times: user 44.5 ms, sys: 0 ns, total: 44.5 ms\n",
      "Wall time: 8.74 ms\n"
     ]
    }
   ],
   "source": [
    "%%time\n",
    "print('RMSE на обучающей выборке', rmse_score(bst, dtrain, y_train_))\n",
    "print()"
   ]
  },
  {
   "cell_type": "code",
   "execution_count": 159,
   "metadata": {},
   "outputs": [
    {
     "name": "stdout",
     "output_type": "stream",
     "text": [
      "RMSE на валидационной выборке 1908.5250873970024\n",
      "\n",
      "CPU times: user 342 ms, sys: 539 µs, total: 342 ms\n",
      "Wall time: 306 ms\n"
     ]
    }
   ],
   "source": [
    "%%time\n",
    "print('RMSE на валидационной выборке', rmse_score(bst, dval, y_valid_))\n",
    "print()"
   ]
  },
  {
   "cell_type": "markdown",
   "metadata": {},
   "source": [
    "Удалось улучшить RMSE на валидационной выборке, в сравнении с Gradient boosting, пусть и не намного.  \n",
    "Однако, заметро улучшилось время обучения и предсказания."
   ]
  },
  {
   "cell_type": "code",
   "execution_count": 167,
   "metadata": {},
   "outputs": [],
   "source": [
    "results.loc[1,'training_time'] = 158\n",
    "results.loc[1,'prediction_valid_time'] = 342\n",
    "results.loc[1,'rmse_valid'] = 1908.5"
   ]
  },
  {
   "cell_type": "code",
   "execution_count": 169,
   "metadata": {},
   "outputs": [
    {
     "data": {
      "text/html": [
       "<div>\n",
       "<style scoped>\n",
       "    .dataframe tbody tr th:only-of-type {\n",
       "        vertical-align: middle;\n",
       "    }\n",
       "\n",
       "    .dataframe tbody tr th {\n",
       "        vertical-align: top;\n",
       "    }\n",
       "\n",
       "    .dataframe thead th {\n",
       "        text-align: right;\n",
       "    }\n",
       "</style>\n",
       "<table border=\"1\" class=\"dataframe\">\n",
       "  <thead>\n",
       "    <tr style=\"text-align: right;\">\n",
       "      <th></th>\n",
       "      <th>model_name</th>\n",
       "      <th>training_time</th>\n",
       "      <th>prediction_valid_time</th>\n",
       "      <th>rmse_valid</th>\n",
       "      <th>prediction_test_time</th>\n",
       "      <th>rmse_test</th>\n",
       "    </tr>\n",
       "  </thead>\n",
       "  <tbody>\n",
       "    <tr>\n",
       "      <td>0</td>\n",
       "      <td>GradBoost</td>\n",
       "      <td>371</td>\n",
       "      <td>858</td>\n",
       "      <td>2006.0</td>\n",
       "      <td>0</td>\n",
       "      <td>0</td>\n",
       "    </tr>\n",
       "    <tr>\n",
       "      <td>1</td>\n",
       "      <td>xgboost</td>\n",
       "      <td>158</td>\n",
       "      <td>342</td>\n",
       "      <td>1908.5</td>\n",
       "      <td>0</td>\n",
       "      <td>0</td>\n",
       "    </tr>\n",
       "    <tr>\n",
       "      <td>2</td>\n",
       "      <td>lightGBM</td>\n",
       "      <td>0</td>\n",
       "      <td>0</td>\n",
       "      <td>0.0</td>\n",
       "      <td>0</td>\n",
       "      <td>0</td>\n",
       "    </tr>\n",
       "    <tr>\n",
       "      <td>3</td>\n",
       "      <td>CatBoost</td>\n",
       "      <td>0</td>\n",
       "      <td>0</td>\n",
       "      <td>0.0</td>\n",
       "      <td>0</td>\n",
       "      <td>0</td>\n",
       "    </tr>\n",
       "  </tbody>\n",
       "</table>\n",
       "</div>"
      ],
      "text/plain": [
       "  model_name  training_time  prediction_valid_time  rmse_valid  \\\n",
       "0  GradBoost            371                    858      2006.0   \n",
       "1    xgboost            158                    342      1908.5   \n",
       "2   lightGBM              0                      0         0.0   \n",
       "3   CatBoost              0                      0         0.0   \n",
       "\n",
       "   prediction_test_time  rmse_test  \n",
       "0                     0          0  \n",
       "1                     0          0  \n",
       "2                     0          0  \n",
       "3                     0          0  "
      ]
     },
     "execution_count": 169,
     "metadata": {},
     "output_type": "execute_result"
    }
   ],
   "source": [
    "results"
   ]
  },
  {
   "cell_type": "markdown",
   "metadata": {},
   "source": [
    "**Итог xgbost**\n",
    "\n",
    "Обучение - 158 сек  \n",
    "Предсказание на валидации - 342 мсек  \n",
    "RMSE на валидации - 1908,5.  \n",
    "Переобучения не обнаружено. Заметно легкое недообучение.\n",
    "\n",
    "---"
   ]
  },
  {
   "cell_type": "markdown",
   "metadata": {},
   "source": [
    "#### LightGBM  "
   ]
  },
  {
   "cell_type": "markdown",
   "metadata": {},
   "source": [
    "Переводим категориальные признаки из 'str' в 'int'"
   ]
  },
  {
   "cell_type": "code",
   "execution_count": 199,
   "metadata": {},
   "outputs": [],
   "source": [
    "features_light = features.copy()"
   ]
  },
  {
   "cell_type": "code",
   "execution_count": 206,
   "metadata": {},
   "outputs": [
    {
     "data": {
      "text/html": [
       "<div>\n",
       "<style scoped>\n",
       "    .dataframe tbody tr th:only-of-type {\n",
       "        vertical-align: middle;\n",
       "    }\n",
       "\n",
       "    .dataframe tbody tr th {\n",
       "        vertical-align: top;\n",
       "    }\n",
       "\n",
       "    .dataframe thead th {\n",
       "        text-align: right;\n",
       "    }\n",
       "</style>\n",
       "<table border=\"1\" class=\"dataframe\">\n",
       "  <thead>\n",
       "    <tr style=\"text-align: right;\">\n",
       "      <th></th>\n",
       "      <th>VehicleType</th>\n",
       "      <th>RegistrationYear</th>\n",
       "      <th>Gearbox</th>\n",
       "      <th>Model</th>\n",
       "      <th>Kilometer</th>\n",
       "      <th>FuelType</th>\n",
       "      <th>Brand</th>\n",
       "      <th>NotRepaired</th>\n",
       "      <th>Power_upd</th>\n",
       "    </tr>\n",
       "  </thead>\n",
       "  <tbody>\n",
       "    <tr>\n",
       "      <td>0</td>\n",
       "      <td>sedan</td>\n",
       "      <td>1993</td>\n",
       "      <td>manual</td>\n",
       "      <td>golf</td>\n",
       "      <td>150000</td>\n",
       "      <td>petrol</td>\n",
       "      <td>volkswagen</td>\n",
       "      <td>no</td>\n",
       "      <td>101</td>\n",
       "    </tr>\n",
       "    <tr>\n",
       "      <td>1</td>\n",
       "      <td>coupe</td>\n",
       "      <td>2011</td>\n",
       "      <td>manual</td>\n",
       "      <td>a4</td>\n",
       "      <td>125000</td>\n",
       "      <td>gasoline</td>\n",
       "      <td>audi</td>\n",
       "      <td>yes</td>\n",
       "      <td>190</td>\n",
       "    </tr>\n",
       "    <tr>\n",
       "      <td>2</td>\n",
       "      <td>suv</td>\n",
       "      <td>2004</td>\n",
       "      <td>auto</td>\n",
       "      <td>grand</td>\n",
       "      <td>125000</td>\n",
       "      <td>gasoline</td>\n",
       "      <td>jeep</td>\n",
       "      <td>no</td>\n",
       "      <td>163</td>\n",
       "    </tr>\n",
       "    <tr>\n",
       "      <td>3</td>\n",
       "      <td>small</td>\n",
       "      <td>2001</td>\n",
       "      <td>manual</td>\n",
       "      <td>golf</td>\n",
       "      <td>150000</td>\n",
       "      <td>petrol</td>\n",
       "      <td>volkswagen</td>\n",
       "      <td>no</td>\n",
       "      <td>75</td>\n",
       "    </tr>\n",
       "    <tr>\n",
       "      <td>4</td>\n",
       "      <td>small</td>\n",
       "      <td>2008</td>\n",
       "      <td>manual</td>\n",
       "      <td>fabia</td>\n",
       "      <td>90000</td>\n",
       "      <td>gasoline</td>\n",
       "      <td>skoda</td>\n",
       "      <td>no</td>\n",
       "      <td>69</td>\n",
       "    </tr>\n",
       "  </tbody>\n",
       "</table>\n",
       "</div>"
      ],
      "text/plain": [
       "  VehicleType  RegistrationYear Gearbox  Model  Kilometer  FuelType  \\\n",
       "0       sedan              1993  manual   golf     150000    petrol   \n",
       "1       coupe              2011  manual     a4     125000  gasoline   \n",
       "2         suv              2004    auto  grand     125000  gasoline   \n",
       "3       small              2001  manual   golf     150000    petrol   \n",
       "4       small              2008  manual  fabia      90000  gasoline   \n",
       "\n",
       "        Brand NotRepaired  Power_upd  \n",
       "0  volkswagen          no        101  \n",
       "1        audi         yes        190  \n",
       "2        jeep          no        163  \n",
       "3  volkswagen          no         75  \n",
       "4       skoda          no         69  "
      ]
     },
     "execution_count": 206,
     "metadata": {},
     "output_type": "execute_result"
    }
   ],
   "source": [
    "features.head()"
   ]
  },
  {
   "cell_type": "code",
   "execution_count": 200,
   "metadata": {},
   "outputs": [
    {
     "data": {
      "text/plain": [
       "Index(['VehicleType', 'RegistrationYear', 'Gearbox', 'Model', 'Kilometer',\n",
       "       'FuelType', 'Brand', 'NotRepaired', 'Power_upd'],\n",
       "      dtype='object')"
      ]
     },
     "execution_count": 200,
     "metadata": {},
     "output_type": "execute_result"
    }
   ],
   "source": [
    "features_light.columns"
   ]
  },
  {
   "cell_type": "code",
   "execution_count": 201,
   "metadata": {},
   "outputs": [],
   "source": [
    "from sklearn.preprocessing import OrdinalEncoder\n",
    "enc = OrdinalEncoder()"
   ]
  },
  {
   "cell_type": "code",
   "execution_count": 202,
   "metadata": {},
   "outputs": [],
   "source": [
    "cat_feat = ['VehicleType', 'Gearbox', 'Model', 'FuelType', 'Brand', 'NotRepaired']\n",
    "\n",
    "features_light[cat_feat] = enc.fit_transform(features_light[cat_feat]).astype('int')"
   ]
  },
  {
   "cell_type": "code",
   "execution_count": 204,
   "metadata": {},
   "outputs": [
    {
     "data": {
      "text/html": [
       "<div>\n",
       "<style scoped>\n",
       "    .dataframe tbody tr th:only-of-type {\n",
       "        vertical-align: middle;\n",
       "    }\n",
       "\n",
       "    .dataframe tbody tr th {\n",
       "        vertical-align: top;\n",
       "    }\n",
       "\n",
       "    .dataframe thead th {\n",
       "        text-align: right;\n",
       "    }\n",
       "</style>\n",
       "<table border=\"1\" class=\"dataframe\">\n",
       "  <thead>\n",
       "    <tr style=\"text-align: right;\">\n",
       "      <th></th>\n",
       "      <th>VehicleType</th>\n",
       "      <th>RegistrationYear</th>\n",
       "      <th>Gearbox</th>\n",
       "      <th>Model</th>\n",
       "      <th>Kilometer</th>\n",
       "      <th>FuelType</th>\n",
       "      <th>Brand</th>\n",
       "      <th>NotRepaired</th>\n",
       "      <th>Power_upd</th>\n",
       "    </tr>\n",
       "  </thead>\n",
       "  <tbody>\n",
       "    <tr>\n",
       "      <td>0</td>\n",
       "      <td>4</td>\n",
       "      <td>1993</td>\n",
       "      <td>1</td>\n",
       "      <td>116</td>\n",
       "      <td>150000</td>\n",
       "      <td>6</td>\n",
       "      <td>38</td>\n",
       "      <td>0</td>\n",
       "      <td>101</td>\n",
       "    </tr>\n",
       "    <tr>\n",
       "      <td>1</td>\n",
       "      <td>2</td>\n",
       "      <td>2011</td>\n",
       "      <td>1</td>\n",
       "      <td>29</td>\n",
       "      <td>125000</td>\n",
       "      <td>2</td>\n",
       "      <td>1</td>\n",
       "      <td>1</td>\n",
       "      <td>190</td>\n",
       "    </tr>\n",
       "    <tr>\n",
       "      <td>2</td>\n",
       "      <td>6</td>\n",
       "      <td>2004</td>\n",
       "      <td>0</td>\n",
       "      <td>117</td>\n",
       "      <td>125000</td>\n",
       "      <td>2</td>\n",
       "      <td>14</td>\n",
       "      <td>0</td>\n",
       "      <td>163</td>\n",
       "    </tr>\n",
       "    <tr>\n",
       "      <td>3</td>\n",
       "      <td>5</td>\n",
       "      <td>2001</td>\n",
       "      <td>1</td>\n",
       "      <td>116</td>\n",
       "      <td>150000</td>\n",
       "      <td>6</td>\n",
       "      <td>38</td>\n",
       "      <td>0</td>\n",
       "      <td>75</td>\n",
       "    </tr>\n",
       "    <tr>\n",
       "      <td>4</td>\n",
       "      <td>5</td>\n",
       "      <td>2008</td>\n",
       "      <td>1</td>\n",
       "      <td>101</td>\n",
       "      <td>90000</td>\n",
       "      <td>2</td>\n",
       "      <td>31</td>\n",
       "      <td>0</td>\n",
       "      <td>69</td>\n",
       "    </tr>\n",
       "  </tbody>\n",
       "</table>\n",
       "</div>"
      ],
      "text/plain": [
       "   VehicleType  RegistrationYear  Gearbox  Model  Kilometer  FuelType  Brand  \\\n",
       "0            4              1993        1    116     150000         6     38   \n",
       "1            2              2011        1     29     125000         2      1   \n",
       "2            6              2004        0    117     125000         2     14   \n",
       "3            5              2001        1    116     150000         6     38   \n",
       "4            5              2008        1    101      90000         2     31   \n",
       "\n",
       "   NotRepaired  Power_upd  \n",
       "0            0        101  \n",
       "1            1        190  \n",
       "2            0        163  \n",
       "3            0         75  \n",
       "4            0         69  "
      ]
     },
     "execution_count": 204,
     "metadata": {},
     "output_type": "execute_result"
    }
   ],
   "source": [
    "features_light.head()"
   ]
  },
  {
   "cell_type": "markdown",
   "metadata": {},
   "source": [
    "Создаем три подвыборки."
   ]
  },
  {
   "cell_type": "code",
   "execution_count": 209,
   "metadata": {},
   "outputs": [
    {
     "name": "stdout",
     "output_type": "stream",
     "text": [
      "212487 70829 70830\n"
     ]
    }
   ],
   "source": [
    "X_train_val_l, X_test_l, y_train_val_l, y_test_l = train_test_split(\n",
    "    features_light, target, test_size=0.2, random_state=RND_ST)\n",
    "\n",
    " \n",
    "X_train_l, X_valid_l, y_train_l, y_valid_l = train_test_split(\n",
    "    X_train_val_l, y_train_val_l, test_size=0.25, random_state=RND_ST)\n",
    "\n",
    "\n",
    "print(X_train_l.shape[0], X_valid_l.shape[0], X_test_l.shape[0])"
   ]
  },
  {
   "cell_type": "code",
   "execution_count": null,
   "metadata": {},
   "outputs": [],
   "source": [
    "train_data = lgb.Dataset(X_train_l, y_train_l, categorical_feature=cat_feat)\n",
    "valid_data = lgb.Dataset(X_valid_l, categorical_feature=cat_feat) \n",
    "test_data = lgb.Dataset(X_test_l, categorical_feature=cat_feat)"
   ]
  },
  {
   "cell_type": "markdown",
   "metadata": {},
   "source": [
    "Укажем первичные параметры."
   ]
  },
  {
   "cell_type": "code",
   "execution_count": 213,
   "metadata": {},
   "outputs": [],
   "source": [
    "params = {\n",
    "    'boosting_type': 'gbdt',\n",
    "    'objective': 'regression',\n",
    "    #'max_depth':15,\n",
    "    'num_leaves': 127,\n",
    "    'min_data_in_leaf':100,\n",
    "    'metric':'rmse',\n",
    "    'learning_rate': 1,\n",
    "    #'feature_fraction': 0.8,\n",
    "    #'bagging_fraction': 0.5,\n",
    "    'verbose': 1\n",
    "}"
   ]
  },
  {
   "cell_type": "code",
   "execution_count": 214,
   "metadata": {},
   "outputs": [
    {
     "name": "stdout",
     "output_type": "stream",
     "text": [
      "CPU times: user 28.7 s, sys: 81.5 ms, total: 28.8 s\n",
      "Wall time: 29.1 s\n"
     ]
    }
   ],
   "source": [
    "%%time\n",
    "gbm = lgb.train(params,\n",
    "                train_data,\n",
    "                num_boost_round=30)"
   ]
  },
  {
   "cell_type": "code",
   "execution_count": 219,
   "metadata": {},
   "outputs": [
    {
     "name": "stdout",
     "output_type": "stream",
     "text": [
      "RMSE на обучающей выборке 1668.8563096403889\n",
      "\n",
      "CPU times: user 1.25 s, sys: 135 µs, total: 1.25 s\n",
      "Wall time: 1.23 s\n"
     ]
    }
   ],
   "source": [
    "%%time\n",
    "print('RMSE на обучающей выборке', rmse_score(gbm, X_train_l, y_train_l))\n",
    "print()"
   ]
  },
  {
   "cell_type": "code",
   "execution_count": 228,
   "metadata": {},
   "outputs": [
    {
     "name": "stdout",
     "output_type": "stream",
     "text": [
      "RMSE на валидационной выборке 1760.0922516596775\n",
      "\n",
      "CPU times: user 2.65 s, sys: 4.09 ms, total: 2.65 s\n",
      "Wall time: 2.6 s\n"
     ]
    }
   ],
   "source": [
    "%%time\n",
    "print('RMSE на валидационной выборке', rmse_score(gbm, X_valid_l, y_valid_l))\n",
    "print()"
   ]
  },
  {
   "cell_type": "markdown",
   "metadata": {},
   "source": [
    "Заметно сильное переобучение модели. Однако скорость обучения и rmse на валидационной выборке лучше предыдущиз двух моделей.  \n",
    "\n",
    "Еще поиграем с гиперпараметрами."
   ]
  },
  {
   "cell_type": "code",
   "execution_count": 225,
   "metadata": {},
   "outputs": [],
   "source": [
    "params_upd = {\n",
    "    'boosting_type': 'gbdt',\n",
    "    'tree_learner':'feature',\n",
    "    'objective': 'regression',\n",
    "    #'max_depth':12,\n",
    "    'num_leaves': 300,\n",
    "    #'min_data_in_leaf':300,\n",
    "    'max_bin':100,\n",
    "    'learning_rate': 0.35,\n",
    "    'num_iteration':150,\n",
    "    'metric':'rmse',\n",
    "    'verbose': 1\n",
    "}"
   ]
  },
  {
   "cell_type": "code",
   "execution_count": 226,
   "metadata": {},
   "outputs": [
    {
     "name": "stdout",
     "output_type": "stream",
     "text": [
      "CPU times: user 2min 34s, sys: 733 ms, total: 2min 35s\n",
      "Wall time: 2min 36s\n"
     ]
    }
   ],
   "source": [
    "%%time\n",
    "gbm = lgb.train(params_upd,\n",
    "                train_data,\n",
    "                num_boost_round=45)"
   ]
  },
  {
   "cell_type": "code",
   "execution_count": 227,
   "metadata": {},
   "outputs": [
    {
     "name": "stdout",
     "output_type": "stream",
     "text": [
      "RMSE на обучающей выборке 1325.6997046051652\n",
      "\n",
      "CPU times: user 7.85 s, sys: 7.53 ms, total: 7.86 s\n",
      "Wall time: 7.77 s\n"
     ]
    }
   ],
   "source": [
    "%%time\n",
    "print('RMSE на обучающей выборке', rmse_score(gbm, X_train_l, y_train_l))\n",
    "print()"
   ]
  },
  {
   "cell_type": "code",
   "execution_count": 229,
   "metadata": {},
   "outputs": [
    {
     "name": "stdout",
     "output_type": "stream",
     "text": [
      "RMSE на валидационной выборке 1760.0922516596775\n",
      "\n",
      "CPU times: user 2.63 s, sys: 3.63 ms, total: 2.63 s\n",
      "Wall time: 2.62 s\n"
     ]
    }
   ],
   "source": [
    "%%time\n",
    "print('RMSE на валидационной выборке', rmse_score(gbm, X_valid_l, y_valid_l))\n",
    "print()"
   ]
  },
  {
   "cell_type": "markdown",
   "metadata": {},
   "source": [
    "Cнова удалось улучшить RMSE на валидационной выборке, в сравнении с предыдущими моделями.\n",
    "Чуть хуже стало время предсказания.\n"
   ]
  },
  {
   "cell_type": "code",
   "execution_count": 274,
   "metadata": {},
   "outputs": [],
   "source": [
    "results.loc[2,'training_time'] = 155\n",
    "results.loc[2,'prediction_valid_time'] = 2630\n",
    "results.loc[2,'rmse_valid'] = 1760.1"
   ]
  },
  {
   "cell_type": "code",
   "execution_count": 235,
   "metadata": {},
   "outputs": [
    {
     "data": {
      "text/html": [
       "<div>\n",
       "<style scoped>\n",
       "    .dataframe tbody tr th:only-of-type {\n",
       "        vertical-align: middle;\n",
       "    }\n",
       "\n",
       "    .dataframe tbody tr th {\n",
       "        vertical-align: top;\n",
       "    }\n",
       "\n",
       "    .dataframe thead th {\n",
       "        text-align: right;\n",
       "    }\n",
       "</style>\n",
       "<table border=\"1\" class=\"dataframe\">\n",
       "  <thead>\n",
       "    <tr style=\"text-align: right;\">\n",
       "      <th></th>\n",
       "      <th>model_name</th>\n",
       "      <th>training_time</th>\n",
       "      <th>prediction_valid_time</th>\n",
       "      <th>rmse_valid</th>\n",
       "      <th>prediction_test_time</th>\n",
       "      <th>rmse_test</th>\n",
       "    </tr>\n",
       "  </thead>\n",
       "  <tbody>\n",
       "    <tr>\n",
       "      <td>0</td>\n",
       "      <td>GradBoost</td>\n",
       "      <td>371</td>\n",
       "      <td>858</td>\n",
       "      <td>2006.0</td>\n",
       "      <td>0</td>\n",
       "      <td>0</td>\n",
       "    </tr>\n",
       "    <tr>\n",
       "      <td>1</td>\n",
       "      <td>xgboost</td>\n",
       "      <td>158</td>\n",
       "      <td>342</td>\n",
       "      <td>1908.5</td>\n",
       "      <td>0</td>\n",
       "      <td>0</td>\n",
       "    </tr>\n",
       "    <tr>\n",
       "      <td>2</td>\n",
       "      <td>lightGBM</td>\n",
       "      <td>156</td>\n",
       "      <td>2620</td>\n",
       "      <td>1760.1</td>\n",
       "      <td>0</td>\n",
       "      <td>0</td>\n",
       "    </tr>\n",
       "    <tr>\n",
       "      <td>3</td>\n",
       "      <td>CatBoost</td>\n",
       "      <td>0</td>\n",
       "      <td>0</td>\n",
       "      <td>0.0</td>\n",
       "      <td>0</td>\n",
       "      <td>0</td>\n",
       "    </tr>\n",
       "  </tbody>\n",
       "</table>\n",
       "</div>"
      ],
      "text/plain": [
       "  model_name  training_time  prediction_valid_time  rmse_valid  \\\n",
       "0  GradBoost            371                    858      2006.0   \n",
       "1    xgboost            158                    342      1908.5   \n",
       "2   lightGBM            156                   2620      1760.1   \n",
       "3   CatBoost              0                      0         0.0   \n",
       "\n",
       "   prediction_test_time  rmse_test  \n",
       "0                     0          0  \n",
       "1                     0          0  \n",
       "2                     0          0  \n",
       "3                     0          0  "
      ]
     },
     "execution_count": 235,
     "metadata": {},
     "output_type": "execute_result"
    }
   ],
   "source": [
    "results"
   ]
  },
  {
   "cell_type": "markdown",
   "metadata": {},
   "source": [
    "**Итог LightGBM**\n",
    "\n",
    "Обучение - 155 сек  \n",
    "Предсказание на валидации - 2630 мсек  \n",
    "RMSE на валидации - 1760.1.  \n",
    "Заметно переобучение.\n",
    "\n",
    "---"
   ]
  },
  {
   "cell_type": "markdown",
   "metadata": {},
   "source": [
    "#### CatBoost  \n",
    "\n",
    "Категориальные фичи-значения ('str') теперь можно не переводить в цифровые!  \n",
    "Снова создаем три подвыборки."
   ]
  },
  {
   "cell_type": "code",
   "execution_count": 238,
   "metadata": {},
   "outputs": [
    {
     "name": "stdout",
     "output_type": "stream",
     "text": [
      "212487 70829 70830\n"
     ]
    }
   ],
   "source": [
    "X_train_val_c, X_test_c, y_train_val_c, y_test_c = train_test_split(\n",
    "    features, target, test_size=0.2, random_state=RND_ST)\n",
    "\n",
    " \n",
    "X_train_c, X_valid_c, y_train_c, y_valid_c = train_test_split(\n",
    "    X_train_val_c, y_train_val_c, test_size=0.25, random_state=RND_ST)\n",
    "\n",
    "\n",
    "print(X_train_c.shape[0], X_valid_c.shape[0], X_test_c.shape[0])"
   ]
  },
  {
   "cell_type": "code",
   "execution_count": 239,
   "metadata": {},
   "outputs": [
    {
     "data": {
      "text/plain": [
       "Index(['VehicleType', 'RegistrationYear', 'Gearbox', 'Model', 'Kilometer',\n",
       "       'FuelType', 'Brand', 'NotRepaired', 'Power_upd'],\n",
       "      dtype='object')"
      ]
     },
     "execution_count": 239,
     "metadata": {},
     "output_type": "execute_result"
    }
   ],
   "source": [
    "X_train_c.columns"
   ]
  },
  {
   "cell_type": "markdown",
   "metadata": {},
   "source": [
    "Создаем три пула."
   ]
  },
  {
   "cell_type": "code",
   "execution_count": 241,
   "metadata": {},
   "outputs": [],
   "source": [
    "train_pool = Pool(X_train_c, \n",
    "                  y_train_c, \n",
    "                  cat_features=cat_feat)\n",
    "\n",
    "valid_pool = Pool(X_valid_c, \n",
    "                  y_valid_c, \n",
    "                  cat_features=cat_feat)\n",
    "\n",
    "test_pool = Pool(X_test_c, \n",
    "                 cat_features=cat_feat) "
   ]
  },
  {
   "cell_type": "markdown",
   "metadata": {},
   "source": [
    "Обьявляем и обучаем модедь."
   ]
  },
  {
   "cell_type": "code",
   "execution_count": 242,
   "metadata": {},
   "outputs": [],
   "source": [
    "cbr = CatBoostRegressor(depth=6, \n",
    "                        learning_rate=1, \n",
    "                        loss_function='RMSE', \n",
    "                        verbose=50, \n",
    "                        random_state=RND_ST, \n",
    "                        iterations=500)"
   ]
  },
  {
   "cell_type": "code",
   "execution_count": 243,
   "metadata": {},
   "outputs": [
    {
     "name": "stdout",
     "output_type": "stream",
     "text": [
      "0:\tlearn: 2749.6263915\ttotal: 749ms\tremaining: 6m 13s\n",
      "50:\tlearn: 1867.8407471\ttotal: 28.8s\tremaining: 4m 13s\n",
      "100:\tlearn: 1796.0685561\ttotal: 54.6s\tremaining: 3m 35s\n",
      "150:\tlearn: 1757.6578815\ttotal: 1m 20s\tremaining: 3m 6s\n",
      "200:\tlearn: 1730.1046978\ttotal: 1m 46s\tremaining: 2m 38s\n",
      "250:\tlearn: 1705.2820509\ttotal: 2m 14s\tremaining: 2m 13s\n",
      "300:\tlearn: 1688.7381177\ttotal: 2m 40s\tremaining: 1m 46s\n",
      "350:\tlearn: 1669.3618698\ttotal: 3m 7s\tremaining: 1m 19s\n",
      "400:\tlearn: 1653.3333799\ttotal: 3m 34s\tremaining: 53.1s\n",
      "450:\tlearn: 1637.4716407\ttotal: 4m 1s\tremaining: 26.3s\n",
      "499:\tlearn: 1625.3526647\ttotal: 4m 27s\tremaining: 0us\n",
      "CPU times: user 3min 59s, sys: 30.5 s, total: 4min 29s\n",
      "Wall time: 4min 33s\n"
     ]
    },
    {
     "data": {
      "text/plain": [
       "<catboost.core.CatBoostRegressor at 0x7faead7c5e90>"
      ]
     },
     "execution_count": 243,
     "metadata": {},
     "output_type": "execute_result"
    }
   ],
   "source": [
    "%%time\n",
    "cbr.fit(train_pool)"
   ]
  },
  {
   "cell_type": "markdown",
   "metadata": {},
   "source": [
    "277 секунд обучения. Долго, по посмотрим на качество предсказаний."
   ]
  },
  {
   "cell_type": "code",
   "execution_count": 244,
   "metadata": {},
   "outputs": [
    {
     "name": "stdout",
     "output_type": "stream",
     "text": [
      "RMSE на обучающей выборке 1655.0148681679614\n",
      "\n",
      "CPU times: user 2.28 s, sys: 63.4 ms, total: 2.35 s\n",
      "Wall time: 2.31 s\n"
     ]
    }
   ],
   "source": [
    "%%time\n",
    "print('RMSE на обучающей выборке', rmse_score(cbr, X_train_c, y_train_c))\n",
    "print()"
   ]
  },
  {
   "cell_type": "code",
   "execution_count": 245,
   "metadata": {},
   "outputs": [
    {
     "name": "stdout",
     "output_type": "stream",
     "text": [
      "RMSE на валидационной выборке 1842.1329724102134\n",
      "\n",
      "CPU times: user 791 ms, sys: 8.28 ms, total: 800 ms\n",
      "Wall time: 742 ms\n"
     ]
    }
   ],
   "source": [
    "%%time\n",
    "print('RMSE на валидационной выборке', rmse_score(cbr, X_valid_c, y_valid_c))\n",
    "print()"
   ]
  },
  {
   "cell_type": "markdown",
   "metadata": {},
   "source": [
    "Средний показатель, попробуем еще понастраивать параметры."
   ]
  },
  {
   "cell_type": "code",
   "execution_count": 258,
   "metadata": {},
   "outputs": [],
   "source": [
    "cbr_1 = CatBoostRegressor(depth=7, \n",
    "                        learning_rate=0.1, \n",
    "                        loss_function='RMSE', \n",
    "                        verbose=50, \n",
    "                        l2_leaf_reg=10,\n",
    "                        random_state=RND_ST, \n",
    "                        iterations=400)"
   ]
  },
  {
   "cell_type": "code",
   "execution_count": 259,
   "metadata": {},
   "outputs": [
    {
     "name": "stdout",
     "output_type": "stream",
     "text": [
      "0:\tlearn: 4226.4999862\ttotal: 743ms\tremaining: 4m 56s\n",
      "50:\tlearn: 2014.4589545\ttotal: 33.4s\tremaining: 3m 48s\n",
      "100:\tlearn: 1929.1803897\ttotal: 1m 4s\tremaining: 3m 12s\n",
      "150:\tlearn: 1879.8744773\ttotal: 1m 37s\tremaining: 2m 40s\n",
      "200:\tlearn: 1849.2350892\ttotal: 2m 8s\tremaining: 2m 7s\n",
      "250:\tlearn: 1829.2721637\ttotal: 2m 40s\tremaining: 1m 35s\n",
      "300:\tlearn: 1811.5378275\ttotal: 3m 11s\tremaining: 1m 3s\n",
      "350:\tlearn: 1799.6280152\ttotal: 3m 42s\tremaining: 31.1s\n",
      "399:\tlearn: 1790.2170234\ttotal: 4m 12s\tremaining: 0us\n",
      "CPU times: user 3min 45s, sys: 28.8 s, total: 4min 13s\n",
      "Wall time: 4min 17s\n"
     ]
    },
    {
     "data": {
      "text/plain": [
       "<catboost.core.CatBoostRegressor at 0x7faeacb73d10>"
      ]
     },
     "execution_count": 259,
     "metadata": {},
     "output_type": "execute_result"
    }
   ],
   "source": [
    "%%time\n",
    "cbr_1.fit(train_pool)"
   ]
  },
  {
   "cell_type": "code",
   "execution_count": 260,
   "metadata": {},
   "outputs": [
    {
     "name": "stdout",
     "output_type": "stream",
     "text": [
      "RMSE на обучающей выборке 1790.1596560592354\n",
      "\n",
      "CPU times: user 1.47 s, sys: 59.3 ms, total: 1.53 s\n",
      "Wall time: 1.54 s\n"
     ]
    }
   ],
   "source": [
    "%%time\n",
    "print('RMSE на обучающей выборке', rmse_score(cbr_1, X_train_c, y_train_c))\n",
    "print()"
   ]
  },
  {
   "cell_type": "code",
   "execution_count": 261,
   "metadata": {},
   "outputs": [
    {
     "name": "stdout",
     "output_type": "stream",
     "text": [
      "RMSE на валидационной выборке 1841.793468076695\n",
      "\n",
      "CPU times: user 509 ms, sys: 15.4 ms, total: 525 ms\n",
      "Wall time: 483 ms\n"
     ]
    }
   ],
   "source": [
    "%%time\n",
    "print('RMSE на валидационной выборке', rmse_score(cbr_1, X_valid_c, y_valid_c))\n",
    "print()"
   ]
  },
  {
   "cell_type": "markdown",
   "metadata": {},
   "source": [
    "Улучшили метрику RMSE на 1 пункт! Победа, однозначно.  \n",
    "Замечено, что на локальной машине катбуст считает качественнее - на данном примере дома рмсе = 1753 на валидационной выборке."
   ]
  },
  {
   "cell_type": "code",
   "execution_count": 273,
   "metadata": {},
   "outputs": [],
   "source": [
    "results.loc[3,'training_time'] = 253\n",
    "results.loc[3,'prediction_valid_time'] = 525\n",
    "results.loc[3,'rmse_valid'] = 1841.8"
   ]
  },
  {
   "cell_type": "code",
   "execution_count": 264,
   "metadata": {},
   "outputs": [
    {
     "data": {
      "text/html": [
       "<div>\n",
       "<style scoped>\n",
       "    .dataframe tbody tr th:only-of-type {\n",
       "        vertical-align: middle;\n",
       "    }\n",
       "\n",
       "    .dataframe tbody tr th {\n",
       "        vertical-align: top;\n",
       "    }\n",
       "\n",
       "    .dataframe thead th {\n",
       "        text-align: right;\n",
       "    }\n",
       "</style>\n",
       "<table border=\"1\" class=\"dataframe\">\n",
       "  <thead>\n",
       "    <tr style=\"text-align: right;\">\n",
       "      <th></th>\n",
       "      <th>model_name</th>\n",
       "      <th>training_time</th>\n",
       "      <th>prediction_valid_time</th>\n",
       "      <th>rmse_valid</th>\n",
       "      <th>prediction_test_time</th>\n",
       "      <th>rmse_test</th>\n",
       "    </tr>\n",
       "  </thead>\n",
       "  <tbody>\n",
       "    <tr>\n",
       "      <td>0</td>\n",
       "      <td>GradBoost</td>\n",
       "      <td>371</td>\n",
       "      <td>858</td>\n",
       "      <td>2006.0</td>\n",
       "      <td>0</td>\n",
       "      <td>0</td>\n",
       "    </tr>\n",
       "    <tr>\n",
       "      <td>1</td>\n",
       "      <td>xgboost</td>\n",
       "      <td>158</td>\n",
       "      <td>342</td>\n",
       "      <td>1908.5</td>\n",
       "      <td>0</td>\n",
       "      <td>0</td>\n",
       "    </tr>\n",
       "    <tr>\n",
       "      <td>2</td>\n",
       "      <td>lightGBM</td>\n",
       "      <td>156</td>\n",
       "      <td>2620</td>\n",
       "      <td>1760.1</td>\n",
       "      <td>0</td>\n",
       "      <td>0</td>\n",
       "    </tr>\n",
       "    <tr>\n",
       "      <td>3</td>\n",
       "      <td>CatBoost</td>\n",
       "      <td>257</td>\n",
       "      <td>483</td>\n",
       "      <td>1841.8</td>\n",
       "      <td>0</td>\n",
       "      <td>0</td>\n",
       "    </tr>\n",
       "  </tbody>\n",
       "</table>\n",
       "</div>"
      ],
      "text/plain": [
       "  model_name  training_time  prediction_valid_time  rmse_valid  \\\n",
       "0  GradBoost            371                    858      2006.0   \n",
       "1    xgboost            158                    342      1908.5   \n",
       "2   lightGBM            156                   2620      1760.1   \n",
       "3   CatBoost            257                    483      1841.8   \n",
       "\n",
       "   prediction_test_time  rmse_test  \n",
       "0                     0          0  \n",
       "1                     0          0  \n",
       "2                     0          0  \n",
       "3                     0          0  "
      ]
     },
     "execution_count": 264,
     "metadata": {},
     "output_type": "execute_result"
    }
   ],
   "source": [
    "results"
   ]
  },
  {
   "cell_type": "markdown",
   "metadata": {},
   "source": [
    "**Итог CatBoost**\n",
    "\n",
    "Обучение - 257 сек  \n",
    "Предсказание на валидации - 483 мсек  \n",
    "RMSE на валидации - 1841.8  \n",
    "Заметно переобучение.\n",
    "\n",
    "---\n",
    "\n",
    "Переходим к выводам.\n",
    "\n",
    "---"
   ]
  },
  {
   "cell_type": "markdown",
   "metadata": {},
   "source": [
    "### Вывод \n",
    "\n",
    "На данном шаге было проведено тестирование пяти моделей:  \n",
    "1. Дамми болванка  \n",
    "2. Градиентный бустинг sklearn  \n",
    "3. xgboost  \n",
    "4. LightGBM  \n",
    "5. CatBoost  \n",
    "\n",
    "Быстрее всех учится и предсказывает xgboost, занимая при этом третье место по качеству предсказаний. Наилучшую метрику rmse на валидационной выборке показал LightGBM, однако время его предсказаний - самое долгое из всех моделей.  \n",
    "\n",
    "В целом, сейчас уже можно выбросить из конкурса GradientBoosting, однако, произведем замеры rmse всех моделей на тестовой выборке. \n",
    "\n",
    "---"
   ]
  },
  {
   "cell_type": "markdown",
   "metadata": {},
   "source": [
    "## Шаг 3. Анализ моделей"
   ]
  },
  {
   "cell_type": "markdown",
   "metadata": {},
   "source": [
    "На данном этапе определим метрику rmse всех моделей на оставшейся тестовой выборке."
   ]
  },
  {
   "cell_type": "code",
   "execution_count": 265,
   "metadata": {},
   "outputs": [
    {
     "name": "stdout",
     "output_type": "stream",
     "text": [
      "RMSE GradBoost на тестовой выборке 2012.429379834758\n",
      "\n",
      "CPU times: user 745 ms, sys: 69.4 ms, total: 814 ms\n",
      "Wall time: 812 ms\n"
     ]
    }
   ],
   "source": [
    "%%time\n",
    "print('RMSE GradBoost на тестовой выборке', rmse_score(gbr_1, X_test_, y_test_))\n",
    "print()"
   ]
  },
  {
   "cell_type": "code",
   "execution_count": 267,
   "metadata": {},
   "outputs": [
    {
     "name": "stdout",
     "output_type": "stream",
     "text": [
      "RMSE xgboost на тестовой выборке 1914.7348889377138\n",
      "\n",
      "CPU times: user 335 ms, sys: 4.16 ms, total: 339 ms\n",
      "Wall time: 302 ms\n"
     ]
    }
   ],
   "source": [
    "%%time\n",
    "print('RMSE xgboost на тестовой выборке', rmse_score(bst, dtest, y_test_))\n",
    "print()"
   ]
  },
  {
   "cell_type": "code",
   "execution_count": 268,
   "metadata": {},
   "outputs": [
    {
     "name": "stdout",
     "output_type": "stream",
     "text": [
      "RMSE LightGBM на тестовой выборке 1767.1121813042364\n",
      "\n",
      "CPU times: user 2.66 s, sys: 0 ns, total: 2.66 s\n",
      "Wall time: 2.55 s\n"
     ]
    }
   ],
   "source": [
    "%%time\n",
    "print('RMSE LightGBM на тестовой выборке', rmse_score(gbm, X_test_l, y_test_l))\n",
    "print()"
   ]
  },
  {
   "cell_type": "code",
   "execution_count": 269,
   "metadata": {},
   "outputs": [
    {
     "name": "stdout",
     "output_type": "stream",
     "text": [
      "RMSE CatBoost на тестовой выборке 1844.7409468140431\n",
      "\n",
      "CPU times: user 545 ms, sys: 6.77 ms, total: 551 ms\n",
      "Wall time: 470 ms\n"
     ]
    }
   ],
   "source": [
    "%%time\n",
    "print('RMSE CatBoost на тестовой выборке', rmse_score(cbr_1, X_test_c, y_test_c))\n",
    "print()"
   ]
  },
  {
   "cell_type": "markdown",
   "metadata": {},
   "source": [
    "Соберем все данные в таблицу результатов.  "
   ]
  },
  {
   "cell_type": "code",
   "execution_count": 271,
   "metadata": {},
   "outputs": [],
   "source": [
    "results.loc[0,'prediction_test_time'] = 814\n",
    "results.loc[0,'rmse_test'] = 2012.4\n",
    "\n",
    "results.loc[1,'prediction_test_time'] = 339\n",
    "results.loc[1,'rmse_test'] = 1914.7\n",
    "\n",
    "results.loc[2,'prediction_test_time'] = 2660\n",
    "results.loc[2,'rmse_test'] = 1767.1\n",
    "\n",
    "results.loc[3,'prediction_test_time'] = 551\n",
    "results.loc[3,'rmse_test'] = 1844.7"
   ]
  },
  {
   "cell_type": "code",
   "execution_count": 322,
   "metadata": {},
   "outputs": [
    {
     "data": {
      "text/html": [
       "<div>\n",
       "<style scoped>\n",
       "    .dataframe tbody tr th:only-of-type {\n",
       "        vertical-align: middle;\n",
       "    }\n",
       "\n",
       "    .dataframe tbody tr th {\n",
       "        vertical-align: top;\n",
       "    }\n",
       "\n",
       "    .dataframe thead th {\n",
       "        text-align: right;\n",
       "    }\n",
       "</style>\n",
       "<table border=\"1\" class=\"dataframe\">\n",
       "  <thead>\n",
       "    <tr style=\"text-align: right;\">\n",
       "      <th></th>\n",
       "      <th>model_name</th>\n",
       "      <th>training_time</th>\n",
       "      <th>prediction_valid_time</th>\n",
       "      <th>rmse_valid</th>\n",
       "      <th>prediction_test_time</th>\n",
       "      <th>rmse_test</th>\n",
       "    </tr>\n",
       "  </thead>\n",
       "  <tbody>\n",
       "    <tr>\n",
       "      <td>0</td>\n",
       "      <td>GradBoost</td>\n",
       "      <td>371</td>\n",
       "      <td>858</td>\n",
       "      <td>2006.0</td>\n",
       "      <td>814</td>\n",
       "      <td>2012.4</td>\n",
       "    </tr>\n",
       "    <tr>\n",
       "      <td>1</td>\n",
       "      <td>xgboost</td>\n",
       "      <td>158</td>\n",
       "      <td>342</td>\n",
       "      <td>1908.5</td>\n",
       "      <td>339</td>\n",
       "      <td>1914.7</td>\n",
       "    </tr>\n",
       "    <tr>\n",
       "      <td>2</td>\n",
       "      <td>lightGBM</td>\n",
       "      <td>155</td>\n",
       "      <td>2630</td>\n",
       "      <td>1760.1</td>\n",
       "      <td>2660</td>\n",
       "      <td>1767.1</td>\n",
       "    </tr>\n",
       "    <tr>\n",
       "      <td>3</td>\n",
       "      <td>CatBoost</td>\n",
       "      <td>253</td>\n",
       "      <td>525</td>\n",
       "      <td>1841.8</td>\n",
       "      <td>551</td>\n",
       "      <td>1844.7</td>\n",
       "    </tr>\n",
       "  </tbody>\n",
       "</table>\n",
       "</div>"
      ],
      "text/plain": [
       "  model_name  training_time  prediction_valid_time  rmse_valid  \\\n",
       "0  GradBoost            371                    858      2006.0   \n",
       "1    xgboost            158                    342      1908.5   \n",
       "2   lightGBM            155                   2630      1760.1   \n",
       "3   CatBoost            253                    525      1841.8   \n",
       "\n",
       "   prediction_test_time  rmse_test  \n",
       "0                   814     2012.4  \n",
       "1                   339     1914.7  \n",
       "2                  2660     1767.1  \n",
       "3                   551     1844.7  "
      ]
     },
     "execution_count": 322,
     "metadata": {},
     "output_type": "execute_result"
    }
   ],
   "source": [
    "results"
   ]
  },
  {
   "cell_type": "code",
   "execution_count": 324,
   "metadata": {},
   "outputs": [
    {
     "data": {
      "text/html": [
       "<div>\n",
       "<style scoped>\n",
       "    .dataframe tbody tr th:only-of-type {\n",
       "        vertical-align: middle;\n",
       "    }\n",
       "\n",
       "    .dataframe tbody tr th {\n",
       "        vertical-align: top;\n",
       "    }\n",
       "\n",
       "    .dataframe thead th {\n",
       "        text-align: right;\n",
       "    }\n",
       "</style>\n",
       "<table border=\"1\" class=\"dataframe\">\n",
       "  <thead>\n",
       "    <tr style=\"text-align: right;\">\n",
       "      <th></th>\n",
       "      <th>model_name</th>\n",
       "      <th>training_time</th>\n",
       "      <th>prediction_valid_time</th>\n",
       "      <th>rmse_valid</th>\n",
       "      <th>prediction_test_time</th>\n",
       "      <th>rmse_test</th>\n",
       "    </tr>\n",
       "  </thead>\n",
       "  <tbody>\n",
       "    <tr>\n",
       "      <td>2</td>\n",
       "      <td>lightGBM</td>\n",
       "      <td>155</td>\n",
       "      <td>2630</td>\n",
       "      <td>1760.1</td>\n",
       "      <td>2660</td>\n",
       "      <td>1767.1</td>\n",
       "    </tr>\n",
       "    <tr>\n",
       "      <td>3</td>\n",
       "      <td>CatBoost</td>\n",
       "      <td>253</td>\n",
       "      <td>525</td>\n",
       "      <td>1841.8</td>\n",
       "      <td>551</td>\n",
       "      <td>1844.7</td>\n",
       "    </tr>\n",
       "    <tr>\n",
       "      <td>1</td>\n",
       "      <td>xgboost</td>\n",
       "      <td>158</td>\n",
       "      <td>342</td>\n",
       "      <td>1908.5</td>\n",
       "      <td>339</td>\n",
       "      <td>1914.7</td>\n",
       "    </tr>\n",
       "    <tr>\n",
       "      <td>0</td>\n",
       "      <td>GradBoost</td>\n",
       "      <td>371</td>\n",
       "      <td>858</td>\n",
       "      <td>2006.0</td>\n",
       "      <td>814</td>\n",
       "      <td>2012.4</td>\n",
       "    </tr>\n",
       "  </tbody>\n",
       "</table>\n",
       "</div>"
      ],
      "text/plain": [
       "  model_name  training_time  prediction_valid_time  rmse_valid  \\\n",
       "2   lightGBM            155                   2630      1760.1   \n",
       "3   CatBoost            253                    525      1841.8   \n",
       "1    xgboost            158                    342      1908.5   \n",
       "0  GradBoost            371                    858      2006.0   \n",
       "\n",
       "   prediction_test_time  rmse_test  \n",
       "2                  2660     1767.1  \n",
       "3                   551     1844.7  \n",
       "1                   339     1914.7  \n",
       "0                   814     2012.4  "
      ]
     },
     "execution_count": 324,
     "metadata": {},
     "output_type": "execute_result"
    }
   ],
   "source": [
    "temp = results.copy().sort_values(by=['rmse_test'])\n",
    "temp"
   ]
  },
  {
   "cell_type": "code",
   "execution_count": 345,
   "metadata": {},
   "outputs": [
    {
     "data": {
      "image/png": "[encoded data removed]",
      "text/plain": [
       "<Figure size 576x1440 with 3 Axes>"
      ]
     },
     "metadata": {},
     "output_type": "display_data"
    }
   ],
   "source": [
    "fig, axes = plt.subplots(3,1 , figsize=(8,20))\n",
    "\n",
    "sns.barplot(y=temp['model_name'], x=temp['rmse_test'], color='gray', ax=axes[0], orient='h')\n",
    "sns.barplot(y=temp['model_name'], x=temp['training_time'], color='gray', ax=axes[1], orient='h')\n",
    "sns.barplot(y=temp['model_name'], x=temp['prediction_test_time'], color='gray', ax=axes[2], orient='h')\n",
    "\n",
    "axes[0].set_ylabel('')\n",
    "axes[1].set_ylabel('')\n",
    "axes[2].set_ylabel('')\n",
    "\n",
    "axes[0].set_xlabel('RMSE')\n",
    "axes[1].set_xlabel('Время, сек')\n",
    "axes[2].set_xlabel('Время, мсек')\n",
    "\n",
    "axes[0].set_title('RMSE на тренировочной выборке', size=14)\n",
    "axes[1].set_title('Время обучения моделей на тренировочной выборке', size=14)\n",
    "axes[2].set_title('Время предсказания тестовой выборки', size=14)\n",
    "\n",
    "plt.suptitle('Сравнение работы моделей градиентного бустинга', size=20, y=(0.915));"
   ]
  },
  {
   "cell_type": "markdown",
   "metadata": {},
   "source": [
    "Все модели показали \"средние\" результаты.  \n",
    "Можно лучше настроить гиперпараметры, вероятно. И так же заняться более глубоким features engeneering.  \n",
    "\n",
    "Лидером по качеству предсказаний становится LightGBM, самая быстрая модель обучения и предсказания - xgboost.\n",
    "\n",
    "Итог - наилучшее решение - модель LightGBM - средняя скорость работы и лучшее качество."
   ]
  },
  {
   "cell_type": "markdown",
   "metadata": {},
   "source": [
    "### Вывод  \n",
    "\n",
    "На данном этапе были проанализированны 4 модели. Приемлемой моделью признана LightGBM, с наилучшими показателями RMSE и достаточно хорошим временем работы, относительно других моделей.  \n",
    "\n",
    "---"
   ]
  },
  {
   "cell_type": "markdown",
   "metadata": {},
   "source": [
    "### Общий вывод \n",
    "\n",
    "Целью настоящего исследования ставилось тестирование и подбор наилучшей модели для имеющихся данных.  \n",
    "\n",
    "В исследовании приняли участие 4 модели : 'LightGBM', 'Catboost', 'Gradient_Boosting', 'xgboost'  \n",
    "Основной метрикой тестрирования стал корень среднеквадратичной ошибки.  \n",
    "\n",
    "На первом этапе исследования был произведен анализ данных и заполнены пропущенные значения.  \n",
    "\n",
    "На втором этапе кейса было протестировано, в общей сложности, 5 моделей (4 описанных выше и дамми болванка, для сравнения адекватности работы моделей.)  \n",
    "\n",
    "Все настоящие модели продемонстрировали показатели лучше болванки.  \n",
    "\n",
    "Наилучшей и рекомендованной к использованию моделью признана LightGBM - со значением RMSE на тестовой выборке = 1767.1 и временем обучения = 2,5 минуты. \n",
    "\n",
    "Несмотря на достаточно хороший показатель, считаю, что можно достичь лучшей метрики, но уже на локальной машине с лучшим подбором гиперпараметров.  \n",
    "\n",
    "В целом - исследование можно считать завершенным. Основные задачи - изучение и тестирование моделей градиентного бустинга - успешно выполнены.   \n",
    "\n",
    "---"
   ]
  }
 ],
 "metadata": {
  "kernelspec": {
   "display_name": "Python 3",
   "language": "python",
   "name": "python3"
  },
  "language_info": {
   "codemirror_mode": {
    "name": "ipython",
    "version": 3
   },
   "file_extension": ".py",
   "mimetype": "text/x-python",
   "name": "python",
   "nbconvert_exporter": "python",
   "pygments_lexer": "ipython3",
   "version": "3.7.4"
  }
 },
 "nbformat": 4,
 "nbformat_minor": 2
}
